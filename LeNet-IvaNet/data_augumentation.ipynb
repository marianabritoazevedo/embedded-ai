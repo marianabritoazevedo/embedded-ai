{
  "cells": [
    {
      "cell_type": "markdown",
      "metadata": {
        "id": "55GzB8QgaBId"
      },
      "source": [
        "# LeNet-5"
      ]
    },
    {
      "cell_type": "markdown",
      "metadata": {
        "id": "Qc70EZluafYi"
      },
      "source": [
        "Perhaps the first widely known and successful application of convolutional neural networks was **LeNet-5**, described by Yann LeCun, et al. in their 1998 paper titled [Gradient-Based Learning Applied to Document Recognition](https://ieeexplore.ieee.org/document/726791). The system was developed for use in a handwritten character recognition problem and demonstrated on the **MNIST standard dataset**, achieving approximately 99.2% classification accuracy (or a 0.8% error rate). The network was then described as the central technique in a broader system referred to as **Graph Transformer Networks**.\n",
        "\n",
        "It is a long paper, and perhaps the best part to focus on is Section II. B. that describes the LeNet-5 architecture. In that section, the paper describes the **network as having seven layers** with input **grayscale images** having the shape **32 x 32**, the size of images in the **MNIST dataset**. \n",
        "\n",
        "> The model proposes a pattern of a convolutional layer followed by an average pooling layer, referred to as a **subsampling layer**. \n",
        "\n",
        "This pattern is repeated two and a half times before the output feature maps are flattened and fed to some fully connected layers for interpretation and a final prediction. A picture of the network architecture is provided in the paper and reproduced below.\n",
        "\n",
        "<img width=\"800\" src=\"https://drive.google.com/uc?export=view&id=1nqbLzHfqorX80I8upHMWINwPNfrmLW-V\"/>\n",
        "\n",
        "The pattern of blocks of convolutional layers and pooling layers (referred to as **subsampling**) grouped and repeated **remains a typical pattern in designing and using convolutional neural networks today, more than twenty years later**. Interestingly, the architecture uses a small number of filters with a modest size as the first hidden layer, specifically 6 filters, each with 5x5 pixels. After pooling, another convolutional layer has many more filters, again with the same size, precisely 16 filters with 5x5 pixels, again followed by pooling. In the repetition of these two blocks of convolution and pooling layers, the trend increases the number of filters.\n",
        "\n",
        "Compared to modern applications, the number of filters is also small, but **the trend of increasing the number of filters with the depth of the network also remains a common pattern in modern usage of the technique.** The flattening of the feature maps and interpretation and classification of the extracted features by fully connected layers also remains a common pattern today. \n",
        "\n",
        "> In modern terminology, the **final section of the architecture** is often referred to as the **classifier**, whereas the **convolutional and pooling layers** earlier in the model are referred to as the **feature extractor**.\n",
        "\n",
        "We can summarize the key aspects of the architecture relevant in modern models as follows:\n",
        "\n",
        "- Fixed-sized input images.\n",
        "- Group convolutional and pooling layers into blocks.\n",
        "- Repetition of convolutional-pooling blocks in the architecture.\n",
        "- Increase in the number of filters with the depth of the network.\n",
        "- Distinct feature extraction and classifier parts of the architecture."
      ]
    },
    {
      "cell_type": "markdown",
      "metadata": {
        "id": "ApYpc47MFOYi"
      },
      "source": [
        "## Step 01: Setup"
      ]
    },
    {
      "cell_type": "markdown",
      "metadata": {
        "id": "ULBka-lQFJW9"
      },
      "source": [
        "Start out by installing the experiment tracking library and setting up your free W&B account:\n",
        "\n",
        "\n",
        "*   **pip install wandb** – Install the W&B library\n",
        "*   **import wandb** – Import the wandb library\n",
        "*   **wandb login** – Login to your W&B account so you can log all your metrics in one place"
      ]
    },
    {
      "cell_type": "code",
      "execution_count": 1,
      "metadata": {
        "id": "vWnFIWPuFXej",
        "colab": {
          "base_uri": "https://localhost:8080/"
        },
        "outputId": "ab836fa8-b9df-4580-930e-a52616fdd953"
      },
      "outputs": [
        {
          "output_type": "stream",
          "name": "stdout",
          "text": [
            "\u001b[K     |████████████████████████████████| 1.9 MB 14.8 MB/s \n",
            "\u001b[K     |████████████████████████████████| 182 kB 63.9 MB/s \n",
            "\u001b[K     |████████████████████████████████| 166 kB 61.6 MB/s \n",
            "\u001b[K     |████████████████████████████████| 63 kB 1.4 MB/s \n",
            "\u001b[K     |████████████████████████████████| 162 kB 58.8 MB/s \n",
            "\u001b[K     |████████████████████████████████| 162 kB 65.9 MB/s \n",
            "\u001b[K     |████████████████████████████████| 158 kB 9.3 MB/s \n",
            "\u001b[K     |████████████████████████████████| 157 kB 72.9 MB/s \n",
            "\u001b[K     |████████████████████████████████| 157 kB 73.2 MB/s \n",
            "\u001b[K     |████████████████████████████████| 157 kB 71.3 MB/s \n",
            "\u001b[K     |████████████████████████████████| 157 kB 68.4 MB/s \n",
            "\u001b[K     |████████████████████████████████| 157 kB 69.5 MB/s \n",
            "\u001b[K     |████████████████████████████████| 157 kB 70.8 MB/s \n",
            "\u001b[K     |████████████████████████████████| 157 kB 73.4 MB/s \n",
            "\u001b[K     |████████████████████████████████| 156 kB 67.8 MB/s \n",
            "\u001b[?25h  Building wheel for pathtools (setup.py) ... \u001b[?25l\u001b[?25hdone\n"
          ]
        }
      ],
      "source": [
        "!pip install wandb -qU"
      ]
    },
    {
      "cell_type": "code",
      "execution_count": 2,
      "metadata": {
        "colab": {
          "base_uri": "https://localhost:8080/"
        },
        "id": "NBqatao0jyp5",
        "outputId": "966a7f94-4130-4502-8eeb-ae4ded73a62e"
      },
      "outputs": [
        {
          "output_type": "stream",
          "name": "stdout",
          "text": [
            "Looking in indexes: https://pypi.org/simple, https://us-python.pkg.dev/colab-wheels/public/simple/\n",
            "Collecting codecarbon\n",
            "  Downloading codecarbon-2.1.4-py3-none-any.whl (174 kB)\n",
            "\u001b[K     |████████████████████████████████| 174 kB 10.8 MB/s \n",
            "\u001b[?25hRequirement already satisfied: click in /usr/local/lib/python3.7/dist-packages (from codecarbon) (7.1.2)\n",
            "Collecting arrow\n",
            "  Downloading arrow-1.2.3-py3-none-any.whl (66 kB)\n",
            "\u001b[K     |████████████████████████████████| 66 kB 2.6 MB/s \n",
            "\u001b[?25hRequirement already satisfied: psutil in /usr/local/lib/python3.7/dist-packages (from codecarbon) (5.4.8)\n",
            "Requirement already satisfied: pandas in /usr/local/lib/python3.7/dist-packages (from codecarbon) (1.3.5)\n",
            "Requirement already satisfied: requests in /usr/local/lib/python3.7/dist-packages (from codecarbon) (2.23.0)\n",
            "Collecting pynvml\n",
            "  Downloading pynvml-11.4.1-py3-none-any.whl (46 kB)\n",
            "\u001b[K     |████████████████████████████████| 46 kB 4.1 MB/s \n",
            "\u001b[?25hCollecting py-cpuinfo\n",
            "  Downloading py-cpuinfo-8.0.0.tar.gz (99 kB)\n",
            "\u001b[K     |████████████████████████████████| 99 kB 5.5 MB/s \n",
            "\u001b[?25hCollecting fuzzywuzzy\n",
            "  Downloading fuzzywuzzy-0.18.0-py2.py3-none-any.whl (18 kB)\n",
            "Requirement already satisfied: python-dateutil>=2.7.0 in /usr/local/lib/python3.7/dist-packages (from arrow->codecarbon) (2.8.2)\n",
            "Requirement already satisfied: typing-extensions in /usr/local/lib/python3.7/dist-packages (from arrow->codecarbon) (4.1.1)\n",
            "Requirement already satisfied: six>=1.5 in /usr/local/lib/python3.7/dist-packages (from python-dateutil>=2.7.0->arrow->codecarbon) (1.15.0)\n",
            "Requirement already satisfied: numpy>=1.17.3 in /usr/local/lib/python3.7/dist-packages (from pandas->codecarbon) (1.21.6)\n",
            "Requirement already satisfied: pytz>=2017.3 in /usr/local/lib/python3.7/dist-packages (from pandas->codecarbon) (2022.4)\n",
            "Requirement already satisfied: chardet<4,>=3.0.2 in /usr/local/lib/python3.7/dist-packages (from requests->codecarbon) (3.0.4)\n",
            "Requirement already satisfied: idna<3,>=2.5 in /usr/local/lib/python3.7/dist-packages (from requests->codecarbon) (2.10)\n",
            "Requirement already satisfied: certifi>=2017.4.17 in /usr/local/lib/python3.7/dist-packages (from requests->codecarbon) (2022.9.24)\n",
            "Requirement already satisfied: urllib3!=1.25.0,!=1.25.1,<1.26,>=1.21.1 in /usr/local/lib/python3.7/dist-packages (from requests->codecarbon) (1.24.3)\n",
            "Building wheels for collected packages: py-cpuinfo\n",
            "  Building wheel for py-cpuinfo (setup.py) ... \u001b[?25l\u001b[?25hdone\n",
            "  Created wheel for py-cpuinfo: filename=py_cpuinfo-8.0.0-py3-none-any.whl size=22257 sha256=c862f51be61e360bb02eff4dff8f606f36fc8393b5d29840d8711c903a19e924\n",
            "  Stored in directory: /root/.cache/pip/wheels/d2/f1/1f/041add21dc9c4220157f1bd2bd6afe1f1a49524c3396b94401\n",
            "Successfully built py-cpuinfo\n",
            "Installing collected packages: pynvml, py-cpuinfo, fuzzywuzzy, arrow, codecarbon\n",
            "Successfully installed arrow-1.2.3 codecarbon-2.1.4 fuzzywuzzy-0.18.0 py-cpuinfo-8.0.0 pynvml-11.4.1\n"
          ]
        }
      ],
      "source": [
        "# a Python package for tracking the carbon emissions produced by various\n",
        "# kinds of computer programs, from straightforward algorithms to deep neural networks.\n",
        "!pip install codecarbon"
      ]
    },
    {
      "cell_type": "markdown",
      "metadata": {
        "id": "wcrOk6pURp50"
      },
      "source": [
        "### Import Packages"
      ]
    },
    {
      "cell_type": "code",
      "execution_count": 3,
      "metadata": {
        "id": "eRkPuQEg3_RL"
      },
      "outputs": [],
      "source": [
        "# import the necessary packages\n",
        "import logging\n",
        "import joblib\n",
        "import tensorflow as tf\n",
        "from tensorflow.keras.models import Sequential\n",
        "from tensorflow.keras.layers import BatchNormalization\n",
        "from tensorflow.keras.layers import Dropout\n",
        "from tensorflow.keras.layers import Conv2D\n",
        "from tensorflow.keras.layers import MaxPooling2D\n",
        "from tensorflow.keras.layers import AveragePooling2D\n",
        "from tensorflow.keras.layers import Activation\n",
        "from tensorflow.keras.layers import Flatten\n",
        "from tensorflow.keras.layers import Dense\n",
        "from tensorflow.keras import backend as K\n",
        "from tensorflow.keras.optimizers import SGD, Adam\n",
        "from tensorflow.keras.datasets import mnist\n",
        "from sklearn.preprocessing import LabelBinarizer\n",
        "from tensorflow.keras import backend as K\n",
        "import matplotlib.pyplot as plt\n",
        "import numpy as np\n",
        "from codecarbon import EmissionsTracker\n",
        "from tensorflow.keras.callbacks import Callback\n",
        "from wandb.keras import WandbCallback\n",
        "from sklearn.metrics import classification_report\n",
        "from sklearn.metrics import fbeta_score, precision_score, recall_score, accuracy_score\n",
        "from sklearn.metrics import confusion_matrix\n",
        "from sklearn.metrics import ConfusionMatrixDisplay\n",
        "import wandb\n",
        "import cv2\n",
        "from tensorflow.keras.preprocessing.image import ImageDataGenerator"
      ]
    },
    {
      "cell_type": "code",
      "execution_count": 4,
      "metadata": {
        "colab": {
          "base_uri": "https://localhost:8080/"
        },
        "id": "JAW_3q7JEjRp",
        "outputId": "ab7f5139-9c6c-4d3b-c137-bfe13fe37cb6"
      },
      "outputs": [
        {
          "output_type": "execute_result",
          "data": {
            "text/plain": [
              "[name: \"/device:CPU:0\"\n",
              " device_type: \"CPU\"\n",
              " memory_limit: 268435456\n",
              " locality {\n",
              " }\n",
              " incarnation: 2899591014522014299\n",
              " xla_global_id: -1, name: \"/device:GPU:0\"\n",
              " device_type: \"GPU\"\n",
              " memory_limit: 14415560704\n",
              " locality {\n",
              "   bus_id: 1\n",
              "   links {\n",
              "   }\n",
              " }\n",
              " incarnation: 9542855795191893793\n",
              " physical_device_desc: \"device: 0, name: Tesla T4, pci bus id: 0000:00:04.0, compute capability: 7.5\"\n",
              " xla_global_id: 416903419]"
            ]
          },
          "metadata": {},
          "execution_count": 4
        }
      ],
      "source": [
        "from tensorflow.python.client import device_lib\n",
        "\n",
        "device_lib.list_local_devices()"
      ]
    },
    {
      "cell_type": "code",
      "execution_count": 5,
      "metadata": {
        "id": "u2PLTkGxj6FM"
      },
      "outputs": [],
      "source": [
        "# seed for reproducible results\n",
        "tf.random.set_seed(42)"
      ]
    },
    {
      "cell_type": "code",
      "execution_count": 6,
      "metadata": {
        "colab": {
          "base_uri": "https://localhost:8080/",
          "height": 162
        },
        "id": "7ee2tdx7Cnfs",
        "outputId": "521e8b3a-745c-40e3-e62e-7b31781f6df9"
      },
      "outputs": [
        {
          "output_type": "stream",
          "name": "stderr",
          "text": [
            "ERROR:wandb.jupyter:Failed to detect the name of this notebook, you can set it manually with the WANDB_NOTEBOOK_NAME environment variable to enable code saving.\n"
          ]
        },
        {
          "output_type": "display_data",
          "data": {
            "text/plain": [
              "<IPython.core.display.Javascript object>"
            ],
            "application/javascript": [
              "\n",
              "        window._wandbApiKey = new Promise((resolve, reject) => {\n",
              "            function loadScript(url) {\n",
              "            return new Promise(function(resolve, reject) {\n",
              "                let newScript = document.createElement(\"script\");\n",
              "                newScript.onerror = reject;\n",
              "                newScript.onload = resolve;\n",
              "                document.body.appendChild(newScript);\n",
              "                newScript.src = url;\n",
              "            });\n",
              "            }\n",
              "            loadScript(\"https://cdn.jsdelivr.net/npm/postmate/build/postmate.min.js\").then(() => {\n",
              "            const iframe = document.createElement('iframe')\n",
              "            iframe.style.cssText = \"width:0;height:0;border:none\"\n",
              "            document.body.appendChild(iframe)\n",
              "            const handshake = new Postmate({\n",
              "                container: iframe,\n",
              "                url: 'https://wandb.ai/authorize'\n",
              "            });\n",
              "            const timeout = setTimeout(() => reject(\"Couldn't auto authenticate\"), 5000)\n",
              "            handshake.then(function(child) {\n",
              "                child.on('authorize', data => {\n",
              "                    clearTimeout(timeout)\n",
              "                    resolve(data)\n",
              "                });\n",
              "            });\n",
              "            })\n",
              "        });\n",
              "    "
            ]
          },
          "metadata": {}
        },
        {
          "output_type": "stream",
          "name": "stderr",
          "text": [
            "\u001b[34m\u001b[1mwandb\u001b[0m: Logging into wandb.ai. (Learn how to deploy a W&B server locally: https://wandb.me/wandb-server)\n",
            "\u001b[34m\u001b[1mwandb\u001b[0m: You can find your API key in your browser here: https://wandb.ai/authorize\n",
            "wandb: Paste an API key from your profile and hit enter, or press ctrl+c to quit: "
          ]
        },
        {
          "name": "stdout",
          "output_type": "stream",
          "text": [
            "··········\n"
          ]
        },
        {
          "output_type": "stream",
          "name": "stderr",
          "text": [
            "\u001b[34m\u001b[1mwandb\u001b[0m: Appending key for api.wandb.ai to your netrc file: /root/.netrc\n"
          ]
        },
        {
          "output_type": "execute_result",
          "data": {
            "text/plain": [
              "True"
            ]
          },
          "metadata": {},
          "execution_count": 6
        }
      ],
      "source": [
        "wandb.login()"
      ]
    },
    {
      "cell_type": "code",
      "execution_count": 7,
      "metadata": {
        "id": "Xq0zG_132yC2"
      },
      "outputs": [],
      "source": [
        "# configure logging\n",
        "# reference for a logging obj\n",
        "logger = logging.getLogger()\n",
        "\n",
        "# set level of logging\n",
        "logger.setLevel(logging.INFO)\n",
        "\n",
        "# create handlers\n",
        "c_handler = logging.StreamHandler()\n",
        "c_format = logging.Formatter(fmt=\"%(asctime)s %(message)s\",datefmt='%d-%m-%Y %H:%M:%S')\n",
        "c_handler.setFormatter(c_format)\n",
        "\n",
        "# add handler to the logger\n",
        "logger.handlers[0] = c_handler"
      ]
    },
    {
      "cell_type": "markdown",
      "metadata": {
        "id": "fApD1K7W4vgq"
      },
      "source": [
        "## Step 02: Implementing LeNet-5"
      ]
    },
    {
      "cell_type": "markdown",
      "metadata": {
        "id": "mykT4hni5RrF"
      },
      "source": [
        "\n",
        "<img width=\"800\" src=\"https://drive.google.com/uc?export=view&id=1RF_HWPSImajab-i1ayFeEOoFON0Ky-28\"/>"
      ]
    },
    {
      "cell_type": "markdown",
      "metadata": {
        "id": "b0pYGw2LK0Vy"
      },
      "source": [
        "Source code based on **Rosebrock, Adrian. Deep Learning For Computer vision with Python, 2019** [link](https://pyimagesearch.com/deep-learning-computer-vision-python-book/)"
      ]
    },
    {
      "cell_type": "code",
      "execution_count": 8,
      "metadata": {
        "id": "5Um7gG8YvhPL"
      },
      "outputs": [],
      "source": [
        "class LeNet:\n",
        "  ''' \n",
        "  # create LeNet-5 model\n",
        "  #\n",
        "  # it is composed of the 8 layers (5 layers considering FC as one layer) \n",
        "  # such as:\n",
        "  #      - 2 convolutional layers\n",
        "  #      - 2 subsampling (avg pooling) layers\n",
        "  #      - 1 flatten layer\n",
        "  #      - 2 fully connected layers\n",
        "  #      - 1 output layer with 10 outputs\n",
        "  '''\n",
        "  @staticmethod\n",
        "  def build(width, height, depth, classes):\n",
        "    # initialize the model\n",
        "    model = Sequential()\n",
        "    inputShape = (height, width, depth)\n",
        "    \n",
        "    # if we are using \"channels first\", update the input shape\n",
        "    if K.image_data_format() == \"channels_first\":\n",
        "      inputShape = (depth, height, width)\n",
        "   \n",
        "    # first set of CONV => RELU => POOL layers\n",
        "    model.add(Conv2D(6, (5,5), strides=1, padding='same',\n",
        "                     activation='tanh', input_shape=(28,28,1), )) #C1\n",
        "    model.add(AveragePooling2D()) #S2\n",
        "\n",
        "    # second set of CONV => RELU => POOL layers\n",
        "    model.add(Conv2D(16, (5,5), strides=1, padding='valid',\n",
        "                     activation='tanh')) #C3\n",
        "    model.add(AveragePooling2D()) #S4\n",
        "\n",
        "    # a flatten and two set of FC => RELU layers\n",
        "    model.add(Flatten()) #Flatten\n",
        "    model.add(Dense(120, activation='tanh')) #C5\n",
        "    model.add(Dense(84, activation='tanh')) #F6\n",
        "\n",
        "    # softmax classifier\n",
        "    model.add(Dense(10, activation='softmax')) #Output layer\n",
        "    \n",
        "    # return the constructed network architecture\n",
        "    return model"
      ]
    },
    {
      "cell_type": "code",
      "execution_count": 9,
      "metadata": {
        "colab": {
          "base_uri": "https://localhost:8080/"
        },
        "id": "eP-X_bzU8Q3B",
        "outputId": "34cc8597-83e4-47fe-ef61-ce0391aceb3d"
      },
      "outputs": [
        {
          "output_type": "stream",
          "name": "stdout",
          "text": [
            "Model: \"sequential\"\n",
            "_________________________________________________________________\n",
            " Layer (type)                Output Shape              Param #   \n",
            "=================================================================\n",
            " conv2d (Conv2D)             (None, 28, 28, 6)         156       \n",
            "                                                                 \n",
            " average_pooling2d (AverageP  (None, 14, 14, 6)        0         \n",
            " ooling2D)                                                       \n",
            "                                                                 \n",
            " conv2d_1 (Conv2D)           (None, 10, 10, 16)        2416      \n",
            "                                                                 \n",
            " average_pooling2d_1 (Averag  (None, 5, 5, 16)         0         \n",
            " ePooling2D)                                                     \n",
            "                                                                 \n",
            " flatten (Flatten)           (None, 400)               0         \n",
            "                                                                 \n",
            " dense (Dense)               (None, 120)               48120     \n",
            "                                                                 \n",
            " dense_1 (Dense)             (None, 84)                10164     \n",
            "                                                                 \n",
            " dense_2 (Dense)             (None, 10)                850       \n",
            "                                                                 \n",
            "=================================================================\n",
            "Total params: 61,706\n",
            "Trainable params: 61,706\n",
            "Non-trainable params: 0\n",
            "_________________________________________________________________\n"
          ]
        }
      ],
      "source": [
        "# create a model object\n",
        "model = LeNet.build(28,28,1,10)\n",
        "\n",
        "# summarize layers\n",
        "model.summary()"
      ]
    },
    {
      "cell_type": "markdown",
      "metadata": {
        "id": "ElCu4byeuZjo"
      },
      "source": [
        "## Step 03: Data Augmentation"
      ]
    },
    {
      "cell_type": "markdown",
      "metadata": {
        "id": "blctuqAA-5G5"
      },
      "source": [
        "According to [Goodfellow et al.](https://www.deeplearningbook.org/), regularization is\n",
        "\n",
        "> “(...) any modification we make to a learning algorithm that is intended to reduce its generalization error, but not its training error”\n",
        "\n",
        "In short, regularization seeks to reduce our testing error perhaps at the expense of increasing training error slightly.\n",
        "\n",
        "We’ve already looked at different forms of regularization in the first part of this course; however, these were parameterized forms of regularization, requiring us to update our loss/update\n",
        "function. In fact, there exist other types of regularization that either:\n",
        "\n",
        "1. Modify the network architecture itself.\n",
        "2. Augment the data passed into the network for training.\n",
        "\n",
        "**Dropout** is a great example of modifying a network architecture by achieving greater generalizability. Here we insert a layer that randomly disconnects nodes from the previous layer to the next layer, thereby ensuring that no single node is responsible for learning how to represent a given class.\n",
        "\n",
        "In this section we’ll be discussing another type of regularization called **data augmentation**. This method purposely perturbs training examples, changing their appearance slightly, before passing them into the network for training. The end result is that a network consistently sees “new” training data points generated from the original training data, partially alleviating the need for us to gather more training data (though in general, gathering more training data will rarely hurt your algorithm).\n",
        "\n",
        "**Data augmentation** encompasses a wide range of techniques used to generate new training samples from the original ones by applying random jitters and perturbations such that the classes labels are\n",
        "not changed. \n",
        "\n",
        "> Our goal when applying **data augmentation** is to increase the generalizability of the model. \n",
        "\n",
        "Given that our network is constantly seeing new, slightly modified versions of the input data points, it’s able to learn more robust features. \n",
        "\n",
        "> At testing time, we do not apply data augmentation\n",
        "and evaluate our trained network – in most cases, you’ll see an increase in testing accuracy, perhaps at the expense at a slight dip in training accuracy.\n",
        "\n",
        "<center><img width=\"600\" src=\"https://drive.google.com/uc?export=view&id=1PWNBYi_ziF8YnCCd25vnmsf9nxq-KsGH\"></center><center><b>Left</b>: A sample of 250 data points that follow a normal distribution exactly. <b>Right</b>: Adding a small amount of random “jitter” to the distribution. This type of data augmentation can\n",
        "increase the generalizability of our networks.</center>\n",
        "\n",
        "\n",
        "Let’s consider the Figure above (**left**) of a normal distribution with zero mean and unit variance. Training a machine learning model on this data may result in us modeling the distribution exactly –\n",
        "however, in real-world applications, data rarely follows such a neat distribution.\n",
        "\n",
        "Instead, to increase the generalizability of our classifier, we may first randomly jitter points along the distribution by adding some values e drawn from a random distribution (**right**). Our plot\n",
        "still follows an **approximately normal distribution**, but it’s not a perfect distribution as on the left. A model trained on this data is more likely to generalize to example data points not included in the\n",
        "training set.\n",
        "  **In the context of computer vision, data augmentation lends itself naturally**. For example, we can obtain additional training data from the original images by apply simple geometric transforms such as random:\n",
        "\n",
        "1. Translations\n",
        "2. Rotations\n",
        "3. Changes in scale\n",
        "4. Shearing\n",
        "5. Horizontal (and in some cases, vertical) flips\n",
        "\n",
        "Applying a (small) amount of these transformations to an input image will change its appearance slightly, but it does not change the class label – thereby making data augmentation a very natural, easy method to apply to deep learning for computer vision tasks."
      ]
    },
    {
      "cell_type": "markdown",
      "metadata": {
        "id": "S91_OWOpC22I"
      },
      "source": [
        "### Fetch, Preprocessing and Data Segregation"
      ]
    },
    {
      "cell_type": "code",
      "execution_count": 10,
      "metadata": {
        "id": "Ky5KhbTlbJui"
      },
      "outputs": [],
      "source": [
        "# since we are using Jupyter Notebooks we can replace our argument\n",
        "# parsing code with *hard coded* arguments and values\n",
        "args = {\n",
        "  \"project_name\": \"lenet-5\"\n",
        "}"
      ]
    },
    {
      "cell_type": "code",
      "execution_count": 11,
      "metadata": {
        "colab": {
          "base_uri": "https://localhost:8080/",
          "height": 87
        },
        "id": "oYUEe0d9bJuj",
        "outputId": "0e705060-bf5e-4214-aed4-3f3fac0e8e5c"
      },
      "outputs": [
        {
          "output_type": "stream",
          "name": "stderr",
          "text": [
            "\u001b[34m\u001b[1mwandb\u001b[0m: Currently logged in as: \u001b[33mmorsinaldo\u001b[0m. Use \u001b[1m`wandb login --relogin`\u001b[0m to force relogin\n"
          ]
        },
        {
          "output_type": "display_data",
          "data": {
            "text/plain": [
              "<IPython.core.display.HTML object>"
            ],
            "text/html": [
              "Tracking run with wandb version 0.13.4"
            ]
          },
          "metadata": {}
        },
        {
          "output_type": "display_data",
          "data": {
            "text/plain": [
              "<IPython.core.display.HTML object>"
            ],
            "text/html": [
              "Run data is saved locally in <code>/content/wandb/run-20221021_104803-2dzhz9sl</code>"
            ]
          },
          "metadata": {}
        },
        {
          "output_type": "display_data",
          "data": {
            "text/plain": [
              "<IPython.core.display.HTML object>"
            ],
            "text/html": [
              "Syncing run <strong><a href=\"https://wandb.ai/morsinaldo/lenet-5/runs/2dzhz9sl\" target=\"_blank\">genial-music-1</a></strong> to <a href=\"https://wandb.ai/morsinaldo/lenet-5\" target=\"_blank\">Weights & Biases</a> (<a href=\"https://wandb.me/run\" target=\"_blank\">docs</a>)<br/>"
            ]
          },
          "metadata": {}
        }
      ],
      "source": [
        "# open the W&B project created in the Fetch step\n",
        "run = wandb.init(entity=\"morsinaldo\",\n",
        "                 project=args[\"project_name\"], \n",
        "                 job_type=\"Train\")"
      ]
    },
    {
      "cell_type": "code",
      "execution_count": 12,
      "metadata": {
        "colab": {
          "base_uri": "https://localhost:8080/"
        },
        "id": "xOxATYHUbJuj",
        "outputId": "1ea2cbf0-2b08-42bf-ee54-36c9ab6899a6"
      },
      "outputs": [
        {
          "output_type": "stream",
          "name": "stderr",
          "text": [
            "21-10-2022 10:48:05 [INFO] accessing MNIST...\n"
          ]
        },
        {
          "output_type": "stream",
          "name": "stdout",
          "text": [
            "Downloading data from https://storage.googleapis.com/tensorflow/tf-keras-datasets/mnist.npz\n",
            "11490434/11490434 [==============================] - 0s 0us/step\n"
          ]
        },
        {
          "output_type": "stream",
          "name": "stderr",
          "text": [
            "21-10-2022 10:48:05 Train x: (60000, 28, 28, 1)\n",
            "21-10-2022 10:48:05 Train y: (60000,)\n",
            "21-10-2022 10:48:05 Test x: (10000, 28, 28, 1)\n",
            "21-10-2022 10:48:05 Test y: (10000,)\n"
          ]
        }
      ],
      "source": [
        "# grab the MNIST dataset (if this is your first time using this\n",
        "# dataset then the 11MB download may take a second)\n",
        "logger.info(\"[INFO] accessing MNIST...\")\n",
        "((train_x, train_y), (test_x, test_y)) = mnist.load_data()\n",
        "\n",
        "# if we are using \"channels first\" ordering, then reshape the\n",
        "# design matrix such that the matrix is:\n",
        "# num_samples x depth x rows x columns\n",
        "if K.image_data_format() == \"channels_first\":\n",
        "\ttrain_x = train_x.reshape((train_x.shape[0], 1, 28, 28))\n",
        "\ttest_x = test_x.reshape((test_x.shape[0], 1, 28, 28))\n",
        " \n",
        "# otherwise, we are using \"channels last\" ordering, so the design\n",
        "# matrix shape should be: num_samples x rows x columns x depth\n",
        "else:\n",
        "\ttrain_x = train_x.reshape((train_x.shape[0], 28, 28, 1))\n",
        "\ttest_x = test_x.reshape((test_x.shape[0], 28, 28, 1))\n",
        "\n",
        "logger.info(\"Train x: {}\".format(train_x.shape))\n",
        "logger.info(\"Train y: {}\".format(train_y.shape))\n",
        "logger.info(\"Test x: {}\".format(test_x.shape))\n",
        "logger.info(\"Test y: {}\".format(test_y.shape))"
      ]
    },
    {
      "cell_type": "code",
      "execution_count": 13,
      "metadata": {
        "id": "Cpa4fRxmuweP"
      },
      "outputs": [],
      "source": [
        "# visualize 18 numbers\n",
        "def show_image(train_image, label, index):\n",
        "    plt.subplot(3, 6, index+1)\n",
        "    plt.imshow(tf.squeeze(train_image), cmap=plt.cm.gray)\n",
        "    plt.title(label)\n",
        "    plt.grid(b=False)"
      ]
    },
    {
      "cell_type": "code",
      "execution_count": 14,
      "metadata": {
        "colab": {
          "base_uri": "https://localhost:8080/",
          "height": 552
        },
        "id": "m43Dq3WowsCk",
        "outputId": "10f529ee-ff1e-4e28-88be-da68dd5a2978"
      },
      "outputs": [
        {
          "output_type": "display_data",
          "data": {
            "text/plain": [
              "<Figure size 864x576 with 18 Axes>"
            ],
            "image/png": "[encoded data removed]"
          },
          "metadata": {
            "needs_background": "light"
          }
        }
      ],
      "source": [
        "# visualize the first 18 numbers\n",
        "plt.figure(figsize=(12, 8))\n",
        "for index in range(18):\n",
        "    label = train_y[index]\n",
        "    image_pixels = train_x[index,:,:,:]\n",
        "    show_image(image_pixels, label, index)\n",
        "plt.tight_layout()"
      ]
    },
    {
      "cell_type": "code",
      "execution_count": 15,
      "metadata": {
        "colab": {
          "base_uri": "https://localhost:8080/",
          "height": 485
        },
        "id": "gWaYGtKGx4RO",
        "outputId": "5ea2ac09-deae-40d3-9835-d113044f35ee"
      },
      "outputs": [
        {
          "output_type": "stream",
          "name": "stdout",
          "text": [
            "[INFO] generating images...\n"
          ]
        },
        {
          "output_type": "display_data",
          "data": {
            "text/plain": [
              "<Figure size 864x576 with 18 Axes>"
            ],
            "image/png": "[encoded data removed]"
          },
          "metadata": {
            "needs_background": "light"
          }
        }
      ],
      "source": [
        "# construct the image generator for data augmentation then\n",
        "# initialize the total number of images generated thus far\n",
        "aug = ImageDataGenerator(rotation_range=30, width_shift_range=0.1,\n",
        "                         height_shift_range=0.1, shear_range=0.2, zoom_range=0.2,\n",
        "                         horizontal_flip=False, fill_mode=\"nearest\")\n",
        "total = 0\n",
        "image = train_x[10:11,:,:,:]\n",
        "\n",
        "# construct the actual Python generator\n",
        "print(\"[INFO] generating images...\")\n",
        "imageGen = aug.flow(image, batch_size=1)\n",
        "\n",
        "# create a figure\n",
        "plt.figure(figsize=(12, 8))\n",
        "\n",
        "# loop over examples from our image data augmentation generator\n",
        "for img in imageGen:\n",
        "\n",
        "  show_image(img, train_y[10], total)\n",
        "\n",
        "  # increment our counter\n",
        "  total += 1\n",
        "\n",
        "  # if we have reached 10 examples, break from the loop\n",
        "  if total == 18:\n",
        "    break"
      ]
    },
    {
      "cell_type": "code",
      "execution_count": 16,
      "metadata": {
        "id": "2IjzPziGAFfJ"
      },
      "outputs": [],
      "source": [
        "# scale data to the range of [0, 1]\n",
        "train_x = train_x.astype(\"float32\") / 255.0\n",
        "test_x = test_x.astype(\"float32\") / 255.0\n",
        "\n",
        "# convert the labels from integers to vectors\n",
        "lb = LabelBinarizer()\n",
        "train_y = lb.fit_transform(train_y)\n",
        "test_y = lb.transform(test_y)"
      ]
    },
    {
      "cell_type": "markdown",
      "metadata": {
        "id": "rU6SzSgWDAI5"
      },
      "source": [
        "### Training"
      ]
    },
    {
      "cell_type": "code",
      "execution_count": 17,
      "metadata": {
        "colab": {
          "base_uri": "https://localhost:8080/"
        },
        "id": "HBQWpLHDcuCq",
        "outputId": "fb12115c-6903-4488-b806-18c3258a6a4c"
      },
      "outputs": [
        {
          "output_type": "stream",
          "name": "stderr",
          "text": [
            "21-10-2022 10:48:11 [INFO] compiling model...\n",
            "21-10-2022 10:48:11 [INFO] training network...\n",
            "21-10-2022 10:48:11 From /usr/local/lib/python3.7/dist-packages/tensorflow/python/ops/nn_ops.py:5219: tensor_shape_from_node_def_name (from tensorflow.python.framework.graph_util_impl) is deprecated and will be removed in a future version.\n",
            "Instructions for updating:\n",
            "Use `tf.compat.v1.graph_util.tensor_shape_from_node_def_name`\n"
          ]
        }
      ],
      "source": [
        "# create codecarbon tracker\n",
        "# codecarbon is too much verbose, change the log level for more info\n",
        "tracker = EmissionsTracker(log_level=\"critical\")\n",
        "tracker.start()\n",
        "\n",
        "# initialize the optimizer and model\n",
        "logger.info(\"[INFO] compiling model...\")\n",
        "opt = Adam(learning_rate=0.01)\n",
        "model = LeNet.build(width=28, height=28, depth=1, classes=10)\n",
        "model.compile(loss=\"categorical_crossentropy\", optimizer=opt,\n",
        "              metrics=[\"accuracy\"])\n",
        "\n",
        "# construct the image generator for data augmentation then\n",
        "# initialize the total number of images generated thus far\n",
        "aug = ImageDataGenerator(rotation_range=30, width_shift_range=0.1,\n",
        "                         height_shift_range=0.1, shear_range=0.2, \n",
        "                         zoom_range=0.2,\n",
        "                         horizontal_flip=False, fill_mode=\"nearest\")\n",
        "\n",
        "# train the network\n",
        "logger.info(\"[INFO] training network...\")\n",
        "history = model.fit(aug.flow(train_x, train_y, batch_size=32),\n",
        "                    validation_data=(test_x, test_y), epochs=20, verbose=0,\n",
        "                    callbacks=[wandb.keras.WandbCallback(save_model=False,\n",
        "                                                         compute_flops=True)])\n",
        "\n",
        "# get co2 emissions from tracker\n",
        "# \"CO2 emission (in Kg)\"\n",
        "emissions = tracker.stop()"
      ]
    },
    {
      "cell_type": "markdown",
      "metadata": {
        "id": "VEaazfD7DHEG"
      },
      "source": [
        "### Evaluation Metrics"
      ]
    },
    {
      "cell_type": "code",
      "execution_count": 18,
      "metadata": {
        "id": "8N-KRJhODHEH",
        "colab": {
          "base_uri": "https://localhost:8080/",
          "height": 517
        },
        "outputId": "d48bb132-b864-432b-b4f4-7e6c729f1063"
      },
      "outputs": [
        {
          "output_type": "display_data",
          "data": {
            "text/plain": [
              "<Figure size 720x576 with 1 Axes>"
            ],
            "image/png": "[encoded data removed]"
          },
          "metadata": {}
        }
      ],
      "source": [
        "# plot the training loss and accuracy\n",
        "plt.style.use(\"ggplot\")\n",
        "fig, ax = plt.subplots(1,1,figsize=(10,8))\n",
        "\n",
        "ax.plot(np.arange(0, 20), history.history[\"loss\"], label=\"train_loss\",linestyle='--')\n",
        "ax.plot(np.arange(0, 20), history.history[\"val_loss\"], label=\"val_loss\",linestyle='--')\n",
        "ax.plot(np.arange(0, 20), history.history[\"accuracy\"], label=\"train_acc\")\n",
        "ax.plot(np.arange(0, 20), history.history[\"val_accuracy\"], label=\"val_acc\")\n",
        "ax.set_title(\"Training Loss and Accuracy\")\n",
        "ax.set_xlabel(\"Epoch #\")\n",
        "ax.set_ylabel(\"Loss/Accuracy\")\n",
        "ax.legend()\n",
        "plt.show()"
      ]
    },
    {
      "cell_type": "code",
      "execution_count": 19,
      "metadata": {
        "id": "q5i5RRlDDHEH",
        "colab": {
          "base_uri": "https://localhost:8080/"
        },
        "outputId": "f5b1d65b-a90c-4d84-bf42-8b3c212b616f"
      },
      "outputs": [
        {
          "output_type": "stream",
          "name": "stdout",
          "text": [
            "[INFO] 0.009409145899650773 kWh of electricity used since the begining\n",
            "[INFO] Energy consumed for RAM: 0.0006014034225321365 kWh\n",
            "[INFO] Energy consumed for all GPU: 0.003428811894350251 kWh\n",
            "[INFO] Energy consumed for all CPU: 0.005378930582768388 kWh\n",
            "[INFO] CO2 emission 0.00425877491053784(in Kg)\n"
          ]
        }
      ],
      "source": [
        "print(\"[INFO] {} kWh of electricity used since the begining\".format(tracker.final_emissions_data.energy_consumed))\n",
        "print(\"[INFO] Energy consumed for RAM: {} kWh\".format(tracker.final_emissions_data.ram_energy))\n",
        "print(\"[INFO] Energy consumed for all GPU: {} kWh\".format(tracker.final_emissions_data.gpu_energy))\n",
        "print(\"[INFO] Energy consumed for all CPU: {} kWh\".format(tracker.final_emissions_data.cpu_energy))\n",
        "print(\"[INFO] CO2 emission {}(in Kg)\".format(tracker.final_emissions_data.emissions))"
      ]
    },
    {
      "cell_type": "code",
      "execution_count": 20,
      "metadata": {
        "id": "j5mCbJqPDHEI",
        "colab": {
          "base_uri": "https://localhost:8080/"
        },
        "outputId": "e8bcc8b1-8e46-4f65-afaf-2eea76c216a3"
      },
      "outputs": [
        {
          "output_type": "stream",
          "name": "stdout",
          "text": [
            "[INFO] evaluating network...\n",
            "313/313 [==============================] - 1s 2ms/step\n",
            "              precision    recall  f1-score   support\n",
            "\n",
            "           0       0.97      0.96      0.96       980\n",
            "           1       0.99      0.96      0.97      1135\n",
            "           2       0.86      0.96      0.91      1032\n",
            "           3       0.92      0.94      0.93      1010\n",
            "           4       0.94      0.95      0.94       982\n",
            "           5       0.96      0.92      0.94       892\n",
            "           6       0.95      0.96      0.96       958\n",
            "           7       0.87      0.86      0.86      1028\n",
            "           8       0.90      0.89      0.90       974\n",
            "           9       0.92      0.88      0.90      1009\n",
            "\n",
            "    accuracy                           0.93     10000\n",
            "   macro avg       0.93      0.93      0.93     10000\n",
            "weighted avg       0.93      0.93      0.93     10000\n",
            "\n"
          ]
        }
      ],
      "source": [
        "# evaluate the network\n",
        "print(\"[INFO] evaluating network...\")\n",
        "predictions = model.predict(test_x, batch_size=32)\n",
        "print(classification_report(test_y.argmax(axis=1),\n",
        "                            predictions.argmax(axis=1),\n",
        "                            target_names=[str(i) for i in lb.classes_]))"
      ]
    },
    {
      "cell_type": "code",
      "execution_count": 21,
      "metadata": {
        "id": "kHdg7-4GDHEI",
        "colab": {
          "base_uri": "https://localhost:8080/",
          "height": 282
        },
        "outputId": "84cbcc2c-6e88-456a-945a-9f5e79cd4dca"
      },
      "outputs": [
        {
          "output_type": "display_data",
          "data": {
            "text/plain": [
              "<Figure size 504x288 with 2 Axes>"
            ],
            "image/png": "[encoded data removed]"
          },
          "metadata": {}
        }
      ],
      "source": [
        "fig_confusion_matrix, ax = plt.subplots(1,1,figsize=(7,4))\n",
        "ConfusionMatrixDisplay(confusion_matrix(predictions.argmax(axis=1),\n",
        "                                        test_y.argmax(axis=1)),\n",
        "                       display_labels=lb.classes_).plot(values_format=\".0f\",ax=ax)\n",
        "\n",
        "ax.set_xlabel(\"True Label\")\n",
        "ax.set_ylabel(\"Predicted Label\")\n",
        "ax.grid(False)\n",
        "plt.show()"
      ]
    },
    {
      "cell_type": "code",
      "execution_count": 22,
      "metadata": {
        "id": "IywiFuGhDHEI",
        "colab": {
          "base_uri": "https://localhost:8080/"
        },
        "outputId": "61f339f5-ebe9-46c1-c889-027fda94a320"
      },
      "outputs": [
        {
          "output_type": "stream",
          "name": "stderr",
          "text": [
            "21-10-2022 10:55:49 Uploading figures\n"
          ]
        }
      ],
      "source": [
        "# Uploading figures\n",
        "logger.info(\"Uploading figures\")\n",
        "run.log(\n",
        "    {\n",
        "        \"confusion_matrix\": wandb.Image(fig_confusion_matrix),\n",
        "        # \"other_figure\": wandb.Image(other_fig)\n",
        "    }\n",
        ")"
      ]
    },
    {
      "cell_type": "code",
      "execution_count": 23,
      "metadata": {
        "id": "WQtxXl8SDHEI",
        "colab": {
          "base_uri": "https://localhost:8080/"
        },
        "outputId": "b135663a-dacd-42c8-e905-0ea53a9f2fbd"
      },
      "outputs": [
        {
          "output_type": "stream",
          "name": "stderr",
          "text": [
            "21-10-2022 10:55:49 Validation Evaluation metrics\n",
            "21-10-2022 10:55:49 Validation Accuracy: 0.9276\n",
            "21-10-2022 10:55:49 Validation Precision: 0.9286042592247937\n",
            "21-10-2022 10:55:49 Validation Recall: 0.9276\n",
            "21-10-2022 10:55:49 Validation F1: 0.9276974102189802\n"
          ]
        }
      ],
      "source": [
        "# Evaluation Metrics\n",
        "logger.info(\"Validation Evaluation metrics\")\n",
        "fbeta = fbeta_score(test_y.argmax(axis=1), \n",
        "                    predictions.argmax(axis=1), \n",
        "                    beta=1, zero_division=1,average='weighted')\n",
        "precision = precision_score(test_y.argmax(axis=1),\n",
        "                            predictions.argmax(axis=1),\n",
        "                            zero_division=1,average='weighted')\n",
        "recall = recall_score(test_y.argmax(axis=1),\n",
        "                      predictions.argmax(axis=1),\n",
        "                      zero_division=1,average='weighted')\n",
        "acc = accuracy_score(test_y.argmax(axis=1),\n",
        "                     predictions.argmax(axis=1))\n",
        "\n",
        "logger.info(\"Validation Accuracy: {}\".format(acc))\n",
        "logger.info(\"Validation Precision: {}\".format(precision))\n",
        "logger.info(\"Validation Recall: {}\".format(recall))\n",
        "logger.info(\"Validation F1: {}\".format(fbeta))\n",
        "\n",
        "run.summary[\"Acc\"] = acc\n",
        "run.summary[\"Precision\"] = precision\n",
        "run.summary[\"Recall\"] = recall\n",
        "run.summary[\"F1\"] = fbeta\n",
        "# number of parameters\n",
        "run.summary[\"Count_Params\"] = model.count_params()\n",
        "# energy unit is kWh\n",
        "run.summary[\"Energy_Consumed\"] = tracker.final_emissions_data.energy_consumed\n",
        "run.summary[\"Energy_RAM\"] = tracker.final_emissions_data.ram_energy\n",
        "run.summary[\"Energy_GPU\"] = tracker.final_emissions_data.gpu_energy\n",
        "run.summary[\"Energy_CPU\"] = tracker.final_emissions_data.cpu_energy\n",
        "# kg\n",
        "run.summary[\"CO2_Emissions\"] = tracker.final_emissions_data.emissions"
      ]
    },
    {
      "cell_type": "code",
      "execution_count": 24,
      "metadata": {
        "id": "umU3fBfZDHEI",
        "colab": {
          "base_uri": "https://localhost:8080/",
          "height": 569
        },
        "outputId": "4bdba0aa-35b8-46a9-fb56-d1867d8bb830"
      },
      "outputs": [
        {
          "output_type": "display_data",
          "data": {
            "text/plain": [
              "<IPython.core.display.HTML object>"
            ],
            "text/html": [
              "Waiting for W&B process to finish... <strong style=\"color:green\">(success).</strong>"
            ]
          },
          "metadata": {}
        },
        {
          "output_type": "display_data",
          "data": {
            "text/plain": [
              "<IPython.core.display.HTML object>"
            ],
            "text/html": [
              "<style>\n",
              "    table.wandb td:nth-child(1) { padding: 0 10px; text-align: left ; width: auto;} td:nth-child(2) {text-align: left ; width: 100%}\n",
              "    .wandb-row { display: flex; flex-direction: row; flex-wrap: wrap; justify-content: flex-start; width: 100% }\n",
              "    .wandb-col { display: flex; flex-direction: column; flex-basis: 100%; flex: 1; padding: 10px; }\n",
              "    </style>\n",
              "<div class=\"wandb-row\"><div class=\"wandb-col\"><h3>Run history:</h3><br/><table class=\"wandb\"><tr><td>accuracy</td><td>▁▆▆▇▇▇█████████▇███▇</td></tr><tr><td>epoch</td><td>▁▁▂▂▂▃▃▄▄▄▅▅▅▆▆▇▇▇██</td></tr><tr><td>loss</td><td>█▃▃▂▂▂▁▁▁▁▁▁▁▁▁▂▁▁▁▂</td></tr><tr><td>val_accuracy</td><td>▁▂▇▇▅▆▆▆▆▅▇▆▆▇▅▆▆██▅</td></tr><tr><td>val_loss</td><td>█▆▂▂▄▃▃▃▃▅▂▃▂▂▄▄▃▂▁▄</td></tr></table><br/></div><div class=\"wandb-col\"><h3>Run summary:</h3><br/><table class=\"wandb\"><tr><td>Acc</td><td>0.9276</td></tr><tr><td>CO2_Emissions</td><td>0.00426</td></tr><tr><td>Count_Params</td><td>61706</td></tr><tr><td>Energy_CPU</td><td>0.00538</td></tr><tr><td>Energy_Consumed</td><td>0.00941</td></tr><tr><td>Energy_GPU</td><td>0.00343</td></tr><tr><td>Energy_RAM</td><td>0.0006</td></tr><tr><td>F1</td><td>0.9277</td></tr><tr><td>GFLOPs</td><td>0.00042</td></tr><tr><td>Precision</td><td>0.9286</td></tr><tr><td>Recall</td><td>0.9276</td></tr><tr><td>accuracy</td><td>0.85023</td></tr><tr><td>best_epoch</td><td>18</td></tr><tr><td>best_val_loss</td><td>0.17537</td></tr><tr><td>epoch</td><td>19</td></tr><tr><td>loss</td><td>0.49055</td></tr><tr><td>val_accuracy</td><td>0.9276</td></tr><tr><td>val_loss</td><td>0.22798</td></tr></table><br/></div></div>"
            ]
          },
          "metadata": {}
        },
        {
          "output_type": "display_data",
          "data": {
            "text/plain": [
              "<IPython.core.display.HTML object>"
            ],
            "text/html": [
              "Synced <strong style=\"color:#cdcd00\">genial-music-1</strong>: <a href=\"https://wandb.ai/morsinaldo/lenet-5/runs/2dzhz9sl\" target=\"_blank\">https://wandb.ai/morsinaldo/lenet-5/runs/2dzhz9sl</a><br/>Synced 5 W&B file(s), 1 media file(s), 0 artifact file(s) and 0 other file(s)"
            ]
          },
          "metadata": {}
        },
        {
          "output_type": "display_data",
          "data": {
            "text/plain": [
              "<IPython.core.display.HTML object>"
            ],
            "text/html": [
              "Find logs at: <code>./wandb/run-20221021_104803-2dzhz9sl/logs</code>"
            ]
          },
          "metadata": {}
        }
      ],
      "source": [
        "run.finish()"
      ]
    },
    {
      "cell_type": "markdown",
      "metadata": {
        "id": "k3zfoqpWeXUd"
      },
      "source": [
        "# Extensions"
      ]
    },
    {
      "cell_type": "markdown",
      "metadata": {
        "id": "3kVRLuFxeZkx"
      },
      "source": [
        "This section lists some ideas for extending that you may wish to explore.\n",
        "\n",
        "- **Batch normalization**. Implement BN technique after the CONV Layer review the final result.\n",
        "- **Dropout**. Analyze the use of regularization based on dropout technique and placed with different intensity after the Pooling layer.\n",
        "- **Other activation functions**. Investigate change the activation function to relu and compare the results.\n"
      ]
    },
    {
      "cell_type": "markdown",
      "metadata": {
        "id": "1iVBX1qEW8jM"
      },
      "source": [
        "# Step 04: Hyperparameter Tuning"
      ]
    },
    {
      "cell_type": "code",
      "execution_count": 25,
      "metadata": {
        "id": "n-9I8i9yW_0z"
      },
      "outputs": [],
      "source": [
        "# Configure the sweep \n",
        "sweep_config = {\n",
        "    \"name\": \"my-lenet-sweep\",\n",
        "    'method': 'random', \n",
        "    'metric': {\n",
        "      'name': 'val_accuracy',\n",
        "      'goal': 'maximize'   \n",
        "    },\n",
        "    'parameters': {\n",
        "        'conv_layer': {\n",
        "            'max': 2,\n",
        "            'min': 1,\n",
        "            'distribution': 'int_uniform',\n",
        "        },\n",
        "        'batch_norm': {\n",
        "            'values': [True, False]\n",
        "        },\n",
        "        'learn_rate': {\n",
        "            'values': [0.001,0.005],  \n",
        "        },\n",
        "        'epoch': {\n",
        "            'values': [15, 30]\n",
        "        },\n",
        "        'batch_size': {\n",
        "            'values': [32,64]\n",
        "        },\n",
        "        'activation': {\n",
        "            'values' : ['relu']\n",
        "        },\n",
        "        'dropout':{\n",
        "            'values' : [0.0, 0.25, 0.5]\n",
        "        },\n",
        "        'rotation': {\n",
        "            'values' : [0, 30, 35]\n",
        "        },\n",
        "        'width_shift': {\n",
        "            'values' : [0.1, 0.2, 0.3]\n",
        "        },\n",
        "        'height_shift': {\n",
        "            'values' : [0.1, 0.2, 0.3]\n",
        "        },\n",
        "        'shear' : {\n",
        "            'values' : [0.1, 0.2, 0.3]   \n",
        "        },\n",
        "        'zoom' : {\n",
        "            'values' : [0.1, 0.2, 0.3]   \n",
        "        }\n",
        "    }\n",
        "}"
      ]
    },
    {
      "cell_type": "code",
      "execution_count": 26,
      "metadata": {
        "id": "bOOE3IfJXJTc",
        "colab": {
          "base_uri": "https://localhost:8080/"
        },
        "outputId": "b9ac14a4-cfff-41b9-86df-384157835595"
      },
      "outputs": [
        {
          "output_type": "stream",
          "name": "stdout",
          "text": [
            "Create sweep with ID: qfcxxivp\n",
            "Sweep URL: https://wandb.ai/morsinaldo/lenet-5/sweeps/qfcxxivp\n"
          ]
        }
      ],
      "source": [
        "# Initialize a new sweep\n",
        "# Arguments:\n",
        "#     – sweep_config: the sweep config dictionary defined above\n",
        "#     – entity: Set the username for the sweep\n",
        "#     – project: Set the project name for the sweep\n",
        "sweep_id = wandb.sweep(sweep_config,\n",
        "                       entity=\"morsinaldo\",\n",
        "                       project=args[\"project_name\"])"
      ]
    },
    {
      "cell_type": "code",
      "execution_count": 27,
      "metadata": {
        "id": "8QEYAr3qXLZo"
      },
      "outputs": [],
      "source": [
        "class LeNetDataAugumentation:\n",
        "  @staticmethod\n",
        "  def build(width, height, depth, classes, config):\n",
        "    # initialize the model\n",
        "    model = Sequential()\n",
        "    inputShape = (height, width, depth)\n",
        "    \n",
        "    # if we are using \"channels first\", update the input shape\n",
        "    if K.image_data_format() == \"channels_first\":\n",
        "      inputShape = (depth, height, width)\n",
        "   \n",
        "    # first set of CONV => RELU => POOL layers\n",
        "    for i in range(config.conv_layer):\n",
        "        # define a convolution layer followed by a relu activation \n",
        "        # CONV => RELU layer\n",
        "        model.add(Conv2D(6, (5,5), padding=\"same\", strides=1,\n",
        "                         input_shape=inputShape)) #C1\n",
        "        model.add(Activation(config.activation))\n",
        "    \n",
        "    model.add(MaxPooling2D()) #S2\n",
        "\n",
        "    # second set of CONV => RELU => POOL layers\n",
        "    model.add(Conv2D(16, (5,5), strides=1, padding='valid')) #C3\n",
        "    if config.batch_norm:\n",
        "      model.add(BatchNormalization())\n",
        "    model.add(Activation(config.activation))\n",
        "    model.add(MaxPooling2D()) #S4\n",
        "\n",
        "    # a flatten and two set of FC => RELU layers\n",
        "    model.add(Flatten()) #Flatten\n",
        "    model.add(Dense(120, activation=config.activation)) #C5\n",
        "    model.add(Dropout(config.dropout))\n",
        "    model.add(Dense(84, activation=config.activation)) #F6\n",
        "    model.add(Dropout(config.dropout))\n",
        "\n",
        "    # softmax classifier\n",
        "    model.add(Dense(10, activation='softmax')) #Output layer\n",
        "    \n",
        "    # return the constructed network architecture\n",
        "    return model"
      ]
    },
    {
      "cell_type": "code",
      "execution_count": 28,
      "metadata": {
        "id": "2OAHQTrb7VJf"
      },
      "outputs": [],
      "source": [
        "def train():\n",
        "  with wandb.init() as run:\n",
        "    # create codecarbon tracker\n",
        "    # codecarbon is too much verbose, change the log level for more info\n",
        "    tracker = EmissionsTracker(log_level=\"critical\")\n",
        "    tracker.start()\n",
        "\n",
        "    # initialize the optimizer and model\n",
        "    logger.info(\"[INFO] compiling model...\")\n",
        "    opt = Adam(learning_rate=run.config.learn_rate)\n",
        "    model = LeNetDataAugumentation.build(width=28, height=28, depth=1, \n",
        "                                         classes=10, config=run.config)\n",
        "    model.compile(loss=\"categorical_crossentropy\", optimizer=opt,\n",
        "                  metrics=[\"accuracy\"])\n",
        "\n",
        "    # construct the image generator for data augmentation then\n",
        "    # initialize the total number of images generated thus far\n",
        "    aug = ImageDataGenerator(rotation_range=run.config.rotation,\n",
        "                             width_shift_range=run.config.width_shift,\n",
        "                            height_shift_range=run.config.height_shift, \n",
        "                             shear_range=run.config.shear, \n",
        "                            zoom_range=run.config.zoom,\n",
        "                            horizontal_flip=False, fill_mode=\"nearest\")\n",
        "\n",
        "    # train the network\n",
        "    logger.info(\"[INFO] training network...\")\n",
        "    history = model.fit(aug.flow(train_x, train_y, batch_size=32),\n",
        "                        validation_data=(test_x, test_y),\n",
        "                        epochs=run.config.epoch, \n",
        "                        verbose=0,\n",
        "                        callbacks=[wandb.keras.WandbCallback(save_model=False,\n",
        "                                                            compute_flops=True)])\n",
        "\n",
        "    # get co2 emissions from tracker\n",
        "    # \"CO2 emission (in Kg)\"\n",
        "    emissions = tracker.stop()\n",
        "\n",
        "    # evaluate the network\n",
        "    print(\"[INFO] evaluating network...\")\n",
        "    predictions = model.predict(test_x, batch_size=32)\n",
        "    print(classification_report(test_y.argmax(axis=1),\n",
        "                                predictions.argmax(axis=1),\n",
        "                                target_names=[str(i) for i in lb.classes_]))\n",
        "\n",
        "    # Evaluation Metrics\n",
        "    logger.info(\"Validation Evaluation metrics\")\n",
        "    fbeta = fbeta_score(test_y.argmax(axis=1), \n",
        "                        predictions.argmax(axis=1), \n",
        "                        beta=1, zero_division=1,average='weighted')\n",
        "    precision = precision_score(test_y.argmax(axis=1),\n",
        "                                predictions.argmax(axis=1),\n",
        "                                zero_division=1,average='weighted')\n",
        "    recall = recall_score(test_y.argmax(axis=1),\n",
        "                          predictions.argmax(axis=1),\n",
        "                          zero_division=1,average='weighted')\n",
        "    acc = accuracy_score(test_y.argmax(axis=1),\n",
        "                        predictions.argmax(axis=1))\n",
        "\n",
        "    logger.info(\"Validation Accuracy: {}\".format(acc))\n",
        "    logger.info(\"Validation Precision: {}\".format(precision))\n",
        "    logger.info(\"Validation Recall: {}\".format(recall))\n",
        "    logger.info(\"Validation F1: {}\".format(fbeta))\n",
        "\n",
        "    run.summary[\"Acc\"] = acc\n",
        "    run.summary[\"Precision\"] = precision\n",
        "    run.summary[\"Recall\"] = recall\n",
        "    run.summary[\"F1\"] = fbeta\n",
        "    # number of parameters\n",
        "    run.summary[\"Count_Params\"] = model.count_params()\n",
        "    # energy unit is kWh\n",
        "    run.summary[\"Energy_Consumed\"] = tracker.final_emissions_data.energy_consumed\n",
        "    run.summary[\"Energy_RAM\"] = tracker.final_emissions_data.ram_energy\n",
        "    run.summary[\"Energy_GPU\"] = tracker.final_emissions_data.gpu_energy\n",
        "    run.summary[\"Energy_CPU\"] = tracker.final_emissions_data.cpu_energy\n",
        "    # kg\n",
        "    run.summary[\"CO2_Emissions\"] = tracker.final_emissions_data.emissions\n",
        "\n",
        "    run.finish()"
      ]
    },
    {
      "cell_type": "code",
      "execution_count": 29,
      "metadata": {
        "id": "8PA7FaWrC4dV",
        "colab": {
          "base_uri": "https://localhost:8080/",
          "height": 1000,
          "referenced_widgets": [
            "ed2db2e0a3a1451b8aa4c3a0eac9d2c4",
            "8ad6cc518fcc4a4e826d26e1e4ad1ec4",
            "3456cb7d60fa40bfa37c7ac927aab3ed",
            "fead220e9cda4e91b815dd39ec5af4ec",
            "c6677cbbf6a746c7a139abad16168287",
            "3c907632cdd24dc8a5dbc5098e220c36",
            "a16d36404291404197cb0ae9ee8c039d",
            "e9560d318f5440d1a6e441165df67597",
            "707615cb06d34078b38b2888d97616f1",
            "a099c55be4ec45b1a2aaffd881415dcc",
            "87437a154a134ef99990dab11775f979",
            "c0448865b8564b609b1b4c15282e956b",
            "b15adab8b426411a9a20c43bb49d7958",
            "196e0707078e4696a12761aa08e2c5b5",
            "7b819990cc5a4f3ea9401b7e07414c39",
            "67046cac33ad40c7a7781176fff7af3f",
            "62b661dc25874c908a301d87e1464184",
            "8cf74f62b8724100a2a88f6476c7f677",
            "8ba0ef2e3b6d436d95b06306d22ab934",
            "7d990d82fd844336baf0d0a645136b18",
            "a55c848677634664ab625e1e9adff87c",
            "8d221e7f4546412e9519fb281beb8949",
            "d4248e65d913438da1ff3327f6a5fd35",
            "368d0e0c6179415e9b0e153d80e92874",
            "59fb911452bb47e7854e11367b587448",
            "a47ef8d97a9141a882fc54dcf5ed658b",
            "1a37474f8e7d4566abf3cae8f32339a1",
            "b58d5035c18740e3be0ee8100f4a84cb",
            "0b9f3a1b11cb4b389f40474742e48a7e",
            "274dd6feb6034b48a93e8a2646984fab",
            "7f72ce5a6ddd4142a49aa1a6be790625",
            "2b65675dbcfd4891a4f8acf9e6af8162"
          ]
        },
        "outputId": "cb4a8c65-7943-4c94-c3b2-15d111445bb9"
      },
      "outputs": [
        {
          "output_type": "stream",
          "name": "stderr",
          "text": [
            "\u001b[34m\u001b[1mwandb\u001b[0m: Agent Starting Run: s5j7jlue with config:\n",
            "\u001b[34m\u001b[1mwandb\u001b[0m: \tactivation: relu\n",
            "\u001b[34m\u001b[1mwandb\u001b[0m: \tbatch_norm: True\n",
            "\u001b[34m\u001b[1mwandb\u001b[0m: \tbatch_size: 64\n",
            "\u001b[34m\u001b[1mwandb\u001b[0m: \tconv_layer: 1\n",
            "\u001b[34m\u001b[1mwandb\u001b[0m: \tdropout: 0.5\n",
            "\u001b[34m\u001b[1mwandb\u001b[0m: \tepoch: 30\n",
            "\u001b[34m\u001b[1mwandb\u001b[0m: \theight_shift: 0.3\n",
            "\u001b[34m\u001b[1mwandb\u001b[0m: \tlearn_rate: 0.001\n",
            "\u001b[34m\u001b[1mwandb\u001b[0m: \trotation: 35\n",
            "\u001b[34m\u001b[1mwandb\u001b[0m: \tshear: 0.3\n",
            "\u001b[34m\u001b[1mwandb\u001b[0m: \twidth_shift: 0.1\n",
            "\u001b[34m\u001b[1mwandb\u001b[0m: \tzoom: 0.2\n",
            "Failed to detect the name of this notebook, you can set it manually with the WANDB_NOTEBOOK_NAME environment variable to enable code saving.\n"
          ]
        },
        {
          "output_type": "display_data",
          "data": {
            "text/plain": [
              "<IPython.core.display.HTML object>"
            ],
            "text/html": [
              "Tracking run with wandb version 0.13.4"
            ]
          },
          "metadata": {}
        },
        {
          "output_type": "display_data",
          "data": {
            "text/plain": [
              "<IPython.core.display.HTML object>"
            ],
            "text/html": [
              "Run data is saved locally in <code>/content/wandb/run-20221021_105746-s5j7jlue</code>"
            ]
          },
          "metadata": {}
        },
        {
          "output_type": "display_data",
          "data": {
            "text/plain": [
              "<IPython.core.display.HTML object>"
            ],
            "text/html": [
              "Syncing run <strong><a href=\"https://wandb.ai/morsinaldo/lenet-5/runs/s5j7jlue\" target=\"_blank\">proud-sweep-1</a></strong> to <a href=\"https://wandb.ai/morsinaldo/lenet-5\" target=\"_blank\">Weights & Biases</a> (<a href=\"https://wandb.me/run\" target=\"_blank\">docs</a>)<br/>Sweep page:  <a href=\"https://wandb.ai/morsinaldo/lenet-5/sweeps/qfcxxivp\" target=\"_blank\">https://wandb.ai/morsinaldo/lenet-5/sweeps/qfcxxivp</a>"
            ]
          },
          "metadata": {}
        },
        {
          "output_type": "stream",
          "name": "stderr",
          "text": [
            "21-10-2022 10:57:50 [INFO] compiling model...\n",
            "21-10-2022 10:57:50 [INFO] training network...\n"
          ]
        },
        {
          "output_type": "stream",
          "name": "stdout",
          "text": [
            "[INFO] evaluating network...\n",
            "313/313 [==============================] - 1s 2ms/step\n"
          ]
        },
        {
          "output_type": "stream",
          "name": "stderr",
          "text": [
            "21-10-2022 11:08:40 Validation Evaluation metrics\n"
          ]
        },
        {
          "output_type": "stream",
          "name": "stdout",
          "text": [
            "              precision    recall  f1-score   support\n",
            "\n",
            "           0       0.99      1.00      0.99       980\n",
            "           1       1.00      0.99      0.99      1135\n",
            "           2       0.97      0.99      0.98      1032\n",
            "           3       0.96      1.00      0.98      1010\n",
            "           4       0.98      0.97      0.98       982\n",
            "           5       0.98      0.98      0.98       892\n",
            "           6       0.99      0.98      0.99       958\n",
            "           7       0.98      0.97      0.98      1028\n",
            "           8       0.99      0.98      0.99       974\n",
            "           9       0.98      0.97      0.97      1009\n",
            "\n",
            "    accuracy                           0.98     10000\n",
            "   macro avg       0.98      0.98      0.98     10000\n",
            "weighted avg       0.98      0.98      0.98     10000\n",
            "\n"
          ]
        },
        {
          "output_type": "stream",
          "name": "stderr",
          "text": [
            "21-10-2022 11:08:40 Validation Accuracy: 0.9825\n",
            "21-10-2022 11:08:40 Validation Precision: 0.9826271793242344\n",
            "21-10-2022 11:08:40 Validation Recall: 0.9825\n",
            "21-10-2022 11:08:40 Validation F1: 0.9825076909866042\n"
          ]
        },
        {
          "output_type": "display_data",
          "data": {
            "text/plain": [
              "<IPython.core.display.HTML object>"
            ],
            "text/html": [
              "Waiting for W&B process to finish... <strong style=\"color:green\">(success).</strong>"
            ]
          },
          "metadata": {}
        },
        {
          "output_type": "display_data",
          "data": {
            "text/plain": [
              "VBox(children=(Label(value='0.000 MB of 0.000 MB uploaded (0.000 MB deduped)\\r'), FloatProgress(value=1.0, max…"
            ],
            "application/vnd.jupyter.widget-view+json": {
              "version_major": 2,
              "version_minor": 0,
              "model_id": "ed2db2e0a3a1451b8aa4c3a0eac9d2c4"
            }
          },
          "metadata": {}
        },
        {
          "output_type": "display_data",
          "data": {
            "text/plain": [
              "<IPython.core.display.HTML object>"
            ],
            "text/html": [
              "<style>\n",
              "    table.wandb td:nth-child(1) { padding: 0 10px; text-align: left ; width: auto;} td:nth-child(2) {text-align: left ; width: 100%}\n",
              "    .wandb-row { display: flex; flex-direction: row; flex-wrap: wrap; justify-content: flex-start; width: 100% }\n",
              "    .wandb-col { display: flex; flex-direction: column; flex-basis: 100%; flex: 1; padding: 10px; }\n",
              "    </style>\n",
              "<div class=\"wandb-row\"><div class=\"wandb-col\"><h3>Run history:</h3><br/><table class=\"wandb\"><tr><td>accuracy</td><td>▁▅▆▇▇▇▇▇██████████████████████</td></tr><tr><td>epoch</td><td>▁▁▁▂▂▂▂▃▃▃▃▄▄▄▄▅▅▅▅▆▆▆▆▇▇▇▇███</td></tr><tr><td>loss</td><td>█▄▃▂▂▂▂▂▂▂▁▁▁▁▁▁▁▁▁▁▁▁▁▁▁▁▁▁▁▁</td></tr><tr><td>val_accuracy</td><td>▁▆▇▇▇▆▇▇▇▇▇▇▇▇▇▇█▇████▇██▇▇█▇█</td></tr><tr><td>val_loss</td><td>█▃▂▂▃▃▂▂▂▂▂▂▂▂▂▂▁▂▁▂▁▁▂▁▂▂▂▁▁▁</td></tr></table><br/></div><div class=\"wandb-col\"><h3>Run summary:</h3><br/><table class=\"wandb\"><tr><td>Acc</td><td>0.9825</td></tr><tr><td>CO2_Emissions</td><td>0.00607</td></tr><tr><td>Count_Params</td><td>61770</td></tr><tr><td>Energy_CPU</td><td>0.00766</td></tr><tr><td>Energy_Consumed</td><td>0.01341</td></tr><tr><td>Energy_GPU</td><td>0.00489</td></tr><tr><td>Energy_RAM</td><td>0.00086</td></tr><tr><td>F1</td><td>0.98251</td></tr><tr><td>GFLOPs</td><td>0.00042</td></tr><tr><td>Precision</td><td>0.98263</td></tr><tr><td>Recall</td><td>0.9825</td></tr><tr><td>accuracy</td><td>0.94455</td></tr><tr><td>best_epoch</td><td>20</td></tr><tr><td>best_val_loss</td><td>0.054</td></tr><tr><td>epoch</td><td>29</td></tr><tr><td>loss</td><td>0.19886</td></tr><tr><td>val_accuracy</td><td>0.9825</td></tr><tr><td>val_loss</td><td>0.05989</td></tr></table><br/></div></div>"
            ]
          },
          "metadata": {}
        },
        {
          "output_type": "display_data",
          "data": {
            "text/plain": [
              "<IPython.core.display.HTML object>"
            ],
            "text/html": [
              "Synced <strong style=\"color:#cdcd00\">proud-sweep-1</strong>: <a href=\"https://wandb.ai/morsinaldo/lenet-5/runs/s5j7jlue\" target=\"_blank\">https://wandb.ai/morsinaldo/lenet-5/runs/s5j7jlue</a><br/>Synced 5 W&B file(s), 0 media file(s), 0 artifact file(s) and 0 other file(s)"
            ]
          },
          "metadata": {}
        },
        {
          "output_type": "display_data",
          "data": {
            "text/plain": [
              "<IPython.core.display.HTML object>"
            ],
            "text/html": [
              "Find logs at: <code>./wandb/run-20221021_105746-s5j7jlue/logs</code>"
            ]
          },
          "metadata": {}
        },
        {
          "output_type": "stream",
          "name": "stderr",
          "text": [
            "\u001b[34m\u001b[1mwandb\u001b[0m: Sweep Agent: Waiting for job.\n",
            "\u001b[34m\u001b[1mwandb\u001b[0m: Job received.\n",
            "\u001b[34m\u001b[1mwandb\u001b[0m: Agent Starting Run: qznrk35g with config:\n",
            "\u001b[34m\u001b[1mwandb\u001b[0m: \tactivation: relu\n",
            "\u001b[34m\u001b[1mwandb\u001b[0m: \tbatch_norm: False\n",
            "\u001b[34m\u001b[1mwandb\u001b[0m: \tbatch_size: 32\n",
            "\u001b[34m\u001b[1mwandb\u001b[0m: \tconv_layer: 2\n",
            "\u001b[34m\u001b[1mwandb\u001b[0m: \tdropout: 0.5\n",
            "\u001b[34m\u001b[1mwandb\u001b[0m: \tepoch: 15\n",
            "\u001b[34m\u001b[1mwandb\u001b[0m: \theight_shift: 0.2\n",
            "\u001b[34m\u001b[1mwandb\u001b[0m: \tlearn_rate: 0.001\n",
            "\u001b[34m\u001b[1mwandb\u001b[0m: \trotation: 30\n",
            "\u001b[34m\u001b[1mwandb\u001b[0m: \tshear: 0.1\n",
            "\u001b[34m\u001b[1mwandb\u001b[0m: \twidth_shift: 0.1\n",
            "\u001b[34m\u001b[1mwandb\u001b[0m: \tzoom: 0.1\n",
            "Failed to detect the name of this notebook, you can set it manually with the WANDB_NOTEBOOK_NAME environment variable to enable code saving.\n"
          ]
        },
        {
          "output_type": "display_data",
          "data": {
            "text/plain": [
              "<IPython.core.display.HTML object>"
            ],
            "text/html": [
              "Tracking run with wandb version 0.13.4"
            ]
          },
          "metadata": {}
        },
        {
          "output_type": "display_data",
          "data": {
            "text/plain": [
              "<IPython.core.display.HTML object>"
            ],
            "text/html": [
              "Run data is saved locally in <code>/content/wandb/run-20221021_110856-qznrk35g</code>"
            ]
          },
          "metadata": {}
        },
        {
          "output_type": "display_data",
          "data": {
            "text/plain": [
              "<IPython.core.display.HTML object>"
            ],
            "text/html": [
              "Syncing run <strong><a href=\"https://wandb.ai/morsinaldo/lenet-5/runs/qznrk35g\" target=\"_blank\">lunar-sweep-2</a></strong> to <a href=\"https://wandb.ai/morsinaldo/lenet-5\" target=\"_blank\">Weights & Biases</a> (<a href=\"https://wandb.me/run\" target=\"_blank\">docs</a>)<br/>Sweep page:  <a href=\"https://wandb.ai/morsinaldo/lenet-5/sweeps/qfcxxivp\" target=\"_blank\">https://wandb.ai/morsinaldo/lenet-5/sweeps/qfcxxivp</a>"
            ]
          },
          "metadata": {}
        },
        {
          "output_type": "stream",
          "name": "stderr",
          "text": [
            "21-10-2022 11:08:59 [INFO] compiling model...\n",
            "21-10-2022 11:08:59 [INFO] training network...\n"
          ]
        },
        {
          "output_type": "stream",
          "name": "stdout",
          "text": [
            "[INFO] evaluating network...\n",
            "313/313 [==============================] - 1s 2ms/step\n"
          ]
        },
        {
          "output_type": "stream",
          "name": "stderr",
          "text": [
            "21-10-2022 11:14:36 Validation Evaluation metrics\n"
          ]
        },
        {
          "output_type": "stream",
          "name": "stdout",
          "text": [
            "              precision    recall  f1-score   support\n",
            "\n",
            "           0       0.99      0.99      0.99       980\n",
            "           1       1.00      0.99      0.99      1135\n",
            "           2       0.99      0.99      0.99      1032\n",
            "           3       0.98      1.00      0.99      1010\n",
            "           4       0.99      0.97      0.98       982\n",
            "           5       0.98      0.99      0.99       892\n",
            "           6       0.99      0.98      0.99       958\n",
            "           7       0.99      0.99      0.99      1028\n",
            "           8       0.98      0.99      0.99       974\n",
            "           9       0.97      0.99      0.98      1009\n",
            "\n",
            "    accuracy                           0.99     10000\n",
            "   macro avg       0.99      0.99      0.99     10000\n",
            "weighted avg       0.99      0.99      0.99     10000\n",
            "\n"
          ]
        },
        {
          "output_type": "stream",
          "name": "stderr",
          "text": [
            "21-10-2022 11:14:36 Validation Accuracy: 0.9868\n",
            "21-10-2022 11:14:36 Validation Precision: 0.9868619095781034\n",
            "21-10-2022 11:14:36 Validation Recall: 0.9868\n",
            "21-10-2022 11:14:36 Validation F1: 0.9867989269343712\n"
          ]
        },
        {
          "output_type": "display_data",
          "data": {
            "text/plain": [
              "<IPython.core.display.HTML object>"
            ],
            "text/html": [
              "Waiting for W&B process to finish... <strong style=\"color:green\">(success).</strong>"
            ]
          },
          "metadata": {}
        },
        {
          "output_type": "display_data",
          "data": {
            "text/plain": [
              "VBox(children=(Label(value='0.000 MB of 0.000 MB uploaded (0.000 MB deduped)\\r'), FloatProgress(value=1.0, max…"
            ],
            "application/vnd.jupyter.widget-view+json": {
              "version_major": 2,
              "version_minor": 0,
              "model_id": "707615cb06d34078b38b2888d97616f1"
            }
          },
          "metadata": {}
        },
        {
          "output_type": "display_data",
          "data": {
            "text/plain": [
              "<IPython.core.display.HTML object>"
            ],
            "text/html": [
              "<style>\n",
              "    table.wandb td:nth-child(1) { padding: 0 10px; text-align: left ; width: auto;} td:nth-child(2) {text-align: left ; width: 100%}\n",
              "    .wandb-row { display: flex; flex-direction: row; flex-wrap: wrap; justify-content: flex-start; width: 100% }\n",
              "    .wandb-col { display: flex; flex-direction: column; flex-basis: 100%; flex: 1; padding: 10px; }\n",
              "    </style>\n",
              "<div class=\"wandb-row\"><div class=\"wandb-col\"><h3>Run history:</h3><br/><table class=\"wandb\"><tr><td>accuracy</td><td>▁▆▇▇▇██████████</td></tr><tr><td>epoch</td><td>▁▁▂▃▃▃▄▅▅▅▆▇▇▇█</td></tr><tr><td>loss</td><td>█▃▂▂▂▁▁▁▁▁▁▁▁▁▁</td></tr><tr><td>val_accuracy</td><td>▁▄▆▆▇▆▇▇▇▇▇██▆▇</td></tr><tr><td>val_loss</td><td>█▆▃▂▂▃▂▂▂▁▂▁▁▄▂</td></tr></table><br/></div><div class=\"wandb-col\"><h3>Run summary:</h3><br/><table class=\"wandb\"><tr><td>Acc</td><td>0.9868</td></tr><tr><td>CO2_Emissions</td><td>0.00319</td></tr><tr><td>Count_Params</td><td>62612</td></tr><tr><td>Energy_CPU</td><td>0.00397</td></tr><tr><td>Energy_Consumed</td><td>0.00705</td></tr><tr><td>Energy_GPU</td><td>0.00264</td></tr><tr><td>Energy_RAM</td><td>0.00044</td></tr><tr><td>F1</td><td>0.9868</td></tr><tr><td>GFLOPs</td><td>0.00113</td></tr><tr><td>Precision</td><td>0.98686</td></tr><tr><td>Recall</td><td>0.9868</td></tr><tr><td>accuracy</td><td>0.96517</td></tr><tr><td>best_epoch</td><td>11</td></tr><tr><td>best_val_loss</td><td>0.03499</td></tr><tr><td>epoch</td><td>14</td></tr><tr><td>loss</td><td>0.13352</td></tr><tr><td>val_accuracy</td><td>0.9868</td></tr><tr><td>val_loss</td><td>0.04459</td></tr></table><br/></div></div>"
            ]
          },
          "metadata": {}
        },
        {
          "output_type": "display_data",
          "data": {
            "text/plain": [
              "<IPython.core.display.HTML object>"
            ],
            "text/html": [
              "Synced <strong style=\"color:#cdcd00\">lunar-sweep-2</strong>: <a href=\"https://wandb.ai/morsinaldo/lenet-5/runs/qznrk35g\" target=\"_blank\">https://wandb.ai/morsinaldo/lenet-5/runs/qznrk35g</a><br/>Synced 5 W&B file(s), 0 media file(s), 0 artifact file(s) and 0 other file(s)"
            ]
          },
          "metadata": {}
        },
        {
          "output_type": "display_data",
          "data": {
            "text/plain": [
              "<IPython.core.display.HTML object>"
            ],
            "text/html": [
              "Find logs at: <code>./wandb/run-20221021_110856-qznrk35g/logs</code>"
            ]
          },
          "metadata": {}
        },
        {
          "output_type": "stream",
          "name": "stderr",
          "text": [
            "\u001b[34m\u001b[1mwandb\u001b[0m: Agent Starting Run: z8089w2t with config:\n",
            "\u001b[34m\u001b[1mwandb\u001b[0m: \tactivation: relu\n",
            "\u001b[34m\u001b[1mwandb\u001b[0m: \tbatch_norm: False\n",
            "\u001b[34m\u001b[1mwandb\u001b[0m: \tbatch_size: 64\n",
            "\u001b[34m\u001b[1mwandb\u001b[0m: \tconv_layer: 2\n",
            "\u001b[34m\u001b[1mwandb\u001b[0m: \tdropout: 0.25\n",
            "\u001b[34m\u001b[1mwandb\u001b[0m: \tepoch: 15\n",
            "\u001b[34m\u001b[1mwandb\u001b[0m: \theight_shift: 0.2\n",
            "\u001b[34m\u001b[1mwandb\u001b[0m: \tlearn_rate: 0.005\n",
            "\u001b[34m\u001b[1mwandb\u001b[0m: \trotation: 30\n",
            "\u001b[34m\u001b[1mwandb\u001b[0m: \tshear: 0.2\n",
            "\u001b[34m\u001b[1mwandb\u001b[0m: \twidth_shift: 0.3\n",
            "\u001b[34m\u001b[1mwandb\u001b[0m: \tzoom: 0.3\n",
            "Failed to detect the name of this notebook, you can set it manually with the WANDB_NOTEBOOK_NAME environment variable to enable code saving.\n"
          ]
        },
        {
          "output_type": "display_data",
          "data": {
            "text/plain": [
              "<IPython.core.display.HTML object>"
            ],
            "text/html": [
              "Tracking run with wandb version 0.13.4"
            ]
          },
          "metadata": {}
        },
        {
          "output_type": "display_data",
          "data": {
            "text/plain": [
              "<IPython.core.display.HTML object>"
            ],
            "text/html": [
              "Run data is saved locally in <code>/content/wandb/run-20221021_111447-z8089w2t</code>"
            ]
          },
          "metadata": {}
        },
        {
          "output_type": "display_data",
          "data": {
            "text/plain": [
              "<IPython.core.display.HTML object>"
            ],
            "text/html": [
              "Syncing run <strong><a href=\"https://wandb.ai/morsinaldo/lenet-5/runs/z8089w2t\" target=\"_blank\">leafy-sweep-3</a></strong> to <a href=\"https://wandb.ai/morsinaldo/lenet-5\" target=\"_blank\">Weights & Biases</a> (<a href=\"https://wandb.me/run\" target=\"_blank\">docs</a>)<br/>Sweep page:  <a href=\"https://wandb.ai/morsinaldo/lenet-5/sweeps/qfcxxivp\" target=\"_blank\">https://wandb.ai/morsinaldo/lenet-5/sweeps/qfcxxivp</a>"
            ]
          },
          "metadata": {}
        },
        {
          "output_type": "stream",
          "name": "stderr",
          "text": [
            "21-10-2022 11:14:51 [INFO] compiling model...\n",
            "21-10-2022 11:14:51 [INFO] training network...\n"
          ]
        },
        {
          "output_type": "stream",
          "name": "stdout",
          "text": [
            "[INFO] evaluating network...\n",
            "313/313 [==============================] - 1s 2ms/step\n"
          ]
        },
        {
          "output_type": "stream",
          "name": "stderr",
          "text": [
            "21-10-2022 11:20:24 Validation Evaluation metrics\n",
            "21-10-2022 11:20:24 Validation Accuracy: 0.9658\n",
            "21-10-2022 11:20:24 Validation Precision: 0.9660838772394713\n",
            "21-10-2022 11:20:24 Validation Recall: 0.9658\n",
            "21-10-2022 11:20:24 Validation F1: 0.9657623106561235\n"
          ]
        },
        {
          "output_type": "stream",
          "name": "stdout",
          "text": [
            "              precision    recall  f1-score   support\n",
            "\n",
            "           0       0.95      0.99      0.97       980\n",
            "           1       0.99      0.98      0.99      1135\n",
            "           2       0.96      0.96      0.96      1032\n",
            "           3       0.96      0.98      0.97      1010\n",
            "           4       0.96      0.95      0.96       982\n",
            "           5       0.96      0.98      0.97       892\n",
            "           6       0.98      0.93      0.96       958\n",
            "           7       0.96      0.96      0.96      1028\n",
            "           8       0.97      0.95      0.96       974\n",
            "           9       0.95      0.97      0.96      1009\n",
            "\n",
            "    accuracy                           0.97     10000\n",
            "   macro avg       0.97      0.97      0.97     10000\n",
            "weighted avg       0.97      0.97      0.97     10000\n",
            "\n"
          ]
        },
        {
          "output_type": "display_data",
          "data": {
            "text/plain": [
              "<IPython.core.display.HTML object>"
            ],
            "text/html": [
              "Waiting for W&B process to finish... <strong style=\"color:green\">(success).</strong>"
            ]
          },
          "metadata": {}
        },
        {
          "output_type": "display_data",
          "data": {
            "text/plain": [
              "VBox(children=(Label(value='0.000 MB of 0.000 MB uploaded (0.000 MB deduped)\\r'), FloatProgress(value=1.0, max…"
            ],
            "application/vnd.jupyter.widget-view+json": {
              "version_major": 2,
              "version_minor": 0,
              "model_id": "62b661dc25874c908a301d87e1464184"
            }
          },
          "metadata": {}
        },
        {
          "output_type": "display_data",
          "data": {
            "text/plain": [
              "<IPython.core.display.HTML object>"
            ],
            "text/html": [
              "<style>\n",
              "    table.wandb td:nth-child(1) { padding: 0 10px; text-align: left ; width: auto;} td:nth-child(2) {text-align: left ; width: 100%}\n",
              "    .wandb-row { display: flex; flex-direction: row; flex-wrap: wrap; justify-content: flex-start; width: 100% }\n",
              "    .wandb-col { display: flex; flex-direction: column; flex-basis: 100%; flex: 1; padding: 10px; }\n",
              "    </style>\n",
              "<div class=\"wandb-row\"><div class=\"wandb-col\"><h3>Run history:</h3><br/><table class=\"wandb\"><tr><td>accuracy</td><td>▁▆▇▇▇▇█████████</td></tr><tr><td>epoch</td><td>▁▁▂▃▃▃▄▅▅▅▆▇▇▇█</td></tr><tr><td>loss</td><td>█▃▂▂▂▂▁▁▁▁▁▁▁▁▁</td></tr><tr><td>val_accuracy</td><td>▁▇▇▆▇▇▇█▇▆█▇█▇█</td></tr><tr><td>val_loss</td><td>█▂▂▃▁▁▁▁▁▃▁▁▁▂▁</td></tr></table><br/></div><div class=\"wandb-col\"><h3>Run summary:</h3><br/><table class=\"wandb\"><tr><td>Acc</td><td>0.9658</td></tr><tr><td>CO2_Emissions</td><td>0.00316</td></tr><tr><td>Count_Params</td><td>62612</td></tr><tr><td>Energy_CPU</td><td>0.00392</td></tr><tr><td>Energy_Consumed</td><td>0.00698</td></tr><tr><td>Energy_GPU</td><td>0.00262</td></tr><tr><td>Energy_RAM</td><td>0.00044</td></tr><tr><td>F1</td><td>0.96576</td></tr><tr><td>GFLOPs</td><td>0.00113</td></tr><tr><td>Precision</td><td>0.96608</td></tr><tr><td>Recall</td><td>0.9658</td></tr><tr><td>accuracy</td><td>0.84957</td></tr><tr><td>best_epoch</td><td>12</td></tr><tr><td>best_val_loss</td><td>0.11251</td></tr><tr><td>epoch</td><td>14</td></tr><tr><td>loss</td><td>0.5139</td></tr><tr><td>val_accuracy</td><td>0.9658</td></tr><tr><td>val_loss</td><td>0.11341</td></tr></table><br/></div></div>"
            ]
          },
          "metadata": {}
        },
        {
          "output_type": "display_data",
          "data": {
            "text/plain": [
              "<IPython.core.display.HTML object>"
            ],
            "text/html": [
              "Synced <strong style=\"color:#cdcd00\">leafy-sweep-3</strong>: <a href=\"https://wandb.ai/morsinaldo/lenet-5/runs/z8089w2t\" target=\"_blank\">https://wandb.ai/morsinaldo/lenet-5/runs/z8089w2t</a><br/>Synced 5 W&B file(s), 0 media file(s), 0 artifact file(s) and 0 other file(s)"
            ]
          },
          "metadata": {}
        },
        {
          "output_type": "display_data",
          "data": {
            "text/plain": [
              "<IPython.core.display.HTML object>"
            ],
            "text/html": [
              "Find logs at: <code>./wandb/run-20221021_111447-z8089w2t/logs</code>"
            ]
          },
          "metadata": {}
        },
        {
          "output_type": "stream",
          "name": "stderr",
          "text": [
            "\u001b[34m\u001b[1mwandb\u001b[0m: Agent Starting Run: 3z3uud5o with config:\n",
            "\u001b[34m\u001b[1mwandb\u001b[0m: \tactivation: relu\n",
            "\u001b[34m\u001b[1mwandb\u001b[0m: \tbatch_norm: False\n",
            "\u001b[34m\u001b[1mwandb\u001b[0m: \tbatch_size: 64\n",
            "\u001b[34m\u001b[1mwandb\u001b[0m: \tconv_layer: 1\n",
            "\u001b[34m\u001b[1mwandb\u001b[0m: \tdropout: 0.5\n",
            "\u001b[34m\u001b[1mwandb\u001b[0m: \tepoch: 30\n",
            "\u001b[34m\u001b[1mwandb\u001b[0m: \theight_shift: 0.2\n",
            "\u001b[34m\u001b[1mwandb\u001b[0m: \tlearn_rate: 0.001\n",
            "\u001b[34m\u001b[1mwandb\u001b[0m: \trotation: 30\n",
            "\u001b[34m\u001b[1mwandb\u001b[0m: \tshear: 0.1\n",
            "\u001b[34m\u001b[1mwandb\u001b[0m: \twidth_shift: 0.3\n",
            "\u001b[34m\u001b[1mwandb\u001b[0m: \tzoom: 0.1\n",
            "Failed to detect the name of this notebook, you can set it manually with the WANDB_NOTEBOOK_NAME environment variable to enable code saving.\n"
          ]
        },
        {
          "output_type": "display_data",
          "data": {
            "text/plain": [
              "<IPython.core.display.HTML object>"
            ],
            "text/html": [
              "Tracking run with wandb version 0.13.4"
            ]
          },
          "metadata": {}
        },
        {
          "output_type": "display_data",
          "data": {
            "text/plain": [
              "<IPython.core.display.HTML object>"
            ],
            "text/html": [
              "Run data is saved locally in <code>/content/wandb/run-20221021_112034-3z3uud5o</code>"
            ]
          },
          "metadata": {}
        },
        {
          "output_type": "display_data",
          "data": {
            "text/plain": [
              "<IPython.core.display.HTML object>"
            ],
            "text/html": [
              "Syncing run <strong><a href=\"https://wandb.ai/morsinaldo/lenet-5/runs/3z3uud5o\" target=\"_blank\">vocal-sweep-4</a></strong> to <a href=\"https://wandb.ai/morsinaldo/lenet-5\" target=\"_blank\">Weights & Biases</a> (<a href=\"https://wandb.me/run\" target=\"_blank\">docs</a>)<br/>Sweep page:  <a href=\"https://wandb.ai/morsinaldo/lenet-5/sweeps/qfcxxivp\" target=\"_blank\">https://wandb.ai/morsinaldo/lenet-5/sweeps/qfcxxivp</a>"
            ]
          },
          "metadata": {}
        },
        {
          "output_type": "stream",
          "name": "stderr",
          "text": [
            "21-10-2022 11:20:38 [INFO] compiling model...\n",
            "21-10-2022 11:20:38 [INFO] training network...\n"
          ]
        },
        {
          "output_type": "stream",
          "name": "stdout",
          "text": [
            "[INFO] evaluating network...\n",
            "313/313 [==============================] - 1s 2ms/step\n"
          ]
        },
        {
          "output_type": "stream",
          "name": "stderr",
          "text": [
            "21-10-2022 11:31:21 Validation Evaluation metrics\n",
            "21-10-2022 11:31:21 Validation Accuracy: 0.9804\n",
            "21-10-2022 11:31:21 Validation Precision: 0.9805801539769847\n",
            "21-10-2022 11:31:21 Validation Recall: 0.9804\n",
            "21-10-2022 11:31:21 Validation F1: 0.9803950462066845\n"
          ]
        },
        {
          "output_type": "stream",
          "name": "stdout",
          "text": [
            "              precision    recall  f1-score   support\n",
            "\n",
            "           0       0.99      0.99      0.99       980\n",
            "           1       0.99      0.99      0.99      1135\n",
            "           2       0.97      0.98      0.98      1032\n",
            "           3       0.96      1.00      0.98      1010\n",
            "           4       0.98      0.97      0.98       982\n",
            "           5       0.99      0.96      0.98       892\n",
            "           6       0.99      0.98      0.99       958\n",
            "           7       0.96      0.98      0.97      1028\n",
            "           8       0.98      0.99      0.99       974\n",
            "           9       0.98      0.96      0.97      1009\n",
            "\n",
            "    accuracy                           0.98     10000\n",
            "   macro avg       0.98      0.98      0.98     10000\n",
            "weighted avg       0.98      0.98      0.98     10000\n",
            "\n"
          ]
        },
        {
          "output_type": "display_data",
          "data": {
            "text/plain": [
              "<IPython.core.display.HTML object>"
            ],
            "text/html": [
              "Waiting for W&B process to finish... <strong style=\"color:green\">(success).</strong>"
            ]
          },
          "metadata": {}
        },
        {
          "output_type": "display_data",
          "data": {
            "text/plain": [
              "<IPython.core.display.HTML object>"
            ],
            "text/html": [
              "<style>\n",
              "    table.wandb td:nth-child(1) { padding: 0 10px; text-align: left ; width: auto;} td:nth-child(2) {text-align: left ; width: 100%}\n",
              "    .wandb-row { display: flex; flex-direction: row; flex-wrap: wrap; justify-content: flex-start; width: 100% }\n",
              "    .wandb-col { display: flex; flex-direction: column; flex-basis: 100%; flex: 1; padding: 10px; }\n",
              "    </style>\n",
              "<div class=\"wandb-row\"><div class=\"wandb-col\"><h3>Run history:</h3><br/><table class=\"wandb\"><tr><td>accuracy</td><td>▁▆▆▇▇▇▇▇██████████████████████</td></tr><tr><td>epoch</td><td>▁▁▁▂▂▂▂▃▃▃▃▄▄▄▄▅▅▅▅▆▆▆▆▇▇▇▇███</td></tr><tr><td>loss</td><td>█▄▃▂▂▂▂▂▂▁▁▁▁▁▁▁▁▁▁▁▁▁▁▁▁▁▁▁▁▁</td></tr><tr><td>val_accuracy</td><td>▁▄▆▆▆▆▆▇▇▇▇▇█▇▇▇▇▇███▇▇████▇██</td></tr><tr><td>val_loss</td><td>█▄▂▃▃▃▂▂▂▂▂▁▂▂▂▂▁▂▁▁▁▂▂▂▁▁▁▂▁▁</td></tr></table><br/></div><div class=\"wandb-col\"><h3>Run summary:</h3><br/><table class=\"wandb\"><tr><td>Acc</td><td>0.9804</td></tr><tr><td>CO2_Emissions</td><td>0.00608</td></tr><tr><td>Count_Params</td><td>61706</td></tr><tr><td>Energy_CPU</td><td>0.00759</td></tr><tr><td>Energy_Consumed</td><td>0.01342</td></tr><tr><td>Energy_GPU</td><td>0.00499</td></tr><tr><td>Energy_RAM</td><td>0.00085</td></tr><tr><td>F1</td><td>0.9804</td></tr><tr><td>GFLOPs</td><td>0.00042</td></tr><tr><td>Precision</td><td>0.98058</td></tr><tr><td>Recall</td><td>0.9804</td></tr><tr><td>accuracy</td><td>0.9336</td></tr><tr><td>best_epoch</td><td>25</td></tr><tr><td>best_val_loss</td><td>0.05823</td></tr><tr><td>epoch</td><td>29</td></tr><tr><td>loss</td><td>0.23447</td></tr><tr><td>val_accuracy</td><td>0.9804</td></tr><tr><td>val_loss</td><td>0.06787</td></tr></table><br/></div></div>"
            ]
          },
          "metadata": {}
        },
        {
          "output_type": "display_data",
          "data": {
            "text/plain": [
              "<IPython.core.display.HTML object>"
            ],
            "text/html": [
              "Synced <strong style=\"color:#cdcd00\">vocal-sweep-4</strong>: <a href=\"https://wandb.ai/morsinaldo/lenet-5/runs/3z3uud5o\" target=\"_blank\">https://wandb.ai/morsinaldo/lenet-5/runs/3z3uud5o</a><br/>Synced 5 W&B file(s), 0 media file(s), 0 artifact file(s) and 0 other file(s)"
            ]
          },
          "metadata": {}
        },
        {
          "output_type": "display_data",
          "data": {
            "text/plain": [
              "<IPython.core.display.HTML object>"
            ],
            "text/html": [
              "Find logs at: <code>./wandb/run-20221021_112034-3z3uud5o/logs</code>"
            ]
          },
          "metadata": {}
        },
        {
          "output_type": "stream",
          "name": "stderr",
          "text": [
            "\u001b[34m\u001b[1mwandb\u001b[0m: Agent Starting Run: 2dkykiqt with config:\n",
            "\u001b[34m\u001b[1mwandb\u001b[0m: \tactivation: relu\n",
            "\u001b[34m\u001b[1mwandb\u001b[0m: \tbatch_norm: True\n",
            "\u001b[34m\u001b[1mwandb\u001b[0m: \tbatch_size: 32\n",
            "\u001b[34m\u001b[1mwandb\u001b[0m: \tconv_layer: 2\n",
            "\u001b[34m\u001b[1mwandb\u001b[0m: \tdropout: 0.5\n",
            "\u001b[34m\u001b[1mwandb\u001b[0m: \tepoch: 15\n",
            "\u001b[34m\u001b[1mwandb\u001b[0m: \theight_shift: 0.1\n",
            "\u001b[34m\u001b[1mwandb\u001b[0m: \tlearn_rate: 0.005\n",
            "\u001b[34m\u001b[1mwandb\u001b[0m: \trotation: 30\n",
            "\u001b[34m\u001b[1mwandb\u001b[0m: \tshear: 0.3\n",
            "\u001b[34m\u001b[1mwandb\u001b[0m: \twidth_shift: 0.3\n",
            "\u001b[34m\u001b[1mwandb\u001b[0m: \tzoom: 0.1\n",
            "Failed to detect the name of this notebook, you can set it manually with the WANDB_NOTEBOOK_NAME environment variable to enable code saving.\n"
          ]
        },
        {
          "output_type": "display_data",
          "data": {
            "text/plain": [
              "<IPython.core.display.HTML object>"
            ],
            "text/html": [
              "Tracking run with wandb version 0.13.4"
            ]
          },
          "metadata": {}
        },
        {
          "output_type": "display_data",
          "data": {
            "text/plain": [
              "<IPython.core.display.HTML object>"
            ],
            "text/html": [
              "Run data is saved locally in <code>/content/wandb/run-20221021_113133-2dkykiqt</code>"
            ]
          },
          "metadata": {}
        },
        {
          "output_type": "display_data",
          "data": {
            "text/plain": [
              "<IPython.core.display.HTML object>"
            ],
            "text/html": [
              "Syncing run <strong><a href=\"https://wandb.ai/morsinaldo/lenet-5/runs/2dkykiqt\" target=\"_blank\">earthy-sweep-5</a></strong> to <a href=\"https://wandb.ai/morsinaldo/lenet-5\" target=\"_blank\">Weights & Biases</a> (<a href=\"https://wandb.me/run\" target=\"_blank\">docs</a>)<br/>Sweep page:  <a href=\"https://wandb.ai/morsinaldo/lenet-5/sweeps/qfcxxivp\" target=\"_blank\">https://wandb.ai/morsinaldo/lenet-5/sweeps/qfcxxivp</a>"
            ]
          },
          "metadata": {}
        },
        {
          "output_type": "stream",
          "name": "stderr",
          "text": [
            "21-10-2022 11:31:37 [INFO] compiling model...\n",
            "21-10-2022 11:31:37 [INFO] training network...\n"
          ]
        },
        {
          "output_type": "stream",
          "name": "stdout",
          "text": [
            "[INFO] evaluating network...\n",
            "313/313 [==============================] - 1s 2ms/step\n"
          ]
        },
        {
          "output_type": "stream",
          "name": "stderr",
          "text": [
            "21-10-2022 11:37:10 Validation Evaluation metrics\n",
            "21-10-2022 11:37:10 Validation Accuracy: 0.9652\n",
            "21-10-2022 11:37:10 Validation Precision: 0.9660507660517437\n",
            "21-10-2022 11:37:10 Validation Recall: 0.9652\n",
            "21-10-2022 11:37:10 Validation F1: 0.9653313252687802\n"
          ]
        },
        {
          "output_type": "stream",
          "name": "stdout",
          "text": [
            "              precision    recall  f1-score   support\n",
            "\n",
            "           0       1.00      0.96      0.98       980\n",
            "           1       1.00      0.97      0.98      1135\n",
            "           2       0.95      0.94      0.95      1032\n",
            "           3       0.97      0.99      0.98      1010\n",
            "           4       0.97      0.97      0.97       982\n",
            "           5       0.95      0.98      0.97       892\n",
            "           6       0.98      0.97      0.98       958\n",
            "           7       0.91      0.98      0.94      1028\n",
            "           8       0.98      0.94      0.96       974\n",
            "           9       0.95      0.97      0.96      1009\n",
            "\n",
            "    accuracy                           0.97     10000\n",
            "   macro avg       0.97      0.97      0.97     10000\n",
            "weighted avg       0.97      0.97      0.97     10000\n",
            "\n"
          ]
        },
        {
          "output_type": "display_data",
          "data": {
            "text/plain": [
              "<IPython.core.display.HTML object>"
            ],
            "text/html": [
              "Waiting for W&B process to finish... <strong style=\"color:green\">(success).</strong>"
            ]
          },
          "metadata": {}
        },
        {
          "output_type": "display_data",
          "data": {
            "text/plain": [
              "VBox(children=(Label(value='0.000 MB of 0.000 MB uploaded (0.000 MB deduped)\\r'), FloatProgress(value=1.0, max…"
            ],
            "application/vnd.jupyter.widget-view+json": {
              "version_major": 2,
              "version_minor": 0,
              "model_id": "59fb911452bb47e7854e11367b587448"
            }
          },
          "metadata": {}
        },
        {
          "output_type": "display_data",
          "data": {
            "text/plain": [
              "<IPython.core.display.HTML object>"
            ],
            "text/html": [
              "<style>\n",
              "    table.wandb td:nth-child(1) { padding: 0 10px; text-align: left ; width: auto;} td:nth-child(2) {text-align: left ; width: 100%}\n",
              "    .wandb-row { display: flex; flex-direction: row; flex-wrap: wrap; justify-content: flex-start; width: 100% }\n",
              "    .wandb-col { display: flex; flex-direction: column; flex-basis: 100%; flex: 1; padding: 10px; }\n",
              "    </style>\n",
              "<div class=\"wandb-row\"><div class=\"wandb-col\"><h3>Run history:</h3><br/><table class=\"wandb\"><tr><td>accuracy</td><td>▁▅▆▆▇▇▇████████</td></tr><tr><td>epoch</td><td>▁▁▂▃▃▃▄▅▅▅▆▇▇▇█</td></tr><tr><td>loss</td><td>█▅▃▃▂▂▂▂▁▁▁▁▁▁▁</td></tr><tr><td>val_accuracy</td><td>▁▆▆▆▇▇█████████</td></tr><tr><td>val_loss</td><td>█▃▃▃▂▂▁▁▁▁▁▁▁▁▁</td></tr></table><br/></div><div class=\"wandb-col\"><h3>Run summary:</h3><br/><table class=\"wandb\"><tr><td>Acc</td><td>0.9652</td></tr><tr><td>CO2_Emissions</td><td>0.00316</td></tr><tr><td>Count_Params</td><td>62676</td></tr><tr><td>Energy_CPU</td><td>0.00393</td></tr><tr><td>Energy_Consumed</td><td>0.00698</td></tr><tr><td>Energy_GPU</td><td>0.00261</td></tr><tr><td>Energy_RAM</td><td>0.00044</td></tr><tr><td>F1</td><td>0.96533</td></tr><tr><td>GFLOPs</td><td>0.00113</td></tr><tr><td>Precision</td><td>0.96605</td></tr><tr><td>Recall</td><td>0.9652</td></tr><tr><td>accuracy</td><td>0.89908</td></tr><tr><td>best_epoch</td><td>12</td></tr><tr><td>best_val_loss</td><td>0.11086</td></tr><tr><td>epoch</td><td>14</td></tr><tr><td>loss</td><td>0.36854</td></tr><tr><td>val_accuracy</td><td>0.9652</td></tr><tr><td>val_loss</td><td>0.12204</td></tr></table><br/></div></div>"
            ]
          },
          "metadata": {}
        },
        {
          "output_type": "display_data",
          "data": {
            "text/plain": [
              "<IPython.core.display.HTML object>"
            ],
            "text/html": [
              "Synced <strong style=\"color:#cdcd00\">earthy-sweep-5</strong>: <a href=\"https://wandb.ai/morsinaldo/lenet-5/runs/2dkykiqt\" target=\"_blank\">https://wandb.ai/morsinaldo/lenet-5/runs/2dkykiqt</a><br/>Synced 5 W&B file(s), 0 media file(s), 0 artifact file(s) and 0 other file(s)"
            ]
          },
          "metadata": {}
        },
        {
          "output_type": "display_data",
          "data": {
            "text/plain": [
              "<IPython.core.display.HTML object>"
            ],
            "text/html": [
              "Find logs at: <code>./wandb/run-20221021_113133-2dkykiqt/logs</code>"
            ]
          },
          "metadata": {}
        },
        {
          "output_type": "stream",
          "name": "stderr",
          "text": [
            "\u001b[34m\u001b[1mwandb\u001b[0m: Agent Starting Run: jn4i8qas with config:\n",
            "\u001b[34m\u001b[1mwandb\u001b[0m: \tactivation: relu\n",
            "\u001b[34m\u001b[1mwandb\u001b[0m: \tbatch_norm: True\n",
            "\u001b[34m\u001b[1mwandb\u001b[0m: \tbatch_size: 32\n",
            "\u001b[34m\u001b[1mwandb\u001b[0m: \tconv_layer: 1\n",
            "\u001b[34m\u001b[1mwandb\u001b[0m: \tdropout: 0.25\n",
            "\u001b[34m\u001b[1mwandb\u001b[0m: \tepoch: 15\n",
            "\u001b[34m\u001b[1mwandb\u001b[0m: \theight_shift: 0.1\n",
            "\u001b[34m\u001b[1mwandb\u001b[0m: \tlearn_rate: 0.001\n",
            "\u001b[34m\u001b[1mwandb\u001b[0m: \trotation: 0\n",
            "\u001b[34m\u001b[1mwandb\u001b[0m: \tshear: 0.2\n",
            "\u001b[34m\u001b[1mwandb\u001b[0m: \twidth_shift: 0.2\n",
            "\u001b[34m\u001b[1mwandb\u001b[0m: \tzoom: 0.2\n",
            "Failed to detect the name of this notebook, you can set it manually with the WANDB_NOTEBOOK_NAME environment variable to enable code saving.\n"
          ]
        },
        {
          "output_type": "display_data",
          "data": {
            "text/plain": [
              "<IPython.core.display.HTML object>"
            ],
            "text/html": [
              "Tracking run with wandb version 0.13.4"
            ]
          },
          "metadata": {}
        },
        {
          "output_type": "display_data",
          "data": {
            "text/plain": [
              "<IPython.core.display.HTML object>"
            ],
            "text/html": [
              "Run data is saved locally in <code>/content/wandb/run-20221021_113721-jn4i8qas</code>"
            ]
          },
          "metadata": {}
        },
        {
          "output_type": "display_data",
          "data": {
            "text/plain": [
              "<IPython.core.display.HTML object>"
            ],
            "text/html": [
              "Syncing run <strong><a href=\"https://wandb.ai/morsinaldo/lenet-5/runs/jn4i8qas\" target=\"_blank\">robust-sweep-6</a></strong> to <a href=\"https://wandb.ai/morsinaldo/lenet-5\" target=\"_blank\">Weights & Biases</a> (<a href=\"https://wandb.me/run\" target=\"_blank\">docs</a>)<br/>Sweep page:  <a href=\"https://wandb.ai/morsinaldo/lenet-5/sweeps/qfcxxivp\" target=\"_blank\">https://wandb.ai/morsinaldo/lenet-5/sweeps/qfcxxivp</a>"
            ]
          },
          "metadata": {}
        },
        {
          "output_type": "stream",
          "name": "stderr",
          "text": [
            "21-10-2022 11:37:25 [INFO] compiling model...\n",
            "21-10-2022 11:37:25 [INFO] training network...\n"
          ]
        },
        {
          "output_type": "stream",
          "name": "stdout",
          "text": [
            "[INFO] evaluating network...\n",
            "313/313 [==============================] - 1s 2ms/step\n"
          ]
        },
        {
          "output_type": "stream",
          "name": "stderr",
          "text": [
            "21-10-2022 11:42:34 Validation Evaluation metrics\n"
          ]
        },
        {
          "output_type": "stream",
          "name": "stdout",
          "text": [
            "              precision    recall  f1-score   support\n",
            "\n",
            "           0       0.99      0.99      0.99       980\n",
            "           1       1.00      0.99      0.99      1135\n",
            "           2       0.99      0.99      0.99      1032\n",
            "           3       0.99      0.99      0.99      1010\n",
            "           4       0.99      0.99      0.99       982\n",
            "           5       0.98      0.99      0.98       892\n",
            "           6       0.99      0.98      0.99       958\n",
            "           7       0.97      0.99      0.98      1028\n",
            "           8       0.97      1.00      0.98       974\n",
            "           9       0.99      0.96      0.97      1009\n",
            "\n",
            "    accuracy                           0.99     10000\n",
            "   macro avg       0.99      0.99      0.99     10000\n",
            "weighted avg       0.99      0.99      0.99     10000\n",
            "\n"
          ]
        },
        {
          "output_type": "stream",
          "name": "stderr",
          "text": [
            "21-10-2022 11:42:34 Validation Accuracy: 0.9866\n",
            "21-10-2022 11:42:34 Validation Precision: 0.9867483522175496\n",
            "21-10-2022 11:42:34 Validation Recall: 0.9866\n",
            "21-10-2022 11:42:34 Validation F1: 0.986594019701575\n"
          ]
        },
        {
          "output_type": "display_data",
          "data": {
            "text/plain": [
              "<IPython.core.display.HTML object>"
            ],
            "text/html": [
              "Waiting for W&B process to finish... <strong style=\"color:green\">(success).</strong>"
            ]
          },
          "metadata": {}
        },
        {
          "output_type": "display_data",
          "data": {
            "text/plain": [
              "<IPython.core.display.HTML object>"
            ],
            "text/html": [
              "<style>\n",
              "    table.wandb td:nth-child(1) { padding: 0 10px; text-align: left ; width: auto;} td:nth-child(2) {text-align: left ; width: 100%}\n",
              "    .wandb-row { display: flex; flex-direction: row; flex-wrap: wrap; justify-content: flex-start; width: 100% }\n",
              "    .wandb-col { display: flex; flex-direction: column; flex-basis: 100%; flex: 1; padding: 10px; }\n",
              "    </style>\n",
              "<div class=\"wandb-row\"><div class=\"wandb-col\"><h3>Run history:</h3><br/><table class=\"wandb\"><tr><td>accuracy</td><td>▁▆▇▇▇██████████</td></tr><tr><td>epoch</td><td>▁▁▂▃▃▃▄▅▅▅▆▇▇▇█</td></tr><tr><td>loss</td><td>█▃▂▂▂▂▁▁▁▁▁▁▁▁▁</td></tr><tr><td>val_accuracy</td><td>▁▃▆▆▆▇▇▇▆▇▇███▇</td></tr><tr><td>val_loss</td><td>█▅▃▃▃▂▂▂▃▂▂▁▁▁▂</td></tr></table><br/></div><div class=\"wandb-col\"><h3>Run summary:</h3><br/><table class=\"wandb\"><tr><td>Acc</td><td>0.9866</td></tr><tr><td>CO2_Emissions</td><td>0.00292</td></tr><tr><td>Count_Params</td><td>61770</td></tr><tr><td>Energy_CPU</td><td>0.00364</td></tr><tr><td>Energy_Consumed</td><td>0.00644</td></tr><tr><td>Energy_GPU</td><td>0.0024</td></tr><tr><td>Energy_RAM</td><td>0.00041</td></tr><tr><td>F1</td><td>0.98659</td></tr><tr><td>GFLOPs</td><td>0.00042</td></tr><tr><td>Precision</td><td>0.98675</td></tr><tr><td>Recall</td><td>0.9866</td></tr><tr><td>accuracy</td><td>0.97658</td></tr><tr><td>best_epoch</td><td>11</td></tr><tr><td>best_val_loss</td><td>0.0317</td></tr><tr><td>epoch</td><td>14</td></tr><tr><td>loss</td><td>0.07947</td></tr><tr><td>val_accuracy</td><td>0.9866</td></tr><tr><td>val_loss</td><td>0.04351</td></tr></table><br/></div></div>"
            ]
          },
          "metadata": {}
        },
        {
          "output_type": "display_data",
          "data": {
            "text/plain": [
              "<IPython.core.display.HTML object>"
            ],
            "text/html": [
              "Synced <strong style=\"color:#cdcd00\">robust-sweep-6</strong>: <a href=\"https://wandb.ai/morsinaldo/lenet-5/runs/jn4i8qas\" target=\"_blank\">https://wandb.ai/morsinaldo/lenet-5/runs/jn4i8qas</a><br/>Synced 5 W&B file(s), 0 media file(s), 0 artifact file(s) and 0 other file(s)"
            ]
          },
          "metadata": {}
        },
        {
          "output_type": "display_data",
          "data": {
            "text/plain": [
              "<IPython.core.display.HTML object>"
            ],
            "text/html": [
              "Find logs at: <code>./wandb/run-20221021_113721-jn4i8qas/logs</code>"
            ]
          },
          "metadata": {}
        },
        {
          "output_type": "stream",
          "name": "stderr",
          "text": [
            "\u001b[34m\u001b[1mwandb\u001b[0m: Agent Starting Run: vaxsxe36 with config:\n",
            "\u001b[34m\u001b[1mwandb\u001b[0m: \tactivation: relu\n",
            "\u001b[34m\u001b[1mwandb\u001b[0m: \tbatch_norm: False\n",
            "\u001b[34m\u001b[1mwandb\u001b[0m: \tbatch_size: 64\n",
            "\u001b[34m\u001b[1mwandb\u001b[0m: \tconv_layer: 1\n",
            "\u001b[34m\u001b[1mwandb\u001b[0m: \tdropout: 0.5\n",
            "\u001b[34m\u001b[1mwandb\u001b[0m: \tepoch: 30\n",
            "\u001b[34m\u001b[1mwandb\u001b[0m: \theight_shift: 0.3\n",
            "\u001b[34m\u001b[1mwandb\u001b[0m: \tlearn_rate: 0.001\n",
            "\u001b[34m\u001b[1mwandb\u001b[0m: \trotation: 0\n",
            "\u001b[34m\u001b[1mwandb\u001b[0m: \tshear: 0.3\n",
            "\u001b[34m\u001b[1mwandb\u001b[0m: \twidth_shift: 0.3\n",
            "\u001b[34m\u001b[1mwandb\u001b[0m: \tzoom: 0.1\n"
          ]
        },
        {
          "output_type": "display_data",
          "data": {
            "text/plain": [
              "<IPython.core.display.HTML object>"
            ],
            "text/html": [
              "Tracking run with wandb version 0.13.4"
            ]
          },
          "metadata": {}
        },
        {
          "output_type": "display_data",
          "data": {
            "text/plain": [
              "<IPython.core.display.HTML object>"
            ],
            "text/html": [
              "Run data is saved locally in <code>/content/wandb/run-20221021_114247-vaxsxe36</code>"
            ]
          },
          "metadata": {}
        },
        {
          "output_type": "display_data",
          "data": {
            "text/plain": [
              "<IPython.core.display.HTML object>"
            ],
            "text/html": [
              "Syncing run <strong><a href=\"https://wandb.ai/morsinaldo/lenet-5/runs/vaxsxe36\" target=\"_blank\">rosy-sweep-7</a></strong> to <a href=\"https://wandb.ai/morsinaldo/lenet-5\" target=\"_blank\">Weights & Biases</a> (<a href=\"https://wandb.me/run\" target=\"_blank\">docs</a>)<br/>Sweep page:  <a href=\"https://wandb.ai/morsinaldo/lenet-5/sweeps/qfcxxivp\" target=\"_blank\">https://wandb.ai/morsinaldo/lenet-5/sweeps/qfcxxivp</a>"
            ]
          },
          "metadata": {}
        },
        {
          "output_type": "stream",
          "name": "stderr",
          "text": [
            "21-10-2022 11:42:52 [INFO] compiling model...\n",
            "21-10-2022 11:42:52 [INFO] training network...\n"
          ]
        },
        {
          "output_type": "stream",
          "name": "stdout",
          "text": [
            "[INFO] evaluating network...\n",
            "313/313 [==============================] - 1s 2ms/step\n"
          ]
        },
        {
          "output_type": "stream",
          "name": "stderr",
          "text": [
            "21-10-2022 11:53:04 Validation Evaluation metrics\n"
          ]
        },
        {
          "output_type": "stream",
          "name": "stdout",
          "text": [
            "              precision    recall  f1-score   support\n",
            "\n",
            "           0       0.98      0.99      0.99       980\n",
            "           1       0.99      0.99      0.99      1135\n",
            "           2       0.97      0.99      0.98      1032\n",
            "           3       0.97      0.99      0.98      1010\n",
            "           4       0.97      0.99      0.98       982\n",
            "           5       0.99      0.97      0.98       892\n",
            "           6       0.99      0.97      0.98       958\n",
            "           7       0.98      0.98      0.98      1028\n",
            "           8       0.99      0.98      0.99       974\n",
            "           9       0.99      0.97      0.98      1009\n",
            "\n",
            "    accuracy                           0.98     10000\n",
            "   macro avg       0.98      0.98      0.98     10000\n",
            "weighted avg       0.98      0.98      0.98     10000\n",
            "\n"
          ]
        },
        {
          "output_type": "stream",
          "name": "stderr",
          "text": [
            "21-10-2022 11:53:04 Validation Accuracy: 0.9827\n",
            "21-10-2022 11:53:04 Validation Precision: 0.9828244907230074\n",
            "21-10-2022 11:53:05 Validation Recall: 0.9827\n",
            "21-10-2022 11:53:05 Validation F1: 0.9826986342549342\n"
          ]
        },
        {
          "output_type": "display_data",
          "data": {
            "text/plain": [
              "<IPython.core.display.HTML object>"
            ],
            "text/html": [
              "Waiting for W&B process to finish... <strong style=\"color:green\">(success).</strong>"
            ]
          },
          "metadata": {}
        },
        {
          "output_type": "display_data",
          "data": {
            "text/plain": [
              "<IPython.core.display.HTML object>"
            ],
            "text/html": [
              "<style>\n",
              "    table.wandb td:nth-child(1) { padding: 0 10px; text-align: left ; width: auto;} td:nth-child(2) {text-align: left ; width: 100%}\n",
              "    .wandb-row { display: flex; flex-direction: row; flex-wrap: wrap; justify-content: flex-start; width: 100% }\n",
              "    .wandb-col { display: flex; flex-direction: column; flex-basis: 100%; flex: 1; padding: 10px; }\n",
              "    </style>\n",
              "<div class=\"wandb-row\"><div class=\"wandb-col\"><h3>Run history:</h3><br/><table class=\"wandb\"><tr><td>accuracy</td><td>▁▆▇▇▇▇▇▇██████████████████████</td></tr><tr><td>epoch</td><td>▁▁▁▂▂▂▂▃▃▃▃▄▄▄▄▅▅▅▅▆▆▆▆▇▇▇▇███</td></tr><tr><td>loss</td><td>█▄▃▂▂▂▂▂▂▁▁▁▁▁▁▁▁▁▁▁▁▁▁▁▁▁▁▁▁▁</td></tr><tr><td>val_accuracy</td><td>▁▃▆▆▆▆▇▇▇▇█▇▇██▇▇██▇██████████</td></tr><tr><td>val_loss</td><td>█▅▃▃▂▃▂▂▂▁▁▂▂▁▁▂▂▁▁▂▁▁▁▁▁▂▁▁▁▁</td></tr></table><br/></div><div class=\"wandb-col\"><h3>Run summary:</h3><br/><table class=\"wandb\"><tr><td>Acc</td><td>0.9827</td></tr><tr><td>CO2_Emissions</td><td>0.00578</td></tr><tr><td>Count_Params</td><td>61706</td></tr><tr><td>Energy_CPU</td><td>0.00723</td></tr><tr><td>Energy_Consumed</td><td>0.01277</td></tr><tr><td>Energy_GPU</td><td>0.00474</td></tr><tr><td>Energy_RAM</td><td>0.00081</td></tr><tr><td>F1</td><td>0.9827</td></tr><tr><td>GFLOPs</td><td>0.00042</td></tr><tr><td>Precision</td><td>0.98282</td></tr><tr><td>Recall</td><td>0.9827</td></tr><tr><td>accuracy</td><td>0.95087</td></tr><tr><td>best_epoch</td><td>21</td></tr><tr><td>best_val_loss</td><td>0.05615</td></tr><tr><td>epoch</td><td>29</td></tr><tr><td>loss</td><td>0.17683</td></tr><tr><td>val_accuracy</td><td>0.9827</td></tr><tr><td>val_loss</td><td>0.05783</td></tr></table><br/></div></div>"
            ]
          },
          "metadata": {}
        },
        {
          "output_type": "display_data",
          "data": {
            "text/plain": [
              "<IPython.core.display.HTML object>"
            ],
            "text/html": [
              "Synced <strong style=\"color:#cdcd00\">rosy-sweep-7</strong>: <a href=\"https://wandb.ai/morsinaldo/lenet-5/runs/vaxsxe36\" target=\"_blank\">https://wandb.ai/morsinaldo/lenet-5/runs/vaxsxe36</a><br/>Synced 5 W&B file(s), 0 media file(s), 0 artifact file(s) and 0 other file(s)"
            ]
          },
          "metadata": {}
        },
        {
          "output_type": "display_data",
          "data": {
            "text/plain": [
              "<IPython.core.display.HTML object>"
            ],
            "text/html": [
              "Find logs at: <code>./wandb/run-20221021_114247-vaxsxe36/logs</code>"
            ]
          },
          "metadata": {}
        },
        {
          "output_type": "stream",
          "name": "stderr",
          "text": [
            "\u001b[34m\u001b[1mwandb\u001b[0m: Agent Starting Run: f8cggox8 with config:\n",
            "\u001b[34m\u001b[1mwandb\u001b[0m: \tactivation: relu\n",
            "\u001b[34m\u001b[1mwandb\u001b[0m: \tbatch_norm: False\n",
            "\u001b[34m\u001b[1mwandb\u001b[0m: \tbatch_size: 32\n",
            "\u001b[34m\u001b[1mwandb\u001b[0m: \tconv_layer: 1\n",
            "\u001b[34m\u001b[1mwandb\u001b[0m: \tdropout: 0.25\n",
            "\u001b[34m\u001b[1mwandb\u001b[0m: \tepoch: 15\n",
            "\u001b[34m\u001b[1mwandb\u001b[0m: \theight_shift: 0.1\n",
            "\u001b[34m\u001b[1mwandb\u001b[0m: \tlearn_rate: 0.005\n",
            "\u001b[34m\u001b[1mwandb\u001b[0m: \trotation: 35\n",
            "\u001b[34m\u001b[1mwandb\u001b[0m: \tshear: 0.2\n",
            "\u001b[34m\u001b[1mwandb\u001b[0m: \twidth_shift: 0.1\n",
            "\u001b[34m\u001b[1mwandb\u001b[0m: \tzoom: 0.2\n",
            "Failed to detect the name of this notebook, you can set it manually with the WANDB_NOTEBOOK_NAME environment variable to enable code saving.\n"
          ]
        },
        {
          "output_type": "display_data",
          "data": {
            "text/plain": [
              "<IPython.core.display.HTML object>"
            ],
            "text/html": [
              "Tracking run with wandb version 0.13.4"
            ]
          },
          "metadata": {}
        },
        {
          "output_type": "display_data",
          "data": {
            "text/plain": [
              "<IPython.core.display.HTML object>"
            ],
            "text/html": [
              "Run data is saved locally in <code>/content/wandb/run-20221021_115316-f8cggox8</code>"
            ]
          },
          "metadata": {}
        },
        {
          "output_type": "display_data",
          "data": {
            "text/plain": [
              "<IPython.core.display.HTML object>"
            ],
            "text/html": [
              "Syncing run <strong><a href=\"https://wandb.ai/morsinaldo/lenet-5/runs/f8cggox8\" target=\"_blank\">swift-sweep-8</a></strong> to <a href=\"https://wandb.ai/morsinaldo/lenet-5\" target=\"_blank\">Weights & Biases</a> (<a href=\"https://wandb.me/run\" target=\"_blank\">docs</a>)<br/>Sweep page:  <a href=\"https://wandb.ai/morsinaldo/lenet-5/sweeps/qfcxxivp\" target=\"_blank\">https://wandb.ai/morsinaldo/lenet-5/sweeps/qfcxxivp</a>"
            ]
          },
          "metadata": {}
        },
        {
          "output_type": "stream",
          "name": "stderr",
          "text": [
            "21-10-2022 11:53:20 [INFO] compiling model...\n",
            "21-10-2022 11:53:20 [INFO] training network...\n"
          ]
        },
        {
          "output_type": "stream",
          "name": "stdout",
          "text": [
            "[INFO] evaluating network...\n",
            "313/313 [==============================] - 1s 2ms/step\n"
          ]
        },
        {
          "output_type": "stream",
          "name": "stderr",
          "text": [
            "21-10-2022 11:58:40 Validation Evaluation metrics\n"
          ]
        },
        {
          "output_type": "stream",
          "name": "stdout",
          "text": [
            "              precision    recall  f1-score   support\n",
            "\n",
            "           0       0.99      0.99      0.99       980\n",
            "           1       0.99      0.99      0.99      1135\n",
            "           2       0.96      0.99      0.98      1032\n",
            "           3       0.99      0.98      0.99      1010\n",
            "           4       0.98      0.98      0.98       982\n",
            "           5       0.99      0.98      0.99       892\n",
            "           6       0.99      0.99      0.99       958\n",
            "           7       0.97      0.97      0.97      1028\n",
            "           8       0.98      0.98      0.98       974\n",
            "           9       0.99      0.96      0.97      1009\n",
            "\n",
            "    accuracy                           0.98     10000\n",
            "   macro avg       0.98      0.98      0.98     10000\n",
            "weighted avg       0.98      0.98      0.98     10000\n",
            "\n"
          ]
        },
        {
          "output_type": "stream",
          "name": "stderr",
          "text": [
            "21-10-2022 11:58:40 Validation Accuracy: 0.9832\n",
            "21-10-2022 11:58:40 Validation Precision: 0.983272014503864\n",
            "21-10-2022 11:58:40 Validation Recall: 0.9832\n",
            "21-10-2022 11:58:40 Validation F1: 0.9832006189742702\n"
          ]
        },
        {
          "output_type": "display_data",
          "data": {
            "text/plain": [
              "<IPython.core.display.HTML object>"
            ],
            "text/html": [
              "Waiting for W&B process to finish... <strong style=\"color:green\">(success).</strong>"
            ]
          },
          "metadata": {}
        },
        {
          "output_type": "display_data",
          "data": {
            "text/plain": [
              "<IPython.core.display.HTML object>"
            ],
            "text/html": [
              "<style>\n",
              "    table.wandb td:nth-child(1) { padding: 0 10px; text-align: left ; width: auto;} td:nth-child(2) {text-align: left ; width: 100%}\n",
              "    .wandb-row { display: flex; flex-direction: row; flex-wrap: wrap; justify-content: flex-start; width: 100% }\n",
              "    .wandb-col { display: flex; flex-direction: column; flex-basis: 100%; flex: 1; padding: 10px; }\n",
              "    </style>\n",
              "<div class=\"wandb-row\"><div class=\"wandb-col\"><h3>Run history:</h3><br/><table class=\"wandb\"><tr><td>accuracy</td><td>▁▆▇▇▇██████████</td></tr><tr><td>epoch</td><td>▁▁▂▃▃▃▄▅▅▅▆▇▇▇█</td></tr><tr><td>loss</td><td>█▃▂▂▂▁▁▁▁▁▁▁▁▁▁</td></tr><tr><td>val_accuracy</td><td>▄▂▄▅▂▆▆▇▆▂█▁▅▅█</td></tr><tr><td>val_loss</td><td>▄▅▄▃▅▂▂▂▁▅▁█▄▄▁</td></tr></table><br/></div><div class=\"wandb-col\"><h3>Run summary:</h3><br/><table class=\"wandb\"><tr><td>Acc</td><td>0.9832</td></tr><tr><td>CO2_Emissions</td><td>0.003</td></tr><tr><td>Count_Params</td><td>61706</td></tr><tr><td>Energy_CPU</td><td>0.00378</td></tr><tr><td>Energy_Consumed</td><td>0.00662</td></tr><tr><td>Energy_GPU</td><td>0.00242</td></tr><tr><td>Energy_RAM</td><td>0.00042</td></tr><tr><td>F1</td><td>0.9832</td></tr><tr><td>GFLOPs</td><td>0.00042</td></tr><tr><td>Precision</td><td>0.98327</td></tr><tr><td>Recall</td><td>0.9832</td></tr><tr><td>accuracy</td><td>0.94378</td></tr><tr><td>best_epoch</td><td>10</td></tr><tr><td>best_val_loss</td><td>0.06002</td></tr><tr><td>epoch</td><td>14</td></tr><tr><td>loss</td><td>0.21135</td></tr><tr><td>val_accuracy</td><td>0.9832</td></tr><tr><td>val_loss</td><td>0.06239</td></tr></table><br/></div></div>"
            ]
          },
          "metadata": {}
        },
        {
          "output_type": "display_data",
          "data": {
            "text/plain": [
              "<IPython.core.display.HTML object>"
            ],
            "text/html": [
              "Synced <strong style=\"color:#cdcd00\">swift-sweep-8</strong>: <a href=\"https://wandb.ai/morsinaldo/lenet-5/runs/f8cggox8\" target=\"_blank\">https://wandb.ai/morsinaldo/lenet-5/runs/f8cggox8</a><br/>Synced 5 W&B file(s), 0 media file(s), 0 artifact file(s) and 0 other file(s)"
            ]
          },
          "metadata": {}
        },
        {
          "output_type": "display_data",
          "data": {
            "text/plain": [
              "<IPython.core.display.HTML object>"
            ],
            "text/html": [
              "Find logs at: <code>./wandb/run-20221021_115316-f8cggox8/logs</code>"
            ]
          },
          "metadata": {}
        },
        {
          "output_type": "stream",
          "name": "stderr",
          "text": [
            "\u001b[34m\u001b[1mwandb\u001b[0m: Agent Starting Run: pz2p5om2 with config:\n",
            "\u001b[34m\u001b[1mwandb\u001b[0m: \tactivation: relu\n",
            "\u001b[34m\u001b[1mwandb\u001b[0m: \tbatch_norm: False\n",
            "\u001b[34m\u001b[1mwandb\u001b[0m: \tbatch_size: 32\n",
            "\u001b[34m\u001b[1mwandb\u001b[0m: \tconv_layer: 2\n",
            "\u001b[34m\u001b[1mwandb\u001b[0m: \tdropout: 0\n",
            "\u001b[34m\u001b[1mwandb\u001b[0m: \tepoch: 30\n",
            "\u001b[34m\u001b[1mwandb\u001b[0m: \theight_shift: 0.1\n",
            "\u001b[34m\u001b[1mwandb\u001b[0m: \tlearn_rate: 0.001\n",
            "\u001b[34m\u001b[1mwandb\u001b[0m: \trotation: 0\n",
            "\u001b[34m\u001b[1mwandb\u001b[0m: \tshear: 0.3\n",
            "\u001b[34m\u001b[1mwandb\u001b[0m: \twidth_shift: 0.1\n",
            "\u001b[34m\u001b[1mwandb\u001b[0m: \tzoom: 0.2\n",
            "Failed to detect the name of this notebook, you can set it manually with the WANDB_NOTEBOOK_NAME environment variable to enable code saving.\n"
          ]
        },
        {
          "output_type": "display_data",
          "data": {
            "text/plain": [
              "<IPython.core.display.HTML object>"
            ],
            "text/html": [
              "Tracking run with wandb version 0.13.4"
            ]
          },
          "metadata": {}
        },
        {
          "output_type": "display_data",
          "data": {
            "text/plain": [
              "<IPython.core.display.HTML object>"
            ],
            "text/html": [
              "Run data is saved locally in <code>/content/wandb/run-20221021_115851-pz2p5om2</code>"
            ]
          },
          "metadata": {}
        },
        {
          "output_type": "display_data",
          "data": {
            "text/plain": [
              "<IPython.core.display.HTML object>"
            ],
            "text/html": [
              "Syncing run <strong><a href=\"https://wandb.ai/morsinaldo/lenet-5/runs/pz2p5om2\" target=\"_blank\">bright-sweep-9</a></strong> to <a href=\"https://wandb.ai/morsinaldo/lenet-5\" target=\"_blank\">Weights & Biases</a> (<a href=\"https://wandb.me/run\" target=\"_blank\">docs</a>)<br/>Sweep page:  <a href=\"https://wandb.ai/morsinaldo/lenet-5/sweeps/qfcxxivp\" target=\"_blank\">https://wandb.ai/morsinaldo/lenet-5/sweeps/qfcxxivp</a>"
            ]
          },
          "metadata": {}
        },
        {
          "output_type": "stream",
          "name": "stderr",
          "text": [
            "21-10-2022 11:58:56 [INFO] compiling model...\n",
            "21-10-2022 11:58:56 [INFO] training network...\n"
          ]
        },
        {
          "output_type": "stream",
          "name": "stdout",
          "text": [
            "[INFO] evaluating network...\n",
            "313/313 [==============================] - 1s 2ms/step\n"
          ]
        },
        {
          "output_type": "stream",
          "name": "stderr",
          "text": [
            "21-10-2022 12:09:38 Validation Evaluation metrics\n",
            "21-10-2022 12:09:38 Validation Accuracy: 0.9931\n",
            "21-10-2022 12:09:38 Validation Precision: 0.9931176756286033\n",
            "21-10-2022 12:09:38 Validation Recall: 0.9931\n",
            "21-10-2022 12:09:38 Validation F1: 0.9931024931343025\n"
          ]
        },
        {
          "output_type": "stream",
          "name": "stdout",
          "text": [
            "              precision    recall  f1-score   support\n",
            "\n",
            "           0       1.00      1.00      1.00       980\n",
            "           1       1.00      0.99      0.99      1135\n",
            "           2       0.99      1.00      1.00      1032\n",
            "           3       0.99      0.99      0.99      1010\n",
            "           4       0.99      0.99      0.99       982\n",
            "           5       0.98      0.99      0.99       892\n",
            "           6       0.99      1.00      0.99       958\n",
            "           7       0.99      0.99      0.99      1028\n",
            "           8       1.00      0.99      0.99       974\n",
            "           9       0.99      0.99      0.99      1009\n",
            "\n",
            "    accuracy                           0.99     10000\n",
            "   macro avg       0.99      0.99      0.99     10000\n",
            "weighted avg       0.99      0.99      0.99     10000\n",
            "\n"
          ]
        },
        {
          "output_type": "display_data",
          "data": {
            "text/plain": [
              "<IPython.core.display.HTML object>"
            ],
            "text/html": [
              "Waiting for W&B process to finish... <strong style=\"color:green\">(success).</strong>"
            ]
          },
          "metadata": {}
        },
        {
          "output_type": "display_data",
          "data": {
            "text/plain": [
              "<IPython.core.display.HTML object>"
            ],
            "text/html": [
              "<style>\n",
              "    table.wandb td:nth-child(1) { padding: 0 10px; text-align: left ; width: auto;} td:nth-child(2) {text-align: left ; width: 100%}\n",
              "    .wandb-row { display: flex; flex-direction: row; flex-wrap: wrap; justify-content: flex-start; width: 100% }\n",
              "    .wandb-col { display: flex; flex-direction: column; flex-basis: 100%; flex: 1; padding: 10px; }\n",
              "    </style>\n",
              "<div class=\"wandb-row\"><div class=\"wandb-col\"><h3>Run history:</h3><br/><table class=\"wandb\"><tr><td>accuracy</td><td>▁▆▇▇▇▇▇▇██████████████████████</td></tr><tr><td>epoch</td><td>▁▁▁▂▂▂▂▃▃▃▃▄▄▄▄▅▅▅▅▆▆▆▆▇▇▇▇███</td></tr><tr><td>loss</td><td>█▃▂▂▂▂▂▂▁▁▁▁▁▁▁▁▁▁▁▁▁▁▁▁▁▁▁▁▁▁</td></tr><tr><td>val_accuracy</td><td>▁▃▅▅▆▆▇▇▅▃▆▆█▇▆█▆▆▆▇▇█▇▇▇█▇██▇</td></tr><tr><td>val_loss</td><td>█▆▄▄▂▃▂▂▃▅▃▃▁▂▃▁▂▃▃▁▂▁▂▁▁▁▂▁▁▂</td></tr></table><br/></div><div class=\"wandb-col\"><h3>Run summary:</h3><br/><table class=\"wandb\"><tr><td>Acc</td><td>0.9931</td></tr><tr><td>CO2_Emissions</td><td>0.00602</td></tr><tr><td>Count_Params</td><td>62612</td></tr><tr><td>Energy_CPU</td><td>0.00756</td></tr><tr><td>Energy_Consumed</td><td>0.01329</td></tr><tr><td>Energy_GPU</td><td>0.00489</td></tr><tr><td>Energy_RAM</td><td>0.00084</td></tr><tr><td>F1</td><td>0.9931</td></tr><tr><td>GFLOPs</td><td>0.00113</td></tr><tr><td>Precision</td><td>0.99312</td></tr><tr><td>Recall</td><td>0.9931</td></tr><tr><td>accuracy</td><td>0.99133</td></tr><tr><td>best_epoch</td><td>21</td></tr><tr><td>best_val_loss</td><td>0.01979</td></tr><tr><td>epoch</td><td>29</td></tr><tr><td>loss</td><td>0.02922</td></tr><tr><td>val_accuracy</td><td>0.9931</td></tr><tr><td>val_loss</td><td>0.02313</td></tr></table><br/></div></div>"
            ]
          },
          "metadata": {}
        },
        {
          "output_type": "display_data",
          "data": {
            "text/plain": [
              "<IPython.core.display.HTML object>"
            ],
            "text/html": [
              "Synced <strong style=\"color:#cdcd00\">bright-sweep-9</strong>: <a href=\"https://wandb.ai/morsinaldo/lenet-5/runs/pz2p5om2\" target=\"_blank\">https://wandb.ai/morsinaldo/lenet-5/runs/pz2p5om2</a><br/>Synced 5 W&B file(s), 0 media file(s), 0 artifact file(s) and 0 other file(s)"
            ]
          },
          "metadata": {}
        },
        {
          "output_type": "display_data",
          "data": {
            "text/plain": [
              "<IPython.core.display.HTML object>"
            ],
            "text/html": [
              "Find logs at: <code>./wandb/run-20221021_115851-pz2p5om2/logs</code>"
            ]
          },
          "metadata": {}
        },
        {
          "output_type": "stream",
          "name": "stderr",
          "text": [
            "\u001b[34m\u001b[1mwandb\u001b[0m: Agent Starting Run: exzd90g6 with config:\n",
            "\u001b[34m\u001b[1mwandb\u001b[0m: \tactivation: relu\n",
            "\u001b[34m\u001b[1mwandb\u001b[0m: \tbatch_norm: True\n",
            "\u001b[34m\u001b[1mwandb\u001b[0m: \tbatch_size: 64\n",
            "\u001b[34m\u001b[1mwandb\u001b[0m: \tconv_layer: 2\n",
            "\u001b[34m\u001b[1mwandb\u001b[0m: \tdropout: 0.5\n",
            "\u001b[34m\u001b[1mwandb\u001b[0m: \tepoch: 15\n",
            "\u001b[34m\u001b[1mwandb\u001b[0m: \theight_shift: 0.2\n",
            "\u001b[34m\u001b[1mwandb\u001b[0m: \tlearn_rate: 0.001\n",
            "\u001b[34m\u001b[1mwandb\u001b[0m: \trotation: 30\n",
            "\u001b[34m\u001b[1mwandb\u001b[0m: \tshear: 0.1\n",
            "\u001b[34m\u001b[1mwandb\u001b[0m: \twidth_shift: 0.3\n",
            "\u001b[34m\u001b[1mwandb\u001b[0m: \tzoom: 0.3\n",
            "Failed to detect the name of this notebook, you can set it manually with the WANDB_NOTEBOOK_NAME environment variable to enable code saving.\n"
          ]
        },
        {
          "output_type": "display_data",
          "data": {
            "text/plain": [
              "<IPython.core.display.HTML object>"
            ],
            "text/html": [
              "Tracking run with wandb version 0.13.4"
            ]
          },
          "metadata": {}
        },
        {
          "output_type": "display_data",
          "data": {
            "text/plain": [
              "<IPython.core.display.HTML object>"
            ],
            "text/html": [
              "Run data is saved locally in <code>/content/wandb/run-20221021_120949-exzd90g6</code>"
            ]
          },
          "metadata": {}
        },
        {
          "output_type": "display_data",
          "data": {
            "text/plain": [
              "<IPython.core.display.HTML object>"
            ],
            "text/html": [
              "Syncing run <strong><a href=\"https://wandb.ai/morsinaldo/lenet-5/runs/exzd90g6\" target=\"_blank\">dandy-sweep-10</a></strong> to <a href=\"https://wandb.ai/morsinaldo/lenet-5\" target=\"_blank\">Weights & Biases</a> (<a href=\"https://wandb.me/run\" target=\"_blank\">docs</a>)<br/>Sweep page:  <a href=\"https://wandb.ai/morsinaldo/lenet-5/sweeps/qfcxxivp\" target=\"_blank\">https://wandb.ai/morsinaldo/lenet-5/sweeps/qfcxxivp</a>"
            ]
          },
          "metadata": {}
        },
        {
          "output_type": "stream",
          "name": "stderr",
          "text": [
            "21-10-2022 12:09:54 [INFO] compiling model...\n",
            "21-10-2022 12:09:54 [INFO] training network...\n"
          ]
        },
        {
          "output_type": "stream",
          "name": "stdout",
          "text": [
            "[INFO] evaluating network...\n",
            "313/313 [==============================] - 1s 2ms/step\n"
          ]
        },
        {
          "output_type": "stream",
          "name": "stderr",
          "text": [
            "21-10-2022 12:15:28 Validation Evaluation metrics\n",
            "21-10-2022 12:15:28 Validation Accuracy: 0.9785\n",
            "21-10-2022 12:15:28 Validation Precision: 0.9786279067649686\n",
            "21-10-2022 12:15:28 Validation Recall: 0.9785\n",
            "21-10-2022 12:15:28 Validation F1: 0.978517027828682\n"
          ]
        },
        {
          "output_type": "stream",
          "name": "stdout",
          "text": [
            "              precision    recall  f1-score   support\n",
            "\n",
            "           0       0.99      0.99      0.99       980\n",
            "           1       1.00      0.98      0.99      1135\n",
            "           2       0.96      0.99      0.97      1032\n",
            "           3       0.98      0.98      0.98      1010\n",
            "           4       0.99      0.97      0.98       982\n",
            "           5       0.98      0.97      0.98       892\n",
            "           6       0.98      0.98      0.98       958\n",
            "           7       0.97      0.97      0.97      1028\n",
            "           8       0.99      0.97      0.98       974\n",
            "           9       0.97      0.97      0.97      1009\n",
            "\n",
            "    accuracy                           0.98     10000\n",
            "   macro avg       0.98      0.98      0.98     10000\n",
            "weighted avg       0.98      0.98      0.98     10000\n",
            "\n"
          ]
        },
        {
          "output_type": "display_data",
          "data": {
            "text/plain": [
              "<IPython.core.display.HTML object>"
            ],
            "text/html": [
              "Waiting for W&B process to finish... <strong style=\"color:green\">(success).</strong>"
            ]
          },
          "metadata": {}
        },
        {
          "output_type": "display_data",
          "data": {
            "text/plain": [
              "<IPython.core.display.HTML object>"
            ],
            "text/html": [
              "<style>\n",
              "    table.wandb td:nth-child(1) { padding: 0 10px; text-align: left ; width: auto;} td:nth-child(2) {text-align: left ; width: 100%}\n",
              "    .wandb-row { display: flex; flex-direction: row; flex-wrap: wrap; justify-content: flex-start; width: 100% }\n",
              "    .wandb-col { display: flex; flex-direction: column; flex-basis: 100%; flex: 1; padding: 10px; }\n",
              "    </style>\n",
              "<div class=\"wandb-row\"><div class=\"wandb-col\"><h3>Run history:</h3><br/><table class=\"wandb\"><tr><td>accuracy</td><td>▁▅▆▇▇▇▇████████</td></tr><tr><td>epoch</td><td>▁▁▂▃▃▃▄▅▅▅▆▇▇▇█</td></tr><tr><td>loss</td><td>█▄▃▃▂▂▂▂▁▁▁▁▁▁▁</td></tr><tr><td>val_accuracy</td><td>▁▄▅▆▇▆▆▇▇▇▆▇█▇█</td></tr><tr><td>val_loss</td><td>█▄▃▂▂▃▂▂▂▂▃▂▁▁▁</td></tr></table><br/></div><div class=\"wandb-col\"><h3>Run summary:</h3><br/><table class=\"wandb\"><tr><td>Acc</td><td>0.9785</td></tr><tr><td>CO2_Emissions</td><td>0.00312</td></tr><tr><td>Count_Params</td><td>62676</td></tr><tr><td>Energy_CPU</td><td>0.00394</td></tr><tr><td>Energy_Consumed</td><td>0.0069</td></tr><tr><td>Energy_GPU</td><td>0.00252</td></tr><tr><td>Energy_RAM</td><td>0.00044</td></tr><tr><td>F1</td><td>0.97852</td></tr><tr><td>GFLOPs</td><td>0.00113</td></tr><tr><td>Precision</td><td>0.97863</td></tr><tr><td>Recall</td><td>0.9785</td></tr><tr><td>accuracy</td><td>0.89338</td></tr><tr><td>best_epoch</td><td>14</td></tr><tr><td>best_val_loss</td><td>0.06754</td></tr><tr><td>epoch</td><td>14</td></tr><tr><td>loss</td><td>0.37117</td></tr><tr><td>val_accuracy</td><td>0.9785</td></tr><tr><td>val_loss</td><td>0.06754</td></tr></table><br/></div></div>"
            ]
          },
          "metadata": {}
        },
        {
          "output_type": "display_data",
          "data": {
            "text/plain": [
              "<IPython.core.display.HTML object>"
            ],
            "text/html": [
              "Synced <strong style=\"color:#cdcd00\">dandy-sweep-10</strong>: <a href=\"https://wandb.ai/morsinaldo/lenet-5/runs/exzd90g6\" target=\"_blank\">https://wandb.ai/morsinaldo/lenet-5/runs/exzd90g6</a><br/>Synced 5 W&B file(s), 0 media file(s), 0 artifact file(s) and 0 other file(s)"
            ]
          },
          "metadata": {}
        },
        {
          "output_type": "display_data",
          "data": {
            "text/plain": [
              "<IPython.core.display.HTML object>"
            ],
            "text/html": [
              "Find logs at: <code>./wandb/run-20221021_120949-exzd90g6/logs</code>"
            ]
          },
          "metadata": {}
        }
      ],
      "source": [
        "# Initialize a new sweep\n",
        "# Arguments:\n",
        "#     – sweep_id: the sweep_id to run - this was returned above by wandb.sweep()\n",
        "#     – function: function that defines your model architecture and trains it\n",
        "wandb.agent(sweep_id = sweep_id, function=train, count=10)"
      ]
    },
    {
      "cell_type": "code",
      "execution_count": 30,
      "metadata": {
        "id": "rD8guezwH4_b"
      },
      "outputs": [],
      "source": [
        "run.finish()"
      ]
    },
    {
      "cell_type": "markdown",
      "metadata": {
        "id": "AvRHJJigAG5-"
      },
      "source": [
        "# Step 05: Train and Export the Best Model"
      ]
    },
    {
      "cell_type": "markdown",
      "metadata": {
        "id": "F6ZSUlVEBP8_"
      },
      "source": [
        "### Fetch, Processing and Data Segregation"
      ]
    },
    {
      "cell_type": "markdown",
      "source": [
        "**Important**: Disconnect and delete runtime to not link next experiment with sweep.\n",
        "\n",
        "`Runtime >> Disconnect and Delete Runtime`\n",
        "\n",
        "Run `Step 01: Setup` and `Step 05: Train and Export the Best Model`"
      ],
      "metadata": {
        "id": "ncJ5ksNiH9Rc"
      }
    },
    {
      "cell_type": "code",
      "execution_count": 8,
      "metadata": {
        "id": "qwZCTy20AF0h"
      },
      "outputs": [],
      "source": [
        "# since we are using Jupyter Notebooks we can replace our argument\n",
        "# parsing code with *hard coded* arguments and values\n",
        "args = {\n",
        "  \"project_name\": \"lenet-5\",\n",
        "  \"encoder\": \"target_encoder\",\n",
        "  \"inference_model\": \"best_model\"\n",
        "}"
      ]
    },
    {
      "cell_type": "code",
      "execution_count": 9,
      "metadata": {
        "id": "obl9UdchAdKo",
        "colab": {
          "base_uri": "https://localhost:8080/",
          "height": 87
        },
        "outputId": "ca330cbd-2592-4895-8a67-65048ddc68b7"
      },
      "outputs": [
        {
          "output_type": "stream",
          "name": "stderr",
          "text": [
            "\u001b[34m\u001b[1mwandb\u001b[0m: Currently logged in as: \u001b[33mmorsinaldo\u001b[0m. Use \u001b[1m`wandb login --relogin`\u001b[0m to force relogin\n"
          ]
        },
        {
          "output_type": "display_data",
          "data": {
            "text/plain": [
              "<IPython.core.display.HTML object>"
            ],
            "text/html": [
              "Tracking run with wandb version 0.13.4"
            ]
          },
          "metadata": {}
        },
        {
          "output_type": "display_data",
          "data": {
            "text/plain": [
              "<IPython.core.display.HTML object>"
            ],
            "text/html": [
              "Run data is saved locally in <code>/content/wandb/run-20221021_132327-87iedkj1</code>"
            ]
          },
          "metadata": {}
        },
        {
          "output_type": "display_data",
          "data": {
            "text/plain": [
              "<IPython.core.display.HTML object>"
            ],
            "text/html": [
              "Syncing run <strong><a href=\"https://wandb.ai/morsinaldo/lenet-5/runs/87iedkj1\" target=\"_blank\">blooming-water-4</a></strong> to <a href=\"https://wandb.ai/morsinaldo/lenet-5\" target=\"_blank\">Weights & Biases</a> (<a href=\"https://wandb.me/run\" target=\"_blank\">docs</a>)<br/>"
            ]
          },
          "metadata": {}
        }
      ],
      "source": [
        "# open the W&B project created in the Fetch step\n",
        "run = wandb.init(entity=\"morsinaldo\",\n",
        "                 project=args[\"project_name\"], \n",
        "                 job_type=\"Best_model\")"
      ]
    },
    {
      "cell_type": "code",
      "execution_count": 10,
      "metadata": {
        "id": "zNUKi5rGAysC",
        "colab": {
          "base_uri": "https://localhost:8080/"
        },
        "outputId": "d46ba6c1-0d39-4d31-cd53-2c88d3b58e00"
      },
      "outputs": [
        {
          "output_type": "stream",
          "name": "stderr",
          "text": [
            "21-10-2022 13:23:33 [INFO] accessing MNIST...\n"
          ]
        },
        {
          "output_type": "stream",
          "name": "stdout",
          "text": [
            "Downloading data from https://storage.googleapis.com/tensorflow/tf-keras-datasets/mnist.npz\n",
            "11490434/11490434 [==============================] - 0s 0us/step\n"
          ]
        },
        {
          "output_type": "stream",
          "name": "stderr",
          "text": [
            "21-10-2022 13:23:34 Train x: (60000, 28, 28, 1)\n",
            "21-10-2022 13:23:34 Train y: (60000,)\n",
            "21-10-2022 13:23:34 Test x: (10000, 28, 28, 1)\n",
            "21-10-2022 13:23:34 Test y: (10000,)\n"
          ]
        }
      ],
      "source": [
        "# grab the MNIST dataset (if this is your first time using this\n",
        "# dataset then the 11MB download may take a second)\n",
        "logger.info(\"[INFO] accessing MNIST...\")\n",
        "((train_x, train_y), (test_x, test_y)) = mnist.load_data()\n",
        "\n",
        "# if we are using \"channels first\" ordering, then reshape the\n",
        "# design matrix such that the matrix is:\n",
        "# num_samples x depth x rows x columns\n",
        "if K.image_data_format() == \"channels_first\":\n",
        "\ttrain_x = train_x.reshape((train_x.shape[0], 1, 28, 28))\n",
        "\ttest_x = test_x.reshape((test_x.shape[0], 1, 28, 28))\n",
        " \n",
        "# otherwise, we are using \"channels last\" ordering, so the design\n",
        "# matrix shape should be: num_samples x rows x columns x depth\n",
        "else:\n",
        "\ttrain_x = train_x.reshape((train_x.shape[0], 28, 28, 1))\n",
        "\ttest_x = test_x.reshape((test_x.shape[0], 28, 28, 1))\n",
        "\n",
        "logger.info(\"Train x: {}\".format(train_x.shape))\n",
        "logger.info(\"Train y: {}\".format(train_y.shape))\n",
        "logger.info(\"Test x: {}\".format(test_x.shape))\n",
        "logger.info(\"Test y: {}\".format(test_y.shape))"
      ]
    },
    {
      "cell_type": "code",
      "source": [
        "# visualize 18 numbers\n",
        "def show_image(train_image, label, index):\n",
        "    plt.subplot(3, 6, index+1)\n",
        "    plt.imshow(tf.squeeze(train_image), cmap=plt.cm.gray)\n",
        "    plt.title(label)\n",
        "    plt.grid(b=False)"
      ],
      "metadata": {
        "id": "MMFBZuFyxApD"
      },
      "execution_count": 15,
      "outputs": []
    },
    {
      "cell_type": "code",
      "source": [
        "# visualize the first 18 numbers\n",
        "plt.figure(figsize=(12, 8))\n",
        "for index in range(18):\n",
        "    label = train_y[index]\n",
        "    image_pixels = train_x[index,:,:,:]\n",
        "    show_image(image_pixels, label, index)\n",
        "plt.tight_layout()"
      ],
      "metadata": {
        "colab": {
          "base_uri": "https://localhost:8080/",
          "height": 579
        },
        "id": "aX1fu7mXxGOK",
        "outputId": "d0057a68-9813-41ec-eb0d-ab6621346a7d"
      },
      "execution_count": 16,
      "outputs": [
        {
          "output_type": "stream",
          "name": "stderr",
          "text": [
            "/usr/local/lib/python3.7/dist-packages/matplotlib/text.py:1165: FutureWarning: elementwise comparison failed; returning scalar instead, but in the future will perform elementwise comparison\n",
            "  if s != self._text:\n"
          ]
        },
        {
          "output_type": "display_data",
          "data": {
            "text/plain": [
              "<Figure size 864x576 with 18 Axes>"
            ],
            "image/png": "[encoded data removed]"
          },
          "metadata": {}
        }
      ]
    },
    {
      "cell_type": "code",
      "source": [
        "# construct the image generator for data augmentation then\n",
        "# initialize the total number of images generated thus far\n",
        "aug = ImageDataGenerator(rotation_range=30, width_shift_range=0.1,\n",
        "                         height_shift_range=0.1, shear_range=0.2, zoom_range=0.2,\n",
        "                         horizontal_flip=False, fill_mode=\"nearest\")\n",
        "total = 0\n",
        "image = train_x[10:11,:,:,:]\n",
        "\n",
        "# construct the actual Python generator\n",
        "print(\"[INFO] generating images...\")\n",
        "imageGen = aug.flow(image, batch_size=1)\n",
        "\n",
        "# create a figure\n",
        "plt.figure(figsize=(12, 8))\n",
        "\n",
        "# loop over examples from our image data augmentation generator\n",
        "for img in imageGen:\n",
        "\n",
        "  show_image(img, train_y[10], total)\n",
        "\n",
        "  # increment our counter\n",
        "  total += 1\n",
        "\n",
        "  # if we have reached 10 examples, break from the loop\n",
        "  if total == 18:\n",
        "    break"
      ],
      "metadata": {
        "colab": {
          "base_uri": "https://localhost:8080/",
          "height": 486
        },
        "id": "jXGWKs9fxQcG",
        "outputId": "c5486ba3-2852-4d44-de08-8e6b08ef0501"
      },
      "execution_count": 17,
      "outputs": [
        {
          "output_type": "stream",
          "name": "stdout",
          "text": [
            "[INFO] generating images...\n"
          ]
        },
        {
          "output_type": "display_data",
          "data": {
            "text/plain": [
              "<Figure size 864x576 with 18 Axes>"
            ],
            "image/png": "[encoded data removed]"
          },
          "metadata": {}
        }
      ]
    },
    {
      "cell_type": "code",
      "execution_count": 11,
      "metadata": {
        "id": "KY8y51yDA8aG"
      },
      "outputs": [],
      "source": [
        "# scale data to the range of [0, 1]\n",
        "train_x = train_x.astype(\"float32\") / 255.0\n",
        "test_x = test_x.astype(\"float32\") / 255.0\n",
        "\n",
        "# convert the labels from integers to vectors\n",
        "lb = LabelBinarizer()\n",
        "train_y = lb.fit_transform(train_y)\n",
        "test_y = lb.transform(test_y)"
      ]
    },
    {
      "cell_type": "markdown",
      "metadata": {
        "id": "UQmtR9a2BOKj"
      },
      "source": [
        "### Training"
      ]
    },
    {
      "cell_type": "code",
      "execution_count": 12,
      "metadata": {
        "id": "w2ermMneB8BT"
      },
      "outputs": [],
      "source": [
        "class BestLeNetDataAugumentation:\n",
        "  @staticmethod\n",
        "  def build(width, height, depth, classes):\n",
        "    # initialize the model\n",
        "    model = Sequential()\n",
        "    inputShape = (height, width, depth)\n",
        "    \n",
        "    # if we are using \"channels first\", update the input shape\n",
        "    if K.image_data_format() == \"channels_first\":\n",
        "      inputShape = (depth, height, width)\n",
        "   \n",
        "    # first set of CONV => RELU => POOL layers\n",
        "    for i in range(1):\n",
        "        # define a convolution layer followed by a relu activation \n",
        "        # CONV => RELU layer\n",
        "        model.add(Conv2D(6, (5,5), padding=\"same\", strides=1,\n",
        "                         input_shape=inputShape)) #C1\n",
        "        model.add(Activation('relu'))\n",
        "    \n",
        "    model.add(MaxPooling2D()) #S2\n",
        "\n",
        "    # second set of CONV => RELU => POOL layers\n",
        "    model.add(Conv2D(16, (5,5), strides=1, padding='valid')) #C3\n",
        "    \n",
        "    model.add(Activation('relu'))\n",
        "    model.add(MaxPooling2D()) #S4\n",
        "\n",
        "    # a flatten and two set of FC => RELU layers\n",
        "    model.add(Flatten()) #Flatten\n",
        "    model.add(Dense(120, activation='relu')) #C5\n",
        "    model.add(Dense(84, activation='relu')) #F6\n",
        "\n",
        "    # softmax classifier\n",
        "    model.add(Dense(10, activation='softmax')) #Output layer\n",
        "    \n",
        "    # return the constructed network architecture\n",
        "    return model"
      ]
    },
    {
      "cell_type": "code",
      "execution_count": 13,
      "metadata": {
        "id": "r1bnBEnABNPN",
        "colab": {
          "base_uri": "https://localhost:8080/"
        },
        "outputId": "63693685-d3d2-46e5-bc76-6f9cb46cac92"
      },
      "outputs": [
        {
          "output_type": "stream",
          "name": "stderr",
          "text": [
            "21-10-2022 13:23:46 [INFO] compiling model...\n",
            "21-10-2022 13:23:46 [INFO] training network...\n",
            "21-10-2022 13:23:46 From /usr/local/lib/python3.7/dist-packages/tensorflow/python/ops/nn_ops.py:5219: tensor_shape_from_node_def_name (from tensorflow.python.framework.graph_util_impl) is deprecated and will be removed in a future version.\n",
            "Instructions for updating:\n",
            "Use `tf.compat.v1.graph_util.tensor_shape_from_node_def_name`\n"
          ]
        }
      ],
      "source": [
        "# create codecarbon tracker\n",
        "# codecarbon is too much verbose, change the log level for more info\n",
        "tracker = EmissionsTracker(log_level=\"critical\")\n",
        "tracker.start()\n",
        "\n",
        "# initialize the optimizer and model\n",
        "logger.info(\"[INFO] compiling model...\")\n",
        "opt = Adam(learning_rate=0.001)\n",
        "model = BestLeNetDataAugumentation.build(width=28, height=28, depth=1,classes=10)\n",
        "model.compile(loss=\"categorical_crossentropy\", optimizer=opt,\n",
        "              metrics=[\"accuracy\"])\n",
        "\n",
        "# construct the image generator for data augmentation then\n",
        "# initialize the total number of images generated thus far\n",
        "aug = ImageDataGenerator(rotation_range=0,\n",
        "                          width_shift_range=0.1,\n",
        "                        height_shift_range=0.1, \n",
        "                          shear_range=0.3, \n",
        "                        zoom_range=0.2,\n",
        "                        horizontal_flip=False, fill_mode=\"nearest\")\n",
        "\n",
        "# train the network\n",
        "logger.info(\"[INFO] training network...\")\n",
        "history = model.fit(aug.flow(train_x, train_y, batch_size=32),\n",
        "                    validation_data=(test_x, test_y),\n",
        "                    epochs=30, \n",
        "                    verbose=0,\n",
        "                    callbacks=[wandb.keras.WandbCallback(save_model=False,\n",
        "                                                        compute_flops=True)])\n",
        "\n",
        "# get co2 emissions from tracker\n",
        "# \"CO2 emission (in Kg)\"\n",
        "emissions = tracker.stop()"
      ]
    },
    {
      "cell_type": "markdown",
      "metadata": {
        "id": "lXMEiNZCBi0z"
      },
      "source": [
        "### Evaluation Metrics"
      ]
    },
    {
      "cell_type": "code",
      "execution_count": 19,
      "metadata": {
        "id": "bqmZAcoNBkkn",
        "colab": {
          "base_uri": "https://localhost:8080/",
          "height": 517
        },
        "outputId": "cb026c6d-c486-4ce7-8bb7-014fd6608f42"
      },
      "outputs": [
        {
          "output_type": "display_data",
          "data": {
            "text/plain": [
              "<Figure size 720x576 with 1 Axes>"
            ],
            "image/png": "[encoded data removed]"
          },
          "metadata": {}
        }
      ],
      "source": [
        "# plot the training loss and accuracy\n",
        "plt.style.use(\"ggplot\")\n",
        "fig, ax = plt.subplots(1,1,figsize=(10,8))\n",
        "\n",
        "ax.plot(np.arange(0, 30), history.history[\"loss\"], label=\"train_loss\",linestyle='--')\n",
        "ax.plot(np.arange(0, 30), history.history[\"val_loss\"], label=\"val_loss\",linestyle='--')\n",
        "ax.plot(np.arange(0, 30), history.history[\"accuracy\"], label=\"train_acc\")\n",
        "ax.plot(np.arange(0, 30), history.history[\"val_accuracy\"], label=\"val_acc\")\n",
        "ax.set_title(\"Training Loss and Accuracy\")\n",
        "ax.set_xlabel(\"Epoch #\")\n",
        "ax.set_ylabel(\"Loss/Accuracy\")\n",
        "ax.legend()\n",
        "plt.show()"
      ]
    },
    {
      "cell_type": "code",
      "execution_count": 20,
      "metadata": {
        "id": "Hyzg3YN4BnVR",
        "colab": {
          "base_uri": "https://localhost:8080/"
        },
        "outputId": "255ae63f-725d-4d04-9551-6351d913e30a"
      },
      "outputs": [
        {
          "output_type": "stream",
          "name": "stdout",
          "text": [
            "[INFO] 0.0158540276988573 kWh of electricity used since the begining\n",
            "[INFO] Energy consumed for RAM: 0.000973637064112402 kWh\n",
            "[INFO] Energy consumed for all GPU: 0.006171264425856735 kWh\n",
            "[INFO] Energy consumed for all CPU: 0.00870912620888816 kWh\n",
            "[INFO] CO2 emission 0.005041580808236622(in Kg)\n"
          ]
        }
      ],
      "source": [
        "print(\"[INFO] {} kWh of electricity used since the begining\".format(tracker.final_emissions_data.energy_consumed))\n",
        "print(\"[INFO] Energy consumed for RAM: {} kWh\".format(tracker.final_emissions_data.ram_energy))\n",
        "print(\"[INFO] Energy consumed for all GPU: {} kWh\".format(tracker.final_emissions_data.gpu_energy))\n",
        "print(\"[INFO] Energy consumed for all CPU: {} kWh\".format(tracker.final_emissions_data.cpu_energy))\n",
        "print(\"[INFO] CO2 emission {}(in Kg)\".format(tracker.final_emissions_data.emissions))"
      ]
    },
    {
      "cell_type": "code",
      "execution_count": 21,
      "metadata": {
        "id": "65lW8pH4BptM",
        "colab": {
          "base_uri": "https://localhost:8080/"
        },
        "outputId": "fd8d3776-e4d2-46a3-b7f9-6141c1b80cb5"
      },
      "outputs": [
        {
          "output_type": "stream",
          "name": "stdout",
          "text": [
            "[INFO] evaluating network...\n",
            "313/313 [==============================] - 1s 2ms/step\n",
            "              precision    recall  f1-score   support\n",
            "\n",
            "           0       0.99      0.99      0.99       980\n",
            "           1       1.00      0.99      0.99      1135\n",
            "           2       0.99      0.98      0.98      1032\n",
            "           3       0.99      1.00      1.00      1010\n",
            "           4       0.99      0.99      0.99       982\n",
            "           5       0.99      0.99      0.99       892\n",
            "           6       1.00      0.98      0.99       958\n",
            "           7       0.96      1.00      0.98      1028\n",
            "           8       1.00      0.99      0.99       974\n",
            "           9       0.99      0.99      0.99      1009\n",
            "\n",
            "    accuracy                           0.99     10000\n",
            "   macro avg       0.99      0.99      0.99     10000\n",
            "weighted avg       0.99      0.99      0.99     10000\n",
            "\n"
          ]
        }
      ],
      "source": [
        "# evaluate the network\n",
        "print(\"[INFO] evaluating network...\")\n",
        "predictions = model.predict(test_x, batch_size=32)\n",
        "print(classification_report(test_y.argmax(axis=1),\n",
        "                            predictions.argmax(axis=1),\n",
        "                            target_names=[str(i) for i in lb.classes_]))"
      ]
    },
    {
      "cell_type": "code",
      "execution_count": 22,
      "metadata": {
        "id": "-q5AF6vZBt9c",
        "colab": {
          "base_uri": "https://localhost:8080/",
          "height": 282
        },
        "outputId": "655e0e31-e59d-49d9-d64e-e63776ba2a84"
      },
      "outputs": [
        {
          "output_type": "display_data",
          "data": {
            "text/plain": [
              "<Figure size 504x288 with 2 Axes>"
            ],
            "image/png": "[encoded data removed]"
          },
          "metadata": {}
        }
      ],
      "source": [
        "fig_confusion_matrix, ax = plt.subplots(1,1,figsize=(7,4))\n",
        "ConfusionMatrixDisplay(confusion_matrix(predictions.argmax(axis=1),\n",
        "                                        test_y.argmax(axis=1)),\n",
        "                       display_labels=lb.classes_).plot(values_format=\".0f\",ax=ax)\n",
        "\n",
        "ax.set_xlabel(\"True Label\")\n",
        "ax.set_ylabel(\"Predicted Label\")\n",
        "ax.grid(False)\n",
        "plt.show()"
      ]
    },
    {
      "cell_type": "code",
      "execution_count": 23,
      "metadata": {
        "id": "-ORZsp-ABxhj",
        "colab": {
          "base_uri": "https://localhost:8080/"
        },
        "outputId": "6186e39f-4692-4290-dddb-b32dcebc7cf0"
      },
      "outputs": [
        {
          "output_type": "stream",
          "name": "stderr",
          "text": [
            "21-10-2022 13:40:46 Uploading figures\n"
          ]
        }
      ],
      "source": [
        "# Uploading figures\n",
        "logger.info(\"Uploading figures\")\n",
        "run.log(\n",
        "    {\n",
        "        \"confusion_matrix\": wandb.Image(fig_confusion_matrix),\n",
        "        # \"other_figure\": wandb.Image(other_fig)\n",
        "    }\n",
        ")"
      ]
    },
    {
      "cell_type": "code",
      "execution_count": 24,
      "metadata": {
        "id": "CFjixyawBzv9",
        "colab": {
          "base_uri": "https://localhost:8080/"
        },
        "outputId": "00b200a6-f8f0-4523-8b6b-afba71db96e0"
      },
      "outputs": [
        {
          "output_type": "stream",
          "name": "stderr",
          "text": [
            "21-10-2022 13:40:46 Validation Evaluation metrics\n",
            "21-10-2022 13:40:46 Validation Accuracy: 0.9897\n",
            "21-10-2022 13:40:46 Validation Precision: 0.9898294509179401\n",
            "21-10-2022 13:40:46 Validation Recall: 0.9897\n",
            "21-10-2022 13:40:46 Validation F1: 0.9897189440506198\n"
          ]
        }
      ],
      "source": [
        "# Evaluation Metrics\n",
        "logger.info(\"Validation Evaluation metrics\")\n",
        "fbeta = fbeta_score(test_y.argmax(axis=1), \n",
        "                    predictions.argmax(axis=1), \n",
        "                    beta=1, zero_division=1,average='weighted')\n",
        "precision = precision_score(test_y.argmax(axis=1),\n",
        "                            predictions.argmax(axis=1),\n",
        "                            zero_division=1,average='weighted')\n",
        "recall = recall_score(test_y.argmax(axis=1),\n",
        "                      predictions.argmax(axis=1),\n",
        "                      zero_division=1,average='weighted')\n",
        "acc = accuracy_score(test_y.argmax(axis=1),\n",
        "                     predictions.argmax(axis=1))\n",
        "\n",
        "logger.info(\"Validation Accuracy: {}\".format(acc))\n",
        "logger.info(\"Validation Precision: {}\".format(precision))\n",
        "logger.info(\"Validation Recall: {}\".format(recall))\n",
        "logger.info(\"Validation F1: {}\".format(fbeta))\n",
        "\n",
        "run.summary[\"Acc\"] = acc\n",
        "run.summary[\"Precision\"] = precision\n",
        "run.summary[\"Recall\"] = recall\n",
        "run.summary[\"F1\"] = fbeta\n",
        "# number of parameters\n",
        "run.summary[\"Count_Params\"] = model.count_params()\n",
        "# energy unit is kWh\n",
        "run.summary[\"Energy_Consumed\"] = tracker.final_emissions_data.energy_consumed\n",
        "run.summary[\"Energy_RAM\"] = tracker.final_emissions_data.ram_energy\n",
        "run.summary[\"Energy_GPU\"] = tracker.final_emissions_data.gpu_energy\n",
        "run.summary[\"Energy_CPU\"] = tracker.final_emissions_data.cpu_energy\n",
        "# kg\n",
        "run.summary[\"CO2_Emissions\"] = tracker.final_emissions_data.emissions"
      ]
    },
    {
      "cell_type": "code",
      "execution_count": 25,
      "metadata": {
        "id": "H0G3gvBJE5Ul",
        "colab": {
          "base_uri": "https://localhost:8080/"
        },
        "outputId": "3e0c913c-e7d6-4450-e709-1a0328274fb3"
      },
      "outputs": [
        {
          "output_type": "stream",
          "name": "stderr",
          "text": [
            "21-10-2022 13:40:50 Dumping the model and encoder artifacts to the disk\n",
            "21-10-2022 13:40:51 Found untraced functions such as _jit_compiled_convolution_op, _jit_compiled_convolution_op while saving (showing 2 of 2). These functions will not be directly callable after loading.\n",
            "21-10-2022 13:40:51 Assets written to: ram://01b94945-4e6e-423f-ad5c-2a6adf715373/assets\n"
          ]
        },
        {
          "output_type": "execute_result",
          "data": {
            "text/plain": [
              "['best_model']"
            ]
          },
          "metadata": {},
          "execution_count": 25
        }
      ],
      "source": [
        "logger.info(\"Dumping the model and encoder artifacts to the disk\")\n",
        "\n",
        "# Save the artifacts using joblib\n",
        "joblib.dump(lb, args[\"encoder\"])\n",
        "joblib.dump(model, args[\"inference_model\"])"
      ]
    },
    {
      "cell_type": "code",
      "execution_count": 26,
      "metadata": {
        "id": "3fz5Sxg6FCz1",
        "colab": {
          "base_uri": "https://localhost:8080/"
        },
        "outputId": "1841135f-4a5b-499d-9405-8297749f33f7"
      },
      "outputs": [
        {
          "output_type": "stream",
          "name": "stderr",
          "text": [
            "21-10-2022 13:40:51 Logging the target encoder artifact\n"
          ]
        },
        {
          "output_type": "execute_result",
          "data": {
            "text/plain": [
              "<wandb.sdk.wandb_artifacts.Artifact at 0x7f8a8685d9d0>"
            ]
          },
          "metadata": {},
          "execution_count": 26
        }
      ],
      "source": [
        "# encoder artifact\n",
        "artifact = wandb.Artifact(args[\"encoder\"],\n",
        "                          type=\"INFERENCE_MODEL\",\n",
        "                          description=\"A json file representing the target encoder\"\n",
        "                          )\n",
        "\n",
        "logger.info(\"Logging the target encoder artifact\")\n",
        "artifact.add_file(args[\"encoder\"])\n",
        "run.log_artifact(artifact)"
      ]
    },
    {
      "cell_type": "code",
      "execution_count": 27,
      "metadata": {
        "id": "iOo-KWFbFExA",
        "colab": {
          "base_uri": "https://localhost:8080/"
        },
        "outputId": "32d76aa6-004f-4f4a-af14-c3df03b1e4bd"
      },
      "outputs": [
        {
          "output_type": "stream",
          "name": "stderr",
          "text": [
            "21-10-2022 13:40:52 Logging the inference model artifact\n"
          ]
        },
        {
          "output_type": "execute_result",
          "data": {
            "text/plain": [
              "<wandb.sdk.wandb_artifacts.Artifact at 0x7f8a8828d310>"
            ]
          },
          "metadata": {},
          "execution_count": 27
        }
      ],
      "source": [
        "# inference model artifact\n",
        "artifact = wandb.Artifact(args[\"inference_model\"],\n",
        "                          type=\"INFERENCE_MODEL\",\n",
        "                          description=\"A json file representing the inference model\"\n",
        "                          )\n",
        "\n",
        "logger.info(\"Logging the inference model artifact\")\n",
        "artifact.add_file(args[\"inference_model\"])\n",
        "run.log_artifact(artifact)"
      ]
    },
    {
      "cell_type": "code",
      "execution_count": 28,
      "metadata": {
        "id": "4P4dBFG6B0VB",
        "colab": {
          "base_uri": "https://localhost:8080/",
          "height": 569
        },
        "outputId": "b38b529e-e35d-4297-f565-dd0232611546"
      },
      "outputs": [
        {
          "output_type": "display_data",
          "data": {
            "text/plain": [
              "<IPython.core.display.HTML object>"
            ],
            "text/html": [
              "Waiting for W&B process to finish... <strong style=\"color:green\">(success).</strong>"
            ]
          },
          "metadata": {}
        },
        {
          "output_type": "display_data",
          "data": {
            "text/plain": [
              "<IPython.core.display.HTML object>"
            ],
            "text/html": [
              "<style>\n",
              "    table.wandb td:nth-child(1) { padding: 0 10px; text-align: left ; width: auto;} td:nth-child(2) {text-align: left ; width: 100%}\n",
              "    .wandb-row { display: flex; flex-direction: row; flex-wrap: wrap; justify-content: flex-start; width: 100% }\n",
              "    .wandb-col { display: flex; flex-direction: column; flex-basis: 100%; flex: 1; padding: 10px; }\n",
              "    </style>\n",
              "<div class=\"wandb-row\"><div class=\"wandb-col\"><h3>Run history:</h3><br/><table class=\"wandb\"><tr><td>accuracy</td><td>▁▆▇▇▇▇▇▇██████████████████████</td></tr><tr><td>epoch</td><td>▁▁▁▂▂▂▂▃▃▃▃▄▄▄▄▅▅▅▅▆▆▆▆▇▇▇▇███</td></tr><tr><td>loss</td><td>█▃▂▂▂▂▂▂▁▁▁▁▁▁▁▁▁▁▁▁▁▁▁▁▁▁▁▁▁▁</td></tr><tr><td>val_accuracy</td><td>▁▅▄▅▅▇▅▇▆▇▇▇▇▆▆▆▇▇▆███▇▇▇▆▆▆▇▆</td></tr><tr><td>val_loss</td><td>█▄▅▄▄▂▄▂▃▂▂▂▁▃▂▃▂▁▄▁▂▂▂▂▂▄▄▃▂▃</td></tr></table><br/></div><div class=\"wandb-col\"><h3>Run summary:</h3><br/><table class=\"wandb\"><tr><td>Acc</td><td>0.9897</td></tr><tr><td>CO2_Emissions</td><td>0.00504</td></tr><tr><td>Count_Params</td><td>61706</td></tr><tr><td>Energy_CPU</td><td>0.00871</td></tr><tr><td>Energy_Consumed</td><td>0.01585</td></tr><tr><td>Energy_GPU</td><td>0.00617</td></tr><tr><td>Energy_RAM</td><td>0.00097</td></tr><tr><td>F1</td><td>0.98972</td></tr><tr><td>GFLOPs</td><td>0.00042</td></tr><tr><td>Precision</td><td>0.98983</td></tr><tr><td>Recall</td><td>0.9897</td></tr><tr><td>accuracy</td><td>0.99142</td></tr><tr><td>best_epoch</td><td>19</td></tr><tr><td>best_val_loss</td><td>0.01973</td></tr><tr><td>epoch</td><td>29</td></tr><tr><td>loss</td><td>0.02813</td></tr><tr><td>val_accuracy</td><td>0.9897</td></tr><tr><td>val_loss</td><td>0.03221</td></tr></table><br/></div></div>"
            ]
          },
          "metadata": {}
        },
        {
          "output_type": "display_data",
          "data": {
            "text/plain": [
              "<IPython.core.display.HTML object>"
            ],
            "text/html": [
              "Synced <strong style=\"color:#cdcd00\">blooming-water-4</strong>: <a href=\"https://wandb.ai/morsinaldo/lenet-5/runs/87iedkj1\" target=\"_blank\">https://wandb.ai/morsinaldo/lenet-5/runs/87iedkj1</a><br/>Synced 5 W&B file(s), 1 media file(s), 2 artifact file(s) and 0 other file(s)"
            ]
          },
          "metadata": {}
        },
        {
          "output_type": "display_data",
          "data": {
            "text/plain": [
              "<IPython.core.display.HTML object>"
            ],
            "text/html": [
              "Find logs at: <code>./wandb/run-20221021_132327-87iedkj1/logs</code>"
            ]
          },
          "metadata": {}
        }
      ],
      "source": [
        "run.finish()"
      ]
    }
  ],
  "metadata": {
    "accelerator": "GPU",
    "colab": {
      "collapsed_sections": [
        "fApD1K7W4vgq",
        "9f0aWuT2CbNI",
        "p-sPBwNTDxfD"
      ],
      "provenance": []
    },
    "gpuClass": "standard",
    "kernelspec": {
      "display_name": "Python 3",
      "name": "python3"
    },
    "language_info": {
      "name": "python"
    },
    "widgets": {
      "application/vnd.jupyter.widget-state+json": {
        "ed2db2e0a3a1451b8aa4c3a0eac9d2c4": {
          "model_module": "@jupyter-widgets/controls",
          "model_name": "VBoxModel",
          "model_module_version": "1.5.0",
          "state": {
            "_dom_classes": [],
            "_model_module": "@jupyter-widgets/controls",
            "_model_module_version": "1.5.0",
            "_model_name": "VBoxModel",
            "_view_count": null,
            "_view_module": "@jupyter-widgets/controls",
            "_view_module_version": "1.5.0",
            "_view_name": "VBoxView",
            "box_style": "",
            "children": [
              "IPY_MODEL_8ad6cc518fcc4a4e826d26e1e4ad1ec4",
              "IPY_MODEL_3456cb7d60fa40bfa37c7ac927aab3ed"
            ],
            "layout": "IPY_MODEL_fead220e9cda4e91b815dd39ec5af4ec"
          }
        },
        "8ad6cc518fcc4a4e826d26e1e4ad1ec4": {
          "model_module": "@jupyter-widgets/controls",
          "model_name": "LabelModel",
          "model_module_version": "1.5.0",
          "state": {
            "_dom_classes": [],
            "_model_module": "@jupyter-widgets/controls",
            "_model_module_version": "1.5.0",
            "_model_name": "LabelModel",
            "_view_count": null,
            "_view_module": "@jupyter-widgets/controls",
            "_view_module_version": "1.5.0",
            "_view_name": "LabelView",
            "description": "",
            "description_tooltip": null,
            "layout": "IPY_MODEL_c6677cbbf6a746c7a139abad16168287",
            "placeholder": "​",
            "style": "IPY_MODEL_3c907632cdd24dc8a5dbc5098e220c36",
            "value": "0.000 MB of 0.000 MB uploaded (0.000 MB deduped)\r"
          }
        },
        "3456cb7d60fa40bfa37c7ac927aab3ed": {
          "model_module": "@jupyter-widgets/controls",
          "model_name": "FloatProgressModel",
          "model_module_version": "1.5.0",
          "state": {
            "_dom_classes": [],
            "_model_module": "@jupyter-widgets/controls",
            "_model_module_version": "1.5.0",
            "_model_name": "FloatProgressModel",
            "_view_count": null,
            "_view_module": "@jupyter-widgets/controls",
            "_view_module_version": "1.5.0",
            "_view_name": "ProgressView",
            "bar_style": "",
            "description": "",
            "description_tooltip": null,
            "layout": "IPY_MODEL_a16d36404291404197cb0ae9ee8c039d",
            "max": 1,
            "min": 0,
            "orientation": "horizontal",
            "style": "IPY_MODEL_e9560d318f5440d1a6e441165df67597",
            "value": 1
          }
        },
        "fead220e9cda4e91b815dd39ec5af4ec": {
          "model_module": "@jupyter-widgets/base",
          "model_name": "LayoutModel",
          "model_module_version": "1.2.0",
          "state": {
            "_model_module": "@jupyter-widgets/base",
            "_model_module_version": "1.2.0",
            "_model_name": "LayoutModel",
            "_view_count": null,
            "_view_module": "@jupyter-widgets/base",
            "_view_module_version": "1.2.0",
            "_view_name": "LayoutView",
            "align_content": null,
            "align_items": null,
            "align_self": null,
            "border": null,
            "bottom": null,
            "display": null,
            "flex": null,
            "flex_flow": null,
            "grid_area": null,
            "grid_auto_columns": null,
            "grid_auto_flow": null,
            "grid_auto_rows": null,
            "grid_column": null,
            "grid_gap": null,
            "grid_row": null,
            "grid_template_areas": null,
            "grid_template_columns": null,
            "grid_template_rows": null,
            "height": null,
            "justify_content": null,
            "justify_items": null,
            "left": null,
            "margin": null,
            "max_height": null,
            "max_width": null,
            "min_height": null,
            "min_width": null,
            "object_fit": null,
            "object_position": null,
            "order": null,
            "overflow": null,
            "overflow_x": null,
            "overflow_y": null,
            "padding": null,
            "right": null,
            "top": null,
            "visibility": null,
            "width": null
          }
        },
        "c6677cbbf6a746c7a139abad16168287": {
          "model_module": "@jupyter-widgets/base",
          "model_name": "LayoutModel",
          "model_module_version": "1.2.0",
          "state": {
            "_model_module": "@jupyter-widgets/base",
            "_model_module_version": "1.2.0",
            "_model_name": "LayoutModel",
            "_view_count": null,
            "_view_module": "@jupyter-widgets/base",
            "_view_module_version": "1.2.0",
            "_view_name": "LayoutView",
            "align_content": null,
            "align_items": null,
            "align_self": null,
            "border": null,
            "bottom": null,
            "display": null,
            "flex": null,
            "flex_flow": null,
            "grid_area": null,
            "grid_auto_columns": null,
            "grid_auto_flow": null,
            "grid_auto_rows": null,
            "grid_column": null,
            "grid_gap": null,
            "grid_row": null,
            "grid_template_areas": null,
            "grid_template_columns": null,
            "grid_template_rows": null,
            "height": null,
            "justify_content": null,
            "justify_items": null,
            "left": null,
            "margin": null,
            "max_height": null,
            "max_width": null,
            "min_height": null,
            "min_width": null,
            "object_fit": null,
            "object_position": null,
            "order": null,
            "overflow": null,
            "overflow_x": null,
            "overflow_y": null,
            "padding": null,
            "right": null,
            "top": null,
            "visibility": null,
            "width": null
          }
        },
        "3c907632cdd24dc8a5dbc5098e220c36": {
          "model_module": "@jupyter-widgets/controls",
          "model_name": "DescriptionStyleModel",
          "model_module_version": "1.5.0",
          "state": {
            "_model_module": "@jupyter-widgets/controls",
            "_model_module_version": "1.5.0",
            "_model_name": "DescriptionStyleModel",
            "_view_count": null,
            "_view_module": "@jupyter-widgets/base",
            "_view_module_version": "1.2.0",
            "_view_name": "StyleView",
            "description_width": ""
          }
        },
        "a16d36404291404197cb0ae9ee8c039d": {
          "model_module": "@jupyter-widgets/base",
          "model_name": "LayoutModel",
          "model_module_version": "1.2.0",
          "state": {
            "_model_module": "@jupyter-widgets/base",
            "_model_module_version": "1.2.0",
            "_model_name": "LayoutModel",
            "_view_count": null,
            "_view_module": "@jupyter-widgets/base",
            "_view_module_version": "1.2.0",
            "_view_name": "LayoutView",
            "align_content": null,
            "align_items": null,
            "align_self": null,
            "border": null,
            "bottom": null,
            "display": null,
            "flex": null,
            "flex_flow": null,
            "grid_area": null,
            "grid_auto_columns": null,
            "grid_auto_flow": null,
            "grid_auto_rows": null,
            "grid_column": null,
            "grid_gap": null,
            "grid_row": null,
            "grid_template_areas": null,
            "grid_template_columns": null,
            "grid_template_rows": null,
            "height": null,
            "justify_content": null,
            "justify_items": null,
            "left": null,
            "margin": null,
            "max_height": null,
            "max_width": null,
            "min_height": null,
            "min_width": null,
            "object_fit": null,
            "object_position": null,
            "order": null,
            "overflow": null,
            "overflow_x": null,
            "overflow_y": null,
            "padding": null,
            "right": null,
            "top": null,
            "visibility": null,
            "width": null
          }
        },
        "e9560d318f5440d1a6e441165df67597": {
          "model_module": "@jupyter-widgets/controls",
          "model_name": "ProgressStyleModel",
          "model_module_version": "1.5.0",
          "state": {
            "_model_module": "@jupyter-widgets/controls",
            "_model_module_version": "1.5.0",
            "_model_name": "ProgressStyleModel",
            "_view_count": null,
            "_view_module": "@jupyter-widgets/base",
            "_view_module_version": "1.2.0",
            "_view_name": "StyleView",
            "bar_color": null,
            "description_width": ""
          }
        },
        "707615cb06d34078b38b2888d97616f1": {
          "model_module": "@jupyter-widgets/controls",
          "model_name": "VBoxModel",
          "model_module_version": "1.5.0",
          "state": {
            "_dom_classes": [],
            "_model_module": "@jupyter-widgets/controls",
            "_model_module_version": "1.5.0",
            "_model_name": "VBoxModel",
            "_view_count": null,
            "_view_module": "@jupyter-widgets/controls",
            "_view_module_version": "1.5.0",
            "_view_name": "VBoxView",
            "box_style": "",
            "children": [
              "IPY_MODEL_a099c55be4ec45b1a2aaffd881415dcc",
              "IPY_MODEL_87437a154a134ef99990dab11775f979"
            ],
            "layout": "IPY_MODEL_c0448865b8564b609b1b4c15282e956b"
          }
        },
        "a099c55be4ec45b1a2aaffd881415dcc": {
          "model_module": "@jupyter-widgets/controls",
          "model_name": "LabelModel",
          "model_module_version": "1.5.0",
          "state": {
            "_dom_classes": [],
            "_model_module": "@jupyter-widgets/controls",
            "_model_module_version": "1.5.0",
            "_model_name": "LabelModel",
            "_view_count": null,
            "_view_module": "@jupyter-widgets/controls",
            "_view_module_version": "1.5.0",
            "_view_name": "LabelView",
            "description": "",
            "description_tooltip": null,
            "layout": "IPY_MODEL_b15adab8b426411a9a20c43bb49d7958",
            "placeholder": "​",
            "style": "IPY_MODEL_196e0707078e4696a12761aa08e2c5b5",
            "value": "0.000 MB of 0.010 MB uploaded (0.000 MB deduped)\r"
          }
        },
        "87437a154a134ef99990dab11775f979": {
          "model_module": "@jupyter-widgets/controls",
          "model_name": "FloatProgressModel",
          "model_module_version": "1.5.0",
          "state": {
            "_dom_classes": [],
            "_model_module": "@jupyter-widgets/controls",
            "_model_module_version": "1.5.0",
            "_model_name": "FloatProgressModel",
            "_view_count": null,
            "_view_module": "@jupyter-widgets/controls",
            "_view_module_version": "1.5.0",
            "_view_name": "ProgressView",
            "bar_style": "",
            "description": "",
            "description_tooltip": null,
            "layout": "IPY_MODEL_7b819990cc5a4f3ea9401b7e07414c39",
            "max": 1,
            "min": 0,
            "orientation": "horizontal",
            "style": "IPY_MODEL_67046cac33ad40c7a7781176fff7af3f",
            "value": 0.04318564217610768
          }
        },
        "c0448865b8564b609b1b4c15282e956b": {
          "model_module": "@jupyter-widgets/base",
          "model_name": "LayoutModel",
          "model_module_version": "1.2.0",
          "state": {
            "_model_module": "@jupyter-widgets/base",
            "_model_module_version": "1.2.0",
            "_model_name": "LayoutModel",
            "_view_count": null,
            "_view_module": "@jupyter-widgets/base",
            "_view_module_version": "1.2.0",
            "_view_name": "LayoutView",
            "align_content": null,
            "align_items": null,
            "align_self": null,
            "border": null,
            "bottom": null,
            "display": null,
            "flex": null,
            "flex_flow": null,
            "grid_area": null,
            "grid_auto_columns": null,
            "grid_auto_flow": null,
            "grid_auto_rows": null,
            "grid_column": null,
            "grid_gap": null,
            "grid_row": null,
            "grid_template_areas": null,
            "grid_template_columns": null,
            "grid_template_rows": null,
            "height": null,
            "justify_content": null,
            "justify_items": null,
            "left": null,
            "margin": null,
            "max_height": null,
            "max_width": null,
            "min_height": null,
            "min_width": null,
            "object_fit": null,
            "object_position": null,
            "order": null,
            "overflow": null,
            "overflow_x": null,
            "overflow_y": null,
            "padding": null,
            "right": null,
            "top": null,
            "visibility": null,
            "width": null
          }
        },
        "b15adab8b426411a9a20c43bb49d7958": {
          "model_module": "@jupyter-widgets/base",
          "model_name": "LayoutModel",
          "model_module_version": "1.2.0",
          "state": {
            "_model_module": "@jupyter-widgets/base",
            "_model_module_version": "1.2.0",
            "_model_name": "LayoutModel",
            "_view_count": null,
            "_view_module": "@jupyter-widgets/base",
            "_view_module_version": "1.2.0",
            "_view_name": "LayoutView",
            "align_content": null,
            "align_items": null,
            "align_self": null,
            "border": null,
            "bottom": null,
            "display": null,
            "flex": null,
            "flex_flow": null,
            "grid_area": null,
            "grid_auto_columns": null,
            "grid_auto_flow": null,
            "grid_auto_rows": null,
            "grid_column": null,
            "grid_gap": null,
            "grid_row": null,
            "grid_template_areas": null,
            "grid_template_columns": null,
            "grid_template_rows": null,
            "height": null,
            "justify_content": null,
            "justify_items": null,
            "left": null,
            "margin": null,
            "max_height": null,
            "max_width": null,
            "min_height": null,
            "min_width": null,
            "object_fit": null,
            "object_position": null,
            "order": null,
            "overflow": null,
            "overflow_x": null,
            "overflow_y": null,
            "padding": null,
            "right": null,
            "top": null,
            "visibility": null,
            "width": null
          }
        },
        "196e0707078e4696a12761aa08e2c5b5": {
          "model_module": "@jupyter-widgets/controls",
          "model_name": "DescriptionStyleModel",
          "model_module_version": "1.5.0",
          "state": {
            "_model_module": "@jupyter-widgets/controls",
            "_model_module_version": "1.5.0",
            "_model_name": "DescriptionStyleModel",
            "_view_count": null,
            "_view_module": "@jupyter-widgets/base",
            "_view_module_version": "1.2.0",
            "_view_name": "StyleView",
            "description_width": ""
          }
        },
        "7b819990cc5a4f3ea9401b7e07414c39": {
          "model_module": "@jupyter-widgets/base",
          "model_name": "LayoutModel",
          "model_module_version": "1.2.0",
          "state": {
            "_model_module": "@jupyter-widgets/base",
            "_model_module_version": "1.2.0",
            "_model_name": "LayoutModel",
            "_view_count": null,
            "_view_module": "@jupyter-widgets/base",
            "_view_module_version": "1.2.0",
            "_view_name": "LayoutView",
            "align_content": null,
            "align_items": null,
            "align_self": null,
            "border": null,
            "bottom": null,
            "display": null,
            "flex": null,
            "flex_flow": null,
            "grid_area": null,
            "grid_auto_columns": null,
            "grid_auto_flow": null,
            "grid_auto_rows": null,
            "grid_column": null,
            "grid_gap": null,
            "grid_row": null,
            "grid_template_areas": null,
            "grid_template_columns": null,
            "grid_template_rows": null,
            "height": null,
            "justify_content": null,
            "justify_items": null,
            "left": null,
            "margin": null,
            "max_height": null,
            "max_width": null,
            "min_height": null,
            "min_width": null,
            "object_fit": null,
            "object_position": null,
            "order": null,
            "overflow": null,
            "overflow_x": null,
            "overflow_y": null,
            "padding": null,
            "right": null,
            "top": null,
            "visibility": null,
            "width": null
          }
        },
        "67046cac33ad40c7a7781176fff7af3f": {
          "model_module": "@jupyter-widgets/controls",
          "model_name": "ProgressStyleModel",
          "model_module_version": "1.5.0",
          "state": {
            "_model_module": "@jupyter-widgets/controls",
            "_model_module_version": "1.5.0",
            "_model_name": "ProgressStyleModel",
            "_view_count": null,
            "_view_module": "@jupyter-widgets/base",
            "_view_module_version": "1.2.0",
            "_view_name": "StyleView",
            "bar_color": null,
            "description_width": ""
          }
        },
        "62b661dc25874c908a301d87e1464184": {
          "model_module": "@jupyter-widgets/controls",
          "model_name": "VBoxModel",
          "model_module_version": "1.5.0",
          "state": {
            "_dom_classes": [],
            "_model_module": "@jupyter-widgets/controls",
            "_model_module_version": "1.5.0",
            "_model_name": "VBoxModel",
            "_view_count": null,
            "_view_module": "@jupyter-widgets/controls",
            "_view_module_version": "1.5.0",
            "_view_name": "VBoxView",
            "box_style": "",
            "children": [
              "IPY_MODEL_8cf74f62b8724100a2a88f6476c7f677",
              "IPY_MODEL_8ba0ef2e3b6d436d95b06306d22ab934"
            ],
            "layout": "IPY_MODEL_7d990d82fd844336baf0d0a645136b18"
          }
        },
        "8cf74f62b8724100a2a88f6476c7f677": {
          "model_module": "@jupyter-widgets/controls",
          "model_name": "LabelModel",
          "model_module_version": "1.5.0",
          "state": {
            "_dom_classes": [],
            "_model_module": "@jupyter-widgets/controls",
            "_model_module_version": "1.5.0",
            "_model_name": "LabelModel",
            "_view_count": null,
            "_view_module": "@jupyter-widgets/controls",
            "_view_module_version": "1.5.0",
            "_view_name": "LabelView",
            "description": "",
            "description_tooltip": null,
            "layout": "IPY_MODEL_a55c848677634664ab625e1e9adff87c",
            "placeholder": "​",
            "style": "IPY_MODEL_8d221e7f4546412e9519fb281beb8949",
            "value": "0.000 MB of 0.000 MB uploaded (0.000 MB deduped)\r"
          }
        },
        "8ba0ef2e3b6d436d95b06306d22ab934": {
          "model_module": "@jupyter-widgets/controls",
          "model_name": "FloatProgressModel",
          "model_module_version": "1.5.0",
          "state": {
            "_dom_classes": [],
            "_model_module": "@jupyter-widgets/controls",
            "_model_module_version": "1.5.0",
            "_model_name": "FloatProgressModel",
            "_view_count": null,
            "_view_module": "@jupyter-widgets/controls",
            "_view_module_version": "1.5.0",
            "_view_name": "ProgressView",
            "bar_style": "",
            "description": "",
            "description_tooltip": null,
            "layout": "IPY_MODEL_d4248e65d913438da1ff3327f6a5fd35",
            "max": 1,
            "min": 0,
            "orientation": "horizontal",
            "style": "IPY_MODEL_368d0e0c6179415e9b0e153d80e92874",
            "value": 1
          }
        },
        "7d990d82fd844336baf0d0a645136b18": {
          "model_module": "@jupyter-widgets/base",
          "model_name": "LayoutModel",
          "model_module_version": "1.2.0",
          "state": {
            "_model_module": "@jupyter-widgets/base",
            "_model_module_version": "1.2.0",
            "_model_name": "LayoutModel",
            "_view_count": null,
            "_view_module": "@jupyter-widgets/base",
            "_view_module_version": "1.2.0",
            "_view_name": "LayoutView",
            "align_content": null,
            "align_items": null,
            "align_self": null,
            "border": null,
            "bottom": null,
            "display": null,
            "flex": null,
            "flex_flow": null,
            "grid_area": null,
            "grid_auto_columns": null,
            "grid_auto_flow": null,
            "grid_auto_rows": null,
            "grid_column": null,
            "grid_gap": null,
            "grid_row": null,
            "grid_template_areas": null,
            "grid_template_columns": null,
            "grid_template_rows": null,
            "height": null,
            "justify_content": null,
            "justify_items": null,
            "left": null,
            "margin": null,
            "max_height": null,
            "max_width": null,
            "min_height": null,
            "min_width": null,
            "object_fit": null,
            "object_position": null,
            "order": null,
            "overflow": null,
            "overflow_x": null,
            "overflow_y": null,
            "padding": null,
            "right": null,
            "top": null,
            "visibility": null,
            "width": null
          }
        },
        "a55c848677634664ab625e1e9adff87c": {
          "model_module": "@jupyter-widgets/base",
          "model_name": "LayoutModel",
          "model_module_version": "1.2.0",
          "state": {
            "_model_module": "@jupyter-widgets/base",
            "_model_module_version": "1.2.0",
            "_model_name": "LayoutModel",
            "_view_count": null,
            "_view_module": "@jupyter-widgets/base",
            "_view_module_version": "1.2.0",
            "_view_name": "LayoutView",
            "align_content": null,
            "align_items": null,
            "align_self": null,
            "border": null,
            "bottom": null,
            "display": null,
            "flex": null,
            "flex_flow": null,
            "grid_area": null,
            "grid_auto_columns": null,
            "grid_auto_flow": null,
            "grid_auto_rows": null,
            "grid_column": null,
            "grid_gap": null,
            "grid_row": null,
            "grid_template_areas": null,
            "grid_template_columns": null,
            "grid_template_rows": null,
            "height": null,
            "justify_content": null,
            "justify_items": null,
            "left": null,
            "margin": null,
            "max_height": null,
            "max_width": null,
            "min_height": null,
            "min_width": null,
            "object_fit": null,
            "object_position": null,
            "order": null,
            "overflow": null,
            "overflow_x": null,
            "overflow_y": null,
            "padding": null,
            "right": null,
            "top": null,
            "visibility": null,
            "width": null
          }
        },
        "8d221e7f4546412e9519fb281beb8949": {
          "model_module": "@jupyter-widgets/controls",
          "model_name": "DescriptionStyleModel",
          "model_module_version": "1.5.0",
          "state": {
            "_model_module": "@jupyter-widgets/controls",
            "_model_module_version": "1.5.0",
            "_model_name": "DescriptionStyleModel",
            "_view_count": null,
            "_view_module": "@jupyter-widgets/base",
            "_view_module_version": "1.2.0",
            "_view_name": "StyleView",
            "description_width": ""
          }
        },
        "d4248e65d913438da1ff3327f6a5fd35": {
          "model_module": "@jupyter-widgets/base",
          "model_name": "LayoutModel",
          "model_module_version": "1.2.0",
          "state": {
            "_model_module": "@jupyter-widgets/base",
            "_model_module_version": "1.2.0",
            "_model_name": "LayoutModel",
            "_view_count": null,
            "_view_module": "@jupyter-widgets/base",
            "_view_module_version": "1.2.0",
            "_view_name": "LayoutView",
            "align_content": null,
            "align_items": null,
            "align_self": null,
            "border": null,
            "bottom": null,
            "display": null,
            "flex": null,
            "flex_flow": null,
            "grid_area": null,
            "grid_auto_columns": null,
            "grid_auto_flow": null,
            "grid_auto_rows": null,
            "grid_column": null,
            "grid_gap": null,
            "grid_row": null,
            "grid_template_areas": null,
            "grid_template_columns": null,
            "grid_template_rows": null,
            "height": null,
            "justify_content": null,
            "justify_items": null,
            "left": null,
            "margin": null,
            "max_height": null,
            "max_width": null,
            "min_height": null,
            "min_width": null,
            "object_fit": null,
            "object_position": null,
            "order": null,
            "overflow": null,
            "overflow_x": null,
            "overflow_y": null,
            "padding": null,
            "right": null,
            "top": null,
            "visibility": null,
            "width": null
          }
        },
        "368d0e0c6179415e9b0e153d80e92874": {
          "model_module": "@jupyter-widgets/controls",
          "model_name": "ProgressStyleModel",
          "model_module_version": "1.5.0",
          "state": {
            "_model_module": "@jupyter-widgets/controls",
            "_model_module_version": "1.5.0",
            "_model_name": "ProgressStyleModel",
            "_view_count": null,
            "_view_module": "@jupyter-widgets/base",
            "_view_module_version": "1.2.0",
            "_view_name": "StyleView",
            "bar_color": null,
            "description_width": ""
          }
        },
        "59fb911452bb47e7854e11367b587448": {
          "model_module": "@jupyter-widgets/controls",
          "model_name": "VBoxModel",
          "model_module_version": "1.5.0",
          "state": {
            "_dom_classes": [],
            "_model_module": "@jupyter-widgets/controls",
            "_model_module_version": "1.5.0",
            "_model_name": "VBoxModel",
            "_view_count": null,
            "_view_module": "@jupyter-widgets/controls",
            "_view_module_version": "1.5.0",
            "_view_name": "VBoxView",
            "box_style": "",
            "children": [
              "IPY_MODEL_a47ef8d97a9141a882fc54dcf5ed658b",
              "IPY_MODEL_1a37474f8e7d4566abf3cae8f32339a1"
            ],
            "layout": "IPY_MODEL_b58d5035c18740e3be0ee8100f4a84cb"
          }
        },
        "a47ef8d97a9141a882fc54dcf5ed658b": {
          "model_module": "@jupyter-widgets/controls",
          "model_name": "LabelModel",
          "model_module_version": "1.5.0",
          "state": {
            "_dom_classes": [],
            "_model_module": "@jupyter-widgets/controls",
            "_model_module_version": "1.5.0",
            "_model_name": "LabelModel",
            "_view_count": null,
            "_view_module": "@jupyter-widgets/controls",
            "_view_module_version": "1.5.0",
            "_view_name": "LabelView",
            "description": "",
            "description_tooltip": null,
            "layout": "IPY_MODEL_0b9f3a1b11cb4b389f40474742e48a7e",
            "placeholder": "​",
            "style": "IPY_MODEL_274dd6feb6034b48a93e8a2646984fab",
            "value": "0.000 MB of 0.000 MB uploaded (0.000 MB deduped)\r"
          }
        },
        "1a37474f8e7d4566abf3cae8f32339a1": {
          "model_module": "@jupyter-widgets/controls",
          "model_name": "FloatProgressModel",
          "model_module_version": "1.5.0",
          "state": {
            "_dom_classes": [],
            "_model_module": "@jupyter-widgets/controls",
            "_model_module_version": "1.5.0",
            "_model_name": "FloatProgressModel",
            "_view_count": null,
            "_view_module": "@jupyter-widgets/controls",
            "_view_module_version": "1.5.0",
            "_view_name": "ProgressView",
            "bar_style": "",
            "description": "",
            "description_tooltip": null,
            "layout": "IPY_MODEL_7f72ce5a6ddd4142a49aa1a6be790625",
            "max": 1,
            "min": 0,
            "orientation": "horizontal",
            "style": "IPY_MODEL_2b65675dbcfd4891a4f8acf9e6af8162",
            "value": 1
          }
        },
        "b58d5035c18740e3be0ee8100f4a84cb": {
          "model_module": "@jupyter-widgets/base",
          "model_name": "LayoutModel",
          "model_module_version": "1.2.0",
          "state": {
            "_model_module": "@jupyter-widgets/base",
            "_model_module_version": "1.2.0",
            "_model_name": "LayoutModel",
            "_view_count": null,
            "_view_module": "@jupyter-widgets/base",
            "_view_module_version": "1.2.0",
            "_view_name": "LayoutView",
            "align_content": null,
            "align_items": null,
            "align_self": null,
            "border": null,
            "bottom": null,
            "display": null,
            "flex": null,
            "flex_flow": null,
            "grid_area": null,
            "grid_auto_columns": null,
            "grid_auto_flow": null,
            "grid_auto_rows": null,
            "grid_column": null,
            "grid_gap": null,
            "grid_row": null,
            "grid_template_areas": null,
            "grid_template_columns": null,
            "grid_template_rows": null,
            "height": null,
            "justify_content": null,
            "justify_items": null,
            "left": null,
            "margin": null,
            "max_height": null,
            "max_width": null,
            "min_height": null,
            "min_width": null,
            "object_fit": null,
            "object_position": null,
            "order": null,
            "overflow": null,
            "overflow_x": null,
            "overflow_y": null,
            "padding": null,
            "right": null,
            "top": null,
            "visibility": null,
            "width": null
          }
        },
        "0b9f3a1b11cb4b389f40474742e48a7e": {
          "model_module": "@jupyter-widgets/base",
          "model_name": "LayoutModel",
          "model_module_version": "1.2.0",
          "state": {
            "_model_module": "@jupyter-widgets/base",
            "_model_module_version": "1.2.0",
            "_model_name": "LayoutModel",
            "_view_count": null,
            "_view_module": "@jupyter-widgets/base",
            "_view_module_version": "1.2.0",
            "_view_name": "LayoutView",
            "align_content": null,
            "align_items": null,
            "align_self": null,
            "border": null,
            "bottom": null,
            "display": null,
            "flex": null,
            "flex_flow": null,
            "grid_area": null,
            "grid_auto_columns": null,
            "grid_auto_flow": null,
            "grid_auto_rows": null,
            "grid_column": null,
            "grid_gap": null,
            "grid_row": null,
            "grid_template_areas": null,
            "grid_template_columns": null,
            "grid_template_rows": null,
            "height": null,
            "justify_content": null,
            "justify_items": null,
            "left": null,
            "margin": null,
            "max_height": null,
            "max_width": null,
            "min_height": null,
            "min_width": null,
            "object_fit": null,
            "object_position": null,
            "order": null,
            "overflow": null,
            "overflow_x": null,
            "overflow_y": null,
            "padding": null,
            "right": null,
            "top": null,
            "visibility": null,
            "width": null
          }
        },
        "274dd6feb6034b48a93e8a2646984fab": {
          "model_module": "@jupyter-widgets/controls",
          "model_name": "DescriptionStyleModel",
          "model_module_version": "1.5.0",
          "state": {
            "_model_module": "@jupyter-widgets/controls",
            "_model_module_version": "1.5.0",
            "_model_name": "DescriptionStyleModel",
            "_view_count": null,
            "_view_module": "@jupyter-widgets/base",
            "_view_module_version": "1.2.0",
            "_view_name": "StyleView",
            "description_width": ""
          }
        },
        "7f72ce5a6ddd4142a49aa1a6be790625": {
          "model_module": "@jupyter-widgets/base",
          "model_name": "LayoutModel",
          "model_module_version": "1.2.0",
          "state": {
            "_model_module": "@jupyter-widgets/base",
            "_model_module_version": "1.2.0",
            "_model_name": "LayoutModel",
            "_view_count": null,
            "_view_module": "@jupyter-widgets/base",
            "_view_module_version": "1.2.0",
            "_view_name": "LayoutView",
            "align_content": null,
            "align_items": null,
            "align_self": null,
            "border": null,
            "bottom": null,
            "display": null,
            "flex": null,
            "flex_flow": null,
            "grid_area": null,
            "grid_auto_columns": null,
            "grid_auto_flow": null,
            "grid_auto_rows": null,
            "grid_column": null,
            "grid_gap": null,
            "grid_row": null,
            "grid_template_areas": null,
            "grid_template_columns": null,
            "grid_template_rows": null,
            "height": null,
            "justify_content": null,
            "justify_items": null,
            "left": null,
            "margin": null,
            "max_height": null,
            "max_width": null,
            "min_height": null,
            "min_width": null,
            "object_fit": null,
            "object_position": null,
            "order": null,
            "overflow": null,
            "overflow_x": null,
            "overflow_y": null,
            "padding": null,
            "right": null,
            "top": null,
            "visibility": null,
            "width": null
          }
        },
        "2b65675dbcfd4891a4f8acf9e6af8162": {
          "model_module": "@jupyter-widgets/controls",
          "model_name": "ProgressStyleModel",
          "model_module_version": "1.5.0",
          "state": {
            "_model_module": "@jupyter-widgets/controls",
            "_model_module_version": "1.5.0",
            "_model_name": "ProgressStyleModel",
            "_view_count": null,
            "_view_module": "@jupyter-widgets/base",
            "_view_module_version": "1.2.0",
            "_view_name": "StyleView",
            "bar_color": null,
            "description_width": ""
          }
        }
      }
    }
  },
  "nbformat": 4,
  "nbformat_minor": 0
}