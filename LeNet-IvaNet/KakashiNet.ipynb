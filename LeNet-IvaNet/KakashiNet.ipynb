{
  "cells": [
    {
      "cell_type": "markdown",
      "metadata": {
        "id": "55GzB8QgaBId"
      },
      "source": [
        "# KakashiNet"
      ]
    },
    {
      "cell_type": "markdown",
      "metadata": {
        "id": "ApYpc47MFOYi"
      },
      "source": [
        "## Step 01: Setup"
      ]
    },
    {
      "cell_type": "markdown",
      "metadata": {
        "id": "ULBka-lQFJW9"
      },
      "source": [
        "Start out by installing the experiment tracking library and setting up your free W&B account:\n",
        "\n",
        "\n",
        "*   **pip install wandb** – Install the W&B library\n",
        "*   **import wandb** – Import the wandb library\n",
        "*   **wandb login** – Login to your W&B account so you can log all your metrics in one place"
      ]
    },
    {
      "cell_type": "code",
      "execution_count": 1,
      "metadata": {
        "colab": {
          "base_uri": "https://localhost:8080/"
        },
        "id": "vWnFIWPuFXej",
        "outputId": "f3de8c01-181b-4dfa-abc5-7c56acd8af36"
      },
      "outputs": [
        {
          "output_type": "stream",
          "name": "stdout",
          "text": [
            "\u001b[K     |████████████████████████████████| 1.9 MB 32.7 MB/s \n",
            "\u001b[K     |████████████████████████████████| 182 kB 62.3 MB/s \n",
            "\u001b[K     |████████████████████████████████| 166 kB 58.1 MB/s \n",
            "\u001b[K     |████████████████████████████████| 63 kB 1.9 MB/s \n",
            "\u001b[K     |████████████████████████████████| 166 kB 75.4 MB/s \n",
            "\u001b[K     |████████████████████████████████| 162 kB 77.9 MB/s \n",
            "\u001b[K     |████████████████████████████████| 162 kB 39.2 MB/s \n",
            "\u001b[K     |████████████████████████████████| 158 kB 71.7 MB/s \n",
            "\u001b[K     |████████████████████████████████| 157 kB 77.8 MB/s \n",
            "\u001b[K     |████████████████████████████████| 157 kB 68.8 MB/s \n",
            "\u001b[K     |████████████████████████████████| 157 kB 78.8 MB/s \n",
            "\u001b[K     |████████████████████████████████| 157 kB 72.6 MB/s \n",
            "\u001b[K     |████████████████████████████████| 157 kB 77.2 MB/s \n",
            "\u001b[K     |████████████████████████████████| 157 kB 15.4 MB/s \n",
            "\u001b[K     |████████████████████████████████| 157 kB 79.9 MB/s \n",
            "\u001b[K     |████████████████████████████████| 156 kB 77.5 MB/s \n",
            "\u001b[?25h  Building wheel for pathtools (setup.py) ... \u001b[?25l\u001b[?25hdone\n"
          ]
        }
      ],
      "source": [
        "!pip install wandb -qU"
      ]
    },
    {
      "cell_type": "code",
      "execution_count": 2,
      "metadata": {
        "colab": {
          "base_uri": "https://localhost:8080/"
        },
        "id": "NBqatao0jyp5",
        "outputId": "114c5627-20a4-4c12-f305-042912f47488"
      },
      "outputs": [
        {
          "output_type": "stream",
          "name": "stdout",
          "text": [
            "Looking in indexes: https://pypi.org/simple, https://us-python.pkg.dev/colab-wheels/public/simple/\n",
            "Collecting codecarbon\n",
            "  Downloading codecarbon-2.1.4-py3-none-any.whl (174 kB)\n",
            "\u001b[K     |████████████████████████████████| 174 kB 27.8 MB/s \n",
            "\u001b[?25hRequirement already satisfied: psutil in /usr/local/lib/python3.7/dist-packages (from codecarbon) (5.4.8)\n",
            "Collecting arrow\n",
            "  Downloading arrow-1.2.3-py3-none-any.whl (66 kB)\n",
            "\u001b[K     |████████████████████████████████| 66 kB 5.4 MB/s \n",
            "\u001b[?25hCollecting pynvml\n",
            "  Downloading pynvml-11.4.1-py3-none-any.whl (46 kB)\n",
            "\u001b[K     |████████████████████████████████| 46 kB 3.8 MB/s \n",
            "\u001b[?25hCollecting py-cpuinfo\n",
            "  Downloading py_cpuinfo-9.0.0-py3-none-any.whl (22 kB)\n",
            "Collecting fuzzywuzzy\n",
            "  Downloading fuzzywuzzy-0.18.0-py2.py3-none-any.whl (18 kB)\n",
            "Requirement already satisfied: click in /usr/local/lib/python3.7/dist-packages (from codecarbon) (7.1.2)\n",
            "Requirement already satisfied: pandas in /usr/local/lib/python3.7/dist-packages (from codecarbon) (1.3.5)\n",
            "Requirement already satisfied: requests in /usr/local/lib/python3.7/dist-packages (from codecarbon) (2.23.0)\n",
            "Requirement already satisfied: python-dateutil>=2.7.0 in /usr/local/lib/python3.7/dist-packages (from arrow->codecarbon) (2.8.2)\n",
            "Requirement already satisfied: typing-extensions in /usr/local/lib/python3.7/dist-packages (from arrow->codecarbon) (4.1.1)\n",
            "Requirement already satisfied: six>=1.5 in /usr/local/lib/python3.7/dist-packages (from python-dateutil>=2.7.0->arrow->codecarbon) (1.15.0)\n",
            "Requirement already satisfied: pytz>=2017.3 in /usr/local/lib/python3.7/dist-packages (from pandas->codecarbon) (2022.5)\n",
            "Requirement already satisfied: numpy>=1.17.3 in /usr/local/lib/python3.7/dist-packages (from pandas->codecarbon) (1.21.6)\n",
            "Requirement already satisfied: chardet<4,>=3.0.2 in /usr/local/lib/python3.7/dist-packages (from requests->codecarbon) (3.0.4)\n",
            "Requirement already satisfied: certifi>=2017.4.17 in /usr/local/lib/python3.7/dist-packages (from requests->codecarbon) (2022.9.24)\n",
            "Requirement already satisfied: urllib3!=1.25.0,!=1.25.1,<1.26,>=1.21.1 in /usr/local/lib/python3.7/dist-packages (from requests->codecarbon) (1.24.3)\n",
            "Requirement already satisfied: idna<3,>=2.5 in /usr/local/lib/python3.7/dist-packages (from requests->codecarbon) (2.10)\n",
            "Installing collected packages: pynvml, py-cpuinfo, fuzzywuzzy, arrow, codecarbon\n",
            "Successfully installed arrow-1.2.3 codecarbon-2.1.4 fuzzywuzzy-0.18.0 py-cpuinfo-9.0.0 pynvml-11.4.1\n"
          ]
        }
      ],
      "source": [
        "# a Python package for tracking the carbon emissions produced by various\n",
        "# kinds of computer programs, from straightforward algorithms to deep neural networks.\n",
        "!pip install codecarbon"
      ]
    },
    {
      "cell_type": "markdown",
      "metadata": {
        "id": "wcrOk6pURp50"
      },
      "source": [
        "### Import Packages"
      ]
    },
    {
      "cell_type": "code",
      "execution_count": 3,
      "metadata": {
        "id": "eRkPuQEg3_RL"
      },
      "outputs": [],
      "source": [
        "# import the necessary packages\n",
        "import logging\n",
        "import joblib\n",
        "import tensorflow as tf\n",
        "from tensorflow.keras.models import Sequential\n",
        "from tensorflow.keras.layers import BatchNormalization\n",
        "from tensorflow.keras.layers import Dropout\n",
        "from tensorflow.keras.layers import Conv2D\n",
        "from tensorflow.keras.layers import AveragePooling2D\n",
        "from tensorflow.keras.layers import MaxPooling2D\n",
        "from tensorflow.keras.layers import Activation\n",
        "from tensorflow.keras.layers import Flatten\n",
        "from tensorflow.keras.layers import Dense\n",
        "from tensorflow.keras import backend as K\n",
        "from tensorflow.keras.optimizers import SGD, Adam\n",
        "from tensorflow.keras.datasets import mnist\n",
        "from sklearn.preprocessing import LabelBinarizer\n",
        "from tensorflow.keras import backend as K\n",
        "import matplotlib.pyplot as plt\n",
        "import numpy as np\n",
        "from codecarbon import EmissionsTracker\n",
        "from tensorflow.keras.callbacks import Callback\n",
        "from wandb.keras import WandbCallback\n",
        "from sklearn.metrics import classification_report\n",
        "from sklearn.metrics import fbeta_score, precision_score, recall_score, accuracy_score\n",
        "from sklearn.metrics import confusion_matrix\n",
        "from sklearn.metrics import ConfusionMatrixDisplay\n",
        "import wandb\n",
        "import cv2\n",
        "from tensorflow.keras.preprocessing.image import ImageDataGenerator"
      ]
    },
    {
      "cell_type": "code",
      "execution_count": 4,
      "metadata": {
        "colab": {
          "base_uri": "https://localhost:8080/",
          "height": 139
        },
        "id": "7ee2tdx7Cnfs",
        "outputId": "a70aa7fc-894e-44ec-e17f-dbac54c65d52"
      },
      "outputs": [
        {
          "output_type": "stream",
          "name": "stderr",
          "text": [
            "ERROR:wandb.jupyter:Failed to detect the name of this notebook, you can set it manually with the WANDB_NOTEBOOK_NAME environment variable to enable code saving.\n"
          ]
        },
        {
          "output_type": "display_data",
          "data": {
            "text/plain": [
              "<IPython.core.display.Javascript object>"
            ],
            "application/javascript": [
              "\n",
              "        window._wandbApiKey = new Promise((resolve, reject) => {\n",
              "            function loadScript(url) {\n",
              "            return new Promise(function(resolve, reject) {\n",
              "                let newScript = document.createElement(\"script\");\n",
              "                newScript.onerror = reject;\n",
              "                newScript.onload = resolve;\n",
              "                document.body.appendChild(newScript);\n",
              "                newScript.src = url;\n",
              "            });\n",
              "            }\n",
              "            loadScript(\"https://cdn.jsdelivr.net/npm/postmate/build/postmate.min.js\").then(() => {\n",
              "            const iframe = document.createElement('iframe')\n",
              "            iframe.style.cssText = \"width:0;height:0;border:none\"\n",
              "            document.body.appendChild(iframe)\n",
              "            const handshake = new Postmate({\n",
              "                container: iframe,\n",
              "                url: 'https://wandb.ai/authorize'\n",
              "            });\n",
              "            const timeout = setTimeout(() => reject(\"Couldn't auto authenticate\"), 5000)\n",
              "            handshake.then(function(child) {\n",
              "                child.on('authorize', data => {\n",
              "                    clearTimeout(timeout)\n",
              "                    resolve(data)\n",
              "                });\n",
              "            });\n",
              "            })\n",
              "        });\n",
              "    "
            ]
          },
          "metadata": {}
        },
        {
          "output_type": "stream",
          "name": "stderr",
          "text": [
            "\u001b[34m\u001b[1mwandb\u001b[0m: Logging into wandb.ai. (Learn how to deploy a W&B server locally: https://wandb.me/wandb-server)\n",
            "\u001b[34m\u001b[1mwandb\u001b[0m: You can find your API key in your browser here: https://wandb.ai/authorize\n",
            "wandb: Paste an API key from your profile and hit enter, or press ctrl+c to quit: "
          ]
        },
        {
          "name": "stdout",
          "output_type": "stream",
          "text": [
            "··········\n"
          ]
        },
        {
          "output_type": "stream",
          "name": "stderr",
          "text": [
            "\u001b[34m\u001b[1mwandb\u001b[0m: Appending key for api.wandb.ai to your netrc file: /root/.netrc\n"
          ]
        },
        {
          "output_type": "execute_result",
          "data": {
            "text/plain": [
              "True"
            ]
          },
          "metadata": {},
          "execution_count": 4
        }
      ],
      "source": [
        "wandb.login()"
      ]
    },
    {
      "cell_type": "code",
      "execution_count": 5,
      "metadata": {
        "id": "Xq0zG_132yC2"
      },
      "outputs": [],
      "source": [
        "# configure logging\n",
        "# reference for a logging obj\n",
        "logger = logging.getLogger()\n",
        "\n",
        "# set level of logging\n",
        "logger.setLevel(logging.INFO)\n",
        "\n",
        "# create handlers\n",
        "c_handler = logging.StreamHandler()\n",
        "c_format = logging.Formatter(fmt=\"%(asctime)s %(message)s\",datefmt='%d-%m-%Y %H:%M:%S')\n",
        "c_handler.setFormatter(c_format)\n",
        "\n",
        "# add handler to the logger\n",
        "logger.handlers[0] = c_handler"
      ]
    },
    {
      "cell_type": "markdown",
      "metadata": {
        "id": "vMuxhhRftSXL"
      },
      "source": [
        "## Implementing KakashiNet"
      ]
    },
    {
      "cell_type": "markdown",
      "source": [
        "<img src=\"https://drive.google.com/uc?export=view&id=10RkLAD4qclaUCsF4s5tld9aoit0b9a1Z\">"
      ],
      "metadata": {
        "id": "Z-oWgZQfICg2"
      }
    },
    {
      "cell_type": "code",
      "execution_count": 6,
      "metadata": {
        "id": "5Um7gG8YvhPL"
      },
      "outputs": [],
      "source": [
        "class KakashiNet:\n",
        "  ''' \n",
        "  # create KakashiNet model\n",
        "  #\n",
        "  # it is composed of the 8 layers (5 layers considering FC as one layer) \n",
        "  # such as:\n",
        "  #      - 2 convolutional layers\n",
        "  #      - 2 subsampling (avg pooling) layers\n",
        "  #      - 1 flatten layer\n",
        "  #      - 2 fully connected layers\n",
        "  #      - 1 output layer with 10 outputs\n",
        "  #      - 2 batchnormalization layers\n",
        "  #      - 4 dropout layers\n",
        "  '''\n",
        "  @staticmethod\n",
        "  def build(width, height, depth, classes):\n",
        "    # initialize the model\n",
        "    model = Sequential()\n",
        "    inputShape = (height, width, depth)\n",
        "    \n",
        "    # if we are using \"channels first\", update the input shape\n",
        "    if K.image_data_format() == \"channels_first\":\n",
        "      inputShape = (depth, height, width)\n",
        "   \n",
        "    # first set of CONV => RELU => BN => POOL layers => DO\n",
        "    model.add(Conv2D(6, (5,5), strides=1, padding='same',\n",
        "                     activation='relu', input_shape=(28,28,1), )) #C1\n",
        "    model.add(Conv2D(6, (5,5), strides=1, padding='same',\n",
        "                     activation='relu', input_shape=(28,28,1), )) #C1\n",
        "    model.add(BatchNormalization()) #B1\n",
        "    model.add(AveragePooling2D()) #S2\n",
        "    model.add(Dropout(0.25)) #D1 .25\n",
        "\n",
        "    # second set of CONV => RELU => BN => POOL layers => DO\n",
        "    model.add(Conv2D(16, (5,5), strides=1, padding='valid',\n",
        "                     activation='relu')) #C3\n",
        "    model.add(Conv2D(16, (5,5), strides=1, padding='valid',\n",
        "                     activation='relu')) #C3\n",
        "    model.add(BatchNormalization()) #B2\n",
        "    model.add(AveragePooling2D()) #S4\n",
        "    model.add(Dropout(0.25)) #D2 .25\n",
        "\n",
        "    # Flatten => FC => RELU => DO => FC => RELU => DO  \n",
        "    model.add(Flatten()) #Flatten\n",
        "    model.add(Dense(120, activation='relu')) #F5\n",
        "    model.add(Dropout(0.25)) #D3 \n",
        "    model.add(Dense(84, activation='relu')) #F6\n",
        "    model.add(Dropout(0.25)) #D4 \n",
        "\n",
        "    # softmax classifier\n",
        "    model.add(Dense(10, activation='softmax')) #Output layer\n",
        "    \n",
        "    # return the constructed network architecture\n",
        "    return model"
      ]
    },
    {
      "cell_type": "code",
      "execution_count": 7,
      "metadata": {
        "colab": {
          "base_uri": "https://localhost:8080/"
        },
        "id": "-uE5x6MYtSXN",
        "outputId": "f9db035f-4fd0-4ded-ecef-30e4ec0136fd"
      },
      "outputs": [
        {
          "output_type": "stream",
          "name": "stdout",
          "text": [
            "Model: \"sequential\"\n",
            "_________________________________________________________________\n",
            " Layer (type)                Output Shape              Param #   \n",
            "=================================================================\n",
            " conv2d (Conv2D)             (None, 28, 28, 6)         156       \n",
            "                                                                 \n",
            " conv2d_1 (Conv2D)           (None, 28, 28, 6)         906       \n",
            "                                                                 \n",
            " batch_normalization (BatchN  (None, 28, 28, 6)        24        \n",
            " ormalization)                                                   \n",
            "                                                                 \n",
            " average_pooling2d (AverageP  (None, 14, 14, 6)        0         \n",
            " ooling2D)                                                       \n",
            "                                                                 \n",
            " dropout (Dropout)           (None, 14, 14, 6)         0         \n",
            "                                                                 \n",
            " conv2d_2 (Conv2D)           (None, 10, 10, 16)        2416      \n",
            "                                                                 \n",
            " conv2d_3 (Conv2D)           (None, 6, 6, 16)          6416      \n",
            "                                                                 \n",
            " batch_normalization_1 (Batc  (None, 6, 6, 16)         64        \n",
            " hNormalization)                                                 \n",
            "                                                                 \n",
            " average_pooling2d_1 (Averag  (None, 3, 3, 16)         0         \n",
            " ePooling2D)                                                     \n",
            "                                                                 \n",
            " dropout_1 (Dropout)         (None, 3, 3, 16)          0         \n",
            "                                                                 \n",
            " flatten (Flatten)           (None, 144)               0         \n",
            "                                                                 \n",
            " dense (Dense)               (None, 120)               17400     \n",
            "                                                                 \n",
            " dropout_2 (Dropout)         (None, 120)               0         \n",
            "                                                                 \n",
            " dense_1 (Dense)             (None, 84)                10164     \n",
            "                                                                 \n",
            " dropout_3 (Dropout)         (None, 84)                0         \n",
            "                                                                 \n",
            " dense_2 (Dense)             (None, 10)                850       \n",
            "                                                                 \n",
            "=================================================================\n",
            "Total params: 38,396\n",
            "Trainable params: 38,352\n",
            "Non-trainable params: 44\n",
            "_________________________________________________________________\n"
          ]
        }
      ],
      "source": [
        "# create a model object\n",
        "model = KakashiNet.build(28,28,1,10)\n",
        "\n",
        "# summarize layers\n",
        "model.summary()"
      ]
    },
    {
      "cell_type": "markdown",
      "metadata": {
        "id": "gytVWLAXxrbC"
      },
      "source": [
        "## Fetch, Preprocessing and Data Segregation"
      ]
    },
    {
      "cell_type": "code",
      "execution_count": 8,
      "metadata": {
        "id": "mo4odprsxrbI"
      },
      "outputs": [],
      "source": [
        "# since we are using Jupyter Notebooks we can replace our argument\n",
        "# parsing code with *hard coded* arguments and values\n",
        "args = {\n",
        "  \"project_name\": \"kakashinet\"\n",
        "}"
      ]
    },
    {
      "cell_type": "code",
      "execution_count": 9,
      "metadata": {
        "colab": {
          "base_uri": "https://localhost:8080/",
          "height": 86
        },
        "id": "tyRQJHBnxrbI",
        "outputId": "b835c881-f036-4273-89ab-2ebfe891962f"
      },
      "outputs": [
        {
          "output_type": "stream",
          "name": "stderr",
          "text": [
            "\u001b[34m\u001b[1mwandb\u001b[0m: Currently logged in as: \u001b[33mthaisaraujom\u001b[0m. Use \u001b[1m`wandb login --relogin`\u001b[0m to force relogin\n"
          ]
        },
        {
          "output_type": "display_data",
          "data": {
            "text/plain": [
              "<IPython.core.display.HTML object>"
            ],
            "text/html": [
              "Tracking run with wandb version 0.13.4"
            ]
          },
          "metadata": {}
        },
        {
          "output_type": "display_data",
          "data": {
            "text/plain": [
              "<IPython.core.display.HTML object>"
            ],
            "text/html": [
              "Run data is saved locally in <code>/content/wandb/run-20221027_191152-wwt8f1a9</code>"
            ]
          },
          "metadata": {}
        },
        {
          "output_type": "display_data",
          "data": {
            "text/plain": [
              "<IPython.core.display.HTML object>"
            ],
            "text/html": [
              "Syncing run <strong><a href=\"https://wandb.ai/thaisaraujom/kakashinet/runs/wwt8f1a9\" target=\"_blank\">deep-frog-21</a></strong> to <a href=\"https://wandb.ai/thaisaraujom/kakashinet\" target=\"_blank\">Weights & Biases</a> (<a href=\"https://wandb.me/run\" target=\"_blank\">docs</a>)<br/>"
            ]
          },
          "metadata": {}
        }
      ],
      "source": [
        "# open the W&B project created in the Fetch step\n",
        "run = wandb.init(entity=\"thaisaraujom\",\n",
        "                 project=args[\"project_name\"], \n",
        "                 job_type=\"Train\")"
      ]
    },
    {
      "cell_type": "code",
      "execution_count": 10,
      "metadata": {
        "colab": {
          "base_uri": "https://localhost:8080/"
        },
        "id": "CiqyrhDYxrbI",
        "outputId": "1d164f71-e9bf-473a-eb72-3f3e16982d0a"
      },
      "outputs": [
        {
          "output_type": "stream",
          "name": "stderr",
          "text": [
            "27-10-2022 19:11:56 [INFO] accessing MNIST...\n"
          ]
        },
        {
          "output_type": "stream",
          "name": "stdout",
          "text": [
            "Downloading data from https://storage.googleapis.com/tensorflow/tf-keras-datasets/mnist.npz\n",
            "11490434/11490434 [==============================] - 0s 0us/step\n"
          ]
        },
        {
          "output_type": "stream",
          "name": "stderr",
          "text": [
            "27-10-2022 19:11:57 Train x: (60000, 28, 28)\n",
            "27-10-2022 19:11:57 Train y: (60000,)\n",
            "27-10-2022 19:11:57 Test x: (10000, 28, 28)\n",
            "27-10-2022 19:11:57 Test y: (10000,)\n"
          ]
        }
      ],
      "source": [
        "# grab the MNIST dataset (if this is your first time using this\n",
        "# dataset then the 11MB download may take a second)\n",
        "logger.info(\"[INFO] accessing MNIST...\")\n",
        "((train_x, train_y), (test_x, test_y)) = mnist.load_data()\n",
        "\n",
        "logger.info(\"Train x: {}\".format(train_x.shape))\n",
        "logger.info(\"Train y: {}\".format(train_y.shape))\n",
        "logger.info(\"Test x: {}\".format(test_x.shape))\n",
        "logger.info(\"Test y: {}\".format(test_y.shape))"
      ]
    },
    {
      "cell_type": "code",
      "execution_count": 11,
      "metadata": {
        "id": "FvPpKQBuxrbI"
      },
      "outputs": [],
      "source": [
        "# if we are using \"channels first\" ordering, then reshape the\n",
        "# design matrix such that the matrix is:\n",
        "# num_samples x depth x rows x columns\n",
        "if K.image_data_format() == \"channels_first\":\n",
        "\ttrain_x = train_x.reshape((train_x.shape[0], 1, 28, 28))\n",
        "\ttest_x = test_x.reshape((test_x.shape[0], 1, 28, 28))\n",
        " \n",
        "# otherwise, we are using \"channels last\" ordering, so the design\n",
        "# matrix shape should be: num_samples x rows x columns x depth\n",
        "else:\n",
        "\ttrain_x = train_x.reshape((train_x.shape[0], 28, 28, 1))\n",
        "\ttest_x = test_x.reshape((test_x.shape[0], 28, 28, 1))"
      ]
    },
    {
      "cell_type": "code",
      "execution_count": 12,
      "metadata": {
        "colab": {
          "base_uri": "https://localhost:8080/"
        },
        "id": "4kjHXCNcxrbI",
        "outputId": "a9049da6-4412-4d54-abd3-979840b8cce4"
      },
      "outputs": [
        {
          "output_type": "stream",
          "name": "stderr",
          "text": [
            "27-10-2022 19:11:57 Train x: (60000, 28, 28, 1)\n",
            "27-10-2022 19:11:57 Train y: (60000,)\n",
            "27-10-2022 19:11:57 Test x: (10000, 28, 28, 1)\n",
            "27-10-2022 19:11:57 Test y: (10000,)\n"
          ]
        }
      ],
      "source": [
        "logger.info(\"Train x: {}\".format(train_x.shape))\n",
        "logger.info(\"Train y: {}\".format(train_y.shape))\n",
        "logger.info(\"Test x: {}\".format(test_x.shape))\n",
        "logger.info(\"Test y: {}\".format(test_y.shape))"
      ]
    },
    {
      "cell_type": "code",
      "execution_count": 13,
      "metadata": {
        "id": "UCG3TKW-xrbI"
      },
      "outputs": [],
      "source": [
        "# scale data to the range of [0, 1]\n",
        "train_x = train_x.astype(\"float32\") / 255.0\n",
        "test_x = test_x.astype(\"float32\") / 255.0\n",
        "\n",
        "# convert the labels from integers to vectors\n",
        "lb = LabelBinarizer()\n",
        "train_y = lb.fit_transform(train_y)\n",
        "test_y = lb.transform(test_y)"
      ]
    },
    {
      "cell_type": "markdown",
      "metadata": {
        "id": "JjGj4DHvyDoq"
      },
      "source": [
        "## Training"
      ]
    },
    {
      "cell_type": "code",
      "execution_count": 14,
      "metadata": {
        "colab": {
          "base_uri": "https://localhost:8080/"
        },
        "id": "rAfI82NRyDor",
        "outputId": "7a91c433-49bc-4e69-c792-4427ffecf6c4"
      },
      "outputs": [
        {
          "output_type": "stream",
          "name": "stderr",
          "text": [
            "27-10-2022 19:11:59 [INFO] compiling model...\n",
            "27-10-2022 19:11:59 [INFO] training network...\n",
            "27-10-2022 19:11:59 From /usr/local/lib/python3.7/dist-packages/tensorflow/python/ops/nn_ops.py:5219: tensor_shape_from_node_def_name (from tensorflow.python.framework.graph_util_impl) is deprecated and will be removed in a future version.\n",
            "Instructions for updating:\n",
            "Use `tf.compat.v1.graph_util.tensor_shape_from_node_def_name`\n"
          ]
        }
      ],
      "source": [
        "# create codecarbon tracker\n",
        "# codecarbon is too much verbose, change the log level for more info\n",
        "tracker = EmissionsTracker(log_level=\"critical\")\n",
        "tracker.start()\n",
        "\n",
        "# initialize the optimizer and model\n",
        "logger.info(\"[INFO] compiling model...\")\n",
        "opt = Adam(learning_rate=0.001)\n",
        "model = KakashiNet.build(width=28, height=28, depth=1, classes=10)\n",
        "model.compile(loss=\"categorical_crossentropy\", optimizer=opt,\n",
        "              metrics=[\"accuracy\"])\n",
        "\n",
        "# train the network\n",
        "logger.info(\"[INFO] training network...\")\n",
        "history = model.fit(train_x, train_y,\n",
        "              validation_data=(test_x, test_y),\n",
        "              batch_size=64,\n",
        "              epochs=30, \n",
        "              verbose=0,\n",
        "              callbacks=[wandb.keras.WandbCallback(save_model=False,\n",
        "                                                   compute_flops=True)])\n",
        "\n",
        "# get co2 emissions from tracker\n",
        "# \"CO2 emission (in Kg)\"\n",
        "emissions = tracker.stop()"
      ]
    },
    {
      "cell_type": "markdown",
      "metadata": {
        "id": "R2jc7JR8y6Gr"
      },
      "source": [
        "## Evaluation Metrics"
      ]
    },
    {
      "cell_type": "code",
      "execution_count": 15,
      "metadata": {
        "colab": {
          "base_uri": "https://localhost:8080/",
          "height": 517
        },
        "id": "0GBCOQwty6Gr",
        "outputId": "05e548ba-2d78-4913-b20d-454993f5fccf"
      },
      "outputs": [
        {
          "output_type": "display_data",
          "data": {
            "text/plain": [
              "<Figure size 720x576 with 1 Axes>"
            ],
            "image/png": "[encoded data removed]"
          },
          "metadata": {}
        }
      ],
      "source": [
        "# plot the training loss and accuracy\n",
        "plt.style.use(\"ggplot\")\n",
        "fig, ax = plt.subplots(1,1,figsize=(10,8))\n",
        "\n",
        "ax.plot(np.arange(0, 30), history.history[\"loss\"], label=\"train_loss\",linestyle='--')\n",
        "ax.plot(np.arange(0, 30), history.history[\"val_loss\"], label=\"val_loss\",linestyle='--')\n",
        "ax.plot(np.arange(0, 30), history.history[\"accuracy\"], label=\"train_acc\")\n",
        "ax.plot(np.arange(0, 30), history.history[\"val_accuracy\"], label=\"val_acc\")\n",
        "ax.set_title(\"Training Loss and Accuracy\")\n",
        "ax.set_xlabel(\"Epoch #\")\n",
        "ax.set_ylabel(\"Loss/Accuracy\")\n",
        "ax.legend()\n",
        "plt.show()"
      ]
    },
    {
      "cell_type": "code",
      "execution_count": 16,
      "metadata": {
        "colab": {
          "base_uri": "https://localhost:8080/"
        },
        "id": "sXte_DZWy6Gr",
        "outputId": "fe9a7ff2-60f0-439a-d87a-4f62b0d02688"
      },
      "outputs": [
        {
          "output_type": "stream",
          "name": "stdout",
          "text": [
            "[INFO] 0.003313240627929607 kWh of electricity used since the begining\n",
            "[INFO] Energy consumed for RAM: 0.0001840386929624335 kWh\n",
            "[INFO] Energy consumed for all GPU: 0.0014832637845480444 kWh\n",
            "[INFO] Energy consumed for all CPU: 0.0016459381504191292 kWh\n",
            "[INFO] CO2 emission 0.0020905990526129134(in Kg)\n"
          ]
        }
      ],
      "source": [
        "print(\"[INFO] {} kWh of electricity used since the begining\".format(tracker.final_emissions_data.energy_consumed))\n",
        "print(\"[INFO] Energy consumed for RAM: {} kWh\".format(tracker.final_emissions_data.ram_energy))\n",
        "print(\"[INFO] Energy consumed for all GPU: {} kWh\".format(tracker.final_emissions_data.gpu_energy))\n",
        "print(\"[INFO] Energy consumed for all CPU: {} kWh\".format(tracker.final_emissions_data.cpu_energy))\n",
        "print(\"[INFO] CO2 emission {}(in Kg)\".format(tracker.final_emissions_data.emissions))"
      ]
    },
    {
      "cell_type": "code",
      "execution_count": 17,
      "metadata": {
        "colab": {
          "base_uri": "https://localhost:8080/"
        },
        "id": "0QBsHVMsy6Gs",
        "outputId": "21ff15db-df08-41fa-9517-cedd9c9e29b7"
      },
      "outputs": [
        {
          "output_type": "stream",
          "name": "stdout",
          "text": [
            "[INFO] evaluating network...\n",
            "313/313 [==============================] - 1s 2ms/step\n",
            "              precision    recall  f1-score   support\n",
            "\n",
            "           0       0.99      1.00      1.00       980\n",
            "           1       0.99      1.00      1.00      1135\n",
            "           2       1.00      0.99      1.00      1032\n",
            "           3       0.99      1.00      0.99      1010\n",
            "           4       1.00      0.99      0.99       982\n",
            "           5       0.99      0.99      0.99       892\n",
            "           6       1.00      0.99      0.99       958\n",
            "           7       0.99      1.00      0.99      1028\n",
            "           8       1.00      0.99      0.99       974\n",
            "           9       0.99      0.99      0.99      1009\n",
            "\n",
            "    accuracy                           0.99     10000\n",
            "   macro avg       0.99      0.99      0.99     10000\n",
            "weighted avg       0.99      0.99      0.99     10000\n",
            "\n"
          ]
        }
      ],
      "source": [
        "# evaluate the network\n",
        "print(\"[INFO] evaluating network...\")\n",
        "predictions = model.predict(test_x, batch_size=32)\n",
        "print(classification_report(test_y.argmax(axis=1),\n",
        "                            predictions.argmax(axis=1),\n",
        "                            target_names=[str(i) for i in lb.classes_]))"
      ]
    },
    {
      "cell_type": "code",
      "execution_count": 18,
      "metadata": {
        "colab": {
          "base_uri": "https://localhost:8080/",
          "height": 500
        },
        "id": "ZtlW8dcMy6Gs",
        "outputId": "49cd9f8a-4ba1-4e6a-906d-c060d804a8d7"
      },
      "outputs": [
        {
          "output_type": "display_data",
          "data": {
            "text/plain": [
              "<Figure size 720x576 with 2 Axes>"
            ],
            "image/png": "[encoded data removed]"
          },
          "metadata": {}
        }
      ],
      "source": [
        "fig_confusion_matrix, ax = plt.subplots(1,1,figsize=(10,8))\n",
        "ConfusionMatrixDisplay(confusion_matrix(predictions.argmax(axis=1),\n",
        "                                        test_y.argmax(axis=1)),\n",
        "                       display_labels=lb.classes_).plot(values_format=\".0f\",ax=ax)\n",
        "\n",
        "ax.set_xlabel(\"True Label\")\n",
        "ax.set_ylabel(\"Predicted Label\")\n",
        "ax.grid(False)\n",
        "plt.show()"
      ]
    },
    {
      "cell_type": "code",
      "execution_count": 19,
      "metadata": {
        "colab": {
          "base_uri": "https://localhost:8080/"
        },
        "id": "l6FKVFAly6Gs",
        "outputId": "855bc3fd-1fba-450e-d84c-1a326fe61479"
      },
      "outputs": [
        {
          "output_type": "stream",
          "name": "stderr",
          "text": [
            "27-10-2022 19:14:20 Uploading figures\n"
          ]
        }
      ],
      "source": [
        "# Uploading figures\n",
        "logger.info(\"Uploading figures\")\n",
        "run.log(\n",
        "    {\n",
        "        \"confusion_matrix\": wandb.Image(fig_confusion_matrix),\n",
        "        # \"other_figure\": wandb.Image(other_fig)\n",
        "    }\n",
        ")"
      ]
    },
    {
      "cell_type": "code",
      "execution_count": 20,
      "metadata": {
        "colab": {
          "base_uri": "https://localhost:8080/"
        },
        "id": "vcADzUqyy6Gs",
        "outputId": "c17e8d72-3181-4ee6-dfcd-9f28f749c012"
      },
      "outputs": [
        {
          "output_type": "stream",
          "name": "stderr",
          "text": [
            "27-10-2022 19:14:21 Validation Evaluation metrics\n",
            "27-10-2022 19:14:21 Validation Accuracy: 0.9939\n",
            "27-10-2022 19:14:21 Validation Precision: 0.9939199081240447\n",
            "27-10-2022 19:14:21 Validation Recall: 0.9939\n",
            "27-10-2022 19:14:21 Validation F1: 0.9939007026939529\n"
          ]
        }
      ],
      "source": [
        "# Evaluation Metrics\n",
        "logger.info(\"Validation Evaluation metrics\")\n",
        "fbeta = fbeta_score(test_y.argmax(axis=1), \n",
        "                    predictions.argmax(axis=1), \n",
        "                    beta=1, zero_division=1,average='weighted')\n",
        "precision = precision_score(test_y.argmax(axis=1),\n",
        "                            predictions.argmax(axis=1),\n",
        "                            zero_division=1,average='weighted')\n",
        "recall = recall_score(test_y.argmax(axis=1),\n",
        "                      predictions.argmax(axis=1),\n",
        "                      zero_division=1,average='weighted')\n",
        "acc = accuracy_score(test_y.argmax(axis=1),\n",
        "                     predictions.argmax(axis=1))\n",
        "\n",
        "logger.info(\"Validation Accuracy: {}\".format(acc))\n",
        "logger.info(\"Validation Precision: {}\".format(precision))\n",
        "logger.info(\"Validation Recall: {}\".format(recall))\n",
        "logger.info(\"Validation F1: {}\".format(fbeta))\n",
        "\n",
        "run.summary[\"Acc\"] = acc\n",
        "run.summary[\"Precision\"] = precision\n",
        "run.summary[\"Recall\"] = recall\n",
        "run.summary[\"F1\"] = fbeta\n",
        "# number of parameters\n",
        "run.summary[\"Count_Params\"] = model.count_params()\n",
        "# energy unit is kWh\n",
        "run.summary[\"Energy_Consumed\"] = tracker.final_emissions_data.energy_consumed\n",
        "run.summary[\"Energy_RAM\"] = tracker.final_emissions_data.ram_energy\n",
        "run.summary[\"Energy_GPU\"] = tracker.final_emissions_data.gpu_energy\n",
        "run.summary[\"Energy_CPU\"] = tracker.final_emissions_data.cpu_energy\n",
        "# kg\n",
        "run.summary[\"CO2_Emissions\"] = tracker.final_emissions_data.emissions"
      ]
    },
    {
      "cell_type": "code",
      "execution_count": 21,
      "metadata": {
        "colab": {
          "base_uri": "https://localhost:8080/",
          "height": 632,
          "referenced_widgets": [
            "78c746596db9494d85726218cd780619",
            "03d796176c63480d9ce1bd436f6338ea",
            "f3f1b7d190854e07891df3ee9457f7cc",
            "7b74eabf05cd49b9ac22ffc5abc0bc0a",
            "b21bc96703bf4e17a945bf6d01162cd9",
            "0ad8489eb8a242f19b868f532ef33071",
            "ddaee2735de14eb1a968372bfd3ce665",
            "42f25d88a753439792edc85393d77508"
          ]
        },
        "id": "0zXbec0uy6Gs",
        "outputId": "7086e4b7-53cb-4551-e161-204583a160e6"
      },
      "outputs": [
        {
          "output_type": "display_data",
          "data": {
            "text/plain": [
              "<IPython.core.display.HTML object>"
            ],
            "text/html": [
              "Waiting for W&B process to finish... <strong style=\"color:green\">(success).</strong>"
            ]
          },
          "metadata": {}
        },
        {
          "output_type": "display_data",
          "data": {
            "text/plain": [
              "VBox(children=(Label(value='0.023 MB of 0.023 MB uploaded (0.000 MB deduped)\\r'), FloatProgress(value=1.0, max…"
            ],
            "application/vnd.jupyter.widget-view+json": {
              "version_major": 2,
              "version_minor": 0,
              "model_id": "78c746596db9494d85726218cd780619"
            }
          },
          "metadata": {}
        },
        {
          "output_type": "display_data",
          "data": {
            "text/plain": [
              "<IPython.core.display.HTML object>"
            ],
            "text/html": [
              "<style>\n",
              "    table.wandb td:nth-child(1) { padding: 0 10px; text-align: left ; width: auto;} td:nth-child(2) {text-align: left ; width: 100%}\n",
              "    .wandb-row { display: flex; flex-direction: row; flex-wrap: wrap; justify-content: flex-start; width: 100% }\n",
              "    .wandb-col { display: flex; flex-direction: column; flex-basis: 100%; flex: 1; padding: 10px; }\n",
              "    </style>\n",
              "<div class=\"wandb-row\"><div class=\"wandb-col\"><h3>Run history:</h3><br/><table class=\"wandb\"><tr><td>accuracy</td><td>▁▆▇▇▇▇▇▇▇█████████████████████</td></tr><tr><td>epoch</td><td>▁▁▁▂▂▂▂▃▃▃▃▄▄▄▄▅▅▅▅▆▆▆▆▇▇▇▇███</td></tr><tr><td>loss</td><td>█▃▃▂▂▂▂▂▂▂▁▁▁▁▁▁▁▁▁▁▁▁▁▁▁▁▁▁▁▁</td></tr><tr><td>val_accuracy</td><td>▁▄▅▆▆▆▆▆▇▆▇▇█▇▆▇▇▇▆█▇████▇▇▇██</td></tr><tr><td>val_loss</td><td>█▅▄▃▃▃▃▃▂▃▂▂▂▂▃▂▂▂▃▂▂▁▁▁▁▂▁▁▁▁</td></tr></table><br/></div><div class=\"wandb-col\"><h3>Run summary:</h3><br/><table class=\"wandb\"><tr><td>Acc</td><td>0.9939</td></tr><tr><td>CO2_Emissions</td><td>0.00209</td></tr><tr><td>Count_Params</td><td>38396</td></tr><tr><td>Energy_CPU</td><td>0.00165</td></tr><tr><td>Energy_Consumed</td><td>0.00331</td></tr><tr><td>Energy_GPU</td><td>0.00148</td></tr><tr><td>Energy_RAM</td><td>0.00018</td></tr><tr><td>F1</td><td>0.9939</td></tr><tr><td>GFLOPs</td><td>0.00133</td></tr><tr><td>Precision</td><td>0.99392</td></tr><tr><td>Recall</td><td>0.9939</td></tr><tr><td>accuracy</td><td>0.9907</td></tr><tr><td>best_epoch</td><td>22</td></tr><tr><td>best_val_loss</td><td>0.01885</td></tr><tr><td>epoch</td><td>29</td></tr><tr><td>loss</td><td>0.03082</td></tr><tr><td>val_accuracy</td><td>0.9939</td></tr><tr><td>val_loss</td><td>0.02144</td></tr></table><br/></div></div>"
            ]
          },
          "metadata": {}
        },
        {
          "output_type": "display_data",
          "data": {
            "text/plain": [
              "<IPython.core.display.HTML object>"
            ],
            "text/html": [
              "Synced <strong style=\"color:#cdcd00\">deep-frog-21</strong>: <a href=\"https://wandb.ai/thaisaraujom/kakashinet/runs/wwt8f1a9\" target=\"_blank\">https://wandb.ai/thaisaraujom/kakashinet/runs/wwt8f1a9</a><br/>Synced 5 W&B file(s), 1 media file(s), 0 artifact file(s) and 0 other file(s)"
            ]
          },
          "metadata": {}
        },
        {
          "output_type": "display_data",
          "data": {
            "text/plain": [
              "<IPython.core.display.HTML object>"
            ],
            "text/html": [
              "Find logs at: <code>./wandb/run-20221027_191152-wwt8f1a9/logs</code>"
            ]
          },
          "metadata": {}
        }
      ],
      "source": [
        "run.finish()"
      ]
    },
    {
      "cell_type": "markdown",
      "metadata": {
        "id": "yaBAnlCqIpC6"
      },
      "source": [
        "## Sweep (hyperparameter tuning)"
      ]
    },
    {
      "cell_type": "code",
      "execution_count": null,
      "metadata": {
        "id": "hTAha3CmHbN6"
      },
      "outputs": [],
      "source": [
        "# Configure the sweep \n",
        "sweep_config = {\n",
        "    'method': 'random', \n",
        "    'metric': {\n",
        "      'name': 'val_accuracy',\n",
        "      'goal': 'maximize'   \n",
        "    },\n",
        "    'parameters': {\n",
        "        'conv_layer': {\n",
        "            'max': 3,\n",
        "            'min': 1,\n",
        "            'distribution': 'int_uniform',\n",
        "        },\n",
        "        'learn_rate': {\n",
        "            'values': [0.01,0.001,0.005],  \n",
        "        },\n",
        "        'epoch': {\n",
        "            'values': [5,30]\n",
        "        },\n",
        "        'batch_size': {\n",
        "            'values': [32,64]\n",
        "        },\n",
        "        'dropout':{\n",
        "            'values' : [0.0, 0.25, 0.5]\n",
        "        }\n",
        "    }\n",
        "}"
      ]
    },
    {
      "cell_type": "code",
      "execution_count": null,
      "metadata": {
        "id": "rMQ6GK0l-m7W"
      },
      "outputs": [],
      "source": [
        "class KakashiNetAdapt:\n",
        "\n",
        "  @staticmethod\n",
        "  def build(width, height, depth, classes, config):\n",
        "    # initialize the model\n",
        "    model = Sequential()\n",
        "    inputShape = (height, width, depth)\n",
        "    \n",
        "    # if we are using \"channels first\", update the input shape\n",
        "    if K.image_data_format() == \"channels_first\":\n",
        "      inputShape = (depth, height, width)\n",
        "   \n",
        "    # conv layer\n",
        "    for i in range(config.conv_layer):\n",
        "      model.add(Conv2D(6, (5,5), strides=1, padding='same', \n",
        "                       activation='relu', input_shape=inputShape)) #C1\n",
        "\n",
        "    model.add(BatchNormalization()) #B1\n",
        "    model.add(AveragePooling2D()) #S2\n",
        "    model.add(Dropout(config.dropout)) #D1 .25\n",
        "\n",
        "    for i in range(config.conv_layer):\n",
        "      model.add(Conv2D(16, (5,5), strides=1, padding='valid',\n",
        "                     activation='relu')) #C3\n",
        "\n",
        "    model.add(BatchNormalization()) #B2\n",
        "    model.add(AveragePooling2D()) #S4\n",
        "    model.add(Dropout(config.dropout)) #D2 .25\n",
        "\n",
        "    model.add(Flatten()) #Flatten\n",
        "    model.add(Dense(120, activation='relu')) #F5\n",
        "    model.add(Dropout(config.dropout)) #D3 \n",
        "    model.add(Dense(84, activation='relu')) #F6\n",
        "    model.add(Dropout(config.dropout)) #D4 \n",
        "\n",
        "    # softmax classifier\n",
        "    model.add(Dense(10, activation='softmax')) #Output layer\n",
        "    \n",
        "    # return the constructed network architecture\n",
        "    return model"
      ]
    },
    {
      "cell_type": "code",
      "execution_count": null,
      "metadata": {
        "colab": {
          "base_uri": "https://localhost:8080/"
        },
        "id": "BVCuXzgtIcXf",
        "outputId": "aa1bf7d4-fd25-43f8-dd51-0dd9a7cedf45"
      },
      "outputs": [
        {
          "output_type": "stream",
          "name": "stdout",
          "text": [
            "Create sweep with ID: u8irvrp6\n",
            "Sweep URL: https://wandb.ai/thaisaraujom/kakashinet/sweeps/u8irvrp6\n"
          ]
        }
      ],
      "source": [
        "# Initialize a new sweep\n",
        "# Arguments:\n",
        "#     – sweep_config: the sweep config dictionary defined above\n",
        "#     – entity: Set the username for the sweep\n",
        "#     – project: Set the project name for the sweep\n",
        "sweep_id = wandb.sweep(sweep_config,\n",
        "                       entity=\"thaisaraujom\",\n",
        "                       project=args[\"project_name\"])"
      ]
    },
    {
      "cell_type": "markdown",
      "metadata": {
        "id": "9IJnf_N1I794"
      },
      "source": [
        "#### Training"
      ]
    },
    {
      "cell_type": "code",
      "execution_count": null,
      "metadata": {
        "id": "m69npIuXI9CP"
      },
      "outputs": [],
      "source": [
        "def train():\n",
        "    with wandb.init() as run:\n",
        "      # create codecarbon tracker\n",
        "      # codecarbon is too much verbose, change the log level for more info\n",
        "      tracker = EmissionsTracker(log_level=\"critical\")\n",
        "      tracker.start()\n",
        "\n",
        "      # initialize the optimizer and model\n",
        "      print(\"[INFO] compiling model...\")\n",
        "      opt = Adam(learning_rate=run.config.learn_rate)\n",
        "      model = KakashiNetAdapt.build(width=28, \n",
        "                               height=28,\n",
        "                               depth=1, \n",
        "                               classes=10,\n",
        "                               config=run.config)\n",
        "      model.compile(loss=\"categorical_crossentropy\", \n",
        "                    optimizer=opt,metrics=[\"accuracy\"])\n",
        "\n",
        "      # train the network\n",
        "      print(\"[INFO] training network...\")\n",
        "      history = model.fit(train_x, train_y, \n",
        "                    validation_data=(test_x, test_y),\n",
        "                    batch_size=run.config.batch_size, \n",
        "                    epochs=run.config.epoch, \n",
        "                    verbose=0,\n",
        "                    callbacks=[wandb.keras.WandbCallback(save_model=False,\n",
        "                                                        compute_flops=True)]\n",
        "                )\n",
        "\n",
        "      # get co2 emissions from tracker\n",
        "      # \"CO2 emission (in Kg)\"\n",
        "      emissions = tracker.stop()\n",
        "\n",
        "      # make predictions\n",
        "      predictions = model.predict(test_x, batch_size=run.config.batch_size)\n",
        "\n",
        "      # Evaluation Metrics\n",
        "      logger.info(\"Validation Evaluation metrics\")\n",
        "      fbeta = fbeta_score(test_y.argmax(axis=1), \n",
        "                          predictions.argmax(axis=1), \n",
        "                          beta=1, zero_division=1,average='weighted')\n",
        "      precision = precision_score(test_y.argmax(axis=1),\n",
        "                                  predictions.argmax(axis=1),\n",
        "                                  zero_division=1,average='weighted')\n",
        "      recall = recall_score(test_y.argmax(axis=1),\n",
        "                            predictions.argmax(axis=1),\n",
        "                            zero_division=1,average='weighted')\n",
        "      acc = accuracy_score(test_y.argmax(axis=1),\n",
        "                          predictions.argmax(axis=1))\n",
        "\n",
        "      # get co2 emissions from tracker\n",
        "      # \"CO2 emission (in Kg)\"\n",
        "      emissions = tracker.stop()\n",
        "      logger.info(\"Validation Accuracy: {}\".format(acc))\n",
        "      logger.info(\"Validation Precision: {}\".format(precision))\n",
        "      logger.info(\"Validation Recall: {}\".format(recall))\n",
        "      logger.info(\"Validation F1: {}\".format(fbeta))\n",
        "\n",
        "      run.summary[\"Acc\"] = acc\n",
        "      run.summary[\"Precision\"] = precision\n",
        "      run.summary[\"Recall\"] = recall\n",
        "      run.summary[\"F1\"] = fbeta\n",
        "      # number of parameters\n",
        "      run.summary[\"Count_Params\"] = model.count_params()\n",
        "      # energy unit is kWh\n",
        "      run.summary[\"Energy_Consumed\"] = tracker.final_emissions_data.energy_consumed\n",
        "      run.summary[\"Energy_RAM\"] = tracker.final_emissions_data.ram_energy\n",
        "      run.summary[\"Energy_GPU\"] = tracker.final_emissions_data.gpu_energy\n",
        "      run.summary[\"Energy_CPU\"] = tracker.final_emissions_data.cpu_energy\n",
        "      # kg\n",
        "      run.summary[\"CO2_Emissions\"] = tracker.final_emissions_data.emissions"
      ]
    },
    {
      "cell_type": "code",
      "execution_count": null,
      "metadata": {
        "colab": {
          "base_uri": "https://localhost:8080/",
          "height": 1000,
          "referenced_widgets": [
            "6e7ef9635a5d4c9d9f7ad763deb65438",
            "29fcab4c6e0f4c23bb3b73d738835163",
            "983aae5bdaad4629a6b3bee65c58d270",
            "dc39c4bcba964c3d88175003103e872c",
            "390f78d2f1bb4c4281d31ea085d38d3d",
            "9f43e33ea45c4f5a91916030873d454c",
            "b46e54a0fa4745439f21fcef6d56b4b7",
            "2dc296d6e0764f2e9385cad03fef0a0e",
            "153eaea885af4f5c91ff5b687b2f84a4",
            "6bd075ce48674314a2c9d7e0f7409d85",
            "7c6d94e4e4a24126a2c629df6feebca1",
            "22e6a4708ea7482e846474b0ec5c206d",
            "553a84312e2a46f89bb96b4f3ce95335",
            "7b67442f85a8400cb1ce46899eb61fbb",
            "0a0f835754854ee9b17836024c2f7910",
            "344ff46debf0443e935fa16ba4d1eb71",
            "5e46da1a323d440dbb914321285eb074",
            "6e8129d840a54fd0b919d42c8d5fb7aa",
            "abfc38f232d64fee847e8ef1ed55e4d8",
            "265421c0833942c5916a24c80ead3fcf",
            "97ff259adf494b38bcb6696a55ad299a",
            "1db4078aef3245dfb1cdfcd767edd07b",
            "207d6d09705b43808f2e20f8fdff463a",
            "e38b1b9520824fc985c45adedcc55ad9",
            "f9d95503053a44a79d108335019b26dc",
            "4885858faded40099b27684fe12fe82f",
            "127965e493364230aeaea09870a4c5cc",
            "8a307eff15bb4998b5e8ecd48605c4a5",
            "70342527ae1d4d43b8ec73e13f63c524",
            "ad24f715ab0b4b80b6248555ebc2a36b",
            "5edf6519dd1548139d547204bf05c392",
            "6d9335ed751043598ed177ce29e3701f",
            "7612f29f29f7448bb7c368778e19b798",
            "8b3f4cb037944b6bb04243089d29511a",
            "58d18339c31744efa632e4c1281d9574",
            "048eeda0137d4ab496918212cf0a1e1a",
            "92c76c5b2bdf4875a294bf73f60553ba",
            "2aac682d755f4bffa6ad65785c97eeaa",
            "67e657a2b1314492b6b01ccca7236a4e",
            "92d6c806098c41799cc76a0f2b8e1a0d",
            "f9eefbc31d904ee5b71a2e71494e5ba5",
            "89641b79c8a6411b89c20d7d3959246a",
            "9dbfbff863594bf5acddca51981d0f5d",
            "6e1bedc0389b4afe83d4e7ebe74559f6",
            "fb8112f7216e43c3889434f3652c5f13",
            "d641421571054090a89dcec03f4dd64e",
            "282296dba10041569359a25b2efa4f46",
            "9620f5e1b7fd459fbfec71ee201b8bfe",
            "1b64a8bdf25847cb80fdb5db5a9eae1b",
            "d208472835a04800a998560a4be25dff",
            "0bddc48764eb4f518f9aecdbc6ea438a",
            "1b21dc6efa694682b4c76b981cb9a02d",
            "4d9c32c8c032406b8547df647f2fc99c",
            "09c7639bf79a4ce4a229c635fc81d8a6",
            "51aaaec261364a67a247b0f1f4edeb0f",
            "07f0a5f673b6456a8455e4ff34027a92",
            "12fb2adfdb654b788ce63c2888879421",
            "b41dfbb236da4407b7edd75f8e068658",
            "fe709d792e2d420e818daa2b7a8fec75",
            "364b5a5f08d945709535c48cb8c2642d",
            "83175c0b0d79467d9857d7ef5ef9d74e",
            "799f2953b72c427e8c855b3c46009859",
            "045bca4bd55042b0890a9e8ef73f0ebd",
            "fa018229f9de4d60ad3be69a9fe489ba"
          ]
        },
        "id": "39XXM0UaLX0-",
        "outputId": "70d606c5-f32e-4b85-c5f3-03ab9a657efe"
      },
      "outputs": [
        {
          "output_type": "stream",
          "name": "stderr",
          "text": [
            "\u001b[34m\u001b[1mwandb\u001b[0m: Agent Starting Run: h6nucsjq with config:\n",
            "\u001b[34m\u001b[1mwandb\u001b[0m: \tbatch_size: 64\n",
            "\u001b[34m\u001b[1mwandb\u001b[0m: \tconv_layer: 2\n",
            "\u001b[34m\u001b[1mwandb\u001b[0m: \tdropout: 0.25\n",
            "\u001b[34m\u001b[1mwandb\u001b[0m: \tepoch: 30\n",
            "\u001b[34m\u001b[1mwandb\u001b[0m: \tlearn_rate: 0.001\n",
            "Failed to detect the name of this notebook, you can set it manually with the WANDB_NOTEBOOK_NAME environment variable to enable code saving.\n"
          ]
        },
        {
          "output_type": "display_data",
          "data": {
            "text/plain": [
              "<IPython.core.display.HTML object>"
            ],
            "text/html": [
              "Tracking run with wandb version 0.13.4"
            ]
          },
          "metadata": {}
        },
        {
          "output_type": "display_data",
          "data": {
            "text/plain": [
              "<IPython.core.display.HTML object>"
            ],
            "text/html": [
              "Run data is saved locally in <code>/content/wandb/run-20221025_214526-h6nucsjq</code>"
            ]
          },
          "metadata": {}
        },
        {
          "output_type": "display_data",
          "data": {
            "text/plain": [
              "<IPython.core.display.HTML object>"
            ],
            "text/html": [
              "Syncing run <strong><a href=\"https://wandb.ai/thaisaraujom/kakashinet/runs/h6nucsjq\" target=\"_blank\">jolly-sweep-1</a></strong> to <a href=\"https://wandb.ai/thaisaraujom/kakashinet\" target=\"_blank\">Weights & Biases</a> (<a href=\"https://wandb.me/run\" target=\"_blank\">docs</a>)<br/>Sweep page:  <a href=\"https://wandb.ai/thaisaraujom/kakashinet/sweeps/u8irvrp6\" target=\"_blank\">https://wandb.ai/thaisaraujom/kakashinet/sweeps/u8irvrp6</a>"
            ]
          },
          "metadata": {}
        },
        {
          "output_type": "stream",
          "name": "stdout",
          "text": [
            "[INFO] compiling model...\n",
            "[INFO] training network...\n",
            "157/157 [==============================] - 0s 2ms/step\n"
          ]
        },
        {
          "output_type": "stream",
          "name": "stderr",
          "text": [
            "25-10-2022 21:47:38 Validation Evaluation metrics\n",
            "25-10-2022 21:47:39 Validation Accuracy: 0.9947\n",
            "25-10-2022 21:47:39 Validation Precision: 0.9947069107926482\n",
            "25-10-2022 21:47:39 Validation Recall: 0.9947\n",
            "25-10-2022 21:47:39 Validation F1: 0.9946988004426867\n"
          ]
        },
        {
          "output_type": "display_data",
          "data": {
            "text/plain": [
              "<IPython.core.display.HTML object>"
            ],
            "text/html": [
              "Waiting for W&B process to finish... <strong style=\"color:green\">(success).</strong>"
            ]
          },
          "metadata": {}
        },
        {
          "output_type": "display_data",
          "data": {
            "text/plain": [
              "<IPython.core.display.HTML object>"
            ],
            "text/html": [
              "<style>\n",
              "    table.wandb td:nth-child(1) { padding: 0 10px; text-align: left ; width: auto;} td:nth-child(2) {text-align: left ; width: 100%}\n",
              "    .wandb-row { display: flex; flex-direction: row; flex-wrap: wrap; justify-content: flex-start; width: 100% }\n",
              "    .wandb-col { display: flex; flex-direction: column; flex-basis: 100%; flex: 1; padding: 10px; }\n",
              "    </style>\n",
              "<div class=\"wandb-row\"><div class=\"wandb-col\"><h3>Run history:</h3><br/><table class=\"wandb\"><tr><td>accuracy</td><td>▁▆▇▇▇▇▇▇▇█████████████████████</td></tr><tr><td>epoch</td><td>▁▁▁▂▂▂▂▃▃▃▃▄▄▄▄▅▅▅▅▆▆▆▆▇▇▇▇███</td></tr><tr><td>loss</td><td>█▃▃▂▂▂▂▂▂▁▂▁▁▁▁▁▁▁▁▁▁▁▁▁▁▁▁▁▁▁</td></tr><tr><td>val_accuracy</td><td>▁▂▃▂▄▆▆▇▅▇▇▇▇▇▇▇▇█▇▆██▇▇▇▇█▇▇█</td></tr><tr><td>val_loss</td><td>█▇▆█▆▃▂▂▄▂▂▂▂▂▂▂▁▁▂▃▁▁▁▂▂▂▁▂▂▁</td></tr></table><br/></div><div class=\"wandb-col\"><h3>Run summary:</h3><br/><table class=\"wandb\"><tr><td>Acc</td><td>0.9947</td></tr><tr><td>CO2_Emissions</td><td>0.00189</td></tr><tr><td>Count_Params</td><td>38396</td></tr><tr><td>Energy_CPU</td><td>0.00151</td></tr><tr><td>Energy_Consumed</td><td>0.00299</td></tr><tr><td>Energy_GPU</td><td>0.00131</td></tr><tr><td>Energy_RAM</td><td>0.00017</td></tr><tr><td>F1</td><td>0.9947</td></tr><tr><td>GFLOPs</td><td>0.00133</td></tr><tr><td>Precision</td><td>0.99471</td></tr><tr><td>Recall</td><td>0.9947</td></tr><tr><td>accuracy</td><td>0.99063</td></tr><tr><td>best_epoch</td><td>22</td></tr><tr><td>best_val_loss</td><td>0.01694</td></tr><tr><td>epoch</td><td>29</td></tr><tr><td>loss</td><td>0.03124</td></tr><tr><td>val_accuracy</td><td>0.9947</td></tr><tr><td>val_loss</td><td>0.01816</td></tr></table><br/></div></div>"
            ]
          },
          "metadata": {}
        },
        {
          "output_type": "display_data",
          "data": {
            "text/plain": [
              "<IPython.core.display.HTML object>"
            ],
            "text/html": [
              "Synced <strong style=\"color:#cdcd00\">jolly-sweep-1</strong>: <a href=\"https://wandb.ai/thaisaraujom/kakashinet/runs/h6nucsjq\" target=\"_blank\">https://wandb.ai/thaisaraujom/kakashinet/runs/h6nucsjq</a><br/>Synced 5 W&B file(s), 0 media file(s), 0 artifact file(s) and 0 other file(s)"
            ]
          },
          "metadata": {}
        },
        {
          "output_type": "display_data",
          "data": {
            "text/plain": [
              "<IPython.core.display.HTML object>"
            ],
            "text/html": [
              "Find logs at: <code>./wandb/run-20221025_214526-h6nucsjq/logs</code>"
            ]
          },
          "metadata": {}
        },
        {
          "output_type": "stream",
          "name": "stderr",
          "text": [
            "\u001b[34m\u001b[1mwandb\u001b[0m: Agent Starting Run: fw435n8r with config:\n",
            "\u001b[34m\u001b[1mwandb\u001b[0m: \tbatch_size: 32\n",
            "\u001b[34m\u001b[1mwandb\u001b[0m: \tconv_layer: 1\n",
            "\u001b[34m\u001b[1mwandb\u001b[0m: \tdropout: 0.5\n",
            "\u001b[34m\u001b[1mwandb\u001b[0m: \tepoch: 5\n",
            "\u001b[34m\u001b[1mwandb\u001b[0m: \tlearn_rate: 0.01\n",
            "Failed to detect the name of this notebook, you can set it manually with the WANDB_NOTEBOOK_NAME environment variable to enable code saving.\n"
          ]
        },
        {
          "output_type": "display_data",
          "data": {
            "text/plain": [
              "<IPython.core.display.HTML object>"
            ],
            "text/html": [
              "Tracking run with wandb version 0.13.4"
            ]
          },
          "metadata": {}
        },
        {
          "output_type": "display_data",
          "data": {
            "text/plain": [
              "<IPython.core.display.HTML object>"
            ],
            "text/html": [
              "Run data is saved locally in <code>/content/wandb/run-20221025_214753-fw435n8r</code>"
            ]
          },
          "metadata": {}
        },
        {
          "output_type": "display_data",
          "data": {
            "text/plain": [
              "<IPython.core.display.HTML object>"
            ],
            "text/html": [
              "Syncing run <strong><a href=\"https://wandb.ai/thaisaraujom/kakashinet/runs/fw435n8r\" target=\"_blank\">sunny-sweep-2</a></strong> to <a href=\"https://wandb.ai/thaisaraujom/kakashinet\" target=\"_blank\">Weights & Biases</a> (<a href=\"https://wandb.me/run\" target=\"_blank\">docs</a>)<br/>Sweep page:  <a href=\"https://wandb.ai/thaisaraujom/kakashinet/sweeps/u8irvrp6\" target=\"_blank\">https://wandb.ai/thaisaraujom/kakashinet/sweeps/u8irvrp6</a>"
            ]
          },
          "metadata": {}
        },
        {
          "output_type": "stream",
          "name": "stdout",
          "text": [
            "[INFO] compiling model...\n",
            "[INFO] training network...\n",
            "313/313 [==============================] - 1s 2ms/step\n"
          ]
        },
        {
          "output_type": "stream",
          "name": "stderr",
          "text": [
            "25-10-2022 21:48:41 Validation Evaluation metrics\n",
            "25-10-2022 21:48:41 Validation Accuracy: 0.9693\n",
            "25-10-2022 21:48:41 Validation Precision: 0.9695810936082149\n",
            "25-10-2022 21:48:41 Validation Recall: 0.9693\n",
            "25-10-2022 21:48:41 Validation F1: 0.9692997369299272\n"
          ]
        },
        {
          "output_type": "display_data",
          "data": {
            "text/plain": [
              "<IPython.core.display.HTML object>"
            ],
            "text/html": [
              "Waiting for W&B process to finish... <strong style=\"color:green\">(success).</strong>"
            ]
          },
          "metadata": {}
        },
        {
          "output_type": "display_data",
          "data": {
            "text/plain": [
              "VBox(children=(Label(value='0.000 MB of 0.000 MB uploaded (0.000 MB deduped)\\r'), FloatProgress(value=1.0, max…"
            ],
            "application/vnd.jupyter.widget-view+json": {
              "version_major": 2,
              "version_minor": 0,
              "model_id": "6e7ef9635a5d4c9d9f7ad763deb65438"
            }
          },
          "metadata": {}
        },
        {
          "output_type": "display_data",
          "data": {
            "text/plain": [
              "<IPython.core.display.HTML object>"
            ],
            "text/html": [
              "<style>\n",
              "    table.wandb td:nth-child(1) { padding: 0 10px; text-align: left ; width: auto;} td:nth-child(2) {text-align: left ; width: 100%}\n",
              "    .wandb-row { display: flex; flex-direction: row; flex-wrap: wrap; justify-content: flex-start; width: 100% }\n",
              "    .wandb-col { display: flex; flex-direction: column; flex-basis: 100%; flex: 1; padding: 10px; }\n",
              "    </style>\n",
              "<div class=\"wandb-row\"><div class=\"wandb-col\"><h3>Run history:</h3><br/><table class=\"wandb\"><tr><td>accuracy</td><td>▁▇███</td></tr><tr><td>epoch</td><td>▁▃▅▆█</td></tr><tr><td>loss</td><td>█▁▁▁▁</td></tr><tr><td>val_accuracy</td><td>▁▅█▄▄</td></tr><tr><td>val_loss</td><td>█▅▁▅█</td></tr></table><br/></div><div class=\"wandb-col\"><h3>Run summary:</h3><br/><table class=\"wandb\"><tr><td>Acc</td><td>0.9693</td></tr><tr><td>CO2_Emissions</td><td>0.00059</td></tr><tr><td>Count_Params</td><td>61794</td></tr><tr><td>Energy_CPU</td><td>0.0005</td></tr><tr><td>Energy_Consumed</td><td>0.00093</td></tr><tr><td>Energy_GPU</td><td>0.00037</td></tr><tr><td>Energy_RAM</td><td>6e-05</td></tr><tr><td>F1</td><td>0.9693</td></tr><tr><td>GFLOPs</td><td>0.00042</td></tr><tr><td>Precision</td><td>0.96958</td></tr><tr><td>Recall</td><td>0.9693</td></tr><tr><td>accuracy</td><td>0.88835</td></tr><tr><td>best_epoch</td><td>2</td></tr><tr><td>best_val_loss</td><td>0.10102</td></tr><tr><td>epoch</td><td>4</td></tr><tr><td>loss</td><td>0.45204</td></tr><tr><td>val_accuracy</td><td>0.9693</td></tr><tr><td>val_loss</td><td>0.11541</td></tr></table><br/></div></div>"
            ]
          },
          "metadata": {}
        },
        {
          "output_type": "display_data",
          "data": {
            "text/plain": [
              "<IPython.core.display.HTML object>"
            ],
            "text/html": [
              "Synced <strong style=\"color:#cdcd00\">sunny-sweep-2</strong>: <a href=\"https://wandb.ai/thaisaraujom/kakashinet/runs/fw435n8r\" target=\"_blank\">https://wandb.ai/thaisaraujom/kakashinet/runs/fw435n8r</a><br/>Synced 5 W&B file(s), 0 media file(s), 0 artifact file(s) and 0 other file(s)"
            ]
          },
          "metadata": {}
        },
        {
          "output_type": "display_data",
          "data": {
            "text/plain": [
              "<IPython.core.display.HTML object>"
            ],
            "text/html": [
              "Find logs at: <code>./wandb/run-20221025_214753-fw435n8r/logs</code>"
            ]
          },
          "metadata": {}
        },
        {
          "output_type": "stream",
          "name": "stderr",
          "text": [
            "\u001b[34m\u001b[1mwandb\u001b[0m: Agent Starting Run: 68f2r2p2 with config:\n",
            "\u001b[34m\u001b[1mwandb\u001b[0m: \tbatch_size: 32\n",
            "\u001b[34m\u001b[1mwandb\u001b[0m: \tconv_layer: 1\n",
            "\u001b[34m\u001b[1mwandb\u001b[0m: \tdropout: 0.25\n",
            "\u001b[34m\u001b[1mwandb\u001b[0m: \tepoch: 5\n",
            "\u001b[34m\u001b[1mwandb\u001b[0m: \tlearn_rate: 0.005\n",
            "Failed to detect the name of this notebook, you can set it manually with the WANDB_NOTEBOOK_NAME environment variable to enable code saving.\n"
          ]
        },
        {
          "output_type": "display_data",
          "data": {
            "text/plain": [
              "<IPython.core.display.HTML object>"
            ],
            "text/html": [
              "Tracking run with wandb version 0.13.4"
            ]
          },
          "metadata": {}
        },
        {
          "output_type": "display_data",
          "data": {
            "text/plain": [
              "<IPython.core.display.HTML object>"
            ],
            "text/html": [
              "Run data is saved locally in <code>/content/wandb/run-20221025_214851-68f2r2p2</code>"
            ]
          },
          "metadata": {}
        },
        {
          "output_type": "display_data",
          "data": {
            "text/plain": [
              "<IPython.core.display.HTML object>"
            ],
            "text/html": [
              "Syncing run <strong><a href=\"https://wandb.ai/thaisaraujom/kakashinet/runs/68f2r2p2\" target=\"_blank\">peach-sweep-3</a></strong> to <a href=\"https://wandb.ai/thaisaraujom/kakashinet\" target=\"_blank\">Weights & Biases</a> (<a href=\"https://wandb.me/run\" target=\"_blank\">docs</a>)<br/>Sweep page:  <a href=\"https://wandb.ai/thaisaraujom/kakashinet/sweeps/u8irvrp6\" target=\"_blank\">https://wandb.ai/thaisaraujom/kakashinet/sweeps/u8irvrp6</a>"
            ]
          },
          "metadata": {}
        },
        {
          "output_type": "stream",
          "name": "stdout",
          "text": [
            "[INFO] compiling model...\n",
            "[INFO] training network...\n",
            "313/313 [==============================] - 1s 2ms/step\n"
          ]
        },
        {
          "output_type": "stream",
          "name": "stderr",
          "text": [
            "25-10-2022 21:49:31 Validation Evaluation metrics\n",
            "25-10-2022 21:49:31 Validation Accuracy: 0.9884\n",
            "25-10-2022 21:49:31 Validation Precision: 0.9885252312063365\n",
            "25-10-2022 21:49:31 Validation Recall: 0.9884\n",
            "25-10-2022 21:49:31 Validation F1: 0.9884011530801093\n"
          ]
        },
        {
          "output_type": "display_data",
          "data": {
            "text/plain": [
              "<IPython.core.display.HTML object>"
            ],
            "text/html": [
              "Waiting for W&B process to finish... <strong style=\"color:green\">(success).</strong>"
            ]
          },
          "metadata": {}
        },
        {
          "output_type": "display_data",
          "data": {
            "text/plain": [
              "VBox(children=(Label(value='0.000 MB of 0.000 MB uploaded (0.000 MB deduped)\\r'), FloatProgress(value=1.0, max…"
            ],
            "application/vnd.jupyter.widget-view+json": {
              "version_major": 2,
              "version_minor": 0,
              "model_id": "153eaea885af4f5c91ff5b687b2f84a4"
            }
          },
          "metadata": {}
        },
        {
          "output_type": "display_data",
          "data": {
            "text/plain": [
              "<IPython.core.display.HTML object>"
            ],
            "text/html": [
              "<style>\n",
              "    table.wandb td:nth-child(1) { padding: 0 10px; text-align: left ; width: auto;} td:nth-child(2) {text-align: left ; width: 100%}\n",
              "    .wandb-row { display: flex; flex-direction: row; flex-wrap: wrap; justify-content: flex-start; width: 100% }\n",
              "    .wandb-col { display: flex; flex-direction: column; flex-basis: 100%; flex: 1; padding: 10px; }\n",
              "    </style>\n",
              "<div class=\"wandb-row\"><div class=\"wandb-col\"><h3>Run history:</h3><br/><table class=\"wandb\"><tr><td>accuracy</td><td>▁▇▇██</td></tr><tr><td>epoch</td><td>▁▃▅▆█</td></tr><tr><td>loss</td><td>█▃▂▁▁</td></tr><tr><td>val_accuracy</td><td>▁▆▇▁█</td></tr><tr><td>val_loss</td><td>▇▃▁█▁</td></tr></table><br/></div><div class=\"wandb-col\"><h3>Run summary:</h3><br/><table class=\"wandb\"><tr><td>Acc</td><td>0.9884</td></tr><tr><td>CO2_Emissions</td><td>0.00049</td></tr><tr><td>Count_Params</td><td>61794</td></tr><tr><td>Energy_CPU</td><td>0.00042</td></tr><tr><td>Energy_Consumed</td><td>0.00078</td></tr><tr><td>Energy_GPU</td><td>0.00031</td></tr><tr><td>Energy_RAM</td><td>5e-05</td></tr><tr><td>F1</td><td>0.9884</td></tr><tr><td>GFLOPs</td><td>0.00042</td></tr><tr><td>Precision</td><td>0.98853</td></tr><tr><td>Recall</td><td>0.9884</td></tr><tr><td>accuracy</td><td>0.97243</td></tr><tr><td>best_epoch</td><td>4</td></tr><tr><td>best_val_loss</td><td>0.03844</td></tr><tr><td>epoch</td><td>4</td></tr><tr><td>loss</td><td>0.10205</td></tr><tr><td>val_accuracy</td><td>0.9884</td></tr><tr><td>val_loss</td><td>0.03844</td></tr></table><br/></div></div>"
            ]
          },
          "metadata": {}
        },
        {
          "output_type": "display_data",
          "data": {
            "text/plain": [
              "<IPython.core.display.HTML object>"
            ],
            "text/html": [
              "Synced <strong style=\"color:#cdcd00\">peach-sweep-3</strong>: <a href=\"https://wandb.ai/thaisaraujom/kakashinet/runs/68f2r2p2\" target=\"_blank\">https://wandb.ai/thaisaraujom/kakashinet/runs/68f2r2p2</a><br/>Synced 5 W&B file(s), 0 media file(s), 0 artifact file(s) and 0 other file(s)"
            ]
          },
          "metadata": {}
        },
        {
          "output_type": "display_data",
          "data": {
            "text/plain": [
              "<IPython.core.display.HTML object>"
            ],
            "text/html": [
              "Find logs at: <code>./wandb/run-20221025_214851-68f2r2p2/logs</code>"
            ]
          },
          "metadata": {}
        },
        {
          "output_type": "stream",
          "name": "stderr",
          "text": [
            "\u001b[34m\u001b[1mwandb\u001b[0m: Agent Starting Run: 5ffl28r1 with config:\n",
            "\u001b[34m\u001b[1mwandb\u001b[0m: \tbatch_size: 32\n",
            "\u001b[34m\u001b[1mwandb\u001b[0m: \tconv_layer: 1\n",
            "\u001b[34m\u001b[1mwandb\u001b[0m: \tdropout: 0.5\n",
            "\u001b[34m\u001b[1mwandb\u001b[0m: \tepoch: 30\n",
            "\u001b[34m\u001b[1mwandb\u001b[0m: \tlearn_rate: 0.001\n",
            "Failed to detect the name of this notebook, you can set it manually with the WANDB_NOTEBOOK_NAME environment variable to enable code saving.\n"
          ]
        },
        {
          "output_type": "display_data",
          "data": {
            "text/plain": [
              "<IPython.core.display.HTML object>"
            ],
            "text/html": [
              "Tracking run with wandb version 0.13.4"
            ]
          },
          "metadata": {}
        },
        {
          "output_type": "display_data",
          "data": {
            "text/plain": [
              "<IPython.core.display.HTML object>"
            ],
            "text/html": [
              "Run data is saved locally in <code>/content/wandb/run-20221025_214943-5ffl28r1</code>"
            ]
          },
          "metadata": {}
        },
        {
          "output_type": "display_data",
          "data": {
            "text/plain": [
              "<IPython.core.display.HTML object>"
            ],
            "text/html": [
              "Syncing run <strong><a href=\"https://wandb.ai/thaisaraujom/kakashinet/runs/5ffl28r1\" target=\"_blank\">smooth-sweep-4</a></strong> to <a href=\"https://wandb.ai/thaisaraujom/kakashinet\" target=\"_blank\">Weights & Biases</a> (<a href=\"https://wandb.me/run\" target=\"_blank\">docs</a>)<br/>Sweep page:  <a href=\"https://wandb.ai/thaisaraujom/kakashinet/sweeps/u8irvrp6\" target=\"_blank\">https://wandb.ai/thaisaraujom/kakashinet/sweeps/u8irvrp6</a>"
            ]
          },
          "metadata": {}
        },
        {
          "output_type": "stream",
          "name": "stdout",
          "text": [
            "[INFO] compiling model...\n",
            "[INFO] training network...\n",
            "313/313 [==============================] - 1s 2ms/step\n"
          ]
        },
        {
          "output_type": "stream",
          "name": "stderr",
          "text": [
            "25-10-2022 21:53:09 Validation Evaluation metrics\n",
            "25-10-2022 21:53:09 Validation Accuracy: 0.989\n",
            "25-10-2022 21:53:09 Validation Precision: 0.9890148892754176\n",
            "25-10-2022 21:53:09 Validation Recall: 0.989\n",
            "25-10-2022 21:53:09 Validation F1: 0.9889878978151304\n"
          ]
        },
        {
          "output_type": "display_data",
          "data": {
            "text/plain": [
              "<IPython.core.display.HTML object>"
            ],
            "text/html": [
              "Waiting for W&B process to finish... <strong style=\"color:green\">(success).</strong>"
            ]
          },
          "metadata": {}
        },
        {
          "output_type": "display_data",
          "data": {
            "text/plain": [
              "VBox(children=(Label(value='0.000 MB of 0.000 MB uploaded (0.000 MB deduped)\\r'), FloatProgress(value=1.0, max…"
            ],
            "application/vnd.jupyter.widget-view+json": {
              "version_major": 2,
              "version_minor": 0,
              "model_id": "5e46da1a323d440dbb914321285eb074"
            }
          },
          "metadata": {}
        },
        {
          "output_type": "display_data",
          "data": {
            "text/plain": [
              "<IPython.core.display.HTML object>"
            ],
            "text/html": [
              "<style>\n",
              "    table.wandb td:nth-child(1) { padding: 0 10px; text-align: left ; width: auto;} td:nth-child(2) {text-align: left ; width: 100%}\n",
              "    .wandb-row { display: flex; flex-direction: row; flex-wrap: wrap; justify-content: flex-start; width: 100% }\n",
              "    .wandb-col { display: flex; flex-direction: column; flex-basis: 100%; flex: 1; padding: 10px; }\n",
              "    </style>\n",
              "<div class=\"wandb-row\"><div class=\"wandb-col\"><h3>Run history:</h3><br/><table class=\"wandb\"><tr><td>accuracy</td><td>▁▆▇▇▇▇▇███████████████████████</td></tr><tr><td>epoch</td><td>▁▁▁▂▂▂▂▃▃▃▃▄▄▄▄▅▅▅▅▆▆▆▆▇▇▇▇███</td></tr><tr><td>loss</td><td>█▃▂▂▂▂▂▂▁▁▁▁▁▁▁▁▁▁▁▁▁▁▁▁▁▁▁▁▁▁</td></tr><tr><td>val_accuracy</td><td>▁▄▅▆▆▇▇▇▇▇▇▇▇▇████▇█████▇█████</td></tr><tr><td>val_loss</td><td>█▅▄▃▃▂▂▂▂▂▂▁▂▁▂▁▁▁▁▁▁▁▁▁▁▁▁▁▁▁</td></tr></table><br/></div><div class=\"wandb-col\"><h3>Run summary:</h3><br/><table class=\"wandb\"><tr><td>Acc</td><td>0.989</td></tr><tr><td>CO2_Emissions</td><td>0.00279</td></tr><tr><td>Count_Params</td><td>61794</td></tr><tr><td>Energy_CPU</td><td>0.00237</td></tr><tr><td>Energy_Consumed</td><td>0.00442</td></tr><tr><td>Energy_GPU</td><td>0.00179</td></tr><tr><td>Energy_RAM</td><td>0.00027</td></tr><tr><td>F1</td><td>0.98899</td></tr><tr><td>GFLOPs</td><td>0.00042</td></tr><tr><td>Precision</td><td>0.98901</td></tr><tr><td>Recall</td><td>0.989</td></tr><tr><td>accuracy</td><td>0.96183</td></tr><tr><td>best_epoch</td><td>21</td></tr><tr><td>best_val_loss</td><td>0.03274</td></tr><tr><td>epoch</td><td>29</td></tr><tr><td>loss</td><td>0.13484</td></tr><tr><td>val_accuracy</td><td>0.989</td></tr><tr><td>val_loss</td><td>0.03323</td></tr></table><br/></div></div>"
            ]
          },
          "metadata": {}
        },
        {
          "output_type": "display_data",
          "data": {
            "text/plain": [
              "<IPython.core.display.HTML object>"
            ],
            "text/html": [
              "Synced <strong style=\"color:#cdcd00\">smooth-sweep-4</strong>: <a href=\"https://wandb.ai/thaisaraujom/kakashinet/runs/5ffl28r1\" target=\"_blank\">https://wandb.ai/thaisaraujom/kakashinet/runs/5ffl28r1</a><br/>Synced 5 W&B file(s), 0 media file(s), 0 artifact file(s) and 0 other file(s)"
            ]
          },
          "metadata": {}
        },
        {
          "output_type": "display_data",
          "data": {
            "text/plain": [
              "<IPython.core.display.HTML object>"
            ],
            "text/html": [
              "Find logs at: <code>./wandb/run-20221025_214943-5ffl28r1/logs</code>"
            ]
          },
          "metadata": {}
        },
        {
          "output_type": "stream",
          "name": "stderr",
          "text": [
            "\u001b[34m\u001b[1mwandb\u001b[0m: Agent Starting Run: rsd52k2d with config:\n",
            "\u001b[34m\u001b[1mwandb\u001b[0m: \tbatch_size: 64\n",
            "\u001b[34m\u001b[1mwandb\u001b[0m: \tconv_layer: 1\n",
            "\u001b[34m\u001b[1mwandb\u001b[0m: \tdropout: 0\n",
            "\u001b[34m\u001b[1mwandb\u001b[0m: \tepoch: 30\n",
            "\u001b[34m\u001b[1mwandb\u001b[0m: \tlearn_rate: 0.005\n",
            "Failed to detect the name of this notebook, you can set it manually with the WANDB_NOTEBOOK_NAME environment variable to enable code saving.\n"
          ]
        },
        {
          "output_type": "display_data",
          "data": {
            "text/plain": [
              "<IPython.core.display.HTML object>"
            ],
            "text/html": [
              "Tracking run with wandb version 0.13.4"
            ]
          },
          "metadata": {}
        },
        {
          "output_type": "display_data",
          "data": {
            "text/plain": [
              "<IPython.core.display.HTML object>"
            ],
            "text/html": [
              "Run data is saved locally in <code>/content/wandb/run-20221025_215319-rsd52k2d</code>"
            ]
          },
          "metadata": {}
        },
        {
          "output_type": "display_data",
          "data": {
            "text/plain": [
              "<IPython.core.display.HTML object>"
            ],
            "text/html": [
              "Syncing run <strong><a href=\"https://wandb.ai/thaisaraujom/kakashinet/runs/rsd52k2d\" target=\"_blank\">fresh-sweep-5</a></strong> to <a href=\"https://wandb.ai/thaisaraujom/kakashinet\" target=\"_blank\">Weights & Biases</a> (<a href=\"https://wandb.me/run\" target=\"_blank\">docs</a>)<br/>Sweep page:  <a href=\"https://wandb.ai/thaisaraujom/kakashinet/sweeps/u8irvrp6\" target=\"_blank\">https://wandb.ai/thaisaraujom/kakashinet/sweeps/u8irvrp6</a>"
            ]
          },
          "metadata": {}
        },
        {
          "output_type": "stream",
          "name": "stdout",
          "text": [
            "[INFO] compiling model...\n",
            "[INFO] training network...\n",
            "157/157 [==============================] - 0s 2ms/step\n"
          ]
        },
        {
          "output_type": "stream",
          "name": "stderr",
          "text": [
            "25-10-2022 21:55:17 Validation Evaluation metrics\n",
            "25-10-2022 21:55:17 Validation Accuracy: 0.9922\n",
            "25-10-2022 21:55:17 Validation Precision: 0.9922231900353515\n",
            "25-10-2022 21:55:17 Validation Recall: 0.9922\n",
            "25-10-2022 21:55:17 Validation F1: 0.9921978590906325\n"
          ]
        },
        {
          "output_type": "display_data",
          "data": {
            "text/plain": [
              "<IPython.core.display.HTML object>"
            ],
            "text/html": [
              "Waiting for W&B process to finish... <strong style=\"color:green\">(success).</strong>"
            ]
          },
          "metadata": {}
        },
        {
          "output_type": "display_data",
          "data": {
            "text/plain": [
              "VBox(children=(Label(value='0.000 MB of 0.000 MB uploaded (0.000 MB deduped)\\r'), FloatProgress(value=1.0, max…"
            ],
            "application/vnd.jupyter.widget-view+json": {
              "version_major": 2,
              "version_minor": 0,
              "model_id": "f9d95503053a44a79d108335019b26dc"
            }
          },
          "metadata": {}
        },
        {
          "output_type": "display_data",
          "data": {
            "text/plain": [
              "<IPython.core.display.HTML object>"
            ],
            "text/html": [
              "<style>\n",
              "    table.wandb td:nth-child(1) { padding: 0 10px; text-align: left ; width: auto;} td:nth-child(2) {text-align: left ; width: 100%}\n",
              "    .wandb-row { display: flex; flex-direction: row; flex-wrap: wrap; justify-content: flex-start; width: 100% }\n",
              "    .wandb-col { display: flex; flex-direction: column; flex-basis: 100%; flex: 1; padding: 10px; }\n",
              "    </style>\n",
              "<div class=\"wandb-row\"><div class=\"wandb-col\"><h3>Run history:</h3><br/><table class=\"wandb\"><tr><td>accuracy</td><td>▁▅▆▆▆▇▇▇▇▇▇▇▇▇████████████████</td></tr><tr><td>epoch</td><td>▁▁▁▂▂▂▂▃▃▃▃▄▄▄▄▅▅▅▅▆▆▆▆▇▇▇▇███</td></tr><tr><td>loss</td><td>█▄▃▃▂▂▂▂▂▂▂▂▂▁▁▁▁▁▁▁▁▁▁▁▁▁▁▁▁▁</td></tr><tr><td>val_accuracy</td><td>▁▁▁▆▄▄▅▅▅▇▇▇▇▇▆▇▆▇▆▇▆▅▇▆▆▇▆▇▅█</td></tr><tr><td>val_loss</td><td>▅▅▅▂▄▄▃▂▄▂▂▁▁▂▃▁▄▂▅▃▅█▃▇▆▅▆▆█▃</td></tr></table><br/></div><div class=\"wandb-col\"><h3>Run summary:</h3><br/><table class=\"wandb\"><tr><td>Acc</td><td>0.9922</td></tr><tr><td>CO2_Emissions</td><td>0.00159</td></tr><tr><td>Count_Params</td><td>61794</td></tr><tr><td>Energy_CPU</td><td>0.00133</td></tr><tr><td>Energy_Consumed</td><td>0.00251</td></tr><tr><td>Energy_GPU</td><td>0.00104</td></tr><tr><td>Energy_RAM</td><td>0.00015</td></tr><tr><td>F1</td><td>0.9922</td></tr><tr><td>GFLOPs</td><td>0.00042</td></tr><tr><td>Precision</td><td>0.99222</td></tr><tr><td>Recall</td><td>0.9922</td></tr><tr><td>accuracy</td><td>0.99798</td></tr><tr><td>best_epoch</td><td>11</td></tr><tr><td>best_val_loss</td><td>0.03808</td></tr><tr><td>epoch</td><td>29</td></tr><tr><td>loss</td><td>0.00947</td></tr><tr><td>val_accuracy</td><td>0.9922</td></tr><tr><td>val_loss</td><td>0.05159</td></tr></table><br/></div></div>"
            ]
          },
          "metadata": {}
        },
        {
          "output_type": "display_data",
          "data": {
            "text/plain": [
              "<IPython.core.display.HTML object>"
            ],
            "text/html": [
              "Synced <strong style=\"color:#cdcd00\">fresh-sweep-5</strong>: <a href=\"https://wandb.ai/thaisaraujom/kakashinet/runs/rsd52k2d\" target=\"_blank\">https://wandb.ai/thaisaraujom/kakashinet/runs/rsd52k2d</a><br/>Synced 5 W&B file(s), 0 media file(s), 0 artifact file(s) and 0 other file(s)"
            ]
          },
          "metadata": {}
        },
        {
          "output_type": "display_data",
          "data": {
            "text/plain": [
              "<IPython.core.display.HTML object>"
            ],
            "text/html": [
              "Find logs at: <code>./wandb/run-20221025_215319-rsd52k2d/logs</code>"
            ]
          },
          "metadata": {}
        },
        {
          "output_type": "stream",
          "name": "stderr",
          "text": [
            "\u001b[34m\u001b[1mwandb\u001b[0m: Agent Starting Run: ihle49ob with config:\n",
            "\u001b[34m\u001b[1mwandb\u001b[0m: \tbatch_size: 64\n",
            "\u001b[34m\u001b[1mwandb\u001b[0m: \tconv_layer: 3\n",
            "\u001b[34m\u001b[1mwandb\u001b[0m: \tdropout: 0.5\n",
            "\u001b[34m\u001b[1mwandb\u001b[0m: \tepoch: 5\n",
            "\u001b[34m\u001b[1mwandb\u001b[0m: \tlearn_rate: 0.001\n",
            "Failed to detect the name of this notebook, you can set it manually with the WANDB_NOTEBOOK_NAME environment variable to enable code saving.\n"
          ]
        },
        {
          "output_type": "display_data",
          "data": {
            "text/plain": [
              "<IPython.core.display.HTML object>"
            ],
            "text/html": [
              "Tracking run with wandb version 0.13.4"
            ]
          },
          "metadata": {}
        },
        {
          "output_type": "display_data",
          "data": {
            "text/plain": [
              "<IPython.core.display.HTML object>"
            ],
            "text/html": [
              "Run data is saved locally in <code>/content/wandb/run-20221025_215531-ihle49ob</code>"
            ]
          },
          "metadata": {}
        },
        {
          "output_type": "display_data",
          "data": {
            "text/plain": [
              "<IPython.core.display.HTML object>"
            ],
            "text/html": [
              "Syncing run <strong><a href=\"https://wandb.ai/thaisaraujom/kakashinet/runs/ihle49ob\" target=\"_blank\">scarlet-sweep-6</a></strong> to <a href=\"https://wandb.ai/thaisaraujom/kakashinet\" target=\"_blank\">Weights & Biases</a> (<a href=\"https://wandb.me/run\" target=\"_blank\">docs</a>)<br/>Sweep page:  <a href=\"https://wandb.ai/thaisaraujom/kakashinet/sweeps/u8irvrp6\" target=\"_blank\">https://wandb.ai/thaisaraujom/kakashinet/sweeps/u8irvrp6</a>"
            ]
          },
          "metadata": {}
        },
        {
          "output_type": "stream",
          "name": "stdout",
          "text": [
            "[INFO] compiling model...\n",
            "[INFO] training network...\n",
            "157/157 [==============================] - 0s 2ms/step\n"
          ]
        },
        {
          "output_type": "stream",
          "name": "stderr",
          "text": [
            "25-10-2022 21:56:00 Validation Evaluation metrics\n",
            "25-10-2022 21:56:00 Validation Accuracy: 0.9845\n",
            "25-10-2022 21:56:00 Validation Precision: 0.9845353215006849\n",
            "25-10-2022 21:56:00 Validation Recall: 0.9845\n",
            "25-10-2022 21:56:00 Validation F1: 0.9844918579483296\n"
          ]
        },
        {
          "output_type": "display_data",
          "data": {
            "text/plain": [
              "<IPython.core.display.HTML object>"
            ],
            "text/html": [
              "Waiting for W&B process to finish... <strong style=\"color:green\">(success).</strong>"
            ]
          },
          "metadata": {}
        },
        {
          "output_type": "display_data",
          "data": {
            "text/plain": [
              "VBox(children=(Label(value='0.000 MB of 0.000 MB uploaded (0.000 MB deduped)\\r'), FloatProgress(value=1.0, max…"
            ],
            "application/vnd.jupyter.widget-view+json": {
              "version_major": 2,
              "version_minor": 0,
              "model_id": "7612f29f29f7448bb7c368778e19b798"
            }
          },
          "metadata": {}
        },
        {
          "output_type": "display_data",
          "data": {
            "text/plain": [
              "<IPython.core.display.HTML object>"
            ],
            "text/html": [
              "<style>\n",
              "    table.wandb td:nth-child(1) { padding: 0 10px; text-align: left ; width: auto;} td:nth-child(2) {text-align: left ; width: 100%}\n",
              "    .wandb-row { display: flex; flex-direction: row; flex-wrap: wrap; justify-content: flex-start; width: 100% }\n",
              "    .wandb-col { display: flex; flex-direction: column; flex-basis: 100%; flex: 1; padding: 10px; }\n",
              "    </style>\n",
              "<div class=\"wandb-row\"><div class=\"wandb-col\"><h3>Run history:</h3><br/><table class=\"wandb\"><tr><td>accuracy</td><td>▁▆▇██</td></tr><tr><td>epoch</td><td>▁▃▅▆█</td></tr><tr><td>loss</td><td>█▃▂▁▁</td></tr><tr><td>val_accuracy</td><td>▁▅███</td></tr><tr><td>val_loss</td><td>█▃▂▂▁</td></tr></table><br/></div><div class=\"wandb-col\"><h3>Run summary:</h3><br/><table class=\"wandb\"><tr><td>Acc</td><td>0.9845</td></tr><tr><td>CO2_Emissions</td><td>0.00038</td></tr><tr><td>Count_Params</td><td>30358</td></tr><tr><td>Energy_CPU</td><td>0.0003</td></tr><tr><td>Energy_Consumed</td><td>0.00061</td></tr><tr><td>Energy_GPU</td><td>0.00027</td></tr><tr><td>Energy_RAM</td><td>3e-05</td></tr><tr><td>F1</td><td>0.98449</td></tr><tr><td>GFLOPs</td><td>0.00205</td></tr><tr><td>Precision</td><td>0.98454</td></tr><tr><td>Recall</td><td>0.9845</td></tr><tr><td>accuracy</td><td>0.87248</td></tr><tr><td>best_epoch</td><td>4</td></tr><tr><td>best_val_loss</td><td>0.05444</td></tr><tr><td>epoch</td><td>4</td></tr><tr><td>loss</td><td>0.37547</td></tr><tr><td>val_accuracy</td><td>0.9845</td></tr><tr><td>val_loss</td><td>0.05444</td></tr></table><br/></div></div>"
            ]
          },
          "metadata": {}
        },
        {
          "output_type": "display_data",
          "data": {
            "text/plain": [
              "<IPython.core.display.HTML object>"
            ],
            "text/html": [
              "Synced <strong style=\"color:#cdcd00\">scarlet-sweep-6</strong>: <a href=\"https://wandb.ai/thaisaraujom/kakashinet/runs/ihle49ob\" target=\"_blank\">https://wandb.ai/thaisaraujom/kakashinet/runs/ihle49ob</a><br/>Synced 5 W&B file(s), 0 media file(s), 0 artifact file(s) and 0 other file(s)"
            ]
          },
          "metadata": {}
        },
        {
          "output_type": "display_data",
          "data": {
            "text/plain": [
              "<IPython.core.display.HTML object>"
            ],
            "text/html": [
              "Find logs at: <code>./wandb/run-20221025_215531-ihle49ob/logs</code>"
            ]
          },
          "metadata": {}
        },
        {
          "output_type": "stream",
          "name": "stderr",
          "text": [
            "\u001b[34m\u001b[1mwandb\u001b[0m: Agent Starting Run: rq5wayqb with config:\n",
            "\u001b[34m\u001b[1mwandb\u001b[0m: \tbatch_size: 32\n",
            "\u001b[34m\u001b[1mwandb\u001b[0m: \tconv_layer: 1\n",
            "\u001b[34m\u001b[1mwandb\u001b[0m: \tdropout: 0\n",
            "\u001b[34m\u001b[1mwandb\u001b[0m: \tepoch: 5\n",
            "\u001b[34m\u001b[1mwandb\u001b[0m: \tlearn_rate: 0.001\n",
            "Failed to detect the name of this notebook, you can set it manually with the WANDB_NOTEBOOK_NAME environment variable to enable code saving.\n"
          ]
        },
        {
          "output_type": "display_data",
          "data": {
            "text/plain": [
              "<IPython.core.display.HTML object>"
            ],
            "text/html": [
              "Tracking run with wandb version 0.13.4"
            ]
          },
          "metadata": {}
        },
        {
          "output_type": "display_data",
          "data": {
            "text/plain": [
              "<IPython.core.display.HTML object>"
            ],
            "text/html": [
              "Run data is saved locally in <code>/content/wandb/run-20221025_215613-rq5wayqb</code>"
            ]
          },
          "metadata": {}
        },
        {
          "output_type": "display_data",
          "data": {
            "text/plain": [
              "<IPython.core.display.HTML object>"
            ],
            "text/html": [
              "Syncing run <strong><a href=\"https://wandb.ai/thaisaraujom/kakashinet/runs/rq5wayqb\" target=\"_blank\">light-sweep-7</a></strong> to <a href=\"https://wandb.ai/thaisaraujom/kakashinet\" target=\"_blank\">Weights & Biases</a> (<a href=\"https://wandb.me/run\" target=\"_blank\">docs</a>)<br/>Sweep page:  <a href=\"https://wandb.ai/thaisaraujom/kakashinet/sweeps/u8irvrp6\" target=\"_blank\">https://wandb.ai/thaisaraujom/kakashinet/sweeps/u8irvrp6</a>"
            ]
          },
          "metadata": {}
        },
        {
          "output_type": "stream",
          "name": "stdout",
          "text": [
            "[INFO] compiling model...\n",
            "[INFO] training network...\n",
            "313/313 [==============================] - 1s 2ms/step\n"
          ]
        },
        {
          "output_type": "stream",
          "name": "stderr",
          "text": [
            "25-10-2022 21:56:49 Validation Evaluation metrics\n",
            "25-10-2022 21:56:49 Validation Accuracy: 0.9896\n",
            "25-10-2022 21:56:49 Validation Precision: 0.9896285459164975\n",
            "25-10-2022 21:56:49 Validation Recall: 0.9896\n",
            "25-10-2022 21:56:49 Validation F1: 0.9895915781694601\n"
          ]
        },
        {
          "output_type": "display_data",
          "data": {
            "text/plain": [
              "<IPython.core.display.HTML object>"
            ],
            "text/html": [
              "Waiting for W&B process to finish... <strong style=\"color:green\">(success).</strong>"
            ]
          },
          "metadata": {}
        },
        {
          "output_type": "display_data",
          "data": {
            "text/plain": [
              "VBox(children=(Label(value='0.000 MB of 0.000 MB uploaded (0.000 MB deduped)\\r'), FloatProgress(value=1.0, max…"
            ],
            "application/vnd.jupyter.widget-view+json": {
              "version_major": 2,
              "version_minor": 0,
              "model_id": "f9eefbc31d904ee5b71a2e71494e5ba5"
            }
          },
          "metadata": {}
        },
        {
          "output_type": "display_data",
          "data": {
            "text/plain": [
              "<IPython.core.display.HTML object>"
            ],
            "text/html": [
              "<style>\n",
              "    table.wandb td:nth-child(1) { padding: 0 10px; text-align: left ; width: auto;} td:nth-child(2) {text-align: left ; width: 100%}\n",
              "    .wandb-row { display: flex; flex-direction: row; flex-wrap: wrap; justify-content: flex-start; width: 100% }\n",
              "    .wandb-col { display: flex; flex-direction: column; flex-basis: 100%; flex: 1; padding: 10px; }\n",
              "    </style>\n",
              "<div class=\"wandb-row\"><div class=\"wandb-col\"><h3>Run history:</h3><br/><table class=\"wandb\"><tr><td>accuracy</td><td>▁▆▇▇█</td></tr><tr><td>epoch</td><td>▁▃▅▆█</td></tr><tr><td>loss</td><td>█▃▂▂▁</td></tr><tr><td>val_accuracy</td><td>▁▁▂▇█</td></tr><tr><td>val_loss</td><td>█▇▇▁▁</td></tr></table><br/></div><div class=\"wandb-col\"><h3>Run summary:</h3><br/><table class=\"wandb\"><tr><td>Acc</td><td>0.9896</td></tr><tr><td>CO2_Emissions</td><td>0.00044</td></tr><tr><td>Count_Params</td><td>61794</td></tr><tr><td>Energy_CPU</td><td>0.00037</td></tr><tr><td>Energy_Consumed</td><td>0.00069</td></tr><tr><td>Energy_GPU</td><td>0.00028</td></tr><tr><td>Energy_RAM</td><td>4e-05</td></tr><tr><td>F1</td><td>0.98959</td></tr><tr><td>GFLOPs</td><td>0.00042</td></tr><tr><td>Precision</td><td>0.98963</td></tr><tr><td>Recall</td><td>0.9896</td></tr><tr><td>accuracy</td><td>0.99325</td></tr><tr><td>best_epoch</td><td>3</td></tr><tr><td>best_val_loss</td><td>0.03382</td></tr><tr><td>epoch</td><td>4</td></tr><tr><td>loss</td><td>0.02129</td></tr><tr><td>val_accuracy</td><td>0.9896</td></tr><tr><td>val_loss</td><td>0.03443</td></tr></table><br/></div></div>"
            ]
          },
          "metadata": {}
        },
        {
          "output_type": "display_data",
          "data": {
            "text/plain": [
              "<IPython.core.display.HTML object>"
            ],
            "text/html": [
              "Synced <strong style=\"color:#cdcd00\">light-sweep-7</strong>: <a href=\"https://wandb.ai/thaisaraujom/kakashinet/runs/rq5wayqb\" target=\"_blank\">https://wandb.ai/thaisaraujom/kakashinet/runs/rq5wayqb</a><br/>Synced 5 W&B file(s), 0 media file(s), 0 artifact file(s) and 0 other file(s)"
            ]
          },
          "metadata": {}
        },
        {
          "output_type": "display_data",
          "data": {
            "text/plain": [
              "<IPython.core.display.HTML object>"
            ],
            "text/html": [
              "Find logs at: <code>./wandb/run-20221025_215613-rq5wayqb/logs</code>"
            ]
          },
          "metadata": {}
        },
        {
          "output_type": "stream",
          "name": "stderr",
          "text": [
            "\u001b[34m\u001b[1mwandb\u001b[0m: Agent Starting Run: h3l9iora with config:\n",
            "\u001b[34m\u001b[1mwandb\u001b[0m: \tbatch_size: 64\n",
            "\u001b[34m\u001b[1mwandb\u001b[0m: \tconv_layer: 3\n",
            "\u001b[34m\u001b[1mwandb\u001b[0m: \tdropout: 0\n",
            "\u001b[34m\u001b[1mwandb\u001b[0m: \tepoch: 5\n",
            "\u001b[34m\u001b[1mwandb\u001b[0m: \tlearn_rate: 0.005\n",
            "Failed to detect the name of this notebook, you can set it manually with the WANDB_NOTEBOOK_NAME environment variable to enable code saving.\n"
          ]
        },
        {
          "output_type": "display_data",
          "data": {
            "text/plain": [
              "<IPython.core.display.HTML object>"
            ],
            "text/html": [
              "Tracking run with wandb version 0.13.4"
            ]
          },
          "metadata": {}
        },
        {
          "output_type": "display_data",
          "data": {
            "text/plain": [
              "<IPython.core.display.HTML object>"
            ],
            "text/html": [
              "Run data is saved locally in <code>/content/wandb/run-20221025_215701-h3l9iora</code>"
            ]
          },
          "metadata": {}
        },
        {
          "output_type": "display_data",
          "data": {
            "text/plain": [
              "<IPython.core.display.HTML object>"
            ],
            "text/html": [
              "Syncing run <strong><a href=\"https://wandb.ai/thaisaraujom/kakashinet/runs/h3l9iora\" target=\"_blank\">pious-sweep-8</a></strong> to <a href=\"https://wandb.ai/thaisaraujom/kakashinet\" target=\"_blank\">Weights & Biases</a> (<a href=\"https://wandb.me/run\" target=\"_blank\">docs</a>)<br/>Sweep page:  <a href=\"https://wandb.ai/thaisaraujom/kakashinet/sweeps/u8irvrp6\" target=\"_blank\">https://wandb.ai/thaisaraujom/kakashinet/sweeps/u8irvrp6</a>"
            ]
          },
          "metadata": {}
        },
        {
          "output_type": "stream",
          "name": "stdout",
          "text": [
            "[INFO] compiling model...\n",
            "[INFO] training network...\n",
            "157/157 [==============================] - 0s 2ms/step\n"
          ]
        },
        {
          "output_type": "stream",
          "name": "stderr",
          "text": [
            "25-10-2022 21:57:30 Validation Evaluation metrics\n",
            "25-10-2022 21:57:30 Validation Accuracy: 0.9852\n",
            "25-10-2022 21:57:30 Validation Precision: 0.9853918437090204\n",
            "25-10-2022 21:57:30 Validation Recall: 0.9852\n",
            "25-10-2022 21:57:30 Validation F1: 0.9852104623494743\n"
          ]
        },
        {
          "output_type": "display_data",
          "data": {
            "text/plain": [
              "<IPython.core.display.HTML object>"
            ],
            "text/html": [
              "Waiting for W&B process to finish... <strong style=\"color:green\">(success).</strong>"
            ]
          },
          "metadata": {}
        },
        {
          "output_type": "display_data",
          "data": {
            "text/plain": [
              "VBox(children=(Label(value='0.000 MB of 0.000 MB uploaded (0.000 MB deduped)\\r'), FloatProgress(value=1.0, max…"
            ],
            "application/vnd.jupyter.widget-view+json": {
              "version_major": 2,
              "version_minor": 0,
              "model_id": "1b64a8bdf25847cb80fdb5db5a9eae1b"
            }
          },
          "metadata": {}
        },
        {
          "output_type": "display_data",
          "data": {
            "text/plain": [
              "<IPython.core.display.HTML object>"
            ],
            "text/html": [
              "<style>\n",
              "    table.wandb td:nth-child(1) { padding: 0 10px; text-align: left ; width: auto;} td:nth-child(2) {text-align: left ; width: 100%}\n",
              "    .wandb-row { display: flex; flex-direction: row; flex-wrap: wrap; justify-content: flex-start; width: 100% }\n",
              "    .wandb-col { display: flex; flex-direction: column; flex-basis: 100%; flex: 1; padding: 10px; }\n",
              "    </style>\n",
              "<div class=\"wandb-row\"><div class=\"wandb-col\"><h3>Run history:</h3><br/><table class=\"wandb\"><tr><td>accuracy</td><td>▁▇▇██</td></tr><tr><td>epoch</td><td>▁▃▅▆█</td></tr><tr><td>loss</td><td>█▃▂▁▁</td></tr><tr><td>val_accuracy</td><td>▁██▇▇</td></tr><tr><td>val_loss</td><td>█▁▁▂▂</td></tr></table><br/></div><div class=\"wandb-col\"><h3>Run summary:</h3><br/><table class=\"wandb\"><tr><td>Acc</td><td>0.9852</td></tr><tr><td>CO2_Emissions</td><td>0.00036</td></tr><tr><td>Count_Params</td><td>30358</td></tr><tr><td>Energy_CPU</td><td>0.00029</td></tr><tr><td>Energy_Consumed</td><td>0.00057</td></tr><tr><td>Energy_GPU</td><td>0.00024</td></tr><tr><td>Energy_RAM</td><td>3e-05</td></tr><tr><td>F1</td><td>0.98521</td></tr><tr><td>GFLOPs</td><td>0.00205</td></tr><tr><td>Precision</td><td>0.98539</td></tr><tr><td>Recall</td><td>0.9852</td></tr><tr><td>accuracy</td><td>0.98805</td></tr><tr><td>best_epoch</td><td>2</td></tr><tr><td>best_val_loss</td><td>0.04215</td></tr><tr><td>epoch</td><td>4</td></tr><tr><td>loss</td><td>0.03951</td></tr><tr><td>val_accuracy</td><td>0.9852</td></tr><tr><td>val_loss</td><td>0.04742</td></tr></table><br/></div></div>"
            ]
          },
          "metadata": {}
        },
        {
          "output_type": "display_data",
          "data": {
            "text/plain": [
              "<IPython.core.display.HTML object>"
            ],
            "text/html": [
              "Synced <strong style=\"color:#cdcd00\">pious-sweep-8</strong>: <a href=\"https://wandb.ai/thaisaraujom/kakashinet/runs/h3l9iora\" target=\"_blank\">https://wandb.ai/thaisaraujom/kakashinet/runs/h3l9iora</a><br/>Synced 5 W&B file(s), 0 media file(s), 0 artifact file(s) and 0 other file(s)"
            ]
          },
          "metadata": {}
        },
        {
          "output_type": "display_data",
          "data": {
            "text/plain": [
              "<IPython.core.display.HTML object>"
            ],
            "text/html": [
              "Find logs at: <code>./wandb/run-20221025_215701-h3l9iora/logs</code>"
            ]
          },
          "metadata": {}
        },
        {
          "output_type": "stream",
          "name": "stderr",
          "text": [
            "\u001b[34m\u001b[1mwandb\u001b[0m: Agent Starting Run: h30fj4a9 with config:\n",
            "\u001b[34m\u001b[1mwandb\u001b[0m: \tbatch_size: 64\n",
            "\u001b[34m\u001b[1mwandb\u001b[0m: \tconv_layer: 3\n",
            "\u001b[34m\u001b[1mwandb\u001b[0m: \tdropout: 0\n",
            "\u001b[34m\u001b[1mwandb\u001b[0m: \tepoch: 30\n",
            "\u001b[34m\u001b[1mwandb\u001b[0m: \tlearn_rate: 0.01\n",
            "Failed to detect the name of this notebook, you can set it manually with the WANDB_NOTEBOOK_NAME environment variable to enable code saving.\n"
          ]
        },
        {
          "output_type": "display_data",
          "data": {
            "text/plain": [
              "<IPython.core.display.HTML object>"
            ],
            "text/html": [
              "Tracking run with wandb version 0.13.4"
            ]
          },
          "metadata": {}
        },
        {
          "output_type": "display_data",
          "data": {
            "text/plain": [
              "<IPython.core.display.HTML object>"
            ],
            "text/html": [
              "Run data is saved locally in <code>/content/wandb/run-20221025_215742-h30fj4a9</code>"
            ]
          },
          "metadata": {}
        },
        {
          "output_type": "display_data",
          "data": {
            "text/plain": [
              "<IPython.core.display.HTML object>"
            ],
            "text/html": [
              "Syncing run <strong><a href=\"https://wandb.ai/thaisaraujom/kakashinet/runs/h30fj4a9\" target=\"_blank\">smooth-sweep-9</a></strong> to <a href=\"https://wandb.ai/thaisaraujom/kakashinet\" target=\"_blank\">Weights & Biases</a> (<a href=\"https://wandb.me/run\" target=\"_blank\">docs</a>)<br/>Sweep page:  <a href=\"https://wandb.ai/thaisaraujom/kakashinet/sweeps/u8irvrp6\" target=\"_blank\">https://wandb.ai/thaisaraujom/kakashinet/sweeps/u8irvrp6</a>"
            ]
          },
          "metadata": {}
        },
        {
          "output_type": "stream",
          "name": "stdout",
          "text": [
            "[INFO] compiling model...\n",
            "[INFO] training network...\n",
            "157/157 [==============================] - 0s 2ms/step\n"
          ]
        },
        {
          "output_type": "stream",
          "name": "stderr",
          "text": [
            "25-10-2022 22:00:01 Validation Evaluation metrics\n",
            "25-10-2022 22:00:01 Validation Accuracy: 0.9918\n",
            "25-10-2022 22:00:01 Validation Precision: 0.991869605996212\n",
            "25-10-2022 22:00:01 Validation Recall: 0.9918\n",
            "25-10-2022 22:00:01 Validation F1: 0.991799144633608\n"
          ]
        },
        {
          "output_type": "display_data",
          "data": {
            "text/plain": [
              "<IPython.core.display.HTML object>"
            ],
            "text/html": [
              "Waiting for W&B process to finish... <strong style=\"color:green\">(success).</strong>"
            ]
          },
          "metadata": {}
        },
        {
          "output_type": "display_data",
          "data": {
            "text/plain": [
              "VBox(children=(Label(value='0.000 MB of 0.000 MB uploaded (0.000 MB deduped)\\r'), FloatProgress(value=1.0, max…"
            ],
            "application/vnd.jupyter.widget-view+json": {
              "version_major": 2,
              "version_minor": 0,
              "model_id": "12fb2adfdb654b788ce63c2888879421"
            }
          },
          "metadata": {}
        },
        {
          "output_type": "display_data",
          "data": {
            "text/plain": [
              "<IPython.core.display.HTML object>"
            ],
            "text/html": [
              "<style>\n",
              "    table.wandb td:nth-child(1) { padding: 0 10px; text-align: left ; width: auto;} td:nth-child(2) {text-align: left ; width: 100%}\n",
              "    .wandb-row { display: flex; flex-direction: row; flex-wrap: wrap; justify-content: flex-start; width: 100% }\n",
              "    .wandb-col { display: flex; flex-direction: column; flex-basis: 100%; flex: 1; padding: 10px; }\n",
              "    </style>\n",
              "<div class=\"wandb-row\"><div class=\"wandb-col\"><h3>Run history:</h3><br/><table class=\"wandb\"><tr><td>accuracy</td><td>▁▅▆▆▇▇▇▇▇▇▇▇▇▇▇▇██████████████</td></tr><tr><td>epoch</td><td>▁▁▁▂▂▂▂▃▃▃▃▄▄▄▄▅▅▅▅▆▆▆▆▇▇▇▇███</td></tr><tr><td>loss</td><td>█▄▃▃▃▂▂▂▂▂▂▂▂▂▂▁▁▁▂▁▁▁▁▁▁▁▁▁▁▁</td></tr><tr><td>val_accuracy</td><td>▅▁▁▆▅▇▅▆▇▆▇█▇▇▇█▇█▆█▇█▇▇▇█▇▆█▇</td></tr><tr><td>val_loss</td><td>▄█▇▃▃▂▄▂▂▂▂▁▂▂▃▁▃▁▃▁▂▂▃▃▂▃▂▆▁▁</td></tr></table><br/></div><div class=\"wandb-col\"><h3>Run summary:</h3><br/><table class=\"wandb\"><tr><td>Acc</td><td>0.9918</td></tr><tr><td>CO2_Emissions</td><td>0.00206</td></tr><tr><td>Count_Params</td><td>30358</td></tr><tr><td>Energy_CPU</td><td>0.00158</td></tr><tr><td>Energy_Consumed</td><td>0.00327</td></tr><tr><td>Energy_GPU</td><td>0.00151</td></tr><tr><td>Energy_RAM</td><td>0.00018</td></tr><tr><td>F1</td><td>0.9918</td></tr><tr><td>GFLOPs</td><td>0.00205</td></tr><tr><td>Precision</td><td>0.99187</td></tr><tr><td>Recall</td><td>0.9918</td></tr><tr><td>accuracy</td><td>0.9959</td></tr><tr><td>best_epoch</td><td>29</td></tr><tr><td>best_val_loss</td><td>0.0264</td></tr><tr><td>epoch</td><td>29</td></tr><tr><td>loss</td><td>0.01618</td></tr><tr><td>val_accuracy</td><td>0.9918</td></tr><tr><td>val_loss</td><td>0.0264</td></tr></table><br/></div></div>"
            ]
          },
          "metadata": {}
        },
        {
          "output_type": "display_data",
          "data": {
            "text/plain": [
              "<IPython.core.display.HTML object>"
            ],
            "text/html": [
              "Synced <strong style=\"color:#cdcd00\">smooth-sweep-9</strong>: <a href=\"https://wandb.ai/thaisaraujom/kakashinet/runs/h30fj4a9\" target=\"_blank\">https://wandb.ai/thaisaraujom/kakashinet/runs/h30fj4a9</a><br/>Synced 5 W&B file(s), 0 media file(s), 0 artifact file(s) and 0 other file(s)"
            ]
          },
          "metadata": {}
        },
        {
          "output_type": "display_data",
          "data": {
            "text/plain": [
              "<IPython.core.display.HTML object>"
            ],
            "text/html": [
              "Find logs at: <code>./wandb/run-20221025_215742-h30fj4a9/logs</code>"
            ]
          },
          "metadata": {}
        },
        {
          "output_type": "stream",
          "name": "stderr",
          "text": [
            "\u001b[34m\u001b[1mwandb\u001b[0m: Agent Starting Run: rmnvvvzh with config:\n",
            "\u001b[34m\u001b[1mwandb\u001b[0m: \tbatch_size: 32\n",
            "\u001b[34m\u001b[1mwandb\u001b[0m: \tconv_layer: 3\n",
            "\u001b[34m\u001b[1mwandb\u001b[0m: \tdropout: 0\n",
            "\u001b[34m\u001b[1mwandb\u001b[0m: \tepoch: 5\n",
            "\u001b[34m\u001b[1mwandb\u001b[0m: \tlearn_rate: 0.005\n",
            "Failed to detect the name of this notebook, you can set it manually with the WANDB_NOTEBOOK_NAME environment variable to enable code saving.\n"
          ]
        },
        {
          "output_type": "display_data",
          "data": {
            "text/plain": [
              "<IPython.core.display.HTML object>"
            ],
            "text/html": [
              "Tracking run with wandb version 0.13.4"
            ]
          },
          "metadata": {}
        },
        {
          "output_type": "display_data",
          "data": {
            "text/plain": [
              "<IPython.core.display.HTML object>"
            ],
            "text/html": [
              "Run data is saved locally in <code>/content/wandb/run-20221025_220015-rmnvvvzh</code>"
            ]
          },
          "metadata": {}
        },
        {
          "output_type": "display_data",
          "data": {
            "text/plain": [
              "<IPython.core.display.HTML object>"
            ],
            "text/html": [
              "Syncing run <strong><a href=\"https://wandb.ai/thaisaraujom/kakashinet/runs/rmnvvvzh\" target=\"_blank\">fragrant-sweep-10</a></strong> to <a href=\"https://wandb.ai/thaisaraujom/kakashinet\" target=\"_blank\">Weights & Biases</a> (<a href=\"https://wandb.me/run\" target=\"_blank\">docs</a>)<br/>Sweep page:  <a href=\"https://wandb.ai/thaisaraujom/kakashinet/sweeps/u8irvrp6\" target=\"_blank\">https://wandb.ai/thaisaraujom/kakashinet/sweeps/u8irvrp6</a>"
            ]
          },
          "metadata": {}
        },
        {
          "output_type": "stream",
          "name": "stdout",
          "text": [
            "[INFO] compiling model...\n",
            "[INFO] training network...\n",
            "313/313 [==============================] - 1s 2ms/step\n"
          ]
        },
        {
          "output_type": "stream",
          "name": "stderr",
          "text": [
            "25-10-2022 22:01:45 Validation Evaluation metrics\n",
            "25-10-2022 22:01:45 Validation Accuracy: 0.9915\n",
            "25-10-2022 22:01:45 Validation Precision: 0.9915548635726431\n",
            "25-10-2022 22:01:45 Validation Recall: 0.9915\n",
            "25-10-2022 22:01:45 Validation F1: 0.9915053800712088\n"
          ]
        },
        {
          "output_type": "display_data",
          "data": {
            "text/plain": [
              "<IPython.core.display.HTML object>"
            ],
            "text/html": [
              "Waiting for W&B process to finish... <strong style=\"color:green\">(success).</strong>"
            ]
          },
          "metadata": {}
        },
        {
          "output_type": "display_data",
          "data": {
            "text/plain": [
              "<IPython.core.display.HTML object>"
            ],
            "text/html": [
              "<style>\n",
              "    table.wandb td:nth-child(1) { padding: 0 10px; text-align: left ; width: auto;} td:nth-child(2) {text-align: left ; width: 100%}\n",
              "    .wandb-row { display: flex; flex-direction: row; flex-wrap: wrap; justify-content: flex-start; width: 100% }\n",
              "    .wandb-col { display: flex; flex-direction: column; flex-basis: 100%; flex: 1; padding: 10px; }\n",
              "    </style>\n",
              "<div class=\"wandb-row\"><div class=\"wandb-col\"><h3>Run history:</h3><br/><table class=\"wandb\"><tr><td>accuracy</td><td>▁▆▇██</td></tr><tr><td>epoch</td><td>▁▃▅▆█</td></tr><tr><td>loss</td><td>█▃▂▁▁</td></tr><tr><td>val_accuracy</td><td>▁▄▇▆█</td></tr><tr><td>val_loss</td><td>█▆▃▃▁</td></tr></table><br/></div><div class=\"wandb-col\"><h3>Run summary:</h3><br/><table class=\"wandb\"><tr><td>Acc</td><td>0.9915</td></tr><tr><td>CO2_Emissions</td><td>0.00117</td></tr><tr><td>Count_Params</td><td>30358</td></tr><tr><td>Energy_CPU</td><td>0.00099</td></tr><tr><td>Energy_Consumed</td><td>0.00186</td></tr><tr><td>Energy_GPU</td><td>0.00075</td></tr><tr><td>Energy_RAM</td><td>0.00011</td></tr><tr><td>F1</td><td>0.99151</td></tr><tr><td>GFLOPs</td><td>0.00205</td></tr><tr><td>Precision</td><td>0.99155</td></tr><tr><td>Recall</td><td>0.9915</td></tr><tr><td>accuracy</td><td>0.9871</td></tr><tr><td>best_epoch</td><td>4</td></tr><tr><td>best_val_loss</td><td>0.02842</td></tr><tr><td>epoch</td><td>4</td></tr><tr><td>loss</td><td>0.04673</td></tr><tr><td>val_accuracy</td><td>0.9915</td></tr><tr><td>val_loss</td><td>0.02842</td></tr></table><br/></div></div>"
            ]
          },
          "metadata": {}
        },
        {
          "output_type": "display_data",
          "data": {
            "text/plain": [
              "<IPython.core.display.HTML object>"
            ],
            "text/html": [
              "Synced <strong style=\"color:#cdcd00\">fragrant-sweep-10</strong>: <a href=\"https://wandb.ai/thaisaraujom/kakashinet/runs/rmnvvvzh\" target=\"_blank\">https://wandb.ai/thaisaraujom/kakashinet/runs/rmnvvvzh</a><br/>Synced 5 W&B file(s), 0 media file(s), 0 artifact file(s) and 0 other file(s)"
            ]
          },
          "metadata": {}
        },
        {
          "output_type": "display_data",
          "data": {
            "text/plain": [
              "<IPython.core.display.HTML object>"
            ],
            "text/html": [
              "Find logs at: <code>./wandb/run-20221025_220015-rmnvvvzh/logs</code>"
            ]
          },
          "metadata": {}
        }
      ],
      "source": [
        "# Initialize a new sweep\n",
        "# Arguments:\n",
        "#     – sweep_id: the sweep_id to run - this was returned above by wandb.sweep()\n",
        "#     – function: function that defines your model architecture and trains it\n",
        "wandb.agent(sweep_id = sweep_id, function=train,count=10)"
      ]
    },
    {
      "cell_type": "code",
      "execution_count": null,
      "metadata": {
        "id": "DXKbQcvjLb27"
      },
      "outputs": [],
      "source": [
        "run.finish()"
      ]
    }
  ],
  "metadata": {
    "accelerator": "GPU",
    "colab": {
      "collapsed_sections": [],
      "provenance": []
    },
    "gpuClass": "standard",
    "kernelspec": {
      "display_name": "Python 3",
      "name": "python3"
    },
    "language_info": {
      "name": "python"
    },
    "widgets": {
      "application/vnd.jupyter.widget-state+json": {
        "6e7ef9635a5d4c9d9f7ad763deb65438": {
          "model_module": "@jupyter-widgets/controls",
          "model_name": "VBoxModel",
          "model_module_version": "1.5.0",
          "state": {
            "_dom_classes": [],
            "_model_module": "@jupyter-widgets/controls",
            "_model_module_version": "1.5.0",
            "_model_name": "VBoxModel",
            "_view_count": null,
            "_view_module": "@jupyter-widgets/controls",
            "_view_module_version": "1.5.0",
            "_view_name": "VBoxView",
            "box_style": "",
            "children": [
              "IPY_MODEL_29fcab4c6e0f4c23bb3b73d738835163",
              "IPY_MODEL_983aae5bdaad4629a6b3bee65c58d270"
            ],
            "layout": "IPY_MODEL_dc39c4bcba964c3d88175003103e872c"
          }
        },
        "29fcab4c6e0f4c23bb3b73d738835163": {
          "model_module": "@jupyter-widgets/controls",
          "model_name": "LabelModel",
          "model_module_version": "1.5.0",
          "state": {
            "_dom_classes": [],
            "_model_module": "@jupyter-widgets/controls",
            "_model_module_version": "1.5.0",
            "_model_name": "LabelModel",
            "_view_count": null,
            "_view_module": "@jupyter-widgets/controls",
            "_view_module_version": "1.5.0",
            "_view_name": "LabelView",
            "description": "",
            "description_tooltip": null,
            "layout": "IPY_MODEL_390f78d2f1bb4c4281d31ea085d38d3d",
            "placeholder": "​",
            "style": "IPY_MODEL_9f43e33ea45c4f5a91916030873d454c",
            "value": "0.000 MB of 0.002 MB uploaded (0.000 MB deduped)\r"
          }
        },
        "983aae5bdaad4629a6b3bee65c58d270": {
          "model_module": "@jupyter-widgets/controls",
          "model_name": "FloatProgressModel",
          "model_module_version": "1.5.0",
          "state": {
            "_dom_classes": [],
            "_model_module": "@jupyter-widgets/controls",
            "_model_module_version": "1.5.0",
            "_model_name": "FloatProgressModel",
            "_view_count": null,
            "_view_module": "@jupyter-widgets/controls",
            "_view_module_version": "1.5.0",
            "_view_name": "ProgressView",
            "bar_style": "",
            "description": "",
            "description_tooltip": null,
            "layout": "IPY_MODEL_b46e54a0fa4745439f21fcef6d56b4b7",
            "max": 1,
            "min": 0,
            "orientation": "horizontal",
            "style": "IPY_MODEL_2dc296d6e0764f2e9385cad03fef0a0e",
            "value": 0.2179245283018868
          }
        },
        "dc39c4bcba964c3d88175003103e872c": {
          "model_module": "@jupyter-widgets/base",
          "model_name": "LayoutModel",
          "model_module_version": "1.2.0",
          "state": {
            "_model_module": "@jupyter-widgets/base",
            "_model_module_version": "1.2.0",
            "_model_name": "LayoutModel",
            "_view_count": null,
            "_view_module": "@jupyter-widgets/base",
            "_view_module_version": "1.2.0",
            "_view_name": "LayoutView",
            "align_content": null,
            "align_items": null,
            "align_self": null,
            "border": null,
            "bottom": null,
            "display": null,
            "flex": null,
            "flex_flow": null,
            "grid_area": null,
            "grid_auto_columns": null,
            "grid_auto_flow": null,
            "grid_auto_rows": null,
            "grid_column": null,
            "grid_gap": null,
            "grid_row": null,
            "grid_template_areas": null,
            "grid_template_columns": null,
            "grid_template_rows": null,
            "height": null,
            "justify_content": null,
            "justify_items": null,
            "left": null,
            "margin": null,
            "max_height": null,
            "max_width": null,
            "min_height": null,
            "min_width": null,
            "object_fit": null,
            "object_position": null,
            "order": null,
            "overflow": null,
            "overflow_x": null,
            "overflow_y": null,
            "padding": null,
            "right": null,
            "top": null,
            "visibility": null,
            "width": null
          }
        },
        "390f78d2f1bb4c4281d31ea085d38d3d": {
          "model_module": "@jupyter-widgets/base",
          "model_name": "LayoutModel",
          "model_module_version": "1.2.0",
          "state": {
            "_model_module": "@jupyter-widgets/base",
            "_model_module_version": "1.2.0",
            "_model_name": "LayoutModel",
            "_view_count": null,
            "_view_module": "@jupyter-widgets/base",
            "_view_module_version": "1.2.0",
            "_view_name": "LayoutView",
            "align_content": null,
            "align_items": null,
            "align_self": null,
            "border": null,
            "bottom": null,
            "display": null,
            "flex": null,
            "flex_flow": null,
            "grid_area": null,
            "grid_auto_columns": null,
            "grid_auto_flow": null,
            "grid_auto_rows": null,
            "grid_column": null,
            "grid_gap": null,
            "grid_row": null,
            "grid_template_areas": null,
            "grid_template_columns": null,
            "grid_template_rows": null,
            "height": null,
            "justify_content": null,
            "justify_items": null,
            "left": null,
            "margin": null,
            "max_height": null,
            "max_width": null,
            "min_height": null,
            "min_width": null,
            "object_fit": null,
            "object_position": null,
            "order": null,
            "overflow": null,
            "overflow_x": null,
            "overflow_y": null,
            "padding": null,
            "right": null,
            "top": null,
            "visibility": null,
            "width": null
          }
        },
        "9f43e33ea45c4f5a91916030873d454c": {
          "model_module": "@jupyter-widgets/controls",
          "model_name": "DescriptionStyleModel",
          "model_module_version": "1.5.0",
          "state": {
            "_model_module": "@jupyter-widgets/controls",
            "_model_module_version": "1.5.0",
            "_model_name": "DescriptionStyleModel",
            "_view_count": null,
            "_view_module": "@jupyter-widgets/base",
            "_view_module_version": "1.2.0",
            "_view_name": "StyleView",
            "description_width": ""
          }
        },
        "b46e54a0fa4745439f21fcef6d56b4b7": {
          "model_module": "@jupyter-widgets/base",
          "model_name": "LayoutModel",
          "model_module_version": "1.2.0",
          "state": {
            "_model_module": "@jupyter-widgets/base",
            "_model_module_version": "1.2.0",
            "_model_name": "LayoutModel",
            "_view_count": null,
            "_view_module": "@jupyter-widgets/base",
            "_view_module_version": "1.2.0",
            "_view_name": "LayoutView",
            "align_content": null,
            "align_items": null,
            "align_self": null,
            "border": null,
            "bottom": null,
            "display": null,
            "flex": null,
            "flex_flow": null,
            "grid_area": null,
            "grid_auto_columns": null,
            "grid_auto_flow": null,
            "grid_auto_rows": null,
            "grid_column": null,
            "grid_gap": null,
            "grid_row": null,
            "grid_template_areas": null,
            "grid_template_columns": null,
            "grid_template_rows": null,
            "height": null,
            "justify_content": null,
            "justify_items": null,
            "left": null,
            "margin": null,
            "max_height": null,
            "max_width": null,
            "min_height": null,
            "min_width": null,
            "object_fit": null,
            "object_position": null,
            "order": null,
            "overflow": null,
            "overflow_x": null,
            "overflow_y": null,
            "padding": null,
            "right": null,
            "top": null,
            "visibility": null,
            "width": null
          }
        },
        "2dc296d6e0764f2e9385cad03fef0a0e": {
          "model_module": "@jupyter-widgets/controls",
          "model_name": "ProgressStyleModel",
          "model_module_version": "1.5.0",
          "state": {
            "_model_module": "@jupyter-widgets/controls",
            "_model_module_version": "1.5.0",
            "_model_name": "ProgressStyleModel",
            "_view_count": null,
            "_view_module": "@jupyter-widgets/base",
            "_view_module_version": "1.2.0",
            "_view_name": "StyleView",
            "bar_color": null,
            "description_width": ""
          }
        },
        "153eaea885af4f5c91ff5b687b2f84a4": {
          "model_module": "@jupyter-widgets/controls",
          "model_name": "VBoxModel",
          "model_module_version": "1.5.0",
          "state": {
            "_dom_classes": [],
            "_model_module": "@jupyter-widgets/controls",
            "_model_module_version": "1.5.0",
            "_model_name": "VBoxModel",
            "_view_count": null,
            "_view_module": "@jupyter-widgets/controls",
            "_view_module_version": "1.5.0",
            "_view_name": "VBoxView",
            "box_style": "",
            "children": [
              "IPY_MODEL_6bd075ce48674314a2c9d7e0f7409d85",
              "IPY_MODEL_7c6d94e4e4a24126a2c629df6feebca1"
            ],
            "layout": "IPY_MODEL_22e6a4708ea7482e846474b0ec5c206d"
          }
        },
        "6bd075ce48674314a2c9d7e0f7409d85": {
          "model_module": "@jupyter-widgets/controls",
          "model_name": "LabelModel",
          "model_module_version": "1.5.0",
          "state": {
            "_dom_classes": [],
            "_model_module": "@jupyter-widgets/controls",
            "_model_module_version": "1.5.0",
            "_model_name": "LabelModel",
            "_view_count": null,
            "_view_module": "@jupyter-widgets/controls",
            "_view_module_version": "1.5.0",
            "_view_name": "LabelView",
            "description": "",
            "description_tooltip": null,
            "layout": "IPY_MODEL_553a84312e2a46f89bb96b4f3ce95335",
            "placeholder": "​",
            "style": "IPY_MODEL_7b67442f85a8400cb1ce46899eb61fbb",
            "value": "0.000 MB of 0.002 MB uploaded (0.000 MB deduped)\r"
          }
        },
        "7c6d94e4e4a24126a2c629df6feebca1": {
          "model_module": "@jupyter-widgets/controls",
          "model_name": "FloatProgressModel",
          "model_module_version": "1.5.0",
          "state": {
            "_dom_classes": [],
            "_model_module": "@jupyter-widgets/controls",
            "_model_module_version": "1.5.0",
            "_model_name": "FloatProgressModel",
            "_view_count": null,
            "_view_module": "@jupyter-widgets/controls",
            "_view_module_version": "1.5.0",
            "_view_name": "ProgressView",
            "bar_style": "",
            "description": "",
            "description_tooltip": null,
            "layout": "IPY_MODEL_0a0f835754854ee9b17836024c2f7910",
            "max": 1,
            "min": 0,
            "orientation": "horizontal",
            "style": "IPY_MODEL_344ff46debf0443e935fa16ba4d1eb71",
            "value": 0.2179245283018868
          }
        },
        "22e6a4708ea7482e846474b0ec5c206d": {
          "model_module": "@jupyter-widgets/base",
          "model_name": "LayoutModel",
          "model_module_version": "1.2.0",
          "state": {
            "_model_module": "@jupyter-widgets/base",
            "_model_module_version": "1.2.0",
            "_model_name": "LayoutModel",
            "_view_count": null,
            "_view_module": "@jupyter-widgets/base",
            "_view_module_version": "1.2.0",
            "_view_name": "LayoutView",
            "align_content": null,
            "align_items": null,
            "align_self": null,
            "border": null,
            "bottom": null,
            "display": null,
            "flex": null,
            "flex_flow": null,
            "grid_area": null,
            "grid_auto_columns": null,
            "grid_auto_flow": null,
            "grid_auto_rows": null,
            "grid_column": null,
            "grid_gap": null,
            "grid_row": null,
            "grid_template_areas": null,
            "grid_template_columns": null,
            "grid_template_rows": null,
            "height": null,
            "justify_content": null,
            "justify_items": null,
            "left": null,
            "margin": null,
            "max_height": null,
            "max_width": null,
            "min_height": null,
            "min_width": null,
            "object_fit": null,
            "object_position": null,
            "order": null,
            "overflow": null,
            "overflow_x": null,
            "overflow_y": null,
            "padding": null,
            "right": null,
            "top": null,
            "visibility": null,
            "width": null
          }
        },
        "553a84312e2a46f89bb96b4f3ce95335": {
          "model_module": "@jupyter-widgets/base",
          "model_name": "LayoutModel",
          "model_module_version": "1.2.0",
          "state": {
            "_model_module": "@jupyter-widgets/base",
            "_model_module_version": "1.2.0",
            "_model_name": "LayoutModel",
            "_view_count": null,
            "_view_module": "@jupyter-widgets/base",
            "_view_module_version": "1.2.0",
            "_view_name": "LayoutView",
            "align_content": null,
            "align_items": null,
            "align_self": null,
            "border": null,
            "bottom": null,
            "display": null,
            "flex": null,
            "flex_flow": null,
            "grid_area": null,
            "grid_auto_columns": null,
            "grid_auto_flow": null,
            "grid_auto_rows": null,
            "grid_column": null,
            "grid_gap": null,
            "grid_row": null,
            "grid_template_areas": null,
            "grid_template_columns": null,
            "grid_template_rows": null,
            "height": null,
            "justify_content": null,
            "justify_items": null,
            "left": null,
            "margin": null,
            "max_height": null,
            "max_width": null,
            "min_height": null,
            "min_width": null,
            "object_fit": null,
            "object_position": null,
            "order": null,
            "overflow": null,
            "overflow_x": null,
            "overflow_y": null,
            "padding": null,
            "right": null,
            "top": null,
            "visibility": null,
            "width": null
          }
        },
        "7b67442f85a8400cb1ce46899eb61fbb": {
          "model_module": "@jupyter-widgets/controls",
          "model_name": "DescriptionStyleModel",
          "model_module_version": "1.5.0",
          "state": {
            "_model_module": "@jupyter-widgets/controls",
            "_model_module_version": "1.5.0",
            "_model_name": "DescriptionStyleModel",
            "_view_count": null,
            "_view_module": "@jupyter-widgets/base",
            "_view_module_version": "1.2.0",
            "_view_name": "StyleView",
            "description_width": ""
          }
        },
        "0a0f835754854ee9b17836024c2f7910": {
          "model_module": "@jupyter-widgets/base",
          "model_name": "LayoutModel",
          "model_module_version": "1.2.0",
          "state": {
            "_model_module": "@jupyter-widgets/base",
            "_model_module_version": "1.2.0",
            "_model_name": "LayoutModel",
            "_view_count": null,
            "_view_module": "@jupyter-widgets/base",
            "_view_module_version": "1.2.0",
            "_view_name": "LayoutView",
            "align_content": null,
            "align_items": null,
            "align_self": null,
            "border": null,
            "bottom": null,
            "display": null,
            "flex": null,
            "flex_flow": null,
            "grid_area": null,
            "grid_auto_columns": null,
            "grid_auto_flow": null,
            "grid_auto_rows": null,
            "grid_column": null,
            "grid_gap": null,
            "grid_row": null,
            "grid_template_areas": null,
            "grid_template_columns": null,
            "grid_template_rows": null,
            "height": null,
            "justify_content": null,
            "justify_items": null,
            "left": null,
            "margin": null,
            "max_height": null,
            "max_width": null,
            "min_height": null,
            "min_width": null,
            "object_fit": null,
            "object_position": null,
            "order": null,
            "overflow": null,
            "overflow_x": null,
            "overflow_y": null,
            "padding": null,
            "right": null,
            "top": null,
            "visibility": null,
            "width": null
          }
        },
        "344ff46debf0443e935fa16ba4d1eb71": {
          "model_module": "@jupyter-widgets/controls",
          "model_name": "ProgressStyleModel",
          "model_module_version": "1.5.0",
          "state": {
            "_model_module": "@jupyter-widgets/controls",
            "_model_module_version": "1.5.0",
            "_model_name": "ProgressStyleModel",
            "_view_count": null,
            "_view_module": "@jupyter-widgets/base",
            "_view_module_version": "1.2.0",
            "_view_name": "StyleView",
            "bar_color": null,
            "description_width": ""
          }
        },
        "5e46da1a323d440dbb914321285eb074": {
          "model_module": "@jupyter-widgets/controls",
          "model_name": "VBoxModel",
          "model_module_version": "1.5.0",
          "state": {
            "_dom_classes": [],
            "_model_module": "@jupyter-widgets/controls",
            "_model_module_version": "1.5.0",
            "_model_name": "VBoxModel",
            "_view_count": null,
            "_view_module": "@jupyter-widgets/controls",
            "_view_module_version": "1.5.0",
            "_view_name": "VBoxView",
            "box_style": "",
            "children": [
              "IPY_MODEL_6e8129d840a54fd0b919d42c8d5fb7aa",
              "IPY_MODEL_abfc38f232d64fee847e8ef1ed55e4d8"
            ],
            "layout": "IPY_MODEL_265421c0833942c5916a24c80ead3fcf"
          }
        },
        "6e8129d840a54fd0b919d42c8d5fb7aa": {
          "model_module": "@jupyter-widgets/controls",
          "model_name": "LabelModel",
          "model_module_version": "1.5.0",
          "state": {
            "_dom_classes": [],
            "_model_module": "@jupyter-widgets/controls",
            "_model_module_version": "1.5.0",
            "_model_name": "LabelModel",
            "_view_count": null,
            "_view_module": "@jupyter-widgets/controls",
            "_view_module_version": "1.5.0",
            "_view_name": "LabelView",
            "description": "",
            "description_tooltip": null,
            "layout": "IPY_MODEL_97ff259adf494b38bcb6696a55ad299a",
            "placeholder": "​",
            "style": "IPY_MODEL_1db4078aef3245dfb1cdfcd767edd07b",
            "value": "0.000 MB of 0.009 MB uploaded (0.000 MB deduped)\r"
          }
        },
        "abfc38f232d64fee847e8ef1ed55e4d8": {
          "model_module": "@jupyter-widgets/controls",
          "model_name": "FloatProgressModel",
          "model_module_version": "1.5.0",
          "state": {
            "_dom_classes": [],
            "_model_module": "@jupyter-widgets/controls",
            "_model_module_version": "1.5.0",
            "_model_name": "FloatProgressModel",
            "_view_count": null,
            "_view_module": "@jupyter-widgets/controls",
            "_view_module_version": "1.5.0",
            "_view_name": "ProgressView",
            "bar_style": "",
            "description": "",
            "description_tooltip": null,
            "layout": "IPY_MODEL_207d6d09705b43808f2e20f8fdff463a",
            "max": 1,
            "min": 0,
            "orientation": "horizontal",
            "style": "IPY_MODEL_e38b1b9520824fc985c45adedcc55ad9",
            "value": 0.04808492922564529
          }
        },
        "265421c0833942c5916a24c80ead3fcf": {
          "model_module": "@jupyter-widgets/base",
          "model_name": "LayoutModel",
          "model_module_version": "1.2.0",
          "state": {
            "_model_module": "@jupyter-widgets/base",
            "_model_module_version": "1.2.0",
            "_model_name": "LayoutModel",
            "_view_count": null,
            "_view_module": "@jupyter-widgets/base",
            "_view_module_version": "1.2.0",
            "_view_name": "LayoutView",
            "align_content": null,
            "align_items": null,
            "align_self": null,
            "border": null,
            "bottom": null,
            "display": null,
            "flex": null,
            "flex_flow": null,
            "grid_area": null,
            "grid_auto_columns": null,
            "grid_auto_flow": null,
            "grid_auto_rows": null,
            "grid_column": null,
            "grid_gap": null,
            "grid_row": null,
            "grid_template_areas": null,
            "grid_template_columns": null,
            "grid_template_rows": null,
            "height": null,
            "justify_content": null,
            "justify_items": null,
            "left": null,
            "margin": null,
            "max_height": null,
            "max_width": null,
            "min_height": null,
            "min_width": null,
            "object_fit": null,
            "object_position": null,
            "order": null,
            "overflow": null,
            "overflow_x": null,
            "overflow_y": null,
            "padding": null,
            "right": null,
            "top": null,
            "visibility": null,
            "width": null
          }
        },
        "97ff259adf494b38bcb6696a55ad299a": {
          "model_module": "@jupyter-widgets/base",
          "model_name": "LayoutModel",
          "model_module_version": "1.2.0",
          "state": {
            "_model_module": "@jupyter-widgets/base",
            "_model_module_version": "1.2.0",
            "_model_name": "LayoutModel",
            "_view_count": null,
            "_view_module": "@jupyter-widgets/base",
            "_view_module_version": "1.2.0",
            "_view_name": "LayoutView",
            "align_content": null,
            "align_items": null,
            "align_self": null,
            "border": null,
            "bottom": null,
            "display": null,
            "flex": null,
            "flex_flow": null,
            "grid_area": null,
            "grid_auto_columns": null,
            "grid_auto_flow": null,
            "grid_auto_rows": null,
            "grid_column": null,
            "grid_gap": null,
            "grid_row": null,
            "grid_template_areas": null,
            "grid_template_columns": null,
            "grid_template_rows": null,
            "height": null,
            "justify_content": null,
            "justify_items": null,
            "left": null,
            "margin": null,
            "max_height": null,
            "max_width": null,
            "min_height": null,
            "min_width": null,
            "object_fit": null,
            "object_position": null,
            "order": null,
            "overflow": null,
            "overflow_x": null,
            "overflow_y": null,
            "padding": null,
            "right": null,
            "top": null,
            "visibility": null,
            "width": null
          }
        },
        "1db4078aef3245dfb1cdfcd767edd07b": {
          "model_module": "@jupyter-widgets/controls",
          "model_name": "DescriptionStyleModel",
          "model_module_version": "1.5.0",
          "state": {
            "_model_module": "@jupyter-widgets/controls",
            "_model_module_version": "1.5.0",
            "_model_name": "DescriptionStyleModel",
            "_view_count": null,
            "_view_module": "@jupyter-widgets/base",
            "_view_module_version": "1.2.0",
            "_view_name": "StyleView",
            "description_width": ""
          }
        },
        "207d6d09705b43808f2e20f8fdff463a": {
          "model_module": "@jupyter-widgets/base",
          "model_name": "LayoutModel",
          "model_module_version": "1.2.0",
          "state": {
            "_model_module": "@jupyter-widgets/base",
            "_model_module_version": "1.2.0",
            "_model_name": "LayoutModel",
            "_view_count": null,
            "_view_module": "@jupyter-widgets/base",
            "_view_module_version": "1.2.0",
            "_view_name": "LayoutView",
            "align_content": null,
            "align_items": null,
            "align_self": null,
            "border": null,
            "bottom": null,
            "display": null,
            "flex": null,
            "flex_flow": null,
            "grid_area": null,
            "grid_auto_columns": null,
            "grid_auto_flow": null,
            "grid_auto_rows": null,
            "grid_column": null,
            "grid_gap": null,
            "grid_row": null,
            "grid_template_areas": null,
            "grid_template_columns": null,
            "grid_template_rows": null,
            "height": null,
            "justify_content": null,
            "justify_items": null,
            "left": null,
            "margin": null,
            "max_height": null,
            "max_width": null,
            "min_height": null,
            "min_width": null,
            "object_fit": null,
            "object_position": null,
            "order": null,
            "overflow": null,
            "overflow_x": null,
            "overflow_y": null,
            "padding": null,
            "right": null,
            "top": null,
            "visibility": null,
            "width": null
          }
        },
        "e38b1b9520824fc985c45adedcc55ad9": {
          "model_module": "@jupyter-widgets/controls",
          "model_name": "ProgressStyleModel",
          "model_module_version": "1.5.0",
          "state": {
            "_model_module": "@jupyter-widgets/controls",
            "_model_module_version": "1.5.0",
            "_model_name": "ProgressStyleModel",
            "_view_count": null,
            "_view_module": "@jupyter-widgets/base",
            "_view_module_version": "1.2.0",
            "_view_name": "StyleView",
            "bar_color": null,
            "description_width": ""
          }
        },
        "f9d95503053a44a79d108335019b26dc": {
          "model_module": "@jupyter-widgets/controls",
          "model_name": "VBoxModel",
          "model_module_version": "1.5.0",
          "state": {
            "_dom_classes": [],
            "_model_module": "@jupyter-widgets/controls",
            "_model_module_version": "1.5.0",
            "_model_name": "VBoxModel",
            "_view_count": null,
            "_view_module": "@jupyter-widgets/controls",
            "_view_module_version": "1.5.0",
            "_view_name": "VBoxView",
            "box_style": "",
            "children": [
              "IPY_MODEL_4885858faded40099b27684fe12fe82f",
              "IPY_MODEL_127965e493364230aeaea09870a4c5cc"
            ],
            "layout": "IPY_MODEL_8a307eff15bb4998b5e8ecd48605c4a5"
          }
        },
        "4885858faded40099b27684fe12fe82f": {
          "model_module": "@jupyter-widgets/controls",
          "model_name": "LabelModel",
          "model_module_version": "1.5.0",
          "state": {
            "_dom_classes": [],
            "_model_module": "@jupyter-widgets/controls",
            "_model_module_version": "1.5.0",
            "_model_name": "LabelModel",
            "_view_count": null,
            "_view_module": "@jupyter-widgets/controls",
            "_view_module_version": "1.5.0",
            "_view_name": "LabelView",
            "description": "",
            "description_tooltip": null,
            "layout": "IPY_MODEL_70342527ae1d4d43b8ec73e13f63c524",
            "placeholder": "​",
            "style": "IPY_MODEL_ad24f715ab0b4b80b6248555ebc2a36b",
            "value": "0.009 MB of 0.009 MB uploaded (0.000 MB deduped)\r"
          }
        },
        "127965e493364230aeaea09870a4c5cc": {
          "model_module": "@jupyter-widgets/controls",
          "model_name": "FloatProgressModel",
          "model_module_version": "1.5.0",
          "state": {
            "_dom_classes": [],
            "_model_module": "@jupyter-widgets/controls",
            "_model_module_version": "1.5.0",
            "_model_name": "FloatProgressModel",
            "_view_count": null,
            "_view_module": "@jupyter-widgets/controls",
            "_view_module_version": "1.5.0",
            "_view_name": "ProgressView",
            "bar_style": "",
            "description": "",
            "description_tooltip": null,
            "layout": "IPY_MODEL_5edf6519dd1548139d547204bf05c392",
            "max": 1,
            "min": 0,
            "orientation": "horizontal",
            "style": "IPY_MODEL_6d9335ed751043598ed177ce29e3701f",
            "value": 1
          }
        },
        "8a307eff15bb4998b5e8ecd48605c4a5": {
          "model_module": "@jupyter-widgets/base",
          "model_name": "LayoutModel",
          "model_module_version": "1.2.0",
          "state": {
            "_model_module": "@jupyter-widgets/base",
            "_model_module_version": "1.2.0",
            "_model_name": "LayoutModel",
            "_view_count": null,
            "_view_module": "@jupyter-widgets/base",
            "_view_module_version": "1.2.0",
            "_view_name": "LayoutView",
            "align_content": null,
            "align_items": null,
            "align_self": null,
            "border": null,
            "bottom": null,
            "display": null,
            "flex": null,
            "flex_flow": null,
            "grid_area": null,
            "grid_auto_columns": null,
            "grid_auto_flow": null,
            "grid_auto_rows": null,
            "grid_column": null,
            "grid_gap": null,
            "grid_row": null,
            "grid_template_areas": null,
            "grid_template_columns": null,
            "grid_template_rows": null,
            "height": null,
            "justify_content": null,
            "justify_items": null,
            "left": null,
            "margin": null,
            "max_height": null,
            "max_width": null,
            "min_height": null,
            "min_width": null,
            "object_fit": null,
            "object_position": null,
            "order": null,
            "overflow": null,
            "overflow_x": null,
            "overflow_y": null,
            "padding": null,
            "right": null,
            "top": null,
            "visibility": null,
            "width": null
          }
        },
        "70342527ae1d4d43b8ec73e13f63c524": {
          "model_module": "@jupyter-widgets/base",
          "model_name": "LayoutModel",
          "model_module_version": "1.2.0",
          "state": {
            "_model_module": "@jupyter-widgets/base",
            "_model_module_version": "1.2.0",
            "_model_name": "LayoutModel",
            "_view_count": null,
            "_view_module": "@jupyter-widgets/base",
            "_view_module_version": "1.2.0",
            "_view_name": "LayoutView",
            "align_content": null,
            "align_items": null,
            "align_self": null,
            "border": null,
            "bottom": null,
            "display": null,
            "flex": null,
            "flex_flow": null,
            "grid_area": null,
            "grid_auto_columns": null,
            "grid_auto_flow": null,
            "grid_auto_rows": null,
            "grid_column": null,
            "grid_gap": null,
            "grid_row": null,
            "grid_template_areas": null,
            "grid_template_columns": null,
            "grid_template_rows": null,
            "height": null,
            "justify_content": null,
            "justify_items": null,
            "left": null,
            "margin": null,
            "max_height": null,
            "max_width": null,
            "min_height": null,
            "min_width": null,
            "object_fit": null,
            "object_position": null,
            "order": null,
            "overflow": null,
            "overflow_x": null,
            "overflow_y": null,
            "padding": null,
            "right": null,
            "top": null,
            "visibility": null,
            "width": null
          }
        },
        "ad24f715ab0b4b80b6248555ebc2a36b": {
          "model_module": "@jupyter-widgets/controls",
          "model_name": "DescriptionStyleModel",
          "model_module_version": "1.5.0",
          "state": {
            "_model_module": "@jupyter-widgets/controls",
            "_model_module_version": "1.5.0",
            "_model_name": "DescriptionStyleModel",
            "_view_count": null,
            "_view_module": "@jupyter-widgets/base",
            "_view_module_version": "1.2.0",
            "_view_name": "StyleView",
            "description_width": ""
          }
        },
        "5edf6519dd1548139d547204bf05c392": {
          "model_module": "@jupyter-widgets/base",
          "model_name": "LayoutModel",
          "model_module_version": "1.2.0",
          "state": {
            "_model_module": "@jupyter-widgets/base",
            "_model_module_version": "1.2.0",
            "_model_name": "LayoutModel",
            "_view_count": null,
            "_view_module": "@jupyter-widgets/base",
            "_view_module_version": "1.2.0",
            "_view_name": "LayoutView",
            "align_content": null,
            "align_items": null,
            "align_self": null,
            "border": null,
            "bottom": null,
            "display": null,
            "flex": null,
            "flex_flow": null,
            "grid_area": null,
            "grid_auto_columns": null,
            "grid_auto_flow": null,
            "grid_auto_rows": null,
            "grid_column": null,
            "grid_gap": null,
            "grid_row": null,
            "grid_template_areas": null,
            "grid_template_columns": null,
            "grid_template_rows": null,
            "height": null,
            "justify_content": null,
            "justify_items": null,
            "left": null,
            "margin": null,
            "max_height": null,
            "max_width": null,
            "min_height": null,
            "min_width": null,
            "object_fit": null,
            "object_position": null,
            "order": null,
            "overflow": null,
            "overflow_x": null,
            "overflow_y": null,
            "padding": null,
            "right": null,
            "top": null,
            "visibility": null,
            "width": null
          }
        },
        "6d9335ed751043598ed177ce29e3701f": {
          "model_module": "@jupyter-widgets/controls",
          "model_name": "ProgressStyleModel",
          "model_module_version": "1.5.0",
          "state": {
            "_model_module": "@jupyter-widgets/controls",
            "_model_module_version": "1.5.0",
            "_model_name": "ProgressStyleModel",
            "_view_count": null,
            "_view_module": "@jupyter-widgets/base",
            "_view_module_version": "1.2.0",
            "_view_name": "StyleView",
            "bar_color": null,
            "description_width": ""
          }
        },
        "7612f29f29f7448bb7c368778e19b798": {
          "model_module": "@jupyter-widgets/controls",
          "model_name": "VBoxModel",
          "model_module_version": "1.5.0",
          "state": {
            "_dom_classes": [],
            "_model_module": "@jupyter-widgets/controls",
            "_model_module_version": "1.5.0",
            "_model_name": "VBoxModel",
            "_view_count": null,
            "_view_module": "@jupyter-widgets/controls",
            "_view_module_version": "1.5.0",
            "_view_name": "VBoxView",
            "box_style": "",
            "children": [
              "IPY_MODEL_8b3f4cb037944b6bb04243089d29511a",
              "IPY_MODEL_58d18339c31744efa632e4c1281d9574"
            ],
            "layout": "IPY_MODEL_048eeda0137d4ab496918212cf0a1e1a"
          }
        },
        "8b3f4cb037944b6bb04243089d29511a": {
          "model_module": "@jupyter-widgets/controls",
          "model_name": "LabelModel",
          "model_module_version": "1.5.0",
          "state": {
            "_dom_classes": [],
            "_model_module": "@jupyter-widgets/controls",
            "_model_module_version": "1.5.0",
            "_model_name": "LabelModel",
            "_view_count": null,
            "_view_module": "@jupyter-widgets/controls",
            "_view_module_version": "1.5.0",
            "_view_name": "LabelView",
            "description": "",
            "description_tooltip": null,
            "layout": "IPY_MODEL_92c76c5b2bdf4875a294bf73f60553ba",
            "placeholder": "​",
            "style": "IPY_MODEL_2aac682d755f4bffa6ad65785c97eeaa",
            "value": "0.000 MB of 0.009 MB uploaded (0.000 MB deduped)\r"
          }
        },
        "58d18339c31744efa632e4c1281d9574": {
          "model_module": "@jupyter-widgets/controls",
          "model_name": "FloatProgressModel",
          "model_module_version": "1.5.0",
          "state": {
            "_dom_classes": [],
            "_model_module": "@jupyter-widgets/controls",
            "_model_module_version": "1.5.0",
            "_model_name": "FloatProgressModel",
            "_view_count": null,
            "_view_module": "@jupyter-widgets/controls",
            "_view_module_version": "1.5.0",
            "_view_name": "ProgressView",
            "bar_style": "",
            "description": "",
            "description_tooltip": null,
            "layout": "IPY_MODEL_67e657a2b1314492b6b01ccca7236a4e",
            "max": 1,
            "min": 0,
            "orientation": "horizontal",
            "style": "IPY_MODEL_92d6c806098c41799cc76a0f2b8e1a0d",
            "value": 0.04809994794377928
          }
        },
        "048eeda0137d4ab496918212cf0a1e1a": {
          "model_module": "@jupyter-widgets/base",
          "model_name": "LayoutModel",
          "model_module_version": "1.2.0",
          "state": {
            "_model_module": "@jupyter-widgets/base",
            "_model_module_version": "1.2.0",
            "_model_name": "LayoutModel",
            "_view_count": null,
            "_view_module": "@jupyter-widgets/base",
            "_view_module_version": "1.2.0",
            "_view_name": "LayoutView",
            "align_content": null,
            "align_items": null,
            "align_self": null,
            "border": null,
            "bottom": null,
            "display": null,
            "flex": null,
            "flex_flow": null,
            "grid_area": null,
            "grid_auto_columns": null,
            "grid_auto_flow": null,
            "grid_auto_rows": null,
            "grid_column": null,
            "grid_gap": null,
            "grid_row": null,
            "grid_template_areas": null,
            "grid_template_columns": null,
            "grid_template_rows": null,
            "height": null,
            "justify_content": null,
            "justify_items": null,
            "left": null,
            "margin": null,
            "max_height": null,
            "max_width": null,
            "min_height": null,
            "min_width": null,
            "object_fit": null,
            "object_position": null,
            "order": null,
            "overflow": null,
            "overflow_x": null,
            "overflow_y": null,
            "padding": null,
            "right": null,
            "top": null,
            "visibility": null,
            "width": null
          }
        },
        "92c76c5b2bdf4875a294bf73f60553ba": {
          "model_module": "@jupyter-widgets/base",
          "model_name": "LayoutModel",
          "model_module_version": "1.2.0",
          "state": {
            "_model_module": "@jupyter-widgets/base",
            "_model_module_version": "1.2.0",
            "_model_name": "LayoutModel",
            "_view_count": null,
            "_view_module": "@jupyter-widgets/base",
            "_view_module_version": "1.2.0",
            "_view_name": "LayoutView",
            "align_content": null,
            "align_items": null,
            "align_self": null,
            "border": null,
            "bottom": null,
            "display": null,
            "flex": null,
            "flex_flow": null,
            "grid_area": null,
            "grid_auto_columns": null,
            "grid_auto_flow": null,
            "grid_auto_rows": null,
            "grid_column": null,
            "grid_gap": null,
            "grid_row": null,
            "grid_template_areas": null,
            "grid_template_columns": null,
            "grid_template_rows": null,
            "height": null,
            "justify_content": null,
            "justify_items": null,
            "left": null,
            "margin": null,
            "max_height": null,
            "max_width": null,
            "min_height": null,
            "min_width": null,
            "object_fit": null,
            "object_position": null,
            "order": null,
            "overflow": null,
            "overflow_x": null,
            "overflow_y": null,
            "padding": null,
            "right": null,
            "top": null,
            "visibility": null,
            "width": null
          }
        },
        "2aac682d755f4bffa6ad65785c97eeaa": {
          "model_module": "@jupyter-widgets/controls",
          "model_name": "DescriptionStyleModel",
          "model_module_version": "1.5.0",
          "state": {
            "_model_module": "@jupyter-widgets/controls",
            "_model_module_version": "1.5.0",
            "_model_name": "DescriptionStyleModel",
            "_view_count": null,
            "_view_module": "@jupyter-widgets/base",
            "_view_module_version": "1.2.0",
            "_view_name": "StyleView",
            "description_width": ""
          }
        },
        "67e657a2b1314492b6b01ccca7236a4e": {
          "model_module": "@jupyter-widgets/base",
          "model_name": "LayoutModel",
          "model_module_version": "1.2.0",
          "state": {
            "_model_module": "@jupyter-widgets/base",
            "_model_module_version": "1.2.0",
            "_model_name": "LayoutModel",
            "_view_count": null,
            "_view_module": "@jupyter-widgets/base",
            "_view_module_version": "1.2.0",
            "_view_name": "LayoutView",
            "align_content": null,
            "align_items": null,
            "align_self": null,
            "border": null,
            "bottom": null,
            "display": null,
            "flex": null,
            "flex_flow": null,
            "grid_area": null,
            "grid_auto_columns": null,
            "grid_auto_flow": null,
            "grid_auto_rows": null,
            "grid_column": null,
            "grid_gap": null,
            "grid_row": null,
            "grid_template_areas": null,
            "grid_template_columns": null,
            "grid_template_rows": null,
            "height": null,
            "justify_content": null,
            "justify_items": null,
            "left": null,
            "margin": null,
            "max_height": null,
            "max_width": null,
            "min_height": null,
            "min_width": null,
            "object_fit": null,
            "object_position": null,
            "order": null,
            "overflow": null,
            "overflow_x": null,
            "overflow_y": null,
            "padding": null,
            "right": null,
            "top": null,
            "visibility": null,
            "width": null
          }
        },
        "92d6c806098c41799cc76a0f2b8e1a0d": {
          "model_module": "@jupyter-widgets/controls",
          "model_name": "ProgressStyleModel",
          "model_module_version": "1.5.0",
          "state": {
            "_model_module": "@jupyter-widgets/controls",
            "_model_module_version": "1.5.0",
            "_model_name": "ProgressStyleModel",
            "_view_count": null,
            "_view_module": "@jupyter-widgets/base",
            "_view_module_version": "1.2.0",
            "_view_name": "StyleView",
            "bar_color": null,
            "description_width": ""
          }
        },
        "f9eefbc31d904ee5b71a2e71494e5ba5": {
          "model_module": "@jupyter-widgets/controls",
          "model_name": "VBoxModel",
          "model_module_version": "1.5.0",
          "state": {
            "_dom_classes": [],
            "_model_module": "@jupyter-widgets/controls",
            "_model_module_version": "1.5.0",
            "_model_name": "VBoxModel",
            "_view_count": null,
            "_view_module": "@jupyter-widgets/controls",
            "_view_module_version": "1.5.0",
            "_view_name": "VBoxView",
            "box_style": "",
            "children": [
              "IPY_MODEL_89641b79c8a6411b89c20d7d3959246a",
              "IPY_MODEL_9dbfbff863594bf5acddca51981d0f5d"
            ],
            "layout": "IPY_MODEL_6e1bedc0389b4afe83d4e7ebe74559f6"
          }
        },
        "89641b79c8a6411b89c20d7d3959246a": {
          "model_module": "@jupyter-widgets/controls",
          "model_name": "LabelModel",
          "model_module_version": "1.5.0",
          "state": {
            "_dom_classes": [],
            "_model_module": "@jupyter-widgets/controls",
            "_model_module_version": "1.5.0",
            "_model_name": "LabelModel",
            "_view_count": null,
            "_view_module": "@jupyter-widgets/controls",
            "_view_module_version": "1.5.0",
            "_view_name": "LabelView",
            "description": "",
            "description_tooltip": null,
            "layout": "IPY_MODEL_fb8112f7216e43c3889434f3652c5f13",
            "placeholder": "​",
            "style": "IPY_MODEL_d641421571054090a89dcec03f4dd64e",
            "value": "0.000 MB of 0.002 MB uploaded (0.000 MB deduped)\r"
          }
        },
        "9dbfbff863594bf5acddca51981d0f5d": {
          "model_module": "@jupyter-widgets/controls",
          "model_name": "FloatProgressModel",
          "model_module_version": "1.5.0",
          "state": {
            "_dom_classes": [],
            "_model_module": "@jupyter-widgets/controls",
            "_model_module_version": "1.5.0",
            "_model_name": "FloatProgressModel",
            "_view_count": null,
            "_view_module": "@jupyter-widgets/controls",
            "_view_module_version": "1.5.0",
            "_view_name": "ProgressView",
            "bar_style": "",
            "description": "",
            "description_tooltip": null,
            "layout": "IPY_MODEL_282296dba10041569359a25b2efa4f46",
            "max": 1,
            "min": 0,
            "orientation": "horizontal",
            "style": "IPY_MODEL_9620f5e1b7fd459fbfec71ee201b8bfe",
            "value": 0.21813031161473087
          }
        },
        "6e1bedc0389b4afe83d4e7ebe74559f6": {
          "model_module": "@jupyter-widgets/base",
          "model_name": "LayoutModel",
          "model_module_version": "1.2.0",
          "state": {
            "_model_module": "@jupyter-widgets/base",
            "_model_module_version": "1.2.0",
            "_model_name": "LayoutModel",
            "_view_count": null,
            "_view_module": "@jupyter-widgets/base",
            "_view_module_version": "1.2.0",
            "_view_name": "LayoutView",
            "align_content": null,
            "align_items": null,
            "align_self": null,
            "border": null,
            "bottom": null,
            "display": null,
            "flex": null,
            "flex_flow": null,
            "grid_area": null,
            "grid_auto_columns": null,
            "grid_auto_flow": null,
            "grid_auto_rows": null,
            "grid_column": null,
            "grid_gap": null,
            "grid_row": null,
            "grid_template_areas": null,
            "grid_template_columns": null,
            "grid_template_rows": null,
            "height": null,
            "justify_content": null,
            "justify_items": null,
            "left": null,
            "margin": null,
            "max_height": null,
            "max_width": null,
            "min_height": null,
            "min_width": null,
            "object_fit": null,
            "object_position": null,
            "order": null,
            "overflow": null,
            "overflow_x": null,
            "overflow_y": null,
            "padding": null,
            "right": null,
            "top": null,
            "visibility": null,
            "width": null
          }
        },
        "fb8112f7216e43c3889434f3652c5f13": {
          "model_module": "@jupyter-widgets/base",
          "model_name": "LayoutModel",
          "model_module_version": "1.2.0",
          "state": {
            "_model_module": "@jupyter-widgets/base",
            "_model_module_version": "1.2.0",
            "_model_name": "LayoutModel",
            "_view_count": null,
            "_view_module": "@jupyter-widgets/base",
            "_view_module_version": "1.2.0",
            "_view_name": "LayoutView",
            "align_content": null,
            "align_items": null,
            "align_self": null,
            "border": null,
            "bottom": null,
            "display": null,
            "flex": null,
            "flex_flow": null,
            "grid_area": null,
            "grid_auto_columns": null,
            "grid_auto_flow": null,
            "grid_auto_rows": null,
            "grid_column": null,
            "grid_gap": null,
            "grid_row": null,
            "grid_template_areas": null,
            "grid_template_columns": null,
            "grid_template_rows": null,
            "height": null,
            "justify_content": null,
            "justify_items": null,
            "left": null,
            "margin": null,
            "max_height": null,
            "max_width": null,
            "min_height": null,
            "min_width": null,
            "object_fit": null,
            "object_position": null,
            "order": null,
            "overflow": null,
            "overflow_x": null,
            "overflow_y": null,
            "padding": null,
            "right": null,
            "top": null,
            "visibility": null,
            "width": null
          }
        },
        "d641421571054090a89dcec03f4dd64e": {
          "model_module": "@jupyter-widgets/controls",
          "model_name": "DescriptionStyleModel",
          "model_module_version": "1.5.0",
          "state": {
            "_model_module": "@jupyter-widgets/controls",
            "_model_module_version": "1.5.0",
            "_model_name": "DescriptionStyleModel",
            "_view_count": null,
            "_view_module": "@jupyter-widgets/base",
            "_view_module_version": "1.2.0",
            "_view_name": "StyleView",
            "description_width": ""
          }
        },
        "282296dba10041569359a25b2efa4f46": {
          "model_module": "@jupyter-widgets/base",
          "model_name": "LayoutModel",
          "model_module_version": "1.2.0",
          "state": {
            "_model_module": "@jupyter-widgets/base",
            "_model_module_version": "1.2.0",
            "_model_name": "LayoutModel",
            "_view_count": null,
            "_view_module": "@jupyter-widgets/base",
            "_view_module_version": "1.2.0",
            "_view_name": "LayoutView",
            "align_content": null,
            "align_items": null,
            "align_self": null,
            "border": null,
            "bottom": null,
            "display": null,
            "flex": null,
            "flex_flow": null,
            "grid_area": null,
            "grid_auto_columns": null,
            "grid_auto_flow": null,
            "grid_auto_rows": null,
            "grid_column": null,
            "grid_gap": null,
            "grid_row": null,
            "grid_template_areas": null,
            "grid_template_columns": null,
            "grid_template_rows": null,
            "height": null,
            "justify_content": null,
            "justify_items": null,
            "left": null,
            "margin": null,
            "max_height": null,
            "max_width": null,
            "min_height": null,
            "min_width": null,
            "object_fit": null,
            "object_position": null,
            "order": null,
            "overflow": null,
            "overflow_x": null,
            "overflow_y": null,
            "padding": null,
            "right": null,
            "top": null,
            "visibility": null,
            "width": null
          }
        },
        "9620f5e1b7fd459fbfec71ee201b8bfe": {
          "model_module": "@jupyter-widgets/controls",
          "model_name": "ProgressStyleModel",
          "model_module_version": "1.5.0",
          "state": {
            "_model_module": "@jupyter-widgets/controls",
            "_model_module_version": "1.5.0",
            "_model_name": "ProgressStyleModel",
            "_view_count": null,
            "_view_module": "@jupyter-widgets/base",
            "_view_module_version": "1.2.0",
            "_view_name": "StyleView",
            "bar_color": null,
            "description_width": ""
          }
        },
        "1b64a8bdf25847cb80fdb5db5a9eae1b": {
          "model_module": "@jupyter-widgets/controls",
          "model_name": "VBoxModel",
          "model_module_version": "1.5.0",
          "state": {
            "_dom_classes": [],
            "_model_module": "@jupyter-widgets/controls",
            "_model_module_version": "1.5.0",
            "_model_name": "VBoxModel",
            "_view_count": null,
            "_view_module": "@jupyter-widgets/controls",
            "_view_module_version": "1.5.0",
            "_view_name": "VBoxView",
            "box_style": "",
            "children": [
              "IPY_MODEL_d208472835a04800a998560a4be25dff",
              "IPY_MODEL_0bddc48764eb4f518f9aecdbc6ea438a"
            ],
            "layout": "IPY_MODEL_1b21dc6efa694682b4c76b981cb9a02d"
          }
        },
        "d208472835a04800a998560a4be25dff": {
          "model_module": "@jupyter-widgets/controls",
          "model_name": "LabelModel",
          "model_module_version": "1.5.0",
          "state": {
            "_dom_classes": [],
            "_model_module": "@jupyter-widgets/controls",
            "_model_module_version": "1.5.0",
            "_model_name": "LabelModel",
            "_view_count": null,
            "_view_module": "@jupyter-widgets/controls",
            "_view_module_version": "1.5.0",
            "_view_name": "LabelView",
            "description": "",
            "description_tooltip": null,
            "layout": "IPY_MODEL_4d9c32c8c032406b8547df647f2fc99c",
            "placeholder": "​",
            "style": "IPY_MODEL_09c7639bf79a4ce4a229c635fc81d8a6",
            "value": "0.000 MB of 0.009 MB uploaded (0.000 MB deduped)\r"
          }
        },
        "0bddc48764eb4f518f9aecdbc6ea438a": {
          "model_module": "@jupyter-widgets/controls",
          "model_name": "FloatProgressModel",
          "model_module_version": "1.5.0",
          "state": {
            "_dom_classes": [],
            "_model_module": "@jupyter-widgets/controls",
            "_model_module_version": "1.5.0",
            "_model_name": "FloatProgressModel",
            "_view_count": null,
            "_view_module": "@jupyter-widgets/controls",
            "_view_module_version": "1.5.0",
            "_view_name": "ProgressView",
            "bar_style": "",
            "description": "",
            "description_tooltip": null,
            "layout": "IPY_MODEL_51aaaec261364a67a247b0f1f4edeb0f",
            "max": 1,
            "min": 0,
            "orientation": "horizontal",
            "style": "IPY_MODEL_07f0a5f673b6456a8455e4ff34027a92",
            "value": 0.04807492195629553
          }
        },
        "1b21dc6efa694682b4c76b981cb9a02d": {
          "model_module": "@jupyter-widgets/base",
          "model_name": "LayoutModel",
          "model_module_version": "1.2.0",
          "state": {
            "_model_module": "@jupyter-widgets/base",
            "_model_module_version": "1.2.0",
            "_model_name": "LayoutModel",
            "_view_count": null,
            "_view_module": "@jupyter-widgets/base",
            "_view_module_version": "1.2.0",
            "_view_name": "LayoutView",
            "align_content": null,
            "align_items": null,
            "align_self": null,
            "border": null,
            "bottom": null,
            "display": null,
            "flex": null,
            "flex_flow": null,
            "grid_area": null,
            "grid_auto_columns": null,
            "grid_auto_flow": null,
            "grid_auto_rows": null,
            "grid_column": null,
            "grid_gap": null,
            "grid_row": null,
            "grid_template_areas": null,
            "grid_template_columns": null,
            "grid_template_rows": null,
            "height": null,
            "justify_content": null,
            "justify_items": null,
            "left": null,
            "margin": null,
            "max_height": null,
            "max_width": null,
            "min_height": null,
            "min_width": null,
            "object_fit": null,
            "object_position": null,
            "order": null,
            "overflow": null,
            "overflow_x": null,
            "overflow_y": null,
            "padding": null,
            "right": null,
            "top": null,
            "visibility": null,
            "width": null
          }
        },
        "4d9c32c8c032406b8547df647f2fc99c": {
          "model_module": "@jupyter-widgets/base",
          "model_name": "LayoutModel",
          "model_module_version": "1.2.0",
          "state": {
            "_model_module": "@jupyter-widgets/base",
            "_model_module_version": "1.2.0",
            "_model_name": "LayoutModel",
            "_view_count": null,
            "_view_module": "@jupyter-widgets/base",
            "_view_module_version": "1.2.0",
            "_view_name": "LayoutView",
            "align_content": null,
            "align_items": null,
            "align_self": null,
            "border": null,
            "bottom": null,
            "display": null,
            "flex": null,
            "flex_flow": null,
            "grid_area": null,
            "grid_auto_columns": null,
            "grid_auto_flow": null,
            "grid_auto_rows": null,
            "grid_column": null,
            "grid_gap": null,
            "grid_row": null,
            "grid_template_areas": null,
            "grid_template_columns": null,
            "grid_template_rows": null,
            "height": null,
            "justify_content": null,
            "justify_items": null,
            "left": null,
            "margin": null,
            "max_height": null,
            "max_width": null,
            "min_height": null,
            "min_width": null,
            "object_fit": null,
            "object_position": null,
            "order": null,
            "overflow": null,
            "overflow_x": null,
            "overflow_y": null,
            "padding": null,
            "right": null,
            "top": null,
            "visibility": null,
            "width": null
          }
        },
        "09c7639bf79a4ce4a229c635fc81d8a6": {
          "model_module": "@jupyter-widgets/controls",
          "model_name": "DescriptionStyleModel",
          "model_module_version": "1.5.0",
          "state": {
            "_model_module": "@jupyter-widgets/controls",
            "_model_module_version": "1.5.0",
            "_model_name": "DescriptionStyleModel",
            "_view_count": null,
            "_view_module": "@jupyter-widgets/base",
            "_view_module_version": "1.2.0",
            "_view_name": "StyleView",
            "description_width": ""
          }
        },
        "51aaaec261364a67a247b0f1f4edeb0f": {
          "model_module": "@jupyter-widgets/base",
          "model_name": "LayoutModel",
          "model_module_version": "1.2.0",
          "state": {
            "_model_module": "@jupyter-widgets/base",
            "_model_module_version": "1.2.0",
            "_model_name": "LayoutModel",
            "_view_count": null,
            "_view_module": "@jupyter-widgets/base",
            "_view_module_version": "1.2.0",
            "_view_name": "LayoutView",
            "align_content": null,
            "align_items": null,
            "align_self": null,
            "border": null,
            "bottom": null,
            "display": null,
            "flex": null,
            "flex_flow": null,
            "grid_area": null,
            "grid_auto_columns": null,
            "grid_auto_flow": null,
            "grid_auto_rows": null,
            "grid_column": null,
            "grid_gap": null,
            "grid_row": null,
            "grid_template_areas": null,
            "grid_template_columns": null,
            "grid_template_rows": null,
            "height": null,
            "justify_content": null,
            "justify_items": null,
            "left": null,
            "margin": null,
            "max_height": null,
            "max_width": null,
            "min_height": null,
            "min_width": null,
            "object_fit": null,
            "object_position": null,
            "order": null,
            "overflow": null,
            "overflow_x": null,
            "overflow_y": null,
            "padding": null,
            "right": null,
            "top": null,
            "visibility": null,
            "width": null
          }
        },
        "07f0a5f673b6456a8455e4ff34027a92": {
          "model_module": "@jupyter-widgets/controls",
          "model_name": "ProgressStyleModel",
          "model_module_version": "1.5.0",
          "state": {
            "_model_module": "@jupyter-widgets/controls",
            "_model_module_version": "1.5.0",
            "_model_name": "ProgressStyleModel",
            "_view_count": null,
            "_view_module": "@jupyter-widgets/base",
            "_view_module_version": "1.2.0",
            "_view_name": "StyleView",
            "bar_color": null,
            "description_width": ""
          }
        },
        "12fb2adfdb654b788ce63c2888879421": {
          "model_module": "@jupyter-widgets/controls",
          "model_name": "VBoxModel",
          "model_module_version": "1.5.0",
          "state": {
            "_dom_classes": [],
            "_model_module": "@jupyter-widgets/controls",
            "_model_module_version": "1.5.0",
            "_model_name": "VBoxModel",
            "_view_count": null,
            "_view_module": "@jupyter-widgets/controls",
            "_view_module_version": "1.5.0",
            "_view_name": "VBoxView",
            "box_style": "",
            "children": [
              "IPY_MODEL_b41dfbb236da4407b7edd75f8e068658",
              "IPY_MODEL_fe709d792e2d420e818daa2b7a8fec75"
            ],
            "layout": "IPY_MODEL_364b5a5f08d945709535c48cb8c2642d"
          }
        },
        "b41dfbb236da4407b7edd75f8e068658": {
          "model_module": "@jupyter-widgets/controls",
          "model_name": "LabelModel",
          "model_module_version": "1.5.0",
          "state": {
            "_dom_classes": [],
            "_model_module": "@jupyter-widgets/controls",
            "_model_module_version": "1.5.0",
            "_model_name": "LabelModel",
            "_view_count": null,
            "_view_module": "@jupyter-widgets/controls",
            "_view_module_version": "1.5.0",
            "_view_name": "LabelView",
            "description": "",
            "description_tooltip": null,
            "layout": "IPY_MODEL_83175c0b0d79467d9857d7ef5ef9d74e",
            "placeholder": "​",
            "style": "IPY_MODEL_799f2953b72c427e8c855b3c46009859",
            "value": "0.000 MB of 0.002 MB uploaded (0.000 MB deduped)\r"
          }
        },
        "fe709d792e2d420e818daa2b7a8fec75": {
          "model_module": "@jupyter-widgets/controls",
          "model_name": "FloatProgressModel",
          "model_module_version": "1.5.0",
          "state": {
            "_dom_classes": [],
            "_model_module": "@jupyter-widgets/controls",
            "_model_module_version": "1.5.0",
            "_model_name": "FloatProgressModel",
            "_view_count": null,
            "_view_module": "@jupyter-widgets/controls",
            "_view_module_version": "1.5.0",
            "_view_name": "ProgressView",
            "bar_style": "",
            "description": "",
            "description_tooltip": null,
            "layout": "IPY_MODEL_045bca4bd55042b0890a9e8ef73f0ebd",
            "max": 1,
            "min": 0,
            "orientation": "horizontal",
            "style": "IPY_MODEL_fa018229f9de4d60ad3be69a9fe489ba",
            "value": 0.26354820308043353
          }
        },
        "364b5a5f08d945709535c48cb8c2642d": {
          "model_module": "@jupyter-widgets/base",
          "model_name": "LayoutModel",
          "model_module_version": "1.2.0",
          "state": {
            "_model_module": "@jupyter-widgets/base",
            "_model_module_version": "1.2.0",
            "_model_name": "LayoutModel",
            "_view_count": null,
            "_view_module": "@jupyter-widgets/base",
            "_view_module_version": "1.2.0",
            "_view_name": "LayoutView",
            "align_content": null,
            "align_items": null,
            "align_self": null,
            "border": null,
            "bottom": null,
            "display": null,
            "flex": null,
            "flex_flow": null,
            "grid_area": null,
            "grid_auto_columns": null,
            "grid_auto_flow": null,
            "grid_auto_rows": null,
            "grid_column": null,
            "grid_gap": null,
            "grid_row": null,
            "grid_template_areas": null,
            "grid_template_columns": null,
            "grid_template_rows": null,
            "height": null,
            "justify_content": null,
            "justify_items": null,
            "left": null,
            "margin": null,
            "max_height": null,
            "max_width": null,
            "min_height": null,
            "min_width": null,
            "object_fit": null,
            "object_position": null,
            "order": null,
            "overflow": null,
            "overflow_x": null,
            "overflow_y": null,
            "padding": null,
            "right": null,
            "top": null,
            "visibility": null,
            "width": null
          }
        },
        "83175c0b0d79467d9857d7ef5ef9d74e": {
          "model_module": "@jupyter-widgets/base",
          "model_name": "LayoutModel",
          "model_module_version": "1.2.0",
          "state": {
            "_model_module": "@jupyter-widgets/base",
            "_model_module_version": "1.2.0",
            "_model_name": "LayoutModel",
            "_view_count": null,
            "_view_module": "@jupyter-widgets/base",
            "_view_module_version": "1.2.0",
            "_view_name": "LayoutView",
            "align_content": null,
            "align_items": null,
            "align_self": null,
            "border": null,
            "bottom": null,
            "display": null,
            "flex": null,
            "flex_flow": null,
            "grid_area": null,
            "grid_auto_columns": null,
            "grid_auto_flow": null,
            "grid_auto_rows": null,
            "grid_column": null,
            "grid_gap": null,
            "grid_row": null,
            "grid_template_areas": null,
            "grid_template_columns": null,
            "grid_template_rows": null,
            "height": null,
            "justify_content": null,
            "justify_items": null,
            "left": null,
            "margin": null,
            "max_height": null,
            "max_width": null,
            "min_height": null,
            "min_width": null,
            "object_fit": null,
            "object_position": null,
            "order": null,
            "overflow": null,
            "overflow_x": null,
            "overflow_y": null,
            "padding": null,
            "right": null,
            "top": null,
            "visibility": null,
            "width": null
          }
        },
        "799f2953b72c427e8c855b3c46009859": {
          "model_module": "@jupyter-widgets/controls",
          "model_name": "DescriptionStyleModel",
          "model_module_version": "1.5.0",
          "state": {
            "_model_module": "@jupyter-widgets/controls",
            "_model_module_version": "1.5.0",
            "_model_name": "DescriptionStyleModel",
            "_view_count": null,
            "_view_module": "@jupyter-widgets/base",
            "_view_module_version": "1.2.0",
            "_view_name": "StyleView",
            "description_width": ""
          }
        },
        "045bca4bd55042b0890a9e8ef73f0ebd": {
          "model_module": "@jupyter-widgets/base",
          "model_name": "LayoutModel",
          "model_module_version": "1.2.0",
          "state": {
            "_model_module": "@jupyter-widgets/base",
            "_model_module_version": "1.2.0",
            "_model_name": "LayoutModel",
            "_view_count": null,
            "_view_module": "@jupyter-widgets/base",
            "_view_module_version": "1.2.0",
            "_view_name": "LayoutView",
            "align_content": null,
            "align_items": null,
            "align_self": null,
            "border": null,
            "bottom": null,
            "display": null,
            "flex": null,
            "flex_flow": null,
            "grid_area": null,
            "grid_auto_columns": null,
            "grid_auto_flow": null,
            "grid_auto_rows": null,
            "grid_column": null,
            "grid_gap": null,
            "grid_row": null,
            "grid_template_areas": null,
            "grid_template_columns": null,
            "grid_template_rows": null,
            "height": null,
            "justify_content": null,
            "justify_items": null,
            "left": null,
            "margin": null,
            "max_height": null,
            "max_width": null,
            "min_height": null,
            "min_width": null,
            "object_fit": null,
            "object_position": null,
            "order": null,
            "overflow": null,
            "overflow_x": null,
            "overflow_y": null,
            "padding": null,
            "right": null,
            "top": null,
            "visibility": null,
            "width": null
          }
        },
        "fa018229f9de4d60ad3be69a9fe489ba": {
          "model_module": "@jupyter-widgets/controls",
          "model_name": "ProgressStyleModel",
          "model_module_version": "1.5.0",
          "state": {
            "_model_module": "@jupyter-widgets/controls",
            "_model_module_version": "1.5.0",
            "_model_name": "ProgressStyleModel",
            "_view_count": null,
            "_view_module": "@jupyter-widgets/base",
            "_view_module_version": "1.2.0",
            "_view_name": "StyleView",
            "bar_color": null,
            "description_width": ""
          }
        },
        "78c746596db9494d85726218cd780619": {
          "model_module": "@jupyter-widgets/controls",
          "model_name": "VBoxModel",
          "model_module_version": "1.5.0",
          "state": {
            "_dom_classes": [],
            "_model_module": "@jupyter-widgets/controls",
            "_model_module_version": "1.5.0",
            "_model_name": "VBoxModel",
            "_view_count": null,
            "_view_module": "@jupyter-widgets/controls",
            "_view_module_version": "1.5.0",
            "_view_name": "VBoxView",
            "box_style": "",
            "children": [
              "IPY_MODEL_03d796176c63480d9ce1bd436f6338ea",
              "IPY_MODEL_f3f1b7d190854e07891df3ee9457f7cc"
            ],
            "layout": "IPY_MODEL_7b74eabf05cd49b9ac22ffc5abc0bc0a"
          }
        },
        "03d796176c63480d9ce1bd436f6338ea": {
          "model_module": "@jupyter-widgets/controls",
          "model_name": "LabelModel",
          "model_module_version": "1.5.0",
          "state": {
            "_dom_classes": [],
            "_model_module": "@jupyter-widgets/controls",
            "_model_module_version": "1.5.0",
            "_model_name": "LabelModel",
            "_view_count": null,
            "_view_module": "@jupyter-widgets/controls",
            "_view_module_version": "1.5.0",
            "_view_name": "LabelView",
            "description": "",
            "description_tooltip": null,
            "layout": "IPY_MODEL_b21bc96703bf4e17a945bf6d01162cd9",
            "placeholder": "​",
            "style": "IPY_MODEL_0ad8489eb8a242f19b868f532ef33071",
            "value": "0.023 MB of 0.034 MB uploaded (0.000 MB deduped)\r"
          }
        },
        "f3f1b7d190854e07891df3ee9457f7cc": {
          "model_module": "@jupyter-widgets/controls",
          "model_name": "FloatProgressModel",
          "model_module_version": "1.5.0",
          "state": {
            "_dom_classes": [],
            "_model_module": "@jupyter-widgets/controls",
            "_model_module_version": "1.5.0",
            "_model_name": "FloatProgressModel",
            "_view_count": null,
            "_view_module": "@jupyter-widgets/controls",
            "_view_module_version": "1.5.0",
            "_view_name": "ProgressView",
            "bar_style": "",
            "description": "",
            "description_tooltip": null,
            "layout": "IPY_MODEL_ddaee2735de14eb1a968372bfd3ce665",
            "max": 1,
            "min": 0,
            "orientation": "horizontal",
            "style": "IPY_MODEL_42f25d88a753439792edc85393d77508",
            "value": 0.6850523838870525
          }
        },
        "7b74eabf05cd49b9ac22ffc5abc0bc0a": {
          "model_module": "@jupyter-widgets/base",
          "model_name": "LayoutModel",
          "model_module_version": "1.2.0",
          "state": {
            "_model_module": "@jupyter-widgets/base",
            "_model_module_version": "1.2.0",
            "_model_name": "LayoutModel",
            "_view_count": null,
            "_view_module": "@jupyter-widgets/base",
            "_view_module_version": "1.2.0",
            "_view_name": "LayoutView",
            "align_content": null,
            "align_items": null,
            "align_self": null,
            "border": null,
            "bottom": null,
            "display": null,
            "flex": null,
            "flex_flow": null,
            "grid_area": null,
            "grid_auto_columns": null,
            "grid_auto_flow": null,
            "grid_auto_rows": null,
            "grid_column": null,
            "grid_gap": null,
            "grid_row": null,
            "grid_template_areas": null,
            "grid_template_columns": null,
            "grid_template_rows": null,
            "height": null,
            "justify_content": null,
            "justify_items": null,
            "left": null,
            "margin": null,
            "max_height": null,
            "max_width": null,
            "min_height": null,
            "min_width": null,
            "object_fit": null,
            "object_position": null,
            "order": null,
            "overflow": null,
            "overflow_x": null,
            "overflow_y": null,
            "padding": null,
            "right": null,
            "top": null,
            "visibility": null,
            "width": null
          }
        },
        "b21bc96703bf4e17a945bf6d01162cd9": {
          "model_module": "@jupyter-widgets/base",
          "model_name": "LayoutModel",
          "model_module_version": "1.2.0",
          "state": {
            "_model_module": "@jupyter-widgets/base",
            "_model_module_version": "1.2.0",
            "_model_name": "LayoutModel",
            "_view_count": null,
            "_view_module": "@jupyter-widgets/base",
            "_view_module_version": "1.2.0",
            "_view_name": "LayoutView",
            "align_content": null,
            "align_items": null,
            "align_self": null,
            "border": null,
            "bottom": null,
            "display": null,
            "flex": null,
            "flex_flow": null,
            "grid_area": null,
            "grid_auto_columns": null,
            "grid_auto_flow": null,
            "grid_auto_rows": null,
            "grid_column": null,
            "grid_gap": null,
            "grid_row": null,
            "grid_template_areas": null,
            "grid_template_columns": null,
            "grid_template_rows": null,
            "height": null,
            "justify_content": null,
            "justify_items": null,
            "left": null,
            "margin": null,
            "max_height": null,
            "max_width": null,
            "min_height": null,
            "min_width": null,
            "object_fit": null,
            "object_position": null,
            "order": null,
            "overflow": null,
            "overflow_x": null,
            "overflow_y": null,
            "padding": null,
            "right": null,
            "top": null,
            "visibility": null,
            "width": null
          }
        },
        "0ad8489eb8a242f19b868f532ef33071": {
          "model_module": "@jupyter-widgets/controls",
          "model_name": "DescriptionStyleModel",
          "model_module_version": "1.5.0",
          "state": {
            "_model_module": "@jupyter-widgets/controls",
            "_model_module_version": "1.5.0",
            "_model_name": "DescriptionStyleModel",
            "_view_count": null,
            "_view_module": "@jupyter-widgets/base",
            "_view_module_version": "1.2.0",
            "_view_name": "StyleView",
            "description_width": ""
          }
        },
        "ddaee2735de14eb1a968372bfd3ce665": {
          "model_module": "@jupyter-widgets/base",
          "model_name": "LayoutModel",
          "model_module_version": "1.2.0",
          "state": {
            "_model_module": "@jupyter-widgets/base",
            "_model_module_version": "1.2.0",
            "_model_name": "LayoutModel",
            "_view_count": null,
            "_view_module": "@jupyter-widgets/base",
            "_view_module_version": "1.2.0",
            "_view_name": "LayoutView",
            "align_content": null,
            "align_items": null,
            "align_self": null,
            "border": null,
            "bottom": null,
            "display": null,
            "flex": null,
            "flex_flow": null,
            "grid_area": null,
            "grid_auto_columns": null,
            "grid_auto_flow": null,
            "grid_auto_rows": null,
            "grid_column": null,
            "grid_gap": null,
            "grid_row": null,
            "grid_template_areas": null,
            "grid_template_columns": null,
            "grid_template_rows": null,
            "height": null,
            "justify_content": null,
            "justify_items": null,
            "left": null,
            "margin": null,
            "max_height": null,
            "max_width": null,
            "min_height": null,
            "min_width": null,
            "object_fit": null,
            "object_position": null,
            "order": null,
            "overflow": null,
            "overflow_x": null,
            "overflow_y": null,
            "padding": null,
            "right": null,
            "top": null,
            "visibility": null,
            "width": null
          }
        },
        "42f25d88a753439792edc85393d77508": {
          "model_module": "@jupyter-widgets/controls",
          "model_name": "ProgressStyleModel",
          "model_module_version": "1.5.0",
          "state": {
            "_model_module": "@jupyter-widgets/controls",
            "_model_module_version": "1.5.0",
            "_model_name": "ProgressStyleModel",
            "_view_count": null,
            "_view_module": "@jupyter-widgets/base",
            "_view_module_version": "1.2.0",
            "_view_name": "StyleView",
            "bar_color": null,
            "description_width": ""
          }
        }
      }
    }
  },
  "nbformat": 4,
  "nbformat_minor": 0
}